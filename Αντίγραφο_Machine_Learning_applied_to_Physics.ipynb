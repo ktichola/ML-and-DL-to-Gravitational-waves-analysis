{
  "metadata": {
    "kernelspec": {
      "language": "python",
      "display_name": "Python 3",
      "name": "python3"
    },
    "language_info": {
      "name": "python",
      "version": "3.7.12",
      "mimetype": "text/x-python",
      "codemirror_mode": {
        "name": "ipython",
        "version": 3
      },
      "pygments_lexer": "ipython3",
      "nbconvert_exporter": "python",
      "file_extension": ".py"
    },
    "kaggle": {
      "accelerator": "none",
      "dataSources": [
        {
          "sourceId": 1442600,
          "sourceType": "datasetVersion",
          "datasetId": 845444
        },
        {
          "sourceId": 1781197,
          "sourceType": "datasetVersion",
          "datasetId": 1058964
        }
      ],
      "dockerImageVersionId": 30176,
      "isInternetEnabled": true,
      "language": "python",
      "sourceType": "notebook",
      "isGpuEnabled": false
    },
    "colab": {
      "provenance": [],
      "include_colab_link": true
    }
  },
  "nbformat_minor": 0,
  "nbformat": 4,
  "cells": [
    {
      "cell_type": "markdown",
      "metadata": {
        "id": "view-in-github",
        "colab_type": "text"
      },
      "source": [
        "<a href=\"https://colab.research.google.com/github/ktichola/ML-and-DL-to-Gravitational-waves-analysis/blob/main/%CE%91%CE%BD%CF%84%CE%AF%CE%B3%CF%81%CE%B1%CF%86%CE%BF_Machine_Learning_applied_to_Physics.ipynb\" target=\"_parent\"><img src=\"https://colab.research.google.com/assets/colab-badge.svg\" alt=\"Open In Colab\"/></a>"
      ]
    },
    {
      "source": [
        "\n",
        "# IMPORTANT: RUN THIS CELL IN ORDER TO IMPORT YOUR KAGGLE DATA SOURCES\n",
        "# TO THE CORRECT LOCATION (/kaggle/input) IN YOUR NOTEBOOK,\n",
        "# THEN FEEL FREE TO DELETE THIS CELL.\n",
        "# NOTE: THIS NOTEBOOK ENVIRONMENT DIFFERS FROM KAGGLE'S PYTHON\n",
        "# ENVIRONMENT SO THERE MAY BE MISSING LIBRARIES USED BY YOUR\n",
        "# NOTEBOOK.\n",
        "\n",
        "import os\n",
        "import sys\n",
        "from tempfile import NamedTemporaryFile\n",
        "from urllib.request import urlopen\n",
        "from urllib.parse import unquote, urlparse\n",
        "from urllib.error import HTTPError\n",
        "from zipfile import ZipFile\n",
        "import tarfile\n",
        "import shutil\n",
        "\n",
        "CHUNK_SIZE = 40960\n",
        "DATA_SOURCE_MAPPING = 'predicting-pulsar-starintermediate:https%3A%2F%2Fstorage.googleapis.com%2Fkaggle-data-sets%2F845444%2F1442600%2Fbundle%2Farchive.zip%3FX-Goog-Algorithm%3DGOOG4-RSA-SHA256%26X-Goog-Credential%3Dgcp-kaggle-com%2540kaggle-161607.iam.gserviceaccount.com%252F20240505%252Fauto%252Fstorage%252Fgoog4_request%26X-Goog-Date%3D20240505T104559Z%26X-Goog-Expires%3D259200%26X-Goog-SignedHeaders%3Dhost%26X-Goog-Signature%3D9fd3fb43ecdb3f3bbefa43c1aa9dd6adef8bfa134ab8015195c7ee00e27a8476bcbdc6dff5363cb0eff2cc15342a87b0cb13808ceedf2c7d8e7a898cb9353be66603f1e1d4897479ba66562d4c4d49a98a163250fb261a34497ff529c1bcbc55d78c27eae8a7db780bcb0384437d94d04f16c4fee9cfb9ebb584ee52c50494399d0e83590b06a1d0166ddac82464721e53de4a1b29ee952182c784c06f1b0ed355ffdecdb401130c648bb3d837dd343f44716eacaf7e3553497b5cd4d463afa7375a307340ce2b27b615cbaa5029b47195989573102ce9526e28be242e57832a79f35c7b2c3838164d6ae9db1ad90eb8223cd3ba61269d05a57ec2776c85d963,cern-electron-collision-data:https%3A%2F%2Fstorage.googleapis.com%2Fkaggle-data-sets%2F1058964%2F1781197%2Fbundle%2Farchive.zip%3FX-Goog-Algorithm%3DGOOG4-RSA-SHA256%26X-Goog-Credential%3Dgcp-kaggle-com%2540kaggle-161607.iam.gserviceaccount.com%252F20240505%252Fauto%252Fstorage%252Fgoog4_request%26X-Goog-Date%3D20240505T104559Z%26X-Goog-Expires%3D259200%26X-Goog-SignedHeaders%3Dhost%26X-Goog-Signature%3D2f7b15299df09872ac78bdd0b24c90a9c953ce08aefb34da60e602067133bc2f7d8e355f61eb23d49493ebf97717b10cbfb119f5dfff50f2d2ad178d8e3f837d2ef645ef1a25b4781bd6c8b633a43dd84e3c927f27162b045942f4bec8957e9fa84706d8de4b6d606bd3e2b01ef5683c983128647ba02aaf86a16f1039d9c5365377bdfe894c51f8c28b0a05c1314011fac0b3cb90074ef6a9db171f741a565482d00cf8af726a96d5c2ce5cf6468d120434723f9392a2ab47573f897b853740a756f0acc5dd64f8ef0128756dffcb2320c48bb56eff054998af8888fb84966426e512ea83b9e558026cd9097241bd0fc53a51a08a72db899218c058a7ae7e64'\n",
        "\n",
        "KAGGLE_INPUT_PATH='/kaggle/input'\n",
        "KAGGLE_WORKING_PATH='/kaggle/working'\n",
        "KAGGLE_SYMLINK='kaggle'\n",
        "\n",
        "!umount /kaggle/input/ 2> /dev/null\n",
        "shutil.rmtree('/kaggle/input', ignore_errors=True)\n",
        "os.makedirs(KAGGLE_INPUT_PATH, 0o777, exist_ok=True)\n",
        "os.makedirs(KAGGLE_WORKING_PATH, 0o777, exist_ok=True)\n",
        "\n",
        "try:\n",
        "  os.symlink(KAGGLE_INPUT_PATH, os.path.join(\"..\", 'input'), target_is_directory=True)\n",
        "except FileExistsError:\n",
        "  pass\n",
        "try:\n",
        "  os.symlink(KAGGLE_WORKING_PATH, os.path.join(\"..\", 'working'), target_is_directory=True)\n",
        "except FileExistsError:\n",
        "  pass\n",
        "\n",
        "for data_source_mapping in DATA_SOURCE_MAPPING.split(','):\n",
        "    directory, download_url_encoded = data_source_mapping.split(':')\n",
        "    download_url = unquote(download_url_encoded)\n",
        "    filename = urlparse(download_url).path\n",
        "    destination_path = os.path.join(KAGGLE_INPUT_PATH, directory)\n",
        "    try:\n",
        "        with urlopen(download_url) as fileres, NamedTemporaryFile() as tfile:\n",
        "            total_length = fileres.headers['content-length']\n",
        "            print(f'Downloading {directory}, {total_length} bytes compressed')\n",
        "            dl = 0\n",
        "            data = fileres.read(CHUNK_SIZE)\n",
        "            while len(data) > 0:\n",
        "                dl += len(data)\n",
        "                tfile.write(data)\n",
        "                done = int(50 * dl / int(total_length))\n",
        "                sys.stdout.write(f\"\\r[{'=' * done}{' ' * (50-done)}] {dl} bytes downloaded\")\n",
        "                sys.stdout.flush()\n",
        "                data = fileres.read(CHUNK_SIZE)\n",
        "            if filename.endswith('.zip'):\n",
        "              with ZipFile(tfile) as zfile:\n",
        "                zfile.extractall(destination_path)\n",
        "            else:\n",
        "              with tarfile.open(tfile.name) as tarfile:\n",
        "                tarfile.extractall(destination_path)\n",
        "            print(f'\\nDownloaded and uncompressed: {directory}')\n",
        "    except HTTPError as e:\n",
        "        print(f'Failed to load (likely expired) {download_url} to path {destination_path}')\n",
        "        continue\n",
        "    except OSError as e:\n",
        "        print(f'Failed to load {download_url} to path {destination_path}')\n",
        "        continue\n",
        "\n",
        "print('Data source import complete.')\n"
      ],
      "metadata": {
        "id": "b1QrCrEaXE9X"
      },
      "cell_type": "code",
      "outputs": [],
      "execution_count": null
    },
    {
      "cell_type": "code",
      "source": [
        "import numpy as np # linear algebra\n",
        "import pandas as pd # data processing, CSV file I/O (e.g. pd.read_csv)\n",
        "from sklearn.ensemble import RandomForestClassifier\n",
        "from sklearn.tree import DecisionTreeClassifier\n",
        "from sklearn.model_selection import train_test_split\n",
        "from sklearn.metrics import mean_absolute_error, accuracy_score, classification_report, confusion_matrix, ConfusionMatrixDisplay\n",
        "from sklearn.impute import SimpleImputer\n",
        "from xgboost import XGBClassifier\n",
        "import matplotlib.pyplot as plt #library for visualization\n",
        "import seaborn as sns # wrapper library for visualization\n",
        "import os\n",
        "for dirname, _, filenames in os.walk('/kaggle/input'):\n",
        "    for filename in filenames:\n",
        "        print(os.path.join(dirname, filename))"
      ],
      "metadata": {
        "_uuid": "8f2839f25d086af736a60e9eeb907d3b93b6e0e5",
        "_cell_guid": "b1076dfc-b9ad-4769-8c92-a6c4dae69d19",
        "execution": {
          "iopub.status.busy": "2024-05-05T10:44:51.895571Z",
          "iopub.execute_input": "2024-05-05T10:44:51.896022Z",
          "iopub.status.idle": "2024-05-05T10:44:53.736148Z",
          "shell.execute_reply.started": "2024-05-05T10:44:51.895904Z",
          "shell.execute_reply": "2024-05-05T10:44:53.735269Z"
        },
        "trusted": true,
        "id": "KF-nFPy5XE9Z",
        "outputId": "95135fb6-2abb-4c16-faaf-bb1147c30fce"
      },
      "execution_count": null,
      "outputs": [
        {
          "name": "stdout",
          "text": "/kaggle/input/cern-electron-collision-data/dielectron.csv\n/kaggle/input/predicting-pulsar-starintermediate/pulsar_data_train.csv\n/kaggle/input/predicting-pulsar-starintermediate/pulsar_data_test.csv\n",
          "output_type": "stream"
        }
      ]
    },
    {
      "cell_type": "markdown",
      "source": [
        "NOTAS GENERALES:\n",
        "1 escalar los datos? https://www.kaggle.com/code/tanushri98/predicting-a-pulsar-star\n",
        "    no es necesario, solo algunos lo hacen"
      ],
      "metadata": {
        "id": "0Vrh-8y_XE9a"
      }
    },
    {
      "cell_type": "markdown",
      "source": [
        "Input data files are available in the read-only \"../input/\" directory\n",
        "For example, running this (by clicking run or pressing Shift+Enter) will list all files under the input directory"
      ],
      "metadata": {
        "id": "XrITjUtCXE9b"
      }
    },
    {
      "cell_type": "markdown",
      "source": [
        "> # 1. Analisis de Datos"
      ],
      "metadata": {
        "id": "dmpjWDcSXE9b"
      }
    },
    {
      "cell_type": "markdown",
      "source": [
        "primero cargamos los datos y los analizamos, los primeros 5 valores con .head() y diversas estadisticas con .describe()"
      ],
      "metadata": {
        "id": "JJnULsOJXE9c"
      }
    },
    {
      "cell_type": "code",
      "source": [
        "\n",
        "pulsar_datatest_path='../input/predicting-pulsar-starintermediate/pulsar_data_train.csv'\n",
        "pulsar_datatrain_path = '../input/predicting-pulsar-starintermediate/pulsar_data_test.csv'\n",
        "train_set=pd.read_csv(pulsar_datatest_path)\n",
        "test_set=pd.read_csv(pulsar_datatrain_path)\n",
        "\n",
        "train_set.head()\n"
      ],
      "metadata": {
        "execution": {
          "iopub.status.busy": "2024-05-05T10:44:53.738704Z",
          "iopub.execute_input": "2024-05-05T10:44:53.739935Z",
          "iopub.status.idle": "2024-05-05T10:44:53.857057Z",
          "shell.execute_reply.started": "2024-05-05T10:44:53.739874Z",
          "shell.execute_reply": "2024-05-05T10:44:53.856131Z"
        },
        "trusted": true,
        "id": "E-b536klXE9c",
        "outputId": "e2d14cde-ad2f-40e2-a928-011869aa56d7"
      },
      "execution_count": null,
      "outputs": [
        {
          "execution_count": 2,
          "output_type": "execute_result",
          "data": {
            "text/plain": "    Mean of the integrated profile  \\\n0                       121.156250   \n1                        76.968750   \n2                       130.585938   \n3                       156.398438   \n4                        84.804688   \n\n    Standard deviation of the integrated profile  \\\n0                                      48.372971   \n1                                      36.175557   \n2                                      53.229534   \n3                                      48.865942   \n4                                      36.117659   \n\n    Excess kurtosis of the integrated profile  \\\n0                                    0.375485   \n1                                    0.712898   \n2                                    0.133408   \n3                                   -0.215989   \n4                                    0.825013   \n\n    Skewness of the integrated profile   Mean of the DM-SNR curve  \\\n0                            -0.013165                   3.168896   \n1                             3.388719                   2.399666   \n2                            -0.297242                   2.743311   \n3                            -0.171294                  17.471572   \n4                             3.274125                   2.790134   \n\n    Standard deviation of the DM-SNR curve  \\\n0                                18.399367   \n1                                17.570997   \n2                                22.362553   \n3                                      NaN   \n4                                20.618009   \n\n    Excess kurtosis of the DM-SNR curve   Skewness of the DM-SNR curve  \\\n0                              7.449874                      65.159298   \n1                              9.414652                     102.722975   \n2                              8.508364                      74.031324   \n3                              2.958066                       7.197842   \n4                              8.405008                      76.291128   \n\n   target_class  \n0           0.0  \n1           0.0  \n2           0.0  \n3           0.0  \n4           0.0  ",
            "text/html": "<div>\n<style scoped>\n    .dataframe tbody tr th:only-of-type {\n        vertical-align: middle;\n    }\n\n    .dataframe tbody tr th {\n        vertical-align: top;\n    }\n\n    .dataframe thead th {\n        text-align: right;\n    }\n</style>\n<table border=\"1\" class=\"dataframe\">\n  <thead>\n    <tr style=\"text-align: right;\">\n      <th></th>\n      <th>Mean of the integrated profile</th>\n      <th>Standard deviation of the integrated profile</th>\n      <th>Excess kurtosis of the integrated profile</th>\n      <th>Skewness of the integrated profile</th>\n      <th>Mean of the DM-SNR curve</th>\n      <th>Standard deviation of the DM-SNR curve</th>\n      <th>Excess kurtosis of the DM-SNR curve</th>\n      <th>Skewness of the DM-SNR curve</th>\n      <th>target_class</th>\n    </tr>\n  </thead>\n  <tbody>\n    <tr>\n      <th>0</th>\n      <td>121.156250</td>\n      <td>48.372971</td>\n      <td>0.375485</td>\n      <td>-0.013165</td>\n      <td>3.168896</td>\n      <td>18.399367</td>\n      <td>7.449874</td>\n      <td>65.159298</td>\n      <td>0.0</td>\n    </tr>\n    <tr>\n      <th>1</th>\n      <td>76.968750</td>\n      <td>36.175557</td>\n      <td>0.712898</td>\n      <td>3.388719</td>\n      <td>2.399666</td>\n      <td>17.570997</td>\n      <td>9.414652</td>\n      <td>102.722975</td>\n      <td>0.0</td>\n    </tr>\n    <tr>\n      <th>2</th>\n      <td>130.585938</td>\n      <td>53.229534</td>\n      <td>0.133408</td>\n      <td>-0.297242</td>\n      <td>2.743311</td>\n      <td>22.362553</td>\n      <td>8.508364</td>\n      <td>74.031324</td>\n      <td>0.0</td>\n    </tr>\n    <tr>\n      <th>3</th>\n      <td>156.398438</td>\n      <td>48.865942</td>\n      <td>-0.215989</td>\n      <td>-0.171294</td>\n      <td>17.471572</td>\n      <td>NaN</td>\n      <td>2.958066</td>\n      <td>7.197842</td>\n      <td>0.0</td>\n    </tr>\n    <tr>\n      <th>4</th>\n      <td>84.804688</td>\n      <td>36.117659</td>\n      <td>0.825013</td>\n      <td>3.274125</td>\n      <td>2.790134</td>\n      <td>20.618009</td>\n      <td>8.405008</td>\n      <td>76.291128</td>\n      <td>0.0</td>\n    </tr>\n  </tbody>\n</table>\n</div>"
          },
          "metadata": {}
        }
      ]
    },
    {
      "cell_type": "code",
      "source": [
        "original_columns = train_set.columns\n",
        "new_columns = ['mean_profile', 'std_profile', 'kurtosis_profile', 'skewness_profile', 'mean_dmsnr',\n",
        "               'std_dmsnr', 'kurtosis_dmsnr', 'skewness_dmsnr', 'target']\n",
        "train_set.columns=new_columns\n",
        "test_set.columns = new_columns\n",
        "\n",
        "train_set.describe()\n"
      ],
      "metadata": {
        "execution": {
          "iopub.status.busy": "2024-05-05T10:44:53.861865Z",
          "iopub.execute_input": "2024-05-05T10:44:53.862354Z",
          "iopub.status.idle": "2024-05-05T10:44:53.925736Z",
          "shell.execute_reply.started": "2024-05-05T10:44:53.862316Z",
          "shell.execute_reply": "2024-05-05T10:44:53.924582Z"
        },
        "trusted": true,
        "id": "BSsQN2_jXE9c",
        "outputId": "83d30b3a-7979-4da9-8334-7b0d282584f5"
      },
      "execution_count": null,
      "outputs": [
        {
          "execution_count": 3,
          "output_type": "execute_result",
          "data": {
            "text/plain": "       mean_profile   std_profile  kurtosis_profile  skewness_profile  \\\ncount  12528.000000  12528.000000      10793.000000      12528.000000   \nmean     111.041841     46.521437          0.478548          1.778431   \nstd       25.672828      6.801077          1.064708          6.208450   \nmin        5.812500     24.772042         -1.738021         -1.791886   \n25%      100.871094     42.362222          0.024652         -0.188142   \n50%      115.183594     46.931022          0.223678          0.203317   \n75%      127.109375     50.979103          0.473125          0.932374   \nmax      189.734375     91.808628          8.069522         68.101622   \n\n         mean_dmsnr     std_dmsnr  kurtosis_dmsnr  skewness_dmsnr  \\\ncount  12528.000000  11350.000000    12528.000000    11903.000000   \nmean      12.674758     26.351318        8.333489      105.525779   \nstd       29.613230     19.610842        4.535783      107.399585   \nmin        0.213211      7.370432       -3.139270       -1.976976   \n25%        1.910535     14.404353        5.803063       35.199899   \n50%        2.792642     18.412402        8.451097       83.126301   \n75%        5.413253     28.337418       10.727927      139.997850   \nmax      222.421405    110.642211       34.539844     1191.000837   \n\n             target  \ncount  12528.000000  \nmean       0.092034  \nstd        0.289085  \nmin        0.000000  \n25%        0.000000  \n50%        0.000000  \n75%        0.000000  \nmax        1.000000  ",
            "text/html": "<div>\n<style scoped>\n    .dataframe tbody tr th:only-of-type {\n        vertical-align: middle;\n    }\n\n    .dataframe tbody tr th {\n        vertical-align: top;\n    }\n\n    .dataframe thead th {\n        text-align: right;\n    }\n</style>\n<table border=\"1\" class=\"dataframe\">\n  <thead>\n    <tr style=\"text-align: right;\">\n      <th></th>\n      <th>mean_profile</th>\n      <th>std_profile</th>\n      <th>kurtosis_profile</th>\n      <th>skewness_profile</th>\n      <th>mean_dmsnr</th>\n      <th>std_dmsnr</th>\n      <th>kurtosis_dmsnr</th>\n      <th>skewness_dmsnr</th>\n      <th>target</th>\n    </tr>\n  </thead>\n  <tbody>\n    <tr>\n      <th>count</th>\n      <td>12528.000000</td>\n      <td>12528.000000</td>\n      <td>10793.000000</td>\n      <td>12528.000000</td>\n      <td>12528.000000</td>\n      <td>11350.000000</td>\n      <td>12528.000000</td>\n      <td>11903.000000</td>\n      <td>12528.000000</td>\n    </tr>\n    <tr>\n      <th>mean</th>\n      <td>111.041841</td>\n      <td>46.521437</td>\n      <td>0.478548</td>\n      <td>1.778431</td>\n      <td>12.674758</td>\n      <td>26.351318</td>\n      <td>8.333489</td>\n      <td>105.525779</td>\n      <td>0.092034</td>\n    </tr>\n    <tr>\n      <th>std</th>\n      <td>25.672828</td>\n      <td>6.801077</td>\n      <td>1.064708</td>\n      <td>6.208450</td>\n      <td>29.613230</td>\n      <td>19.610842</td>\n      <td>4.535783</td>\n      <td>107.399585</td>\n      <td>0.289085</td>\n    </tr>\n    <tr>\n      <th>min</th>\n      <td>5.812500</td>\n      <td>24.772042</td>\n      <td>-1.738021</td>\n      <td>-1.791886</td>\n      <td>0.213211</td>\n      <td>7.370432</td>\n      <td>-3.139270</td>\n      <td>-1.976976</td>\n      <td>0.000000</td>\n    </tr>\n    <tr>\n      <th>25%</th>\n      <td>100.871094</td>\n      <td>42.362222</td>\n      <td>0.024652</td>\n      <td>-0.188142</td>\n      <td>1.910535</td>\n      <td>14.404353</td>\n      <td>5.803063</td>\n      <td>35.199899</td>\n      <td>0.000000</td>\n    </tr>\n    <tr>\n      <th>50%</th>\n      <td>115.183594</td>\n      <td>46.931022</td>\n      <td>0.223678</td>\n      <td>0.203317</td>\n      <td>2.792642</td>\n      <td>18.412402</td>\n      <td>8.451097</td>\n      <td>83.126301</td>\n      <td>0.000000</td>\n    </tr>\n    <tr>\n      <th>75%</th>\n      <td>127.109375</td>\n      <td>50.979103</td>\n      <td>0.473125</td>\n      <td>0.932374</td>\n      <td>5.413253</td>\n      <td>28.337418</td>\n      <td>10.727927</td>\n      <td>139.997850</td>\n      <td>0.000000</td>\n    </tr>\n    <tr>\n      <th>max</th>\n      <td>189.734375</td>\n      <td>91.808628</td>\n      <td>8.069522</td>\n      <td>68.101622</td>\n      <td>222.421405</td>\n      <td>110.642211</td>\n      <td>34.539844</td>\n      <td>1191.000837</td>\n      <td>1.000000</td>\n    </tr>\n  </tbody>\n</table>\n</div>"
          },
          "metadata": {}
        }
      ]
    },
    {
      "cell_type": "code",
      "source": [
        "test_set.head()"
      ],
      "metadata": {
        "execution": {
          "iopub.status.busy": "2024-05-05T10:44:53.927121Z",
          "iopub.execute_input": "2024-05-05T10:44:53.927404Z",
          "iopub.status.idle": "2024-05-05T10:44:53.94471Z",
          "shell.execute_reply.started": "2024-05-05T10:44:53.927353Z",
          "shell.execute_reply": "2024-05-05T10:44:53.943942Z"
        },
        "trusted": true,
        "id": "j7xSErPpXE9c",
        "outputId": "4a646f2c-b7e6-41ab-cd05-d772f60b6768"
      },
      "execution_count": null,
      "outputs": [
        {
          "execution_count": 4,
          "output_type": "execute_result",
          "data": {
            "text/plain": "   mean_profile  std_profile  kurtosis_profile  skewness_profile  mean_dmsnr  \\\n0    116.906250    48.920605          0.186046         -0.129815    3.037625   \n1     75.585938    34.386254          2.025498          8.652913    3.765050   \n2    103.273438    46.996628          0.504295          0.821088    2.244983   \n3    101.078125    48.587487          1.011427          1.151870   81.887960   \n4    113.226562    48.608804          0.291538          0.292120    6.291806   \n\n   std_dmsnr  kurtosis_dmsnr  skewness_dmsnr  target  \n0  17.737102        8.122621       78.813405     NaN  \n1  21.897049        7.048189       55.878791     NaN  \n2  15.622566        9.330498      105.134941     NaN  \n3  81.464136        0.485105       -1.117904     NaN  \n4  26.585056        4.540138       21.708268     NaN  ",
            "text/html": "<div>\n<style scoped>\n    .dataframe tbody tr th:only-of-type {\n        vertical-align: middle;\n    }\n\n    .dataframe tbody tr th {\n        vertical-align: top;\n    }\n\n    .dataframe thead th {\n        text-align: right;\n    }\n</style>\n<table border=\"1\" class=\"dataframe\">\n  <thead>\n    <tr style=\"text-align: right;\">\n      <th></th>\n      <th>mean_profile</th>\n      <th>std_profile</th>\n      <th>kurtosis_profile</th>\n      <th>skewness_profile</th>\n      <th>mean_dmsnr</th>\n      <th>std_dmsnr</th>\n      <th>kurtosis_dmsnr</th>\n      <th>skewness_dmsnr</th>\n      <th>target</th>\n    </tr>\n  </thead>\n  <tbody>\n    <tr>\n      <th>0</th>\n      <td>116.906250</td>\n      <td>48.920605</td>\n      <td>0.186046</td>\n      <td>-0.129815</td>\n      <td>3.037625</td>\n      <td>17.737102</td>\n      <td>8.122621</td>\n      <td>78.813405</td>\n      <td>NaN</td>\n    </tr>\n    <tr>\n      <th>1</th>\n      <td>75.585938</td>\n      <td>34.386254</td>\n      <td>2.025498</td>\n      <td>8.652913</td>\n      <td>3.765050</td>\n      <td>21.897049</td>\n      <td>7.048189</td>\n      <td>55.878791</td>\n      <td>NaN</td>\n    </tr>\n    <tr>\n      <th>2</th>\n      <td>103.273438</td>\n      <td>46.996628</td>\n      <td>0.504295</td>\n      <td>0.821088</td>\n      <td>2.244983</td>\n      <td>15.622566</td>\n      <td>9.330498</td>\n      <td>105.134941</td>\n      <td>NaN</td>\n    </tr>\n    <tr>\n      <th>3</th>\n      <td>101.078125</td>\n      <td>48.587487</td>\n      <td>1.011427</td>\n      <td>1.151870</td>\n      <td>81.887960</td>\n      <td>81.464136</td>\n      <td>0.485105</td>\n      <td>-1.117904</td>\n      <td>NaN</td>\n    </tr>\n    <tr>\n      <th>4</th>\n      <td>113.226562</td>\n      <td>48.608804</td>\n      <td>0.291538</td>\n      <td>0.292120</td>\n      <td>6.291806</td>\n      <td>26.585056</td>\n      <td>4.540138</td>\n      <td>21.708268</td>\n      <td>NaN</td>\n    </tr>\n  </tbody>\n</table>\n</div>"
          },
          "metadata": {}
        }
      ]
    },
    {
      "cell_type": "code",
      "source": [
        "test_set.describe()"
      ],
      "metadata": {
        "execution": {
          "iopub.status.busy": "2024-05-05T10:44:53.946119Z",
          "iopub.execute_input": "2024-05-05T10:44:53.946436Z",
          "iopub.status.idle": "2024-05-05T10:44:53.992358Z",
          "shell.execute_reply.started": "2024-05-05T10:44:53.946399Z",
          "shell.execute_reply": "2024-05-05T10:44:53.991203Z"
        },
        "trusted": true,
        "id": "25UMVRj6XE9d",
        "outputId": "51bbab94-d8ff-45d0-d673-a3e9b49478f9"
      },
      "execution_count": null,
      "outputs": [
        {
          "execution_count": 5,
          "output_type": "execute_result",
          "data": {
            "text/plain": "       mean_profile  std_profile  kurtosis_profile  skewness_profile  \\\ncount   5370.000000  5370.000000       4603.000000       5370.000000   \nmean     111.168917    46.615074          0.483676          1.751260   \nstd       25.608635     6.940638          1.076893          6.072820   \nmin        6.179688    24.791612         -1.876011         -1.764717   \n25%      101.041016    42.408020          0.030643         -0.189557   \n50%      114.757812    47.031304          0.227314          0.186468   \n75%      127.023438    51.133444          0.475056          0.918807   \nmax      192.617188    98.778911          7.608370         65.385974   \n\n        mean_dmsnr    std_dmsnr  kurtosis_dmsnr  skewness_dmsnr  target  \ncount  5370.000000  4846.000000     5370.000000     5126.000000     0.0  \nmean     12.473587    26.425371        8.233724      102.869088     NaN  \nstd      29.145134    19.384489        4.435683      104.748418     NaN  \nmin       0.213211     7.370432       -2.721857       -1.964998     NaN  \n25%       1.956522    14.555826        5.700461       33.817330     NaN  \n50%       2.830686    18.549670        8.383695       81.392046     NaN  \n75%       5.590301    28.681787       10.632265      136.893502     NaN  \nmax     223.392141   109.712649       34.539844     1191.000837     NaN  ",
            "text/html": "<div>\n<style scoped>\n    .dataframe tbody tr th:only-of-type {\n        vertical-align: middle;\n    }\n\n    .dataframe tbody tr th {\n        vertical-align: top;\n    }\n\n    .dataframe thead th {\n        text-align: right;\n    }\n</style>\n<table border=\"1\" class=\"dataframe\">\n  <thead>\n    <tr style=\"text-align: right;\">\n      <th></th>\n      <th>mean_profile</th>\n      <th>std_profile</th>\n      <th>kurtosis_profile</th>\n      <th>skewness_profile</th>\n      <th>mean_dmsnr</th>\n      <th>std_dmsnr</th>\n      <th>kurtosis_dmsnr</th>\n      <th>skewness_dmsnr</th>\n      <th>target</th>\n    </tr>\n  </thead>\n  <tbody>\n    <tr>\n      <th>count</th>\n      <td>5370.000000</td>\n      <td>5370.000000</td>\n      <td>4603.000000</td>\n      <td>5370.000000</td>\n      <td>5370.000000</td>\n      <td>4846.000000</td>\n      <td>5370.000000</td>\n      <td>5126.000000</td>\n      <td>0.0</td>\n    </tr>\n    <tr>\n      <th>mean</th>\n      <td>111.168917</td>\n      <td>46.615074</td>\n      <td>0.483676</td>\n      <td>1.751260</td>\n      <td>12.473587</td>\n      <td>26.425371</td>\n      <td>8.233724</td>\n      <td>102.869088</td>\n      <td>NaN</td>\n    </tr>\n    <tr>\n      <th>std</th>\n      <td>25.608635</td>\n      <td>6.940638</td>\n      <td>1.076893</td>\n      <td>6.072820</td>\n      <td>29.145134</td>\n      <td>19.384489</td>\n      <td>4.435683</td>\n      <td>104.748418</td>\n      <td>NaN</td>\n    </tr>\n    <tr>\n      <th>min</th>\n      <td>6.179688</td>\n      <td>24.791612</td>\n      <td>-1.876011</td>\n      <td>-1.764717</td>\n      <td>0.213211</td>\n      <td>7.370432</td>\n      <td>-2.721857</td>\n      <td>-1.964998</td>\n      <td>NaN</td>\n    </tr>\n    <tr>\n      <th>25%</th>\n      <td>101.041016</td>\n      <td>42.408020</td>\n      <td>0.030643</td>\n      <td>-0.189557</td>\n      <td>1.956522</td>\n      <td>14.555826</td>\n      <td>5.700461</td>\n      <td>33.817330</td>\n      <td>NaN</td>\n    </tr>\n    <tr>\n      <th>50%</th>\n      <td>114.757812</td>\n      <td>47.031304</td>\n      <td>0.227314</td>\n      <td>0.186468</td>\n      <td>2.830686</td>\n      <td>18.549670</td>\n      <td>8.383695</td>\n      <td>81.392046</td>\n      <td>NaN</td>\n    </tr>\n    <tr>\n      <th>75%</th>\n      <td>127.023438</td>\n      <td>51.133444</td>\n      <td>0.475056</td>\n      <td>0.918807</td>\n      <td>5.590301</td>\n      <td>28.681787</td>\n      <td>10.632265</td>\n      <td>136.893502</td>\n      <td>NaN</td>\n    </tr>\n    <tr>\n      <th>max</th>\n      <td>192.617188</td>\n      <td>98.778911</td>\n      <td>7.608370</td>\n      <td>65.385974</td>\n      <td>223.392141</td>\n      <td>109.712649</td>\n      <td>34.539844</td>\n      <td>1191.000837</td>\n      <td>NaN</td>\n    </tr>\n  </tbody>\n</table>\n</div>"
          },
          "metadata": {}
        }
      ]
    },
    {
      "cell_type": "markdown",
      "source": [
        "Ahora definimos cuales son los valores que queremos averiguar y cuales son los que usaremos para el analisis"
      ],
      "metadata": {
        "id": "vxALDU9AXE9d"
      }
    },
    {
      "cell_type": "markdown",
      "source": [
        "vamos a ver cuantos valores nulos tenemos en cada columna"
      ],
      "metadata": {
        "id": "q-A3gUc9XE9d"
      }
    },
    {
      "cell_type": "code",
      "source": [
        "train_set.isnull().sum()"
      ],
      "metadata": {
        "execution": {
          "iopub.status.busy": "2024-05-05T10:44:53.994128Z",
          "iopub.execute_input": "2024-05-05T10:44:53.994504Z",
          "iopub.status.idle": "2024-05-05T10:44:54.008475Z",
          "shell.execute_reply.started": "2024-05-05T10:44:53.99445Z",
          "shell.execute_reply": "2024-05-05T10:44:54.007266Z"
        },
        "trusted": true,
        "id": "P79VVhn-XE9e",
        "outputId": "92f9acb1-0c34-4749-dd12-3d117bb391bd"
      },
      "execution_count": null,
      "outputs": [
        {
          "execution_count": 6,
          "output_type": "execute_result",
          "data": {
            "text/plain": "mean_profile           0\nstd_profile            0\nkurtosis_profile    1735\nskewness_profile       0\nmean_dmsnr             0\nstd_dmsnr           1178\nkurtosis_dmsnr         0\nskewness_dmsnr       625\ntarget                 0\ndtype: int64"
          },
          "metadata": {}
        }
      ]
    },
    {
      "cell_type": "markdown",
      "source": [
        "ahora vwemos el porcentaje de valores desconocidos"
      ],
      "metadata": {
        "id": "3iglydLRXE9e"
      }
    },
    {
      "cell_type": "code",
      "source": [
        "train_set.isnull().sum()/len(train_set) * 100"
      ],
      "metadata": {
        "execution": {
          "iopub.status.busy": "2024-05-05T10:44:54.010266Z",
          "iopub.execute_input": "2024-05-05T10:44:54.010678Z",
          "iopub.status.idle": "2024-05-05T10:44:54.026737Z",
          "shell.execute_reply.started": "2024-05-05T10:44:54.010626Z",
          "shell.execute_reply": "2024-05-05T10:44:54.025561Z"
        },
        "trusted": true,
        "id": "L-6PJHCJXE9e",
        "outputId": "f111721e-9e2a-4d18-affd-5bf2e79d6a6b"
      },
      "execution_count": null,
      "outputs": [
        {
          "execution_count": 7,
          "output_type": "execute_result",
          "data": {
            "text/plain": "mean_profile         0.000000\nstd_profile          0.000000\nkurtosis_profile    13.848978\nskewness_profile     0.000000\nmean_dmsnr           0.000000\nstd_dmsnr            9.402937\nkurtosis_dmsnr       0.000000\nskewness_dmsnr       4.988825\ntarget               0.000000\ndtype: float64"
          },
          "metadata": {}
        }
      ]
    },
    {
      "cell_type": "code",
      "source": [
        "test_set.isnull().sum()"
      ],
      "metadata": {
        "execution": {
          "iopub.status.busy": "2024-05-05T10:44:54.028679Z",
          "iopub.execute_input": "2024-05-05T10:44:54.029999Z",
          "iopub.status.idle": "2024-05-05T10:44:54.040682Z",
          "shell.execute_reply.started": "2024-05-05T10:44:54.029757Z",
          "shell.execute_reply": "2024-05-05T10:44:54.039922Z"
        },
        "trusted": true,
        "id": "A6---FKWXE9e",
        "outputId": "c61654da-4ca9-4bc9-e84c-9961bbf3aae5"
      },
      "execution_count": null,
      "outputs": [
        {
          "execution_count": 8,
          "output_type": "execute_result",
          "data": {
            "text/plain": "mean_profile           0\nstd_profile            0\nkurtosis_profile     767\nskewness_profile       0\nmean_dmsnr             0\nstd_dmsnr            524\nkurtosis_dmsnr         0\nskewness_dmsnr       244\ntarget              5370\ndtype: int64"
          },
          "metadata": {}
        }
      ]
    },
    {
      "cell_type": "code",
      "source": [
        "test_set.isnull().sum()/len(test_set) * 100"
      ],
      "metadata": {
        "execution": {
          "iopub.status.busy": "2024-05-05T10:44:54.043468Z",
          "iopub.execute_input": "2024-05-05T10:44:54.043735Z",
          "iopub.status.idle": "2024-05-05T10:44:54.053792Z",
          "shell.execute_reply.started": "2024-05-05T10:44:54.043701Z",
          "shell.execute_reply": "2024-05-05T10:44:54.053054Z"
        },
        "trusted": true,
        "id": "4Ez39F9vXE9e",
        "outputId": "7476db60-2711-4126-ab5c-4d47bec5900a"
      },
      "execution_count": null,
      "outputs": [
        {
          "execution_count": 9,
          "output_type": "execute_result",
          "data": {
            "text/plain": "mean_profile          0.000000\nstd_profile           0.000000\nkurtosis_profile     14.283054\nskewness_profile      0.000000\nmean_dmsnr            0.000000\nstd_dmsnr             9.757914\nkurtosis_dmsnr        0.000000\nskewness_dmsnr        4.543762\ntarget              100.000000\ndtype: float64"
          },
          "metadata": {}
        }
      ]
    },
    {
      "cell_type": "code",
      "source": [
        "print(len(train_set))\n",
        "print(len(test_set))"
      ],
      "metadata": {
        "execution": {
          "iopub.status.busy": "2024-05-05T10:44:54.054911Z",
          "iopub.execute_input": "2024-05-05T10:44:54.05611Z",
          "iopub.status.idle": "2024-05-05T10:44:54.067817Z",
          "shell.execute_reply.started": "2024-05-05T10:44:54.056065Z",
          "shell.execute_reply": "2024-05-05T10:44:54.067043Z"
        },
        "trusted": true,
        "id": "PmBYcVM0XE9e",
        "outputId": "d769b394-67fe-45fa-e374-932411551f0a"
      },
      "execution_count": null,
      "outputs": [
        {
          "name": "stdout",
          "text": "12528\n5370\n",
          "output_type": "stream"
        }
      ]
    },
    {
      "cell_type": "markdown",
      "source": [
        "Si faltan muchos valores es mejor quitar la columna porque daria resultados imprecisos, si faltan pocos y quitamos la\n",
        "columna, perdemos informacion importante.\n",
        "\n",
        "Esto es un problema que debe analizarse detenidamente porque depende de otros diversos factores de la obtencion y significado de los datos, cada caso es distinto y debe abordarse de una forma independiente\n",
        "\n",
        "En este caso primero vamos a probar modificando los valores faltantes primero mediante imputacion. Más adelante, veremos que es posible quitar algunas columnas (no siempre) mediante un analisis de correlación"
      ],
      "metadata": {
        "id": "EoXnC5oRXE9f"
      }
    },
    {
      "cell_type": "code",
      "source": [
        "cols_with_missing = [col for col in train_set.columns\n",
        "                     if train_set[col].isnull().any()]\n",
        "print(cols_with_missing)"
      ],
      "metadata": {
        "execution": {
          "iopub.status.busy": "2024-05-05T10:44:54.06937Z",
          "iopub.execute_input": "2024-05-05T10:44:54.06987Z",
          "iopub.status.idle": "2024-05-05T10:44:54.08531Z",
          "shell.execute_reply.started": "2024-05-05T10:44:54.069833Z",
          "shell.execute_reply": "2024-05-05T10:44:54.084352Z"
        },
        "trusted": true,
        "id": "iVpMuiMcXE9f",
        "outputId": "591ffbd5-27cf-4748-abec-64e982da03d6"
      },
      "execution_count": null,
      "outputs": [
        {
          "name": "stdout",
          "text": "['kurtosis_profile', 'std_dmsnr', 'skewness_dmsnr']\n",
          "output_type": "stream"
        }
      ]
    },
    {
      "cell_type": "markdown",
      "source": [
        "> # Imputación"
      ],
      "metadata": {
        "id": "VtDpzkaiXE9f"
      }
    },
    {
      "cell_type": "markdown",
      "source": [
        "ahora usamos SimpleImputer para solventar el problema de los valores faltantes, SimpleImputer usa diversas estrategias\n",
        "If “mean”, then replace missing values using the mean along each column. Can only be used with numeric data.\n",
        "\n",
        "If “median”, then replace missing values using the median along each column. Can only be used with numeric data.\n",
        "\n",
        "If “most_frequent”, then replace missing using the most frequent value along each column. Can be used with strings or numeric data. If there is more than one such value, only the smallest is returned.\n",
        "\n",
        "If “constant”, then replace missing values with fill_value. Can be used with strings or numeric data.\n",
        "\n",
        "nosotros usaremos el valor por defecto, mean, media.\n",
        "\n",
        "No es exacto pero es mejor que eliminar esa información"
      ],
      "metadata": {
        "id": "eQv2TcFRXE9f"
      }
    },
    {
      "cell_type": "code",
      "source": [
        "my_imputer = SimpleImputer()\n",
        "train_imputed = pd.DataFrame(my_imputer.fit_transform(train_set))\n",
        "# Imputation removed column names; put them back\n",
        "train_imputed.columns = train_set.columns\n",
        "test_set_imputed = test_set.fillna(test_set.median())\n",
        "test_set_imputed.isnull().sum()\n"
      ],
      "metadata": {
        "execution": {
          "iopub.status.busy": "2024-05-05T10:44:54.086706Z",
          "iopub.execute_input": "2024-05-05T10:44:54.087675Z",
          "iopub.status.idle": "2024-05-05T10:44:54.115281Z",
          "shell.execute_reply.started": "2024-05-05T10:44:54.087631Z",
          "shell.execute_reply": "2024-05-05T10:44:54.114202Z"
        },
        "trusted": true,
        "id": "iuLfV-DfXE9f",
        "outputId": "46d2c02f-b146-4f9d-f677-c97e0b511a35"
      },
      "execution_count": null,
      "outputs": [
        {
          "execution_count": 12,
          "output_type": "execute_result",
          "data": {
            "text/plain": "mean_profile           0\nstd_profile            0\nkurtosis_profile       0\nskewness_profile       0\nmean_dmsnr             0\nstd_dmsnr              0\nkurtosis_dmsnr         0\nskewness_dmsnr         0\ntarget              5370\ndtype: int64"
          },
          "metadata": {}
        }
      ]
    },
    {
      "cell_type": "code",
      "source": [
        "train_imputed.isnull().sum()"
      ],
      "metadata": {
        "execution": {
          "iopub.status.busy": "2024-05-05T10:44:54.117034Z",
          "iopub.execute_input": "2024-05-05T10:44:54.117897Z",
          "iopub.status.idle": "2024-05-05T10:44:54.129692Z",
          "shell.execute_reply.started": "2024-05-05T10:44:54.117831Z",
          "shell.execute_reply": "2024-05-05T10:44:54.128244Z"
        },
        "trusted": true,
        "id": "3sitwkuWXE9f",
        "outputId": "6642d335-c30c-4001-9e96-4a8bf8b40f8a"
      },
      "execution_count": null,
      "outputs": [
        {
          "execution_count": 13,
          "output_type": "execute_result",
          "data": {
            "text/plain": "mean_profile        0\nstd_profile         0\nkurtosis_profile    0\nskewness_profile    0\nmean_dmsnr          0\nstd_dmsnr           0\nkurtosis_dmsnr      0\nskewness_dmsnr      0\ntarget              0\ndtype: int64"
          },
          "metadata": {}
        }
      ]
    },
    {
      "cell_type": "markdown",
      "source": [
        "para solventar los valores faltantes del test set, los subtituimos rapidamente con fillna ya que asi nos ahorramos tener que dividir el set por separado y arreglar los valores de todas las columnas menos la objetivo y luego volver a unirlo en un solo set, ya que al faltat todos los valores de la variable objetivo tenemos problemas con la imputacion\n",
        "\n",
        "Debemos separar el set de entrenamiento en dos sets, uno que será el que usaremos para entrenar y otro para validar que nuestras predicciones son correctas"
      ],
      "metadata": {
        "id": "aMbs4VInXE9f"
      }
    },
    {
      "cell_type": "code",
      "source": [
        "train_set_features=['mean_profile', 'std_profile', 'kurtosis_profile', 'skewness_profile', 'mean_dmsnr',\n",
        "                    'std_dmsnr', 'kurtosis_dmsnr', 'skewness_dmsnr']\n",
        "\n",
        "\n",
        "y=train_set.target\n",
        "X_full=train_imputed[train_set_features]\n",
        "X_test_full=test_set_imputed[train_set_features]\n",
        "\n",
        "# Break off validation set from training data\n",
        "imputed_X_train, imputed_X_valid, y_train, y_valid = train_test_split(X_full, y, train_size=0.8, test_size=0.2,\n",
        "                                                      random_state=0)\n"
      ],
      "metadata": {
        "execution": {
          "iopub.status.busy": "2024-05-05T10:44:54.131426Z",
          "iopub.execute_input": "2024-05-05T10:44:54.132354Z",
          "iopub.status.idle": "2024-05-05T10:44:54.147622Z",
          "shell.execute_reply.started": "2024-05-05T10:44:54.132311Z",
          "shell.execute_reply": "2024-05-05T10:44:54.146429Z"
        },
        "trusted": true,
        "id": "8rNJ8teAXE9f"
      },
      "execution_count": null,
      "outputs": []
    },
    {
      "cell_type": "code",
      "source": [
        "\"\"\"\"\n",
        "train_set_features=['mean_profile', 'std_profile', 'kurtosis_profile', 'skewness_profile', 'mean_dmsnr',\n",
        "               'std_dmsnr', 'kurtosis_dmsnr', 'skewness_dmsnr']\n",
        "\n",
        "\n",
        "y=train_set.target\n",
        "X_full=train_set[train_set_features]\n",
        "X_test_full=test_set[train_set_features]\n",
        "\n",
        "# Break off validation set from training data\n",
        "X_train, X_valid, y_train, y_valid = train_test_split(X_full, y, train_size=0.8, test_size=0.2,\n",
        "                                                      random_state=0)\n",
        "\"\"\"\n"
      ],
      "metadata": {
        "execution": {
          "iopub.status.busy": "2024-05-05T10:44:54.149694Z",
          "iopub.execute_input": "2024-05-05T10:44:54.150047Z",
          "iopub.status.idle": "2024-05-05T10:44:54.16178Z",
          "shell.execute_reply.started": "2024-05-05T10:44:54.150002Z",
          "shell.execute_reply": "2024-05-05T10:44:54.160745Z"
        },
        "trusted": true,
        "id": "gSpDdqbTXE9g",
        "outputId": "d89f8481-828d-4cb9-adbd-225180a7a6e7"
      },
      "execution_count": null,
      "outputs": [
        {
          "execution_count": 15,
          "output_type": "execute_result",
          "data": {
            "text/plain": "'\"\\ntrain_set_features=[\\'mean_profile\\', \\'std_profile\\', \\'kurtosis_profile\\', \\'skewness_profile\\', \\'mean_dmsnr\\',\\n               \\'std_dmsnr\\', \\'kurtosis_dmsnr\\', \\'skewness_dmsnr\\']\\n\\n\\ny=train_set.target\\nX_full=train_set[train_set_features]\\nX_test_full=test_set[train_set_features]\\n\\n# Break off validation set from training data\\nX_train, X_valid, y_train, y_valid = train_test_split(X_full, y, train_size=0.8, test_size=0.2,\\n                                                      random_state=0)\\n'"
          },
          "metadata": {}
        }
      ]
    },
    {
      "cell_type": "code",
      "source": [
        "\"\"\"\n",
        "from sklearn.impute import SimpleImputer\n",
        "\n",
        "# Imputation\n",
        "my_imputer = SimpleImputer()\n",
        "imputed_X_train = pd.DataFrame(my_imputer.fit_transform(X_train))\n",
        "imputed_X_valid = pd.DataFrame(my_imputer.transform(X_valid))\n",
        "\n",
        "test_set = test_set.fillna(test_set.median())\n",
        "X_test_full=test_set[train_set_features]\n",
        "\n",
        "# Imputation removed column names; put them back\n",
        "imputed_X_train.columns = X_train.columns\n",
        "imputed_X_valid.columns = X_valid.columns\n",
        "\"\"\""
      ],
      "metadata": {
        "execution": {
          "iopub.status.busy": "2024-05-05T10:44:54.163598Z",
          "iopub.execute_input": "2024-05-05T10:44:54.164167Z",
          "iopub.status.idle": "2024-05-05T10:44:54.17465Z",
          "shell.execute_reply.started": "2024-05-05T10:44:54.164119Z",
          "shell.execute_reply": "2024-05-05T10:44:54.173812Z"
        },
        "trusted": true,
        "id": "N-yEa3wqXE9g",
        "outputId": "a7347635-2b1d-4c3a-efac-52f6c688428a"
      },
      "execution_count": null,
      "outputs": [
        {
          "execution_count": 16,
          "output_type": "execute_result",
          "data": {
            "text/plain": "'\\nfrom sklearn.impute import SimpleImputer\\n\\n# Imputation\\nmy_imputer = SimpleImputer()\\nimputed_X_train = pd.DataFrame(my_imputer.fit_transform(X_train))\\nimputed_X_valid = pd.DataFrame(my_imputer.transform(X_valid))\\n\\ntest_set = test_set.fillna(test_set.median())\\nX_test_full=test_set[train_set_features]\\n\\n# Imputation removed column names; put them back\\nimputed_X_train.columns = X_train.columns\\nimputed_X_valid.columns = X_valid.columns\\n'"
          },
          "metadata": {}
        }
      ]
    },
    {
      "cell_type": "code",
      "source": [
        "test_set_imputed.isnull().sum()"
      ],
      "metadata": {
        "execution": {
          "iopub.status.busy": "2024-05-05T10:44:54.175964Z",
          "iopub.execute_input": "2024-05-05T10:44:54.176574Z",
          "iopub.status.idle": "2024-05-05T10:44:54.190188Z",
          "shell.execute_reply.started": "2024-05-05T10:44:54.176534Z",
          "shell.execute_reply": "2024-05-05T10:44:54.189462Z"
        },
        "trusted": true,
        "id": "CNuSDe0QXE9g",
        "outputId": "27bc5190-ff3b-4ba3-9b8c-f9c1de2f804d"
      },
      "execution_count": null,
      "outputs": [
        {
          "execution_count": 17,
          "output_type": "execute_result",
          "data": {
            "text/plain": "mean_profile           0\nstd_profile            0\nkurtosis_profile       0\nskewness_profile       0\nmean_dmsnr             0\nstd_dmsnr              0\nkurtosis_dmsnr         0\nskewness_dmsnr         0\ntarget              5370\ndtype: int64"
          },
          "metadata": {}
        }
      ]
    },
    {
      "cell_type": "code",
      "source": [
        "X_test_full.isnull().sum()"
      ],
      "metadata": {
        "execution": {
          "iopub.status.busy": "2024-05-05T10:44:54.191636Z",
          "iopub.execute_input": "2024-05-05T10:44:54.192068Z",
          "iopub.status.idle": "2024-05-05T10:44:54.202732Z",
          "shell.execute_reply.started": "2024-05-05T10:44:54.192029Z",
          "shell.execute_reply": "2024-05-05T10:44:54.2017Z"
        },
        "trusted": true,
        "id": "cqgLDL3PXE9h",
        "outputId": "8023c396-8513-488c-bd04-1674cb8359a9"
      },
      "execution_count": null,
      "outputs": [
        {
          "execution_count": 18,
          "output_type": "execute_result",
          "data": {
            "text/plain": "mean_profile        0\nstd_profile         0\nkurtosis_profile    0\nskewness_profile    0\nmean_dmsnr          0\nstd_dmsnr           0\nkurtosis_dmsnr      0\nskewness_dmsnr      0\ndtype: int64"
          },
          "metadata": {}
        }
      ]
    },
    {
      "cell_type": "markdown",
      "source": [
        "Para hacer el modelo necesitamos seleccionar la caracteristica que queremos analizar, en este caso si es pulsar o no. Eso se asigna a una variable \"y\"."
      ],
      "metadata": {
        "id": "pK9FO4GXXE9h"
      }
    },
    {
      "cell_type": "code",
      "source": [
        "y_t=test_set.target\n",
        "y_t.describe()"
      ],
      "metadata": {
        "execution": {
          "iopub.status.busy": "2024-05-05T10:44:54.204173Z",
          "iopub.execute_input": "2024-05-05T10:44:54.204504Z",
          "iopub.status.idle": "2024-05-05T10:44:54.21707Z",
          "shell.execute_reply.started": "2024-05-05T10:44:54.204455Z",
          "shell.execute_reply": "2024-05-05T10:44:54.216002Z"
        },
        "trusted": true,
        "id": "l7OaAYCcXE9h",
        "outputId": "cdc510a5-c886-486d-9ca9-844a9b5fda65"
      },
      "execution_count": null,
      "outputs": [
        {
          "execution_count": 19,
          "output_type": "execute_result",
          "data": {
            "text/plain": "count    0.0\nmean     NaN\nstd      NaN\nmin      NaN\n25%      NaN\n50%      NaN\n75%      NaN\nmax      NaN\nName: target, dtype: float64"
          },
          "metadata": {}
        }
      ]
    },
    {
      "cell_type": "markdown",
      "source": [
        " >  # Analisis de correlacion\n"
      ],
      "metadata": {
        "id": "coD2l3YQXE9h"
      }
    },
    {
      "cell_type": "markdown",
      "source": [
        "Un analisis de correlacion es interesante para reducir las dimensiones del problema. El algoritmo de correlacion analiza dependencia entre las distintas variables y si la modificacion de sus valores siguen la misma tendencia. Un alto grado de correlación entre dos variables puede ser utilizado para eliminar una de estas del problema y simplificar el proceso"
      ],
      "metadata": {
        "id": "NxIEJOvOXE9h"
      }
    },
    {
      "cell_type": "code",
      "source": [],
      "metadata": {
        "trusted": true,
        "id": "VzD3hPFPXE9h"
      },
      "execution_count": null,
      "outputs": []
    },
    {
      "cell_type": "code",
      "source": [
        "\n",
        "train_impute_out = train_imputed.copy()\n",
        "train_impute_out.columns =original_columns"
      ],
      "metadata": {
        "execution": {
          "iopub.status.busy": "2024-05-05T10:44:54.218687Z",
          "iopub.execute_input": "2024-05-05T10:44:54.219006Z",
          "iopub.status.idle": "2024-05-05T10:44:54.226719Z",
          "shell.execute_reply.started": "2024-05-05T10:44:54.218972Z",
          "shell.execute_reply": "2024-05-05T10:44:54.225758Z"
        },
        "trusted": true,
        "id": "tOYyHXWJXE9h"
      },
      "execution_count": null,
      "outputs": []
    },
    {
      "cell_type": "code",
      "source": [
        "plt.figure(figsize = (10, 10))\n",
        "corr_mat = train_impute_out.corr()\n",
        "sns.heatmap(corr_mat, xticklabels = corr_mat.columns, yticklabels = corr_mat.columns, annot=True)"
      ],
      "metadata": {
        "execution": {
          "iopub.status.busy": "2024-05-05T10:44:54.228224Z",
          "iopub.execute_input": "2024-05-05T10:44:54.229267Z",
          "iopub.status.idle": "2024-05-05T10:44:55.298142Z",
          "shell.execute_reply.started": "2024-05-05T10:44:54.229216Z",
          "shell.execute_reply": "2024-05-05T10:44:55.297105Z"
        },
        "trusted": true,
        "id": "9AwbeJA0XE9h",
        "outputId": "0dabcceb-dfc4-49c8-a5c3-10a8a99e71d3"
      },
      "execution_count": null,
      "outputs": [
        {
          "execution_count": 21,
          "output_type": "execute_result",
          "data": {
            "text/plain": "<AxesSubplot:>"
          },
          "metadata": {}
        },
        {
          "output_type": "display_data",
          "data": {
            "text/plain": "<Figure size 720x720 with 2 Axes>",
            "image/png": "[encoded data removed]"
          },
          "metadata": {
            "needs_background": "light"
          }
        }
      ]
    },
    {
      "cell_type": "markdown",
      "source": [
        "Vemos que el exceso de Kurtosis y Skewnesccuve están altamente correlacionadas (90 por cierto para DM-SNR y 88 porciento para IP \"integrated profile\"). tambien sus correlaciones con otras caracteristicas son bastante similares ( 10% de diferencia como maximo) or lo que podemos sacar fuera cualquiere de estas. También, la media y la desvicion estandar de la curva DM-SNR están altamente correlacionadas. Entones tambien podemos sacar cualquiera de ellas.\n",
        "\n",
        "Sin embargo, el exceso de kurtosis del perfil integrado, Skewness de la curva DM-SNR y la desviacion estandar de la curva DM-SNR tenian valores faltantes.\n",
        "\n",
        "Tambien skewness del perfil integrado y de la curva DM-SNR y la dsviacion estandar de la curva DM_SNR tenian mas valores faltantes que el excesos de kurtosis de la curva DM-SNR\n",
        "\n",
        "Por lo tanto skewness y la desviacion estandar de la curva DM_SNR se sacan fuera. También el exceso de kurtosis tenia un 13% de valores faltantes (comparado con el 2 % de diferencia en outliers) por lo que el excesos de krtosis del perfil integrado es descartado"
      ],
      "metadata": {
        "id": "_oKtI_R6XE9i"
      }
    },
    {
      "cell_type": "markdown",
      "source": [
        "Primero probaremos nuestro modelo con todas las variables y despues dejando fuera las variables mencionadas para comprobar que efectivamente obtenemos resultados similares"
      ],
      "metadata": {
        "id": "PWJFIRk_XE9i"
      }
    },
    {
      "cell_type": "code",
      "source": [
        "train_impute_out.columns= new_columns\n",
        "train_reduced=train_impute_out.drop(['kurtosis_profile', 'skewness_dmsnr', 'std_dmsnr'], axis=1)\n",
        "X_test_reduced =X_test_full.drop(['kurtosis_profile', 'skewness_dmsnr', 'std_dmsnr'], axis=1)\n",
        "train_reduced.head()"
      ],
      "metadata": {
        "execution": {
          "iopub.status.busy": "2024-05-05T10:44:55.299311Z",
          "iopub.execute_input": "2024-05-05T10:44:55.29965Z",
          "iopub.status.idle": "2024-05-05T10:44:55.32035Z",
          "shell.execute_reply.started": "2024-05-05T10:44:55.299613Z",
          "shell.execute_reply": "2024-05-05T10:44:55.319168Z"
        },
        "trusted": true,
        "id": "ZdOXZFRoXE9l",
        "outputId": "b7594ba4-da7b-4f2a-8678-16de50ded646"
      },
      "execution_count": null,
      "outputs": [
        {
          "execution_count": 22,
          "output_type": "execute_result",
          "data": {
            "text/plain": "   mean_profile  std_profile  skewness_profile  mean_dmsnr  kurtosis_dmsnr  \\\n0    121.156250    48.372971         -0.013165    3.168896        7.449874   \n1     76.968750    36.175557          3.388719    2.399666        9.414652   \n2    130.585938    53.229534         -0.297242    2.743311        8.508364   \n3    156.398438    48.865942         -0.171294   17.471572        2.958066   \n4     84.804688    36.117659          3.274125    2.790134        8.405008   \n\n   target  \n0     0.0  \n1     0.0  \n2     0.0  \n3     0.0  \n4     0.0  ",
            "text/html": "<div>\n<style scoped>\n    .dataframe tbody tr th:only-of-type {\n        vertical-align: middle;\n    }\n\n    .dataframe tbody tr th {\n        vertical-align: top;\n    }\n\n    .dataframe thead th {\n        text-align: right;\n    }\n</style>\n<table border=\"1\" class=\"dataframe\">\n  <thead>\n    <tr style=\"text-align: right;\">\n      <th></th>\n      <th>mean_profile</th>\n      <th>std_profile</th>\n      <th>skewness_profile</th>\n      <th>mean_dmsnr</th>\n      <th>kurtosis_dmsnr</th>\n      <th>target</th>\n    </tr>\n  </thead>\n  <tbody>\n    <tr>\n      <th>0</th>\n      <td>121.156250</td>\n      <td>48.372971</td>\n      <td>-0.013165</td>\n      <td>3.168896</td>\n      <td>7.449874</td>\n      <td>0.0</td>\n    </tr>\n    <tr>\n      <th>1</th>\n      <td>76.968750</td>\n      <td>36.175557</td>\n      <td>3.388719</td>\n      <td>2.399666</td>\n      <td>9.414652</td>\n      <td>0.0</td>\n    </tr>\n    <tr>\n      <th>2</th>\n      <td>130.585938</td>\n      <td>53.229534</td>\n      <td>-0.297242</td>\n      <td>2.743311</td>\n      <td>8.508364</td>\n      <td>0.0</td>\n    </tr>\n    <tr>\n      <th>3</th>\n      <td>156.398438</td>\n      <td>48.865942</td>\n      <td>-0.171294</td>\n      <td>17.471572</td>\n      <td>2.958066</td>\n      <td>0.0</td>\n    </tr>\n    <tr>\n      <th>4</th>\n      <td>84.804688</td>\n      <td>36.117659</td>\n      <td>3.274125</td>\n      <td>2.790134</td>\n      <td>8.405008</td>\n      <td>0.0</td>\n    </tr>\n  </tbody>\n</table>\n</div>"
          },
          "metadata": {}
        }
      ]
    },
    {
      "cell_type": "code",
      "source": [
        "X_reduced=train_reduced.copy().drop(['target'], axis = 1)\n",
        "reduced_X_train, reduced_X_valid, y_train, y_valid = train_test_split(X_reduced, y, train_size=0.8, test_size=0.2,\n",
        "                                                      random_state=0)\n",
        "reduced_X_train.describe()"
      ],
      "metadata": {
        "execution": {
          "iopub.status.busy": "2024-05-05T10:44:55.321948Z",
          "iopub.execute_input": "2024-05-05T10:44:55.322417Z",
          "iopub.status.idle": "2024-05-05T10:44:55.364178Z",
          "shell.execute_reply.started": "2024-05-05T10:44:55.322332Z",
          "shell.execute_reply": "2024-05-05T10:44:55.363528Z"
        },
        "trusted": true,
        "id": "KTyGMKc1XE9n",
        "outputId": "1faa63fa-1692-4db4-8e05-d864374472ff"
      },
      "execution_count": null,
      "outputs": [
        {
          "execution_count": 23,
          "output_type": "execute_result",
          "data": {
            "text/plain": "       mean_profile   std_profile  skewness_profile    mean_dmsnr  \\\ncount  10022.000000  10022.000000      10022.000000  10022.000000   \nmean     110.898075     46.499521          1.824051     12.737285   \nstd       25.889200      6.816628          6.339983     29.642776   \nmin        5.812500     25.220056         -1.791886      0.213211   \n25%      100.689453     42.340422         -0.189301      1.908027   \n50%      115.089844     46.907553          0.207993      2.791806   \n75%      127.117188     50.984045          0.938228      5.446488   \nmax      189.734375     91.808628         68.101622    222.421405   \n\n       kurtosis_dmsnr  \ncount    10022.000000  \nmean         8.334876  \nstd          4.541962  \nmin         -3.139270  \n25%          5.796353  \n50%          8.445792  \n75%         10.731481  \nmax         34.539844  ",
            "text/html": "<div>\n<style scoped>\n    .dataframe tbody tr th:only-of-type {\n        vertical-align: middle;\n    }\n\n    .dataframe tbody tr th {\n        vertical-align: top;\n    }\n\n    .dataframe thead th {\n        text-align: right;\n    }\n</style>\n<table border=\"1\" class=\"dataframe\">\n  <thead>\n    <tr style=\"text-align: right;\">\n      <th></th>\n      <th>mean_profile</th>\n      <th>std_profile</th>\n      <th>skewness_profile</th>\n      <th>mean_dmsnr</th>\n      <th>kurtosis_dmsnr</th>\n    </tr>\n  </thead>\n  <tbody>\n    <tr>\n      <th>count</th>\n      <td>10022.000000</td>\n      <td>10022.000000</td>\n      <td>10022.000000</td>\n      <td>10022.000000</td>\n      <td>10022.000000</td>\n    </tr>\n    <tr>\n      <th>mean</th>\n      <td>110.898075</td>\n      <td>46.499521</td>\n      <td>1.824051</td>\n      <td>12.737285</td>\n      <td>8.334876</td>\n    </tr>\n    <tr>\n      <th>std</th>\n      <td>25.889200</td>\n      <td>6.816628</td>\n      <td>6.339983</td>\n      <td>29.642776</td>\n      <td>4.541962</td>\n    </tr>\n    <tr>\n      <th>min</th>\n      <td>5.812500</td>\n      <td>25.220056</td>\n      <td>-1.791886</td>\n      <td>0.213211</td>\n      <td>-3.139270</td>\n    </tr>\n    <tr>\n      <th>25%</th>\n      <td>100.689453</td>\n      <td>42.340422</td>\n      <td>-0.189301</td>\n      <td>1.908027</td>\n      <td>5.796353</td>\n    </tr>\n    <tr>\n      <th>50%</th>\n      <td>115.089844</td>\n      <td>46.907553</td>\n      <td>0.207993</td>\n      <td>2.791806</td>\n      <td>8.445792</td>\n    </tr>\n    <tr>\n      <th>75%</th>\n      <td>127.117188</td>\n      <td>50.984045</td>\n      <td>0.938228</td>\n      <td>5.446488</td>\n      <td>10.731481</td>\n    </tr>\n    <tr>\n      <th>max</th>\n      <td>189.734375</td>\n      <td>91.808628</td>\n      <td>68.101622</td>\n      <td>222.421405</td>\n      <td>34.539844</td>\n    </tr>\n  </tbody>\n</table>\n</div>"
          },
          "metadata": {}
        }
      ]
    },
    {
      "cell_type": "markdown",
      "source": [
        "# decision tree clasifier"
      ],
      "metadata": {
        "id": "Eq4nF7QmXE9n"
      }
    },
    {
      "cell_type": "markdown",
      "source": [
        "decision tree es una de las formas de predicción fundamentales. La forma de funcionar es creando un arbol de variables donde te vas desplazando de una rama a la siguiente según se cumplan determinadas caracteristicas. A continuacion un ejemplo para clasificar flores tal y como sale en el libro para hacernos una ideal visual"
      ],
      "metadata": {
        "id": "nhSgvpaPXE9o"
      }
    },
    {
      "cell_type": "markdown",
      "source": [
        "![image.png](attachment:07af31c7-c9ab-4948-beb6-837d75d5bf2c.png)"
      ],
      "metadata": {
        "id": "eEWWIEhhXE9o"
      }
    },
    {
      "cell_type": "markdown",
      "source": [
        "importantes ajustes que se pueden hacer\n",
        "\n",
        "splitter{“best”, “random”}, default=”best”\n",
        "The strategy used to choose the split at each node. Supported strategies are “best” to choose the best split and “random” to choose the best random split.\n",
        "\n",
        "max_depth: int, default=None\n",
        "The maximum depth of the tree. If None, then nodes are expanded until all leaves are pure or until all leaves contain less than min_samples_split samples."
      ],
      "metadata": {
        "id": "0ycPu_5uXE9o"
      }
    },
    {
      "cell_type": "code",
      "source": [
        "tree =  DecisionTreeClassifier()\n",
        "tree.fit(imputed_X_train, y_train)"
      ],
      "metadata": {
        "execution": {
          "iopub.status.busy": "2024-05-05T10:44:55.365232Z",
          "iopub.execute_input": "2024-05-05T10:44:55.365516Z",
          "iopub.status.idle": "2024-05-05T10:44:55.508025Z",
          "shell.execute_reply.started": "2024-05-05T10:44:55.365483Z",
          "shell.execute_reply": "2024-05-05T10:44:55.507002Z"
        },
        "trusted": true,
        "id": "323mLHloXE9o",
        "outputId": "6347d2ba-f81f-441d-fe54-687c6e2073a3"
      },
      "execution_count": null,
      "outputs": [
        {
          "execution_count": 24,
          "output_type": "execute_result",
          "data": {
            "text/plain": "DecisionTreeClassifier()"
          },
          "metadata": {}
        }
      ]
    },
    {
      "cell_type": "code",
      "source": [
        "print(tree.score(imputed_X_train,y_train))\n",
        "print(tree.score(imputed_X_valid,y_valid))"
      ],
      "metadata": {
        "execution": {
          "iopub.status.busy": "2024-05-05T10:44:55.509534Z",
          "iopub.execute_input": "2024-05-05T10:44:55.510507Z",
          "iopub.status.idle": "2024-05-05T10:44:55.527648Z",
          "shell.execute_reply.started": "2024-05-05T10:44:55.510461Z",
          "shell.execute_reply": "2024-05-05T10:44:55.526304Z"
        },
        "trusted": true,
        "id": "HxFXXCe9XE9o",
        "outputId": "f5afe794-5903-4748-a1eb-637a12c0beae"
      },
      "execution_count": null,
      "outputs": [
        {
          "name": "stdout",
          "text": "1.0\n0.965682362330407\n",
          "output_type": "stream"
        }
      ]
    },
    {
      "cell_type": "markdown",
      "source": [
        "podemos cambiar la profundidad de las raices para obtener distinta puntuacion. Esto es el numero de verificaciones que se deben hacer antes de clasificar un determinado dato"
      ],
      "metadata": {
        "id": "iRglPM19XE9o"
      }
    },
    {
      "cell_type": "code",
      "source": [
        "tree=DecisionTreeClassifier(max_depth=4)\n",
        "tree.fit(imputed_X_train, y_train)"
      ],
      "metadata": {
        "execution": {
          "iopub.status.busy": "2024-05-05T10:44:55.529054Z",
          "iopub.execute_input": "2024-05-05T10:44:55.529727Z",
          "iopub.status.idle": "2024-05-05T10:44:55.584162Z",
          "shell.execute_reply.started": "2024-05-05T10:44:55.52969Z",
          "shell.execute_reply": "2024-05-05T10:44:55.582998Z"
        },
        "trusted": true,
        "id": "egM-akpkXE9o",
        "outputId": "294f02f0-2633-425e-e8f5-dd46307ae857"
      },
      "execution_count": null,
      "outputs": [
        {
          "execution_count": 26,
          "output_type": "execute_result",
          "data": {
            "text/plain": "DecisionTreeClassifier(max_depth=4)"
          },
          "metadata": {}
        }
      ]
    },
    {
      "cell_type": "code",
      "source": [
        "print(tree.score(imputed_X_train,y_train))\n",
        "print(tree.score(imputed_X_valid,y_valid))"
      ],
      "metadata": {
        "execution": {
          "iopub.status.busy": "2024-05-05T10:44:55.588886Z",
          "iopub.execute_input": "2024-05-05T10:44:55.58926Z",
          "iopub.status.idle": "2024-05-05T10:44:55.602553Z",
          "shell.execute_reply.started": "2024-05-05T10:44:55.58922Z",
          "shell.execute_reply": "2024-05-05T10:44:55.601302Z"
        },
        "trusted": true,
        "id": "gbyfNy_YXE9o",
        "outputId": "e76a3ee6-8b37-4b38-b54e-9ec070ab35f8"
      },
      "execution_count": null,
      "outputs": [
        {
          "name": "stdout",
          "text": "0.978646976651367\n0.975658419792498\n",
          "output_type": "stream"
        }
      ]
    },
    {
      "cell_type": "code",
      "source": [
        "predicted_pulsars_tree = tree.predict(imputed_X_valid)\n",
        "pulsars = predicted_pulsars_tree.tolist()\n",
        "count = pulsars.count(1)\n",
        "print('Count of pulsars:', count)"
      ],
      "metadata": {
        "execution": {
          "iopub.status.busy": "2024-05-05T10:44:55.603927Z",
          "iopub.execute_input": "2024-05-05T10:44:55.604163Z",
          "iopub.status.idle": "2024-05-05T10:44:55.613426Z",
          "shell.execute_reply.started": "2024-05-05T10:44:55.604134Z",
          "shell.execute_reply": "2024-05-05T10:44:55.612125Z"
        },
        "trusted": true,
        "id": "Rfvpk3K2XE9p",
        "outputId": "48d59660-ffb7-4087-c107-0132189dbbd3"
      },
      "execution_count": null,
      "outputs": [
        {
          "name": "stdout",
          "text": "Count of pulsars: 182\n",
          "output_type": "stream"
        }
      ]
    },
    {
      "cell_type": "code",
      "source": [
        "predicted_pulsars_test_tree=tree.predict(X_test_full)\n",
        "pulsarstest = predicted_pulsars_test_tree.tolist()\n",
        "count = pulsarstest.count(1)\n",
        "print('Count of pulsars:', count)"
      ],
      "metadata": {
        "execution": {
          "iopub.status.busy": "2024-05-05T10:44:55.61513Z",
          "iopub.execute_input": "2024-05-05T10:44:55.615516Z",
          "iopub.status.idle": "2024-05-05T10:44:55.631273Z",
          "shell.execute_reply.started": "2024-05-05T10:44:55.615472Z",
          "shell.execute_reply": "2024-05-05T10:44:55.630084Z"
        },
        "trusted": true,
        "id": "SPIpvV56XE9p",
        "outputId": "0c3cdf3f-7452-4524-fb87-81649701c190"
      },
      "execution_count": null,
      "outputs": [
        {
          "name": "stdout",
          "text": "Count of pulsars: 404\n",
          "output_type": "stream"
        }
      ]
    },
    {
      "cell_type": "code",
      "source": [
        "def get_mae(max_leaf_nodes, train_X, val_X, train_y, val_y):\n",
        "    model =   DecisionTreeClassifier(max_leaf_nodes=max_leaf_nodes, random_state=1)\n",
        "    model.fit(train_X, train_y)\n",
        "    preds_val = model.predict(val_X)\n",
        "    mae = mean_absolute_error(val_y, preds_val)\n",
        "    return(mae)"
      ],
      "metadata": {
        "execution": {
          "iopub.status.busy": "2024-05-05T10:44:55.633235Z",
          "iopub.execute_input": "2024-05-05T10:44:55.633661Z",
          "iopub.status.idle": "2024-05-05T10:44:55.642433Z",
          "shell.execute_reply.started": "2024-05-05T10:44:55.633614Z",
          "shell.execute_reply": "2024-05-05T10:44:55.641188Z"
        },
        "trusted": true,
        "id": "DRGiRu95XE9p"
      },
      "execution_count": null,
      "outputs": []
    },
    {
      "cell_type": "code",
      "source": [
        "for max_leaf_nodes in [2,4,5,10,20,50,500]:\n",
        "    my_mae = get_mae(max_leaf_nodes,imputed_X_train,imputed_X_valid,y_train,y_valid)\n",
        "    print(\"Max leaf nodes: %d  \\t\\t Mean Absolute Error:  %f\" %(max_leaf_nodes, my_mae))"
      ],
      "metadata": {
        "execution": {
          "iopub.status.busy": "2024-05-05T10:44:55.644191Z",
          "iopub.execute_input": "2024-05-05T10:44:55.64473Z",
          "iopub.status.idle": "2024-05-05T10:44:56.14567Z",
          "shell.execute_reply.started": "2024-05-05T10:44:55.644682Z",
          "shell.execute_reply": "2024-05-05T10:44:56.144708Z"
        },
        "trusted": true,
        "id": "-z5sD10BXE9p",
        "outputId": "7d4d9b5a-1f70-4dc6-954a-a5cd9024732c"
      },
      "execution_count": null,
      "outputs": [
        {
          "name": "stdout",
          "text": "Max leaf nodes: 2  \t\t Mean Absolute Error:  0.034318\nMax leaf nodes: 4  \t\t Mean Absolute Error:  0.024342\nMax leaf nodes: 5  \t\t Mean Absolute Error:  0.024342\nMax leaf nodes: 10  \t\t Mean Absolute Error:  0.024741\nMax leaf nodes: 20  \t\t Mean Absolute Error:  0.025539\nMax leaf nodes: 50  \t\t Mean Absolute Error:  0.027534\nMax leaf nodes: 500  \t\t Mean Absolute Error:  0.032322\n",
          "output_type": "stream"
        }
      ]
    },
    {
      "cell_type": "markdown",
      "source": [
        "> **Overfiting and underfiting**"
      ],
      "metadata": {
        "id": "m1DssPHbXE9p"
      }
    },
    {
      "cell_type": "markdown",
      "source": [
        "\n",
        "\n",
        "Decision trees nos dejan con una dificil decision. Si usamos un arbol muy profundo con multitud de ojas tendremos sobreajuste debido a que cada prediccion vendrá de ojas donde solo hay unos pequeña cantidad de datos, ya que todos se reparten demasiado entre las ojas. Pero un arbol superficial con pocas ojas tambien fucionará deficientemente debido a que falla al capturar muchas distinciones entre los datos.\n",
        "\n",
        "Inclyso hoy, las tecnicas de modelaje mas sofisticadas enfrentan esta tensión entre underfitting y overfitting. Pero, muchos modelos tienen una idea clara que puede dar mejor resultado, el random forest.\n",
        "\n",
        "El random forest usa multitud de arboles, y hace su prediccion promediando entre las predicciones que hace cada arbol. Esto generalemnte tiene una precisión de preddicion mayor que un simple arbol y funciona mejor si nos limitamos a los parametros por defecto sin hacer un ajuste de ellos. Es un modelo recomendable si no queremos meternos demasiado a tocar y modificar los parametros del modelo"
      ],
      "metadata": {
        "id": "HcVXUs2IXE9p"
      }
    },
    {
      "cell_type": "markdown",
      "source": [
        "![image.png](attachment:a323fc8c-086c-4ed7-90ba-a28ba595841b.png)"
      ],
      "metadata": {
        "id": "-IEnreJ3XE9q"
      }
    },
    {
      "cell_type": "markdown",
      "source": [
        "When we divide the houses amongst many leaves, we also have fewer houses in each leaf. Leaves with very few houses will make predictions that are quite close to those homes' actual values, but they may make very unreliable predictions for new data (because each prediction is based on only a few houses)."
      ],
      "metadata": {
        "id": "oGLXcQUHXE9q"
      }
    },
    {
      "cell_type": "markdown",
      "source": [
        "At an extreme, if a tree divides houses into only 2 or 4, each group still has a wide variety of houses. Resulting predictions may be far off for most houses, even in the training data (and it will be bad in validation too for the same reason). When a model fails to capture important distinctions and patterns in the data, so it performs poorly even in training data, that is called underfitting."
      ],
      "metadata": {
        "id": "59miuuPHXE9q"
      }
    },
    {
      "cell_type": "markdown",
      "source": [
        "# RandomForestClassifier"
      ],
      "metadata": {
        "id": "Asd0gY13XE9q"
      }
    },
    {
      "cell_type": "markdown",
      "source": [
        "podemos definir una función para obtener el error absoluto medio vaiando el maximo de profundidad permitida para cada arbol y encontrar la mejor opcion"
      ],
      "metadata": {
        "id": "V9rfCXvHXE9q"
      }
    },
    {
      "cell_type": "code",
      "source": [
        "def get_mae(max_leaf_nodes, train_X, val_X, train_y, val_y):\n",
        "    model =  RandomForestClassifier(max_leaf_nodes=max_leaf_nodes, random_state=1)\n",
        "    model.fit(train_X, train_y)\n",
        "    preds_val = model.predict(val_X)\n",
        "    mae = mean_absolute_error(val_y, preds_val)\n",
        "    return(mae)"
      ],
      "metadata": {
        "execution": {
          "iopub.status.busy": "2024-05-05T10:44:56.147731Z",
          "iopub.execute_input": "2024-05-05T10:44:56.148074Z",
          "iopub.status.idle": "2024-05-05T10:44:56.154928Z",
          "shell.execute_reply.started": "2024-05-05T10:44:56.148026Z",
          "shell.execute_reply": "2024-05-05T10:44:56.153997Z"
        },
        "trusted": true,
        "id": "eXZS_ICTXE9q"
      },
      "execution_count": null,
      "outputs": []
    },
    {
      "cell_type": "code",
      "source": [
        "for max_leaf_nodes in [2, 20, 5, 10]:\n",
        "    my_mae = get_mae(max_leaf_nodes,imputed_X_train,imputed_X_valid,y_train,y_valid)\n",
        "    print(\"Max leaf nodes: %d  \\t\\t Mean Absolute Error:  %f\" %(max_leaf_nodes, my_mae))"
      ],
      "metadata": {
        "execution": {
          "iopub.status.busy": "2024-05-05T10:44:56.156656Z",
          "iopub.execute_input": "2024-05-05T10:44:56.156998Z",
          "iopub.status.idle": "2024-05-05T10:44:59.970609Z",
          "shell.execute_reply.started": "2024-05-05T10:44:56.156953Z",
          "shell.execute_reply": "2024-05-05T10:44:59.969602Z"
        },
        "trusted": true,
        "id": "ueAo7NA5XE9q",
        "outputId": "9d9bd04c-484f-4562-b3db-89bab375e575"
      },
      "execution_count": null,
      "outputs": [
        {
          "name": "stdout",
          "text": "Max leaf nodes: 2  \t\t Mean Absolute Error:  0.030726\nMax leaf nodes: 20  \t\t Mean Absolute Error:  0.021149\nMax leaf nodes: 5  \t\t Mean Absolute Error:  0.023144\nMax leaf nodes: 10  \t\t Mean Absolute Error:  0.023144\n",
          "output_type": "stream"
        }
      ]
    },
    {
      "cell_type": "code",
      "source": [
        "for max_leaf_nodes in [2,5, 20,50,500]:\n",
        "    my_mae = get_mae(max_leaf_nodes,imputed_X_train,imputed_X_valid,y_train,y_valid)\n",
        "    print(\"Max leaf nodes: %d  \\t\\t Mean Absolute Error:  %f\" %(max_leaf_nodes, my_mae))"
      ],
      "metadata": {
        "execution": {
          "iopub.status.busy": "2024-05-05T10:44:59.971938Z",
          "iopub.execute_input": "2024-05-05T10:44:59.972211Z",
          "iopub.status.idle": "2024-05-05T10:45:06.242699Z",
          "shell.execute_reply.started": "2024-05-05T10:44:59.972177Z",
          "shell.execute_reply": "2024-05-05T10:45:06.241237Z"
        },
        "trusted": true,
        "id": "vqiueSFcXE9q",
        "outputId": "fe6838f8-4699-439f-eada-975904c326dd"
      },
      "execution_count": null,
      "outputs": [
        {
          "name": "stdout",
          "text": "Max leaf nodes: 2  \t\t Mean Absolute Error:  0.030726\nMax leaf nodes: 5  \t\t Mean Absolute Error:  0.023144\nMax leaf nodes: 20  \t\t Mean Absolute Error:  0.021149\nMax leaf nodes: 50  \t\t Mean Absolute Error:  0.019553\nMax leaf nodes: 500  \t\t Mean Absolute Error:  0.019553\n",
          "output_type": "stream"
        }
      ]
    },
    {
      "cell_type": "code",
      "source": [
        "candidate_max_leaf_nodes = [2,5, 20, 50, 500]\n",
        "# Write loop to find the ideal tree size from candidate_max_leaf_nodes\n",
        "\n",
        "\n",
        "    #mae_max=get_mae(5, train_X, val_X, train_y, val_y)\n",
        "\n",
        "scores = {leaf_size: get_mae(max_leaf_nodes,imputed_X_train,imputed_X_valid,y_train,y_valid) for leaf_size in candidate_max_leaf_nodes}\n",
        "\n",
        "# Store the best value of max_leaf_nodes (it will be either 5, 25, 50, 100, 250 or 500)\n",
        "best_tree_size = min(scores, key=scores.get)\n",
        "print(scores)\n",
        "print(best_tree_size)"
      ],
      "metadata": {
        "execution": {
          "iopub.status.busy": "2024-05-05T10:45:06.244744Z",
          "iopub.execute_input": "2024-05-05T10:45:06.245185Z",
          "iopub.status.idle": "2024-05-05T10:45:16.855547Z",
          "shell.execute_reply.started": "2024-05-05T10:45:06.24513Z",
          "shell.execute_reply": "2024-05-05T10:45:16.854274Z"
        },
        "trusted": true,
        "id": "2UlelSzlXE9r",
        "outputId": "7f7c6bda-76a0-4ead-bb51-f1cf9d105c28"
      },
      "execution_count": null,
      "outputs": [
        {
          "name": "stdout",
          "text": "{2: 0.019553072625698324, 5: 0.019553072625698324, 20: 0.019553072625698324, 50: 0.019553072625698324, 500: 0.019553072625698324}\n2\n",
          "output_type": "stream"
        }
      ]
    },
    {
      "cell_type": "code",
      "source": [
        "# Define model\n",
        "pulsar_model_RF = RandomForestClassifier(max_leaf_nodes=50, random_state=1)\n",
        "\n",
        "# Fit model\n",
        "pulsar_model_RF.fit(imputed_X_train, y_train)\n"
      ],
      "metadata": {
        "execution": {
          "iopub.status.busy": "2024-05-05T10:45:16.857216Z",
          "iopub.execute_input": "2024-05-05T10:45:16.857591Z",
          "iopub.status.idle": "2024-05-05T10:45:18.11914Z",
          "shell.execute_reply.started": "2024-05-05T10:45:16.857544Z",
          "shell.execute_reply": "2024-05-05T10:45:18.118011Z"
        },
        "trusted": true,
        "id": "7VKFCR0vXE9r",
        "outputId": "3f5923c0-6277-4ee2-c493-b028dd89e8a2"
      },
      "execution_count": null,
      "outputs": [
        {
          "execution_count": 36,
          "output_type": "execute_result",
          "data": {
            "text/plain": "RandomForestClassifier(max_leaf_nodes=50, random_state=1)"
          },
          "metadata": {}
        }
      ]
    },
    {
      "cell_type": "code",
      "source": [
        "predicted_pulsars_RF = pulsar_model_RF.predict(imputed_X_valid)\n",
        "pulsars = predicted_pulsars_RF.tolist()\n",
        "count = pulsars.count(1)\n",
        "print('Count of pulsars:', count)"
      ],
      "metadata": {
        "execution": {
          "iopub.status.busy": "2024-05-05T10:45:18.120745Z",
          "iopub.execute_input": "2024-05-05T10:45:18.121095Z",
          "iopub.status.idle": "2024-05-05T10:45:18.162506Z",
          "shell.execute_reply.started": "2024-05-05T10:45:18.121051Z",
          "shell.execute_reply": "2024-05-05T10:45:18.16119Z"
        },
        "trusted": true,
        "id": "nsvhdyQEXE9r",
        "outputId": "9a7831f8-aa55-4fca-8688-1237e1522c0d"
      },
      "execution_count": null,
      "outputs": [
        {
          "name": "stdout",
          "text": "Count of pulsars: 190\n",
          "output_type": "stream"
        }
      ]
    },
    {
      "cell_type": "code",
      "source": [
        "predicted_pulsars_RF_test=pulsar_model_RF.predict(X_test_full)\n",
        "pulsarstest = predicted_pulsars_RF_test.tolist()\n",
        "count = pulsarstest.count(1)\n",
        "print('Count of pulsars:', count)"
      ],
      "metadata": {
        "execution": {
          "iopub.status.busy": "2024-05-05T10:45:18.163908Z",
          "iopub.execute_input": "2024-05-05T10:45:18.16417Z",
          "iopub.status.idle": "2024-05-05T10:45:18.223189Z",
          "shell.execute_reply.started": "2024-05-05T10:45:18.164139Z",
          "shell.execute_reply": "2024-05-05T10:45:18.222236Z"
        },
        "trusted": true,
        "id": "stk_pjHDXE9r",
        "outputId": "13ab5f5a-1b0d-414c-a846-b478f8c630b0"
      },
      "execution_count": null,
      "outputs": [
        {
          "name": "stdout",
          "text": "Count of pulsars: 422\n",
          "output_type": "stream"
        }
      ]
    },
    {
      "cell_type": "markdown",
      "source": [
        "# Confusion matrix:\n",
        "la confusion matrix es una medida que se tiende a usar en clasificadores para analizar el grado de precisión. La idea general es contar el numero de veces que una entrada de clase A ha sido clasificada como clase B, para hacer la confusion matrix es necesario tener un set de preddiciones que podamos comparar con los targets reales. Esto ultimo tamboien es posible hacerlo con una funcion de validación cruzada \"Cross Validation\"\n",
        "\n",
        "las filas representan la clase real\n",
        "las columnas representan la clase asignada.\n",
        "Por lo tanto los resultados correctos son los que encontramos la diagonal\n",
        "\n",
        "el elemento 11 de la matrix representa los datos que fuero clasificados como no pulsares y efectivamente no lo son \"TN\"\n",
        "\n",
        "12 representa los que fueron clasificados como pulsares y no lo son \"FP\"\n",
        "\n",
        "21 representa los que fueron clasificados como no pulsares y son pulsares, \"FN\"\n",
        "\n",
        "22 representa los que fueron clasificados como pulsares y son pulsares \"TP\"\n",
        "\n",
        "\n",
        "\n"
      ],
      "metadata": {
        "id": "uiw1BQXqXE9s"
      }
    },
    {
      "cell_type": "markdown",
      "source": [
        "![image.png](attachment:dccc8321-b56d-45cb-a3c6-647d279535ea.png)"
      ],
      "metadata": {
        "id": "0CsDS9ZNXE9s"
      }
    },
    {
      "cell_type": "markdown",
      "source": [
        "![image.png](attachment:e38cc823-c0a9-4188-9161-f744859fde8d.png)"
      ],
      "metadata": {
        "id": "C7b72yOMXE9s"
      }
    },
    {
      "cell_type": "markdown",
      "source": [
        "![image.png](attachment:8f8f2629-a948-4620-9e63-937e8e508a54.png)"
      ],
      "metadata": {
        "id": "_eno0GOOXE9s"
      }
    },
    {
      "cell_type": "markdown",
      "source": [
        "![image.png](attachment:bf09de4e-9235-4b46-9bf2-b26d5150c114.png)"
      ],
      "metadata": {
        "id": "Ox6MZP0ZXE9s"
      }
    },
    {
      "cell_type": "code",
      "source": [
        "print(\"accuracy=\",accuracy_score(y_valid, predicted_pulsars_RF))\n",
        "cm=confusion_matrix(y_valid, predicted_pulsars_RF)\n",
        "print(classification_report(y_valid, predicted_pulsars_RF))\n",
        "disp = ConfusionMatrixDisplay(cm).plot(cmap=plt.cm.Blues)"
      ],
      "metadata": {
        "execution": {
          "iopub.status.busy": "2024-05-05T10:45:18.22474Z",
          "iopub.execute_input": "2024-05-05T10:45:18.225113Z",
          "iopub.status.idle": "2024-05-05T10:45:18.513621Z",
          "shell.execute_reply.started": "2024-05-05T10:45:18.225066Z",
          "shell.execute_reply": "2024-05-05T10:45:18.512649Z"
        },
        "trusted": true,
        "id": "r31F9n3WXE9s",
        "outputId": "5655f392-d48e-477d-cc86-f3772aa350c9"
      },
      "execution_count": null,
      "outputs": [
        {
          "name": "stdout",
          "text": "accuracy= 0.9804469273743017\n              precision    recall  f1-score   support\n\n         0.0       0.98      1.00      0.99      2285\n         1.0       0.95      0.82      0.88       221\n\n    accuracy                           0.98      2506\n   macro avg       0.97      0.91      0.94      2506\nweighted avg       0.98      0.98      0.98      2506\n\n",
          "output_type": "stream"
        },
        {
          "output_type": "display_data",
          "data": {
            "text/plain": "<Figure size 432x288 with 2 Axes>",
            "image/png": "[encoded data removed]"
          },
          "metadata": {
            "needs_background": "light"
          }
        }
      ]
    },
    {
      "cell_type": "code",
      "source": [
        "print(\"accuracy=\",accuracy_score(y_valid, predicted_pulsars_tree))\n",
        "cm2=confusion_matrix(y_valid, predicted_pulsars_tree)\n",
        "print(classification_report(y_valid, predicted_pulsars_tree))\n",
        "disp = ConfusionMatrixDisplay(cm2).plot(cmap=plt.cm.Blues)"
      ],
      "metadata": {
        "execution": {
          "iopub.status.busy": "2024-05-05T10:45:18.514712Z",
          "iopub.execute_input": "2024-05-05T10:45:18.51496Z",
          "iopub.status.idle": "2024-05-05T10:45:18.786445Z",
          "shell.execute_reply.started": "2024-05-05T10:45:18.514929Z",
          "shell.execute_reply": "2024-05-05T10:45:18.785414Z"
        },
        "trusted": true,
        "id": "0GUnnPoOXE9t",
        "outputId": "e51d934e-f418-495e-e990-37aa357b94b4"
      },
      "execution_count": null,
      "outputs": [
        {
          "name": "stdout",
          "text": "accuracy= 0.975658419792498\n              precision    recall  f1-score   support\n\n         0.0       0.98      1.00      0.99      2285\n         1.0       0.94      0.77      0.85       221\n\n    accuracy                           0.98      2506\n   macro avg       0.96      0.88      0.92      2506\nweighted avg       0.98      0.98      0.97      2506\n\n",
          "output_type": "stream"
        },
        {
          "output_type": "display_data",
          "data": {
            "text/plain": "<Figure size 432x288 with 2 Axes>",
            "image/png": "[encoded data removed]"
          },
          "metadata": {
            "needs_background": "light"
          }
        }
      ]
    },
    {
      "cell_type": "code",
      "source": [
        "model = RandomForestClassifier()\n",
        "model.fit(imputed_X_train, y_train)\n",
        "y_pred = model.predict(imputed_X_valid)\n",
        "print(\"accuracy=\",accuracy_score(y_valid, y_pred))\n",
        "cm2_5=confusion_matrix(y_valid, y_pred)\n",
        "print(classification_report(y_valid, y_pred))\n",
        "disp = ConfusionMatrixDisplay(cm2_5).plot(cmap=plt.cm.Blues)"
      ],
      "metadata": {
        "execution": {
          "iopub.status.busy": "2024-05-05T10:45:18.787711Z",
          "iopub.execute_input": "2024-05-05T10:45:18.787976Z",
          "iopub.status.idle": "2024-05-05T10:45:21.232013Z",
          "shell.execute_reply.started": "2024-05-05T10:45:18.787944Z",
          "shell.execute_reply": "2024-05-05T10:45:21.2311Z"
        },
        "trusted": true,
        "id": "f8XZayzAXE9t",
        "outputId": "3bfc344c-6c96-479d-c4d5-e9aa7c13c24c"
      },
      "execution_count": null,
      "outputs": [
        {
          "name": "stdout",
          "text": "accuracy= 0.9804469273743017\n              precision    recall  f1-score   support\n\n         0.0       0.98      1.00      0.99      2285\n         1.0       0.95      0.82      0.88       221\n\n    accuracy                           0.98      2506\n   macro avg       0.97      0.91      0.94      2506\nweighted avg       0.98      0.98      0.98      2506\n\n",
          "output_type": "stream"
        },
        {
          "output_type": "display_data",
          "data": {
            "text/plain": "<Figure size 432x288 with 2 Axes>",
            "image/png": "[encoded data removed]"
          },
          "metadata": {
            "needs_background": "light"
          }
        }
      ]
    },
    {
      "cell_type": "markdown",
      "source": [
        "# Modelo Con Caracteristicas reducidas"
      ],
      "metadata": {
        "id": "A9XNh33fXE9t"
      }
    },
    {
      "cell_type": "code",
      "source": [
        "def get_mae(max_leaf_nodes, train_X, val_X, train_y, val_y):\n",
        "    model =  RandomForestClassifier(max_leaf_nodes=max_leaf_nodes, random_state=1)\n",
        "    model.fit(train_X, train_y)\n",
        "    preds_val = model.predict(val_X)\n",
        "    mae = mean_absolute_error(val_y, preds_val)\n",
        "    return(mae)"
      ],
      "metadata": {
        "execution": {
          "iopub.status.busy": "2024-05-05T10:45:21.233671Z",
          "iopub.execute_input": "2024-05-05T10:45:21.234998Z",
          "iopub.status.idle": "2024-05-05T10:45:21.243403Z",
          "shell.execute_reply.started": "2024-05-05T10:45:21.234942Z",
          "shell.execute_reply": "2024-05-05T10:45:21.242003Z"
        },
        "trusted": true,
        "id": "w0Sktj0dXE9t"
      },
      "execution_count": null,
      "outputs": []
    },
    {
      "cell_type": "code",
      "source": [
        "for max_leaf_nodes in [2,5, 20,50,500]:\n",
        "    my_mae_r = get_mae(max_leaf_nodes,reduced_X_train,reduced_X_valid,y_train,y_valid)\n",
        "    print(\"Max leaf nodes: %d  \\t\\t Mean Absolute Error:  %f\" %(max_leaf_nodes, my_mae_r))"
      ],
      "metadata": {
        "execution": {
          "iopub.status.busy": "2024-05-05T10:45:21.245807Z",
          "iopub.execute_input": "2024-05-05T10:45:21.246625Z",
          "iopub.status.idle": "2024-05-05T10:45:27.624467Z",
          "shell.execute_reply.started": "2024-05-05T10:45:21.246542Z",
          "shell.execute_reply": "2024-05-05T10:45:27.623084Z"
        },
        "trusted": true,
        "id": "GvLlP6l6XE9t",
        "outputId": "5b56894c-0e03-43b5-cd5f-9eec01ebe0c0"
      },
      "execution_count": null,
      "outputs": [
        {
          "name": "stdout",
          "text": "Max leaf nodes: 2  \t\t Mean Absolute Error:  0.033121\nMax leaf nodes: 5  \t\t Mean Absolute Error:  0.025938\nMax leaf nodes: 20  \t\t Mean Absolute Error:  0.021149\nMax leaf nodes: 50  \t\t Mean Absolute Error:  0.021548\nMax leaf nodes: 500  \t\t Mean Absolute Error:  0.020750\n",
          "output_type": "stream"
        }
      ]
    },
    {
      "cell_type": "code",
      "source": [
        "pulsar_model_reduced = RandomForestClassifier(max_leaf_nodes=500, random_state=1)\n",
        "\n",
        "# Fit model\n",
        "pulsar_model_reduced.fit(reduced_X_train, y_train)\n",
        "predicted_pulsars_r = pulsar_model_reduced.predict(reduced_X_valid)\n",
        "#calculations\n",
        "predicted_pulsars_test=pulsar_model_reduced.predict(X_test_reduced)\n",
        "pulsarstest = predicted_pulsars_test.tolist()\n",
        "count = pulsarstest.count(1)\n",
        "print('Count of pulsars:', count)\n",
        "print(\"accuracy=\",accuracy_score(y_valid, predicted_pulsars_r))\n",
        "cm3=confusion_matrix(y_valid, predicted_pulsars_r)\n",
        "disp = ConfusionMatrixDisplay(cm3).plot(cmap=plt.cm.Blues)\n",
        "print(classification_report(y_valid, predicted_pulsars_r))"
      ],
      "metadata": {
        "execution": {
          "iopub.status.busy": "2024-05-05T10:45:27.625835Z",
          "iopub.execute_input": "2024-05-05T10:45:27.626091Z"
        },
        "trusted": true,
        "id": "k6N3ww3iXE9u"
      },
      "execution_count": null,
      "outputs": []
    },
    {
      "cell_type": "markdown",
      "source": [
        "> # XGBoost"
      ],
      "metadata": {
        "id": "fg1yl3NAXE9u"
      }
    },
    {
      "cell_type": "code",
      "source": [
        "model = XGBClassifier()\n",
        "#nthread=-1??\n",
        "model.fit(reduced_X_train, y_train)\n",
        "y_pred = model.predict(reduced_X_valid)\n",
        "print(accuracy_score(y_valid, y_pred))\n",
        "cm3=confusion_matrix(y_valid, y_pred)\n",
        "print(classification_report(y_valid, y_pred))\n",
        "disp = ConfusionMatrixDisplay(cm3).plot(cmap=plt.cm.Blues)"
      ],
      "metadata": {
        "trusted": true,
        "id": "TBfZ9HO_XE9u"
      },
      "execution_count": null,
      "outputs": []
    },
    {
      "cell_type": "code",
      "source": [
        "#data='../input/predicting-pulsar-starintermediate/pulsar_data_train.csv'"
      ],
      "metadata": {
        "trusted": true,
        "id": "pwQYgfBVXE9u"
      },
      "execution_count": null,
      "outputs": []
    },
    {
      "cell_type": "markdown",
      "source": [
        "> # Cross-Validation"
      ],
      "metadata": {
        "id": "sAQYCZlQXE9u"
      }
    },
    {
      "cell_type": "markdown",
      "source": [
        "In cross-validation, we run our modeling process on different subsets of the data to get multiple measures of model quality.\n",
        "\n",
        "For example, we could begin by dividing the data into 5 pieces, each 20% of the full dataset. In this case, we say that we have broken the data into 5 \"folds\"."
      ],
      "metadata": {
        "id": "XeebdtmDXE9u"
      }
    },
    {
      "cell_type": "markdown",
      "source": [
        "![image.png](attachment:5da42c4c-b167-4670-934c-cc357286cf55.png)"
      ],
      "metadata": {
        "id": "2W2Wt6SlXE9v"
      }
    },
    {
      "cell_type": "markdown",
      "source": [
        "Cross-validation gives a more accurate measure of model quality, which is especially important if you are making a lot of modeling decisions. However, it can take longer to run, because it estimates multiple models (one for each fold).\n",
        "\n",
        "So, given these tradeoffs, when should you use each approach?\n",
        "\n",
        "For small datasets, where extra computational burden isn't a big deal, you should run cross-validation.\n",
        "For larger datasets, a single validation set is sufficient. Your code will run faster, and you may have enough data that there's little need to re-use some of it for holdout.\n",
        "There's no simple threshold for what constitutes a large vs. small dataset. But if your model takes a couple minutes or less to run, it's probably worth switching to cross-validation.\n",
        "\n",
        "Alternatively, you can run cross-validation and see if the scores for each experiment seem close. If each experiment yields the same results, a single validation set is probably sufficient."
      ],
      "metadata": {
        "id": "NRQOWC37XE9v"
      }
    }
  ]
}