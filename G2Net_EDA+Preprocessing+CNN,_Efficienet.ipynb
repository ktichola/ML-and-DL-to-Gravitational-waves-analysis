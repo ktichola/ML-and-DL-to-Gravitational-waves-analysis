{
  "metadata": {
    "kernelspec": {
      "language": "python",
      "display_name": "Python 3",
      "name": "python3"
    },
    "language_info": {
      "name": "python",
      "version": "3.7.12",
      "mimetype": "text/x-python",
      "codemirror_mode": {
        "name": "ipython",
        "version": 3
      },
      "pygments_lexer": "ipython3",
      "nbconvert_exporter": "python",
      "file_extension": ".py"
    },
    "kaggle": {
      "accelerator": "tpu1vmV38",
      "dataSources": [
        {
          "sourceId": 23249,
          "databundleVersionId": 2399555,
          "sourceType": "competition"
        },
        {
          "sourceId": 2615163,
          "sourceType": "datasetVersion",
          "datasetId": 1550386
        },
        {
          "sourceId": 2615167,
          "sourceType": "datasetVersion",
          "datasetId": 1550387
        },
        {
          "sourceId": 2615169,
          "sourceType": "datasetVersion",
          "datasetId": 1550388
        },
        {
          "sourceId": 2615170,
          "sourceType": "datasetVersion",
          "datasetId": 1550396
        },
        {
          "sourceId": 2615173,
          "sourceType": "datasetVersion",
          "datasetId": 1550393
        },
        {
          "sourceId": 2657784,
          "sourceType": "datasetVersion",
          "datasetId": 1616397
        },
        {
          "sourceId": 2659135,
          "sourceType": "datasetVersion",
          "datasetId": 1617355
        },
        {
          "sourceId": 2387448,
          "sourceType": "datasetVersion",
          "datasetId": 1443230
        },
        {
          "sourceId": 2386150,
          "sourceType": "datasetVersion",
          "datasetId": 1442135
        },
        {
          "sourceId": 2496085,
          "sourceType": "datasetVersion",
          "datasetId": 1511259
        }
      ],
      "dockerImageVersionId": 30299,
      "isInternetEnabled": true,
      "language": "python",
      "sourceType": "notebook",
      "isGpuEnabled": false
    },
    "colab": {
      "name": "G2Net EDA+Preprocessing+CNN, Efficienet",
      "provenance": [],
      "include_colab_link": true
    }
  },
  "nbformat_minor": 0,
  "nbformat": 4,
  "cells": [
    {
      "cell_type": "markdown",
      "metadata": {
        "id": "view-in-github",
        "colab_type": "text"
      },
      "source": [
        "<a href=\"https://colab.research.google.com/github/ktichola/ML-and-DL-to-Gravitational-waves-analysis/blob/main/G2Net_EDA%2BPreprocessing%2BCNN%2C_Efficienet.ipynb\" target=\"_parent\"><img src=\"https://colab.research.google.com/assets/colab-badge.svg\" alt=\"Open In Colab\"/></a>"
      ]
    },
    {
      "source": [
        "\n",
        "# IMPORTANT: RUN THIS CELL IN ORDER TO IMPORT YOUR KAGGLE DATA SOURCES\n",
        "# TO THE CORRECT LOCATION (/kaggle/input) IN YOUR NOTEBOOK,\n",
        "# THEN FEEL FREE TO DELETE THIS CELL.\n",
        "# NOTE: THIS NOTEBOOK ENVIRONMENT DIFFERS FROM KAGGLE'S PYTHON\n",
        "# ENVIRONMENT SO THERE MAY BE MISSING LIBRARIES USED BY YOUR\n",
        "# NOTEBOOK.\n",
        "\n",
        "import os\n",
        "import sys\n",
        "from tempfile import NamedTemporaryFile\n",
        "from urllib.request import urlopen\n",
        "from urllib.parse import unquote, urlparse\n",
        "from urllib.error import HTTPError\n",
        "from zipfile import ZipFile\n",
        "import tarfile\n",
        "import shutil\n",
        "\n",
        "CHUNK_SIZE = 40960\n",
        "DATA_SOURCE_MAPPING = 'g2net-gravitational-wave-detection:https%3A%2F%2Fstorage.googleapis.com%2Fkaggle-competitions-data%2Fkaggle-v2%2F23249%2F2399555%2Fbundle%2Farchive.zip%3FX-Goog-Algorithm%3DGOOG4-RSA-SHA256%26X-Goog-Credential%3Dgcp-kaggle-com%2540kaggle-161607.iam.gserviceaccount.com%252F20240506%252Fauto%252Fstorage%252Fgoog4_request%26X-Goog-Date%3D20240506T043300Z%26X-Goog-Expires%3D259200%26X-Goog-SignedHeaders%3Dhost%26X-Goog-Signature%3D5956d47cc60634181e25af40ea63b30540c54f24a030999cf70db0b9b123865d0df3765fa438b0bc4223f639a0f460afeb50fd43e03b29d434c4a7e126c6f5be2f859269b2d5fca167041cca07f5fc575250fd7059691f6f0c0ed3ca852abf2bdbdf2ac38fcc5beab51b941da3569449e81b312e8a39da6b9b6ebb3d85f43913202bf7112d499b7781c45c1622b60ce00db2b5022637eeed7dad7279496e334f601ff76fbd3bb26c0ecd7059dfa223af1b602d32ca66a27e8044afe82b6a2c29fab216436a44890ddcaa59d3ce9d4b1e5a07ccaf6097bb59aa2e4a4bf0e423a45cee611d80874f628cde12e7225e3ececfe5a59ddd49c429ba10fe21a0c85004,g2net-tf-records-tr-bp-filter-1:https%3A%2F%2Fstorage.googleapis.com%2Fkaggle-data-sets%2F1550386%2F2615163%2Fbundle%2Farchive.zip%3FX-Goog-Algorithm%3DGOOG4-RSA-SHA256%26X-Goog-Credential%3Dgcp-kaggle-com%2540kaggle-161607.iam.gserviceaccount.com%252F20240506%252Fauto%252Fstorage%252Fgoog4_request%26X-Goog-Date%3D20240506T043300Z%26X-Goog-Expires%3D259200%26X-Goog-SignedHeaders%3Dhost%26X-Goog-Signature%3D04337adbc6ae0b4c6fc77226ac9a7f5b691dccab371793a62befa0b0a9477c95a6f6f4a8df2c3c873b86444df0881dd1a2378a230921c8eea71c1edf3fb1b4da27d3acf1268d8865df2f56b4fddc732279f5c42de25c963ac74afadcc6039d0254ccf909c6823b85f66e444c96dc5283dad2cb1d304728c0dd1223f02574fd452bbe94784336b2f7af69cdb04c921cf4a3b3d38a8aed11b1d0c8af7c9f0cb25e1154a49a990d43ddfe769bdbd3fed8668cb67de96fb2f6e2d3b9864c73b69b50421d2511ee3385365b39eb7c169b15f9f0d4cbc64f2ba310cf4c380175073810729ebb6a034c43e32e991ca9d79ece254af16afc90d1b08f92155317a0aa138c,g2net-tf-records-tr-bp-filter-2:https%3A%2F%2Fstorage.googleapis.com%2Fkaggle-data-sets%2F1550387%2F2615167%2Fbundle%2Farchive.zip%3FX-Goog-Algorithm%3DGOOG4-RSA-SHA256%26X-Goog-Credential%3Dgcp-kaggle-com%2540kaggle-161607.iam.gserviceaccount.com%252F20240506%252Fauto%252Fstorage%252Fgoog4_request%26X-Goog-Date%3D20240506T043300Z%26X-Goog-Expires%3D259200%26X-Goog-SignedHeaders%3Dhost%26X-Goog-Signature%3D7380a7a02d9aefa4159983eb406e72e54dcd71403c1620ab5c2404d3e9b6cdd45e32a10964cb0f2ea96e2f9ec2eb2b8dff5f4355a376fd45dafce3659045fa404a7206129438b7b8aad41707d85bcce4bbc86da54d6c977fad2a0b3b0274aeb8ad60e93e7abbe02d0697a4024520bc007e2fd0c465462c2c4b4afe8407351e8dc2ec8d168a2fe24410ade04407b599ea62fd5f019983b4c38f998b4cdbf5641a68211707668bfe0236658f913e88c5495a03294ffc0f18700abb159c67f1698e3bbfdf387abc0258358ff80a892e62e64416bf4fed0c0c587cbc3954a8a7f27b1ad6f31d864735eee334e63c7c3d58080d768c752b11ef5c692b9cb203f0789f,g2net-tf-records-tr-bp-filter-3:https%3A%2F%2Fstorage.googleapis.com%2Fkaggle-data-sets%2F1550388%2F2615169%2Fbundle%2Farchive.zip%3FX-Goog-Algorithm%3DGOOG4-RSA-SHA256%26X-Goog-Credential%3Dgcp-kaggle-com%2540kaggle-161607.iam.gserviceaccount.com%252F20240506%252Fauto%252Fstorage%252Fgoog4_request%26X-Goog-Date%3D20240506T043300Z%26X-Goog-Expires%3D259200%26X-Goog-SignedHeaders%3Dhost%26X-Goog-Signature%3D65cdf47e00660e65210f7a936cc1fdcd7539b054b3342115f725142225516f55759a3b142578c173878a410357184a951578fcfa7d0a9ad8adec72909ca2f4da36273538551c68a5c8c4de860c2133dda09f5965a7413b3bba56ebd3c1e8ae37b6d154a07e11d5a996195d94b545a5b04616ebf1d5c102669ad2fc2f7e06fad2262f3f92e74016e21efdb0fdfe25c61724270bc2a388a0dec97ee5cb6c5d43b360f5e8b2a8ad8f38f61635d4793fbd64fd7d8c97dd7ccefba304818d48bc1a5cf5824ce7e0b5132108b6c5745e959ac870e05157cbe460ff5caeddac36c67ef0cc4cc7e0e54443a997a264bacac179c168899e77d36aac4f94e00237117cc290,g2net-tf-records-ts-bp-filter-1:https%3A%2F%2Fstorage.googleapis.com%2Fkaggle-data-sets%2F1550396%2F2615170%2Fbundle%2Farchive.zip%3FX-Goog-Algorithm%3DGOOG4-RSA-SHA256%26X-Goog-Credential%3Dgcp-kaggle-com%2540kaggle-161607.iam.gserviceaccount.com%252F20240506%252Fauto%252Fstorage%252Fgoog4_request%26X-Goog-Date%3D20240506T043300Z%26X-Goog-Expires%3D259200%26X-Goog-SignedHeaders%3Dhost%26X-Goog-Signature%3D3b3132520de62ef035df6e6885b115081b02bfeefeb54b03ed32882daf50b08c21960371b6f5f1d6644dd397ad10694aca407fe818b8d0a9a64b24a67924cab0f639a79e510ef18ad43841bd115d9c9c372f85fc712896df632d0d3f6958630d131d3d50e6cd5615b6c693393163b7e1e867f0ff6f8ba0c8280b081c0499d3c31088e2f824fa5cf3e2a702049c43074504ce48977ea6a786277a88dd0582d7055a1eaab591076909fe7822ee1a7a516012591a4eb932842cc7db69311d869bd17824d4b9c14849af2bbf13adee38b2c6fcd8530cd75071bd677391fe0c5796a336f999b57312fd1b4bc856d9c95776cacfbae8cf4e912499a573c2cc8cffa937,g2net-tf-records-ts-bp-filter-2:https%3A%2F%2Fstorage.googleapis.com%2Fkaggle-data-sets%2F1550393%2F2615173%2Fbundle%2Farchive.zip%3FX-Goog-Algorithm%3DGOOG4-RSA-SHA256%26X-Goog-Credential%3Dgcp-kaggle-com%2540kaggle-161607.iam.gserviceaccount.com%252F20240506%252Fauto%252Fstorage%252Fgoog4_request%26X-Goog-Date%3D20240506T043300Z%26X-Goog-Expires%3D259200%26X-Goog-SignedHeaders%3Dhost%26X-Goog-Signature%3D36291a7239f3e0ce4ab476b482090e1cfa3cae8b2932de687929965f3494d86967d74a9027630aa9226834269fc5bcf2af4bf5de8a187ada9fbf686be74c8d0e534ca73b5231c5469e55ec445547ed0496e372be8b71e1b0ac6b8db6a7910d392d64a38d3c009d622eaa288e3e28cfb21adfe00c689ef39d28f596308958e3496e59b4aa2ab2922228f52551dceb2e563821b5dc0f4d9eeacbff673316d126577de4d3b6fc24d8a5fafcc32ca6d88aecd34574d88c55d29388f44fa1e457dcf04c227b785e3b609b4d04edaac8ca6beb0304f8727a2f52d5a844a795762841ce8daef33b66471eb99bea0d3eedf43064a5fbbf3df8cd0f7e67ec57c0b5d0bbee,g2netfinal:https%3A%2F%2Fstorage.googleapis.com%2Fkaggle-data-sets%2F1617355%2F2659135%2Fbundle%2Farchive.zip%3FX-Goog-Algorithm%3DGOOG4-RSA-SHA256%26X-Goog-Credential%3Dgcp-kaggle-com%2540kaggle-161607.iam.gserviceaccount.com%252F20240506%252Fauto%252Fstorage%252Fgoog4_request%26X-Goog-Date%3D20240506T043300Z%26X-Goog-Expires%3D259200%26X-Goog-SignedHeaders%3Dhost%26X-Goog-Signature%3D748c4a4f0e5b8840c8acb60e98695578830486833670f50066f819200e52dc10c2b04a54f13a9d25b266107b0e4d4b36db0b8606494625b5dff0b88c47d6a3158eea00dbb347b800a9dd6ea171e443772a17b7ba9140336b6d378a6b97ccfdabe6f5e28b1717ae032962c02e6c91753cb05113bb3f893494ab9d3f84184b78ab6b392fc5355ec6bb82debbdd8e2b1ce3480221497cd1d3bc3b53ec10d244495f7b344e19fc7be530ca03992590ffc42aab17a19903997ea9f761b61f8b340d72569c75a2d952db633fa0fbecb6d7a4448b8019486c1fa2f736994f1fe547790c696d6a0f1179a139f3836b2ce73feb8ea204ab312d136b637e2d09891462703d'\n",
        "\n",
        "KAGGLE_INPUT_PATH='/kaggle/input'\n",
        "KAGGLE_WORKING_PATH='/kaggle/working'\n",
        "KAGGLE_SYMLINK='kaggle'\n",
        "\n",
        "!umount /kaggle/input/ 2> /dev/null\n",
        "shutil.rmtree('/kaggle/input', ignore_errors=True)\n",
        "os.makedirs(KAGGLE_INPUT_PATH, 0o777, exist_ok=True)\n",
        "os.makedirs(KAGGLE_WORKING_PATH, 0o777, exist_ok=True)\n",
        "\n",
        "try:\n",
        "  os.symlink(KAGGLE_INPUT_PATH, os.path.join(\"..\", 'input'), target_is_directory=True)\n",
        "except FileExistsError:\n",
        "  pass\n",
        "try:\n",
        "  os.symlink(KAGGLE_WORKING_PATH, os.path.join(\"..\", 'working'), target_is_directory=True)\n",
        "except FileExistsError:\n",
        "  pass\n",
        "\n",
        "for data_source_mapping in DATA_SOURCE_MAPPING.split(','):\n",
        "    directory, download_url_encoded = data_source_mapping.split(':')\n",
        "    download_url = unquote(download_url_encoded)\n",
        "    filename = urlparse(download_url).path\n",
        "    destination_path = os.path.join(KAGGLE_INPUT_PATH, directory)\n",
        "    try:\n",
        "        with urlopen(download_url) as fileres, NamedTemporaryFile() as tfile:\n",
        "            total_length = fileres.headers['content-length']\n",
        "            print(f'Downloading {directory}, {total_length} bytes compressed')\n",
        "            dl = 0\n",
        "            data = fileres.read(CHUNK_SIZE)\n",
        "            while len(data) > 0:\n",
        "                dl += len(data)\n",
        "                tfile.write(data)\n",
        "                done = int(50 * dl / int(total_length))\n",
        "                sys.stdout.write(f\"\\r[{'=' * done}{' ' * (50-done)}] {dl} bytes downloaded\")\n",
        "                sys.stdout.flush()\n",
        "                data = fileres.read(CHUNK_SIZE)\n",
        "            if filename.endswith('.zip'):\n",
        "              with ZipFile(tfile) as zfile:\n",
        "                zfile.extractall(destination_path)\n",
        "            else:\n",
        "              with tarfile.open(tfile.name) as tarfile:\n",
        "                tarfile.extractall(destination_path)\n",
        "            print(f'\\nDownloaded and uncompressed: {directory}')\n",
        "    except HTTPError as e:\n",
        "        print(f'Failed to load (likely expired) {download_url} to path {destination_path}')\n",
        "        continue\n",
        "    except OSError as e:\n",
        "        print(f'Failed to load {download_url} to path {destination_path}')\n",
        "        continue\n",
        "\n",
        "print('Data source import complete.')\n"
      ],
      "metadata": {
        "id": "llVnhPKWLT4X"
      },
      "cell_type": "code",
      "outputs": [],
      "execution_count": null
    },
    {
      "cell_type": "markdown",
      "source": [
        "\n",
        "\n",
        "![KLE TU](https://pbs.twimg.com/media/CEvKZ8CUsAAj3Ll.jpg)\n",
        "<h2 style=\"text-align:center;\">Data Mining and Analysis Course Project ( 2021 )</h2>\n",
        "\n",
        "***\n",
        "<h3 style=\"text-align:center;\"> Team - 5D03</h3>\n",
        "\n",
        "- [Avantika Shrivastava](https://www.kaggle.com/avantikashrivastava) *- 01FE19BCS253*\n",
        "- [Tanmayi Shurpali](https://www.kaggle.com/t01fe19bcs238)     *- 01FE19BCS238*\n",
        "- [Shrinidhi Kulkarni](https://www.kaggle.com/shrinidhi05)   *- 01FE19BCS241*\n",
        "- [Bhavana Kumbar](https://www.kaggle.com/bhavanakumbar)        *- 01FE19BCS244*\n",
        "\n",
        "***\n",
        "\n",
        "## Contents of this Notebok\n",
        "1. Imports\n",
        "2. Reading DataSet\n",
        "3. Explorative Data Analysis\n",
        "4. Preprocessing\n",
        "5. Model Training\n",
        "6. Evaluation\n",
        "7. Results and Conclusion\n",
        "\n",
        "***\n",
        "***Kaggle Challange Name:*** [G2Net Gravitational Wave Detection](https://www.kaggle.com/c/g2net-gravitational-wave-detection) - (Submission Deadline : 30th September, 2021)\n",
        "***\n",
        "***Introduction*** :\n",
        "*Gravitational Waves have been discussed since the beginning of the 20th century, and scientifically researched since the Einstein's General Theory of Relativity. They are caused by massive celestial bodies, like the Neutron Stars or ***Black Holes***, when they accelerate they cause gravitational waves, in the form of waves, propagating through the curvature of space-time at the speed of light. These disturbances can be felt on the other side of the observable universe, but are extremely weak as they lose energy as gravitational radiation. It can be imagined similar to throwing a pebble in the pond, the site where the pebble hits water is the source of the disturbance and the outgoing ripples, are the gravitational waves, that get weaker as they move away from the source.In February 2015, the Laser Interferometer Gravitational-wave Observatory ***(LIGO) Scientific Collaboration and the Virgo Collaboration*** announced the first observation of a Gravitational-Wave (GW) signal from a ***stellar-mass Compact Binary Coalescence (CBC) system** .Despite all the initial successes, the future of GW astronomy is facing many challenges. Because of the effectiveness of ML algorithms in identifying patterns in data, ML techniques may be harnessed to make all these searches more sensitive and robust. Applications of ML algorithms to GW searches range from building automated data analysis methods for low-latency pipelines to distinguishing terrestrial noise from astrophysical signals and improving the reach of searches.*\n",
        "\n",
        "\n",
        "![KLE TU](https://media2.giphy.com/media/xT9IgoYWAh5lYliiYM/giphy.gif)\n",
        "\n",
        "\n",
        "***Problem Statement*** : *To preprocess data then build, train & evaluate binary classification model to predict if the given set of signals has Gravitational Waves in them or not.*\n",
        "\n",
        "***Objectives :***\n",
        "1. *To understand and visulaize raw data using EDA methods*\n",
        "2. *To build and train model using Deep Learning Techniques*\n",
        "3. *To evaluate model using metrics like ROC AUC (receiver operating charateristics area under curve)*\n",
        "\n",
        "***\n",
        "Note: This notebook was developed and run in the kaggle notebook environment."
      ],
      "metadata": {
        "id": "-LXPTv6XLT4e"
      }
    },
    {
      "cell_type": "markdown",
      "source": [
        "# 1.Imports"
      ],
      "metadata": {
        "id": "eBMFx0kfLT4g"
      }
    },
    {
      "cell_type": "code",
      "source": [
        "import numpy as np # linear algebra\n",
        "import pandas as pd # data processing\n",
        "import matplotlib.pyplot as plt # plotting tools\n",
        "%matplotlib inline\n",
        "import seaborn as sns\n",
        "sns.set()\n",
        "plt.rcParams[\"axes.grid\"] = False\n",
        "\n",
        "import matplotlib.mlab as mlab\n",
        "from scipy import signal\n",
        "from scipy.interpolate import interp1d\n",
        "from scipy.signal import butter, filtfilt, iirdesign, zpk2tf, freqz\n",
        "# Train test split\n",
        "from sklearn.model_selection import train_test_split\n",
        "\n",
        "from glob import glob\n",
        "from tqdm import tqdm\n",
        "\n",
        "# Import tensorflow\n",
        "import tensorflow as tf\n",
        "\n",
        "# Model & compile arguments\n",
        "from tensorflow.keras.models import Sequential\n",
        "from tensorflow.keras.optimizers import Adam\n",
        "\n",
        "# Get the layers\n",
        "from tensorflow.keras.layers import Dense\n",
        "from tensorflow.keras.layers import Conv2D\n",
        "from tensorflow.keras.layers import MaxPooling2D\n",
        "from tensorflow.keras.layers import GlobalAveragePooling2D\n",
        "from tensorflow.keras.layers import Flatten\n",
        "\n",
        "# Import the Efficientnet models\n",
        "from tensorflow.keras.applications import EfficientNetB0\n",
        "\n",
        "# TF model metrics\n",
        "from tensorflow.keras.metrics import AUC\n",
        "\n",
        "#\n",
        "import librosa\n",
        "import torch\n",
        "\n",
        "# (Install &) Import the nnAudio library for Constant Q-Transform\n",
        "try:\n",
        "    from nnAudio.Spectrogram import CQT1992v2\n",
        "except:\n",
        "    !pip install -q nnAudio\n",
        "    from nnAudio.Spectrogram import CQT1992v2\n",
        "#Note: The nnAudio's CQT1992v2 is used, instead of GWpy from analysis notebook, to transform the wave data into Constant Q-Transform spectrograms because this performs the operation much faster and is GPU compatible.\n",
        "\n",
        "from IPython.display import HTML"
      ],
      "metadata": {
        "_kg_hide-input": true,
        "_kg_hide-output": true,
        "execution": {
          "iopub.status.busy": "2024-05-06T04:28:18.074524Z",
          "iopub.execute_input": "2024-05-06T04:28:18.075284Z"
        },
        "trusted": true,
        "id": "YpYF7hjPLT4h"
      },
      "execution_count": null,
      "outputs": []
    },
    {
      "cell_type": "markdown",
      "source": [
        "# 2. Reading Datasets\n",
        "\n",
        "   1. **train/** - the training set files, one npy file per observation; labels are provided in a files shown below\n",
        "   2. **test/** - the test set files; you must predict the probability that the observation contains a gravitational wave\n",
        "   3. **training_labels.csv** - target values of whether the associated signal contains a gravitational wave\n",
        "   4. **sample_submission.csv** - a sample submission file in the correct format"
      ],
      "metadata": {
        "id": "mrdAZZcfLT4i"
      }
    },
    {
      "cell_type": "code",
      "source": [
        "## Get the training ids\n",
        "train = pd.read_csv('../input/g2net-gravitational-wave-detection/training_labels.csv')\n",
        "\n",
        "# Get the subsmission file\n",
        "sample_sub = pd.read_csv('../input/g2net-gravitational-wave-detection/sample_submission.csv')"
      ],
      "metadata": {
        "trusted": true,
        "id": "EqZrox-DLT4i"
      },
      "execution_count": null,
      "outputs": []
    },
    {
      "cell_type": "markdown",
      "source": [
        "# 3. Explorative Data Analysis\n"
      ],
      "metadata": {
        "id": "trKdS-WpLT4j"
      }
    },
    {
      "cell_type": "code",
      "source": [
        "print(f'Training labels: {train.shape[0]} | Test dataset: {sample_sub.shape[0]}')"
      ],
      "metadata": {
        "trusted": true,
        "id": "f7wDFs9yLT4j"
      },
      "execution_count": null,
      "outputs": []
    },
    {
      "cell_type": "markdown",
      "source": [
        "There are **5,60,000** records in train data and **2,26,000** records in Test data"
      ],
      "metadata": {
        "id": "hAYOiGHwLT4k"
      }
    },
    {
      "cell_type": "code",
      "source": [
        "#Checking train data contents\n",
        "train.head()"
      ],
      "metadata": {
        "trusted": true,
        "id": "EqgqLpO8LT4k"
      },
      "execution_count": null,
      "outputs": []
    },
    {
      "cell_type": "code",
      "source": [
        "train.shape"
      ],
      "metadata": {
        "trusted": true,
        "id": "f1RV5EXDLT4l"
      },
      "execution_count": null,
      "outputs": []
    },
    {
      "cell_type": "markdown",
      "source": [
        "- There are **5,60,000 rows** and **2 columns.**\n",
        "- The attributes are **'id'** and **'target'**"
      ],
      "metadata": {
        "id": "x5gk6CFaLT4l"
      }
    },
    {
      "cell_type": "code",
      "source": [
        "train['target'].value_counts()"
      ],
      "metadata": {
        "trusted": true,
        "id": "blkFmNZDLT4l"
      },
      "execution_count": null,
      "outputs": []
    },
    {
      "cell_type": "markdown",
      "source": [
        "**'target'** has value either *'0' or '1'*."
      ],
      "metadata": {
        "id": "TvFIKIunLT4m"
      }
    },
    {
      "cell_type": "code",
      "source": [
        "train['id'].value_counts()"
      ],
      "metadata": {
        "trusted": true,
        "id": "29RXuC0wLT4m"
      },
      "execution_count": null,
      "outputs": []
    },
    {
      "cell_type": "markdown",
      "source": [
        "**'id'** has 5,60,000 unique values."
      ],
      "metadata": {
        "id": "UYkDffPHLT4m"
      }
    },
    {
      "cell_type": "code",
      "source": [
        "#Checking for any Null Values\n",
        "train.isnull().sum()"
      ],
      "metadata": {
        "trusted": true,
        "id": "42jXFkDRLT4n"
      },
      "execution_count": null,
      "outputs": []
    },
    {
      "cell_type": "markdown",
      "source": [
        "There are no *null* values in the file"
      ],
      "metadata": {
        "id": "i85EdjLbLT4n"
      }
    },
    {
      "cell_type": "code",
      "source": [
        "sns.countplot(data=train, x=\"target\")\n"
      ],
      "metadata": {
        "_kg_hide-input": true,
        "trusted": true,
        "id": "kJI965zgLT4n"
      },
      "execution_count": null,
      "outputs": []
    },
    {
      "cell_type": "markdown",
      "source": [
        "**Inference**\n",
        "- The data is evenly distributed with 50-50 division between the samples with and without gravitational waves signal.\n",
        "\n",
        "**Insights**\n",
        "- The data is binary classified.\n",
        "- target *'0'* indicates absence of GW signal i.e **only noise** where as *'1'* indicates presence of GW signal i.e **GW signal + noise.**\n",
        "\n",
        "## 3.2 Raw Data Visualization\n",
        "To visualize raw signal, we load any one np array file as sample"
      ],
      "metadata": {
        "id": "ZGJl4-HYLT4o"
      }
    },
    {
      "cell_type": "code",
      "source": [
        "#Obtain path of all 5,60,000 files in ./train\n",
        "train_path = glob('../input/g2net-gravitational-wave-detection/train/*/*/*/*')"
      ],
      "metadata": {
        "trusted": true,
        "id": "Z-godXcjLT4o"
      },
      "execution_count": null,
      "outputs": []
    },
    {
      "cell_type": "code",
      "source": [
        "print(\"The total number of files in the training set:\", len(train_path))"
      ],
      "metadata": {
        "trusted": true,
        "id": "Tu8_Uak2LT4o"
      },
      "execution_count": null,
      "outputs": []
    },
    {
      "cell_type": "code",
      "source": [
        "ids = [path.split(\"/\")[-1].split(\".\")[0] for path in train_path]\n",
        "paths_df = pd.DataFrame({\"path\":train_path, \"id\": ids})\n",
        "train_data = pd.merge(left=train, right=paths_df, on=\"id\")\n",
        "train_data.head()"
      ],
      "metadata": {
        "_kg_hide-input": true,
        "trusted": true,
        "id": "6mZ0oRH8LT4p"
      },
      "execution_count": null,
      "outputs": []
    },
    {
      "cell_type": "code",
      "source": [
        "#Load npy files into DataFrame with target 1\n",
        "file_path = pd.DataFrame(train_data).iloc[0]\n",
        "\n",
        "#Loading any one file\n",
        "example_strain = np.load(file_path.path)"
      ],
      "metadata": {
        "trusted": true,
        "id": "jnO05TpELT4p"
      },
      "execution_count": null,
      "outputs": []
    },
    {
      "cell_type": "code",
      "source": [
        "#View file contents\n",
        "print(example_strain)\n",
        "\n",
        "#Shape of the array\n",
        "print (example_strain.shape)"
      ],
      "metadata": {
        "trusted": true,
        "id": "lZzPw9_hLT4p"
      },
      "execution_count": null,
      "outputs": []
    },
    {
      "cell_type": "markdown",
      "source": [
        "**Inference :**\n",
        "- There are **3** rows.\n",
        "- Each index(row) has **4096** columns.\n",
        "\n",
        "\n",
        "**Insights :**\n",
        "- In the competition description it is given that the observations are recorded from 3  gravitational wave interferometers (LIGO Hanford, LIGO Livingston, and Virgo)\n",
        "- The quantity in this time series is strain, which is of the order of ~$10^{-20}$, recorded for 2 sec periods sampled at 2048 Hz - 4096 data points.\n",
        "- The output of a GW detector is a temporal series of the detector strain, h(t)."
      ],
      "metadata": {
        "id": "MOLQuy2tLT4q"
      }
    },
    {
      "cell_type": "code",
      "source": [
        "#Plotting Raw Data from the three detectors\n",
        "\n",
        "def plot_graph(example_strain):\n",
        "    plt.figure(figsize=(20,5))\n",
        "\n",
        "    plt.plot(example_strain[0,:], c=\"firebrick\", label=\"LIGO Hanford\")\n",
        "    plt.plot(example_strain[1,:], c=\"mediumseagreen\", label=\"LIGO Livingston\")\n",
        "    plt.plot(example_strain[2,:], c=\"slateblue\", label=\"Virgo\")\n",
        "    plt.title(\"Id: \"+file_path.id);\n",
        "    plt.grid(\"on\")\n",
        "    plt.xlabel(\"Timestamp\");\n",
        "    plt.legend();"
      ],
      "metadata": {
        "_kg_hide-input": true,
        "trusted": true,
        "id": "6Zz6vZSBLT4q"
      },
      "execution_count": null,
      "outputs": []
    },
    {
      "cell_type": "code",
      "source": [
        "#Plotting graph for strain with target 1\n",
        "plot_graph(example_strain)"
      ],
      "metadata": {
        "_kg_hide-input": true,
        "trusted": true,
        "id": "KtgYQA_BLT4q"
      },
      "execution_count": null,
      "outputs": []
    },
    {
      "cell_type": "code",
      "source": [
        "#Load npy files into DataFrame with target 0\n",
        "file_path = pd.DataFrame(train_data).iloc[1]\n",
        "\n",
        "#Loading any one file\n",
        "example_strain_negative = np.load(file_path.path)\n",
        "\n",
        "#Plotting graph for strain with target 0\n",
        "plot_graph(example_strain_negative)"
      ],
      "metadata": {
        "_kg_hide-input": true,
        "trusted": true,
        "id": "K0tI6aDPLT4r"
      },
      "execution_count": null,
      "outputs": []
    },
    {
      "cell_type": "markdown",
      "source": [
        "**Insights**\n",
        "- The three signals originating from different detectors all look a bit different.\n",
        "- It is difficult to infer just by looking whether the given wave has GW signal or not as there is no notable difference between graphs of *target - 0* and *target - 1.*\n",
        "- The strain is of the order $10^{-20}$, which is extremely small and can be affected by many external factors. However, as seen in both the sample plots, the strain data is a combination of many frequencies and analysing the signals in frequency domain, instead of the time domain, might give us better insights.\n",
        "- Depending on the location the amplitude recorded varies ( smaller amplitudes indicating *weak signal* detection.\n",
        "- Astrophysical signals have typical amplitudes comparable to the detector background noise. Therefore, characterization and reduction of detector noise is essential to GW searches.\n",
        "- The interferometer is sensitive towards gravitational waves but unfortunately also for terrestrial forces and displacements.This may also include vibrations of the instruments themselves etc.. This kind of forces cause streching of the interferometer arms and this leads to constructive interferance and the waves we can see above.\n",
        "\n",
        "### Typical signal processing workflow\n",
        "Next, we try to implement the steps from this paper by LIGO by following these steps:\n",
        "- Plot the raw signal\n",
        "- Window the signal\n",
        "- Whiten the signal\n",
        "- Bandpass the signal\n",
        "\n",
        "## Raw Data Visulaization - ASD\n",
        "A Fourier Transform is the most commonly used method in maths and signal processing, to decompose the signals into its constituent discrete frequencies. This spectrum of frequencies can be analyzed based on average, power or energy of the signal to get a spectral density plot. As it says, one of the ways to visualize a raw signal in frequency domain is by plotting the amplitude spectral density (ASD)."
      ],
      "metadata": {
        "id": "gdXvWc-gLT4r"
      }
    },
    {
      "cell_type": "code",
      "source": [
        "#define some signal parameters\n",
        "sample_rate = 2048 #Hz (1/seconds)\n",
        "time_span = 2 # each signal lasts 2 s\n",
        "signal_length = time_span\n",
        "samples_total = time_span * sample_rate\n",
        "dt = 1/(samples_total) #4096 points in total\n",
        "dt\n",
        "\n",
        "channel = 1 #picking detector 1"
      ],
      "metadata": {
        "trusted": true,
        "id": "6QQSxwnSLT4r"
      },
      "execution_count": null,
      "outputs": []
    },
    {
      "cell_type": "code",
      "source": [
        "# set of observatories\n",
        "obs_list = ('LIGO Hanford', 'LIGO Livingston', 'Virgo')"
      ],
      "metadata": {
        "trusted": true,
        "id": "5jlMVMitLT4s"
      },
      "execution_count": null,
      "outputs": []
    },
    {
      "cell_type": "code",
      "source": [
        "# Gravitational wave analysis python library\n",
        "try:\n",
        "    import gwpy\n",
        "except:\n",
        "    !pip install -q --user gwpy\n",
        "    import gwpy\n",
        "from gwpy.timeseries import TimeSeries"
      ],
      "metadata": {
        "_kg_hide-input": true,
        "_kg_hide-output": true,
        "trusted": true,
        "id": "hiBruNs7LT4s"
      },
      "execution_count": null,
      "outputs": []
    },
    {
      "cell_type": "code",
      "source": [
        "# function to plot the amplitude spectral density (ASD) plot\n",
        "def plot_asd(sample_id):\n",
        "    # Get the data\n",
        "    sample = example_strain\n",
        "\n",
        "    # we convert the data to gwpy's TimeSeries for analysis\n",
        "    for i in range(sample.shape[0]):\n",
        "        ts = TimeSeries(sample[i], sample_rate=sample_rate)\n",
        "        ax = ts.asd(signal_length).plot(figsize=(12, 5)).gca()\n",
        "        ax.set_xlim(10, 1024);\n",
        "        ax.set_title(f\"ASD plots for sample: {sample_id} from {obs_list[i]}\");"
      ],
      "metadata": {
        "trusted": true,
        "id": "XZZfiU7FLT4t"
      },
      "execution_count": null,
      "outputs": []
    },
    {
      "cell_type": "code",
      "source": [
        "# plot ASD for sample w/ GW\n",
        "plot_asd(file_path.id)"
      ],
      "metadata": {
        "trusted": true,
        "id": "ko0vpxDCLT4t"
      },
      "execution_count": null,
      "outputs": []
    },
    {
      "cell_type": "markdown",
      "source": [
        "These plots are plotted on a log scale for x-axis, and we see that it ranges from 10 Hz ~ 1000 Hz. Although, these limits are for visualization purposes only, it helps us see some peaks for each observatory. A particular frequency can be peculiar in one measurement but remember that the GW signal has to be detected in all three waves to be confirmed. This data here still seems a bit noisy and as showed in the tutorial, if sampled for longer periods of time (on real data), it can give some valuable insights. However, the data in this competition is simulated and we try to find other ways to visualize it.\n",
        "***\n",
        "### Power Spectral Density Plots"
      ],
      "metadata": {
        "id": "bKuCZlHNLT4t"
      }
    },
    {
      "cell_type": "code",
      "source": [
        "#Computing Power Series Density\n",
        "plt.figure(figsize=(20,5))\n",
        "\n",
        "fhat = np.fft.fft(example_strain[channel,:], samples_total)\n",
        "PSD = fhat * np.conj(fhat) / samples_total\n",
        "freq = 1/(dt*samples_total) * np.arange(samples_total)\n",
        "\n",
        "\n",
        "L = np.arange(1, np.floor(samples_total/2), dtype=\"int\")\n",
        "plt.plot(freq[L],PSD[L], '.-')\n",
        "plt.grid(\"on\")\n",
        "plt.xlabel(\"Frequency Hz\");\n",
        "plt.title(\"Power spectral density\");\n",
        "plt.yscale(\"log\")"
      ],
      "metadata": {
        "_kg_hide-input": false,
        "trusted": true,
        "id": "LYmjGX0JLT4t"
      },
      "execution_count": null,
      "outputs": []
    },
    {
      "cell_type": "markdown",
      "source": [
        "## Insights\n",
        "- The steep shape at low frequencies is dominated by noise related to ground motion.\n",
        "- Above roughly 100 Hz, the Advanced LIGO detectors are currently quantum noise limited, and their noise curves are dominated by shot noise.\n",
        "- High amplitude noise features are also present in the data at certain frequencies, including lines due to the AC power grid (harmonics of 60 Hz in the U.S. and 50 Hz in Europe), mechanical resonances of the mirror suspensions, injected calibration lines, and noise entering through the detector control systems."
      ],
      "metadata": {
        "id": "NA6ksKEsLT4u"
      }
    },
    {
      "cell_type": "code",
      "source": [
        "#breaking signal into FFT components\n",
        "show_side_effects = True\n",
        "fig, ax = plt.subplots(6,1,figsize=(20,15))\n",
        "\n",
        "ax[0].plot(example_strain[channel])\n",
        "ax[1].plot(np.fft.ifft((PSD>1e-38)*fhat))\n",
        "ax[2].plot(np.fft.ifft(((PSD>1e-40) & (PSD <= 1e-38))*fhat))\n",
        "ax[3].plot(np.fft.ifft(((PSD>1e-42) & (PSD <= 1e-40))*fhat))\n",
        "ax[4].plot(np.fft.ifft(((PSD>0.5e-42) & (PSD <= 1e-42))*fhat))\n",
        "ax[5].plot(np.fft.ifft((PSD<=0.5e-42)*fhat))\n",
        "\n",
        "if not show_side_effects:\n",
        "    for n in range(3,6):\n",
        "        ax[n].set_xlim(20,2000)"
      ],
      "metadata": {
        "_kg_hide-input": true,
        "trusted": true,
        "id": "jlUo7af9LT4u"
      },
      "execution_count": null,
      "outputs": []
    },
    {
      "cell_type": "markdown",
      "source": [
        "- The first step in many LVC analyses is to Fourier transform the time-domain data using a fast Fourier transform (FFT) . - - There are interesting kind of side effects in the beginning and the end of each wave after doing the inverse Fourier transform.\n",
        "- Since the FFT implicitly assumes that the stretch of data being transformed is periodic in time, window functions have to be applied to the data to suppress spectral leakage using e.g. a Tukey (cosine-tapered) window function.\n",
        "- Failing to window the data will lead to spectral leakage and spurious correlations in the phase between bins.\n",
        "\n",
        "### Apply Window Functions - Removing Spectral leakages"
      ],
      "metadata": {
        "id": "8vBLsOWoLT40"
      }
    },
    {
      "cell_type": "code",
      "source": [
        "from scipy import signal\n",
        "from scipy.interpolate import interp1d\n",
        "from scipy.signal import butter, filtfilt, iirdesign, zpk2tf, freqz"
      ],
      "metadata": {
        "_kg_hide-input": true,
        "trusted": true,
        "id": "3HYdgz-5LT40"
      },
      "execution_count": null,
      "outputs": []
    },
    {
      "cell_type": "code",
      "source": [
        "hp_window = 1\n",
        "hp_tukey_alpha = 0.125\n",
        "fband = [35.0, 200.0]"
      ],
      "metadata": {
        "_kg_hide-input": true,
        "trusted": true,
        "id": "j-lvUI8wLT40"
      },
      "execution_count": null,
      "outputs": []
    },
    {
      "cell_type": "code",
      "source": [
        "blackman_window = signal.blackman(int(samples_total*hp_window)) #signal.tukey(strain, alpha=1./8)\n",
        "tukey_window = signal.tukey(samples_total*hp_window, hp_tukey_alpha)"
      ],
      "metadata": {
        "trusted": true,
        "id": "KKNZ-NdwLT41"
      },
      "execution_count": null,
      "outputs": []
    },
    {
      "cell_type": "code",
      "source": [
        "fig, ax = plt.subplots(3,1,figsize=(20,15))\n",
        "\n",
        "#plotting raw data\n",
        "ax[0].plot(example_strain[channel])\n",
        "ax[0].set_title(\"Original data\")\n",
        "\n",
        "#plotting data with blackman\n",
        "ax[1].plot(example_strain[channel]*blackman_window)\n",
        "ax[1].set_title(\"With blackman window applied\")\n",
        "\n",
        "#plotting data with tukey window\n",
        "ax[2].plot(example_strain[channel]*tukey_window)\n",
        "ax[2].set_title(\"With tukey window applied\");"
      ],
      "metadata": {
        "_kg_hide-input": true,
        "trusted": true,
        "id": "t7qqtLhMLT41"
      },
      "execution_count": null,
      "outputs": []
    },
    {
      "cell_type": "markdown",
      "source": [
        "For the analysis of transient data the use of **Tukey windows** is advantageous as signals will suffer less modification than, **Blackman windows**."
      ],
      "metadata": {
        "id": "jrYI5Kg_LT44"
      }
    },
    {
      "cell_type": "code",
      "source": [
        "windowed_strain = example_strain[channel]*tukey_window"
      ],
      "metadata": {
        "_kg_hide-input": true,
        "trusted": true,
        "id": "t2lCoxRtLT44"
      },
      "execution_count": null,
      "outputs": []
    },
    {
      "cell_type": "markdown",
      "source": [
        "### Whitening - Making signal more Uniform\n",
        "\n",
        "- Whitening the data is suppressing the extra noise at low frequencies and at the spectral lines, to better see the weak signals in the most sensitive band.\n",
        "- It is always one of the first steps in astrophysical data analysis (searches, parameter estimation).\n",
        "- It requires no prior knowledge of spectral lines, etc; only the data are needed."
      ],
      "metadata": {
        "id": "Vpu7awkBLT44"
      }
    },
    {
      "cell_type": "code",
      "source": [
        "#Whitening data to make signal more uniform\n",
        "def whiten(strain, samples_total, dt):\n",
        "    # TODO: normalization\n",
        "\n",
        "    fhat = np.fft.fft(strain, samples_total)\n",
        "    PSD = fhat * np.conj(fhat) / samples_total\n",
        "    freq = 1/(dt*samples_total) * np.arange(samples_total)\n",
        "\n",
        "    # scipy interp1d interpolation\n",
        "    interp_psd = interp1d(freq, PSD, \"nearest\")\n",
        "\n",
        "    w_fhat = fhat/np.sqrt(interp_psd(freq))\n",
        "    w_strain = np.fft.ifft(w_fhat)\n",
        "    return w_strain, interp_psd(freq)"
      ],
      "metadata": {
        "_kg_hide-input": true,
        "trusted": true,
        "id": "3j1PYC90LT45"
      },
      "execution_count": null,
      "outputs": []
    },
    {
      "cell_type": "code",
      "source": [
        "w_strain, ip = whiten(windowed_strain, samples_total, dt)"
      ],
      "metadata": {
        "_kg_hide-input": true,
        "trusted": true,
        "id": "NABQq7umLT45"
      },
      "execution_count": null,
      "outputs": []
    },
    {
      "cell_type": "code",
      "source": [
        "#plotting whitened data\n",
        "fig, ax = plt.subplots(2,1,figsize=(20,10))\n",
        "ax[0].plot(np.log(ip[0:1024]), '-o')\n",
        "ax[0].set_title(\"Interpolated PSD\")\n",
        "ax[0].set_xlabel(\"Frequency Hz\")\n",
        "ax[0].set_ylabel(\"Sn(t)\")\n",
        "ax[1].plot(w_strain, '-.')\n",
        "ax[1].set_ylabel(\"dw(t)\")\n",
        "ax[1].set_xlabel(\"Timestamp\")\n"
      ],
      "metadata": {
        "_kg_hide-input": true,
        "trusted": true,
        "id": "JDUp_6cMLT45"
      },
      "execution_count": null,
      "outputs": []
    },
    {
      "cell_type": "markdown",
      "source": [
        "This is the whitened signal. Next, since we know this data is from merger binary black holes, the frequency is in lower range and this we apply a bandpass filter to passthrough signals between 35 ~ 350 Hz.\n",
        "***\n",
        "### Bandpass Filter - Filtering signal for certain bandwidth"
      ],
      "metadata": {
        "id": "FGNONmnyLT45"
      }
    },
    {
      "cell_type": "code",
      "source": [
        "#Defining bandpass filter\n",
        "def bandpass(strain, fband, fs):\n",
        "    \"\"\"Bandpasses strain data using a butterworth filter.\n",
        "\n",
        "    Args:\n",
        "        strain (ndarray): strain data to bandpass\n",
        "        fband (ndarray): low and high-pass filter values to use\n",
        "        fs (float): sample rate of data\n",
        "\n",
        "    Returns:\n",
        "        ndarray: array of bandpassed strain data\n",
        "    \"\"\"\n",
        "    bb, ab = butter(4, [fband[0]*2./fs, fband[1]*2./fs], btype='band')\n",
        "    normalization = np.sqrt((fband[1]-fband[0])/(fs/2))\n",
        "    strain_bp = filtfilt(bb, ab, strain) / normalization\n",
        "    return strain_bp\n",
        "\n",
        "#Applying bandpass filter\n",
        "bandpassed_strain = bandpass(w_strain, fband, samples_total)\n",
        "\n",
        "#plotting bandpass filtered data\n",
        "plt.figure(figsize=(20,5))\n",
        "plt.plot(bandpassed_strain, '-')"
      ],
      "metadata": {
        "trusted": true,
        "id": "vg44he6sLT45"
      },
      "execution_count": null,
      "outputs": []
    },
    {
      "cell_type": "markdown",
      "source": [
        "**Constant Q-Transform**\n",
        "- The signal analysis didn't provide much insights, so let's try the second method in signal processing. Tranforming the waves into spectrograms images, i.e. frequency-domain, and then visualize them. This technique is widely used in audio analysis and since our data is a wave with bunch of frequencies, we can use the same technique as well.\n",
        "- The advantage of using a spectrogram, over a direct Fourier Transform where you lose time info, is that it captures the shift or change in frequencies over time and this removes white noise frequencies that are persistent, leaving the signals of interest. Constant Q-Transform is one way to visualize the spectrogram."
      ],
      "metadata": {
        "id": "XyTbfrm6LT46"
      }
    },
    {
      "cell_type": "code",
      "source": [
        "# function to plot the Q-transform spectrogram\n",
        "def plot_q_transform(sample_id,example_strain):\n",
        "    # Get the data\n",
        "    sample = example_strain\n",
        "\n",
        "    # we convert the data to gwpy's TimeSeries for analysis\n",
        "    for i in range(sample.shape[0]):\n",
        "        ts = TimeSeries(sample[i], sample_rate=sample_rate)\n",
        "        ax = ts.q_transform(whiten=True).plot().gca()\n",
        "        ax.set_xlabel('')\n",
        "        ax.set_title(f\"Spectrogram plots for sample: {sample_id} from {obs_list[i]}\")\n",
        "        ax.grid(False)\n",
        "        ax.set_yscale('log');"
      ],
      "metadata": {
        "trusted": true,
        "id": "iKF2SDFxLT46"
      },
      "execution_count": null,
      "outputs": []
    },
    {
      "cell_type": "code",
      "source": [
        "# plot the Q-transform for sample w/ GW\n",
        "plot_q_transform(file_path.id,example_strain)"
      ],
      "metadata": {
        "trusted": true,
        "id": "ovLFBV7YLT46"
      },
      "execution_count": null,
      "outputs": []
    },
    {
      "cell_type": "markdown",
      "source": [
        "- Visibly, all three signals have different features and the above were plotted from a sample which has gravitational waves, and it shows the famous 'chirp' confirming the presence of gravitational waves.\n",
        "- This transformation removes the unwanted noise frequencies, but still some of it remains, but a signal has to be detected in all three waves to be predicted as gravitational wave.\n",
        "- Next, we can compare how the Q-Transforms look for samples with and without gravitational wave signals."
      ],
      "metadata": {
        "id": "MKf7whiULT47"
      }
    },
    {
      "cell_type": "code",
      "source": [
        "sample_gw_id = pd.DataFrame(train_data).iloc[0].id\n",
        "sample_no_gw_id = pd.DataFrame(train_data).iloc[1].id\n",
        "\n",
        "# function to plot the Q-transform spectrogram side-by-side\n",
        "def plot_q_transform_sbs(sample_gw_id, sample_no_gw_id,example_strain,example_strain_negative ):\n",
        "    # Get the data\n",
        "    sample_gw = example_strain\n",
        "    sample_no_gw = example_strain_negative\n",
        "\n",
        "    for i in range(len(obs_list)):\n",
        "        # get the timeseries\n",
        "        ts_gw = TimeSeries(sample_gw[i], sample_rate=sample_rate)\n",
        "        ts_no_gw = TimeSeries(sample_no_gw[i], sample_rate=sample_rate)\n",
        "\n",
        "        # get the Q-transform\n",
        "        image_gw = ts_gw.q_transform(whiten=True)\n",
        "        image_no_gw = ts_no_gw.q_transform(whiten=True)\n",
        "\n",
        "        plt.figure(figsize=(20, 10))\n",
        "        plt.subplot(131)\n",
        "        plt.imshow(image_gw)\n",
        "        plt.title(f\"id: {sample_gw_id} | Target=1\")\n",
        "        plt.grid(False)\n",
        "\n",
        "        plt.subplot(132)\n",
        "        plt.imshow(image_no_gw)\n",
        "        plt.title(f\"id: {sample_no_gw_id} | Target=0\")\n",
        "        plt.grid(False)\n",
        "\n",
        "        plt.show()\n"
      ],
      "metadata": {
        "trusted": true,
        "id": "w1ghMLrlLT47"
      },
      "execution_count": null,
      "outputs": []
    },
    {
      "cell_type": "code",
      "source": [
        "# let's plot two spectrograms for sample w/ and w/o GW signal side-by-side\n",
        "plot_q_transform_sbs(sample_gw_id, sample_no_gw_id,example_strain,example_strain_negative )"
      ],
      "metadata": {
        "trusted": true,
        "id": "gz85GRiQLT47"
      },
      "execution_count": null,
      "outputs": []
    },
    {
      "cell_type": "markdown",
      "source": [
        "- Apart from a few hints, we cannot say for sure that the difference between the waves with and without GW signals is obvious.\n",
        "- There can be some cleaning or filtering we can apply to remove the noise further but that's where the Deep Learning shines.\n",
        "- The things we can't detect visually, machine learning can. Next, in the modelling notebook, we build data pipelines, transform the data to spectrograms, and build models to make the predictions.\n",
        "***\n",
        "\n",
        "# 4.Preprocessing Methods\n",
        "Astrophysical signals have typical amplitudes comparable to the detector background noise. Therefore, characterization and reduction of detector noise is essential to GW searches.\n",
        "We follow signal processing methodology to preprocess signals, converting the time domain data to frequency domain, converting to Constant Q-Transform images and using these as input to our model training step.\n",
        "\n",
        "There are mainly two ways in which we can preprocess this type of data to train our models:\n",
        "\n",
        "1.  **Using the time series data,** and performing some cleaning steps to enhance the signal, remove noise, as described in publications by B P Abbott et al. and Daniel George et al.Typical signal processing workflow\n",
        "Next, we try to implement the steps from this paper referenced above by following these steps:\n",
        "Plot the raw signal\n",
        "Window the signal\n",
        "Whiten the signal\n",
        "Bandpass the signal\n",
        "1. **Getting the Constant Q-Transformed spectrogram image,** which is a frequency-domain fourier transformed data, while treating the sample being analyzed as a wave."
      ],
      "metadata": {
        "id": "9x4hqqSOLT48"
      }
    },
    {
      "cell_type": "markdown",
      "source": [
        "**Creating TF Data pipeline :**\n",
        "Next, we create the TensorFlow input data pipeline. This is crucial as loading such a huge dataset can create a bottleneck on the entire workflow and can cause memory overload."
      ],
      "metadata": {
        "id": "v2-MgJdZLT48"
      }
    },
    {
      "cell_type": "code",
      "source": [
        "# function to return the npy file corresponding to the id\n",
        "def get_npy_filepath(id_, is_train=True):\n",
        "    path = ''\n",
        "    if is_train:\n",
        "        return f'../input/g2net-gravitational-wave-detection/train/{id_[0]}/{id_[1]}/{id_[2]}/{id_}.npy'\n",
        "    else:\n",
        "        return f'../input/g2net-gravitational-wave-detection/test/{id_[0]}/{id_[1]}/{id_[2]}/{id_}.npy'"
      ],
      "metadata": {
        "trusted": true,
        "id": "ta5FJ8z8LT48"
      },
      "execution_count": null,
      "outputs": []
    },
    {
      "cell_type": "code",
      "source": [
        "# let's define some signal parameters\n",
        "sample_rate = 2048 # data is provided at 2048 Hz\n",
        "signal_length = 2 # each signal lasts 2 s\n",
        "fmin, fmax = 20, 1024 # filter above 20 Hz, and max 1024 Hz (Nyquist freq = sample_rate/2)\n",
        "hop_length = 64 # hop length parameter for the stft\n",
        "\n",
        "# model compile params\n",
        "batch_size = 250 # size in which data is processed and trained at-once in model\n",
        "epochs = 3 # number of epochs (keep low as dataset is quite large 3~5 is enough as observed)"
      ],
      "metadata": {
        "trusted": true,
        "id": "HVpMzBcyLT49"
      },
      "execution_count": null,
      "outputs": []
    },
    {
      "cell_type": "code",
      "source": [
        "# Define the Constant Q-Transform\n",
        "transform = CQT1992v2(sr=sample_rate, fmin=fmin, fmax=fmax, hop_length=hop_length)\n",
        "\n",
        "# check if GPU enabled, then run the transform on GPU for faster execution\n",
        "# if tf.test.is_gpu_available():\n",
        "#     cq_transform = cq_transform.to('cuda')"
      ],
      "metadata": {
        "trusted": true,
        "id": "nsFUli1ULT49"
      },
      "execution_count": null,
      "outputs": []
    },
    {
      "cell_type": "code",
      "source": [
        "# function to load the file, preprocess, return the respective Constant Q-transform\n",
        "# the Cqt function\n",
        "# preprocess function\n",
        "def preprocess_function_cqt(path):\n",
        "    signal = np.load(path.numpy())\n",
        "    # there are 3 signal as explained before for each interferometers\n",
        "    for i in range(signal.shape[0]):\n",
        "        # normalize signal\n",
        "        signal[i] /= np.max(signal[i])\n",
        "    # horizontal stack\n",
        "    signal = np.hstack(signal)\n",
        "    # tensor conversion\n",
        "    signal = torch.from_numpy(signal).float()\n",
        "    # getting the image from CQT transform\n",
        "    image = transform(signal)\n",
        "    # converting to array from tensor\n",
        "    image = np.array(image)\n",
        "    # transpose the image to get right orientation\n",
        "    image = np.transpose(image,(1,2,0))\n",
        "\n",
        "    # conver the image to tf.tensor and return\n",
        "    return tf.convert_to_tensor(image)"
      ],
      "metadata": {
        "trusted": true,
        "id": "S2A2PrW3LT49"
      },
      "execution_count": null,
      "outputs": []
    },
    {
      "cell_type": "code",
      "source": [
        "image = preprocess_function_cqt(tf.convert_to_tensor(train_data['path'][2]))\n",
        "print(image.shape)\n",
        "plt.imshow(image)"
      ],
      "metadata": {
        "trusted": true,
        "id": "gmYGBVmELT49"
      },
      "execution_count": null,
      "outputs": []
    },
    {
      "cell_type": "code",
      "source": [
        "# From the Constant Q-Transform that we got, get the shape\n",
        "input_shape = (69, 193, 1)"
      ],
      "metadata": {
        "trusted": true,
        "id": "7XkQyhZCLT4-"
      },
      "execution_count": null,
      "outputs": []
    },
    {
      "cell_type": "markdown",
      "source": [
        "***\n",
        "# 5. Modeling\n",
        "**Strategy**\n",
        "\n",
        "- This is essentially a signal processing problem with classification task, there can be two ways in which we can build models around this data, as also mentioned in the [LIGO research paper](https://arxiv.org/pdf/1908.11170.pdf) - using \"raw\" signals with minimal pre-processing and using \"images\" by transforming the waves into spectrograms.\n",
        "- However, building models on raw signal data, by following the cleaning steps from respective publications, didnot yield acceptable results. It is worth mentioning that only a part of the data was used while strategy selection process, and it was concluded that more pre-processing was necessary, or rather proper pre-processing, if we were to use raw signal.\n",
        "- Eventually, the second method that we went with in this project, is used to transform the waves into the spectrogram image. We train two models to evaluate the results:\n",
        "1. Simple CNN- a simple CNN architecture that is a modified version of the model usually used in MNIST Digit Recognizer tutorials. This acts as our baseline model.\n",
        "2. EfficientNet-a EfficientNetB7 model that has been developed and pre-trained on ImageNet dataset. This model is chosen as it is known for its excellent performance with significantly fewer number of parameters, that can drastically improve the computational efficiency."
      ],
      "metadata": {
        "id": "Lt6kp1SQLT4-"
      }
    },
    {
      "cell_type": "code",
      "source": [
        "# Get the feature ids and target\n",
        "X = train_data['id']\n",
        "y = train_data['target'].astype('int8').values"
      ],
      "metadata": {
        "trusted": true,
        "id": "YgAVC8cuLT4-"
      },
      "execution_count": null,
      "outputs": []
    },
    {
      "cell_type": "code",
      "source": [
        "x_train, x_valid, y_train, y_valid = train_test_split(X, y, random_state = 51, stratify = y)"
      ],
      "metadata": {
        "trusted": true,
        "id": "i1LlAQvqLT4-"
      },
      "execution_count": null,
      "outputs": []
    },
    {
      "cell_type": "code",
      "source": [
        "def preprocess_function_parse_tf(path, y=None):\n",
        "    [x] = tf.py_function(func=preprocess_function_cqt, inp=[path], Tout=[tf.float32])\n",
        "    x = tf.ensure_shape(x, input_shape)\n",
        "    if y is None:\n",
        "        return x\n",
        "    else:\n",
        "        return x,y"
      ],
      "metadata": {
        "trusted": true,
        "id": "cdj4bN2MLT4_"
      },
      "execution_count": null,
      "outputs": []
    },
    {
      "cell_type": "code",
      "source": [
        "train_dataset = tf.data.Dataset.from_tensor_slices((x_train.apply(get_npy_filepath).values, y_train))\n",
        "# shuffle the dataset\n",
        "train_dataset = train_dataset.shuffle(len(x_train))\n",
        "train_dataset = train_dataset.map(preprocess_function_parse_tf, num_parallel_calls=tf.data.AUTOTUNE)\n",
        "train_dataset = train_dataset.batch(batch_size)\n",
        "train_dataset = train_dataset.prefetch(tf.data.AUTOTUNE)"
      ],
      "metadata": {
        "_kg_hide-output": true,
        "trusted": true,
        "id": "0FdA1EKlLT4_"
      },
      "execution_count": null,
      "outputs": []
    },
    {
      "cell_type": "code",
      "source": [
        "# valid dataset\n",
        "# Get the data filepaths as tensor_slices\n",
        "valid_dataset = tf.data.Dataset.from_tensor_slices((x_valid.apply(get_npy_filepath).values, y_valid))\n",
        "\n",
        "# apply the map method to tf_parse_function()\n",
        "valid_dataset = valid_dataset.map(preprocess_function_parse_tf, num_parallel_calls=tf.data.AUTOTUNE)\n",
        "\n",
        "# set batch size of the dataset\n",
        "valid_dataset = valid_dataset.batch(batch_size)\n",
        "\n",
        "# prefetch the data\n",
        "valid_dataset = valid_dataset.prefetch(tf.data.AUTOTUNE)\n"
      ],
      "metadata": {
        "trusted": true,
        "id": "-aBSKM4eLT4_"
      },
      "execution_count": null,
      "outputs": []
    },
    {
      "cell_type": "markdown",
      "source": [
        "## 1. Baseline Model : Simple CNN"
      ],
      "metadata": {
        "id": "LlWfxUdbLT5A"
      }
    },
    {
      "cell_type": "code",
      "source": [
        "#CNN Modeling\n",
        "train_dataset.take(1)\n",
        "\n",
        "#Instantiate the Sequential model\n",
        "model_cnn = Sequential(name='CNN_model')\n",
        "\n",
        "# Add the first Convoluted2D layer w/ input_shape & MaxPooling2D layer followed by that\n",
        "model_cnn.add(Conv2D(filters=16,\n",
        "                     kernel_size=3,\n",
        "                     input_shape=input_shape,\n",
        "                     activation='relu',\n",
        "                     name='Conv_01'))\n",
        "model_cnn.add(MaxPooling2D(pool_size=2, name='Pool_01'))\n",
        "\n",
        "# Second pair of Conv1D and MaxPooling1D layers\n",
        "model_cnn.add(Conv2D(filters=32,\n",
        "                     kernel_size=3,\n",
        "                     input_shape=input_shape,\n",
        "                     activation='relu',\n",
        "                     name='Conv_02'))\n",
        "model_cnn.add(MaxPooling2D(pool_size=2, name='Pool_02'))\n",
        "\n",
        "# Third pair of Conv1D and MaxPooling1D layers\n",
        "model_cnn.add(Conv2D(filters=64,\n",
        "                     kernel_size=3,\n",
        "                     input_shape=input_shape,\n",
        "                     activation='relu',\n",
        "                     name='Conv_03'))\n",
        "model_cnn.add(MaxPooling2D(pool_size=2, name='Pool_03'))\n",
        "\n",
        "# Add the Flatten layer\n",
        "model_cnn.add(Flatten(name='Flatten'))\n",
        "\n",
        "# Add the Dense layers\n",
        "model_cnn.add(Dense(units=512,\n",
        "                activation='relu',\n",
        "                name='Dense_01'))\n",
        "model_cnn.add(Dense(units=64,\n",
        "                activation='relu',\n",
        "                name='Dense_02'))\n",
        "\n",
        "# Add the final Output layer\n",
        "model_cnn.add(Dense(1, activation='sigmoid', name='Output'))"
      ],
      "metadata": {
        "trusted": true,
        "id": "J5OMBHuQLT5A"
      },
      "execution_count": null,
      "outputs": []
    },
    {
      "cell_type": "code",
      "source": [
        "# Display the CNN model architecture\n",
        "model_cnn.summary()"
      ],
      "metadata": {
        "trusted": true,
        "id": "c47saHGiLT5I"
      },
      "execution_count": null,
      "outputs": []
    },
    {
      "cell_type": "code",
      "source": [
        "# compile the model with following parameters\n",
        "# Optimizer: Adam (learning_rate=0.0001)\n",
        "# loss: binary_crossentropy\n",
        "# metrics: accuracy/AUC\n",
        "model_cnn.compile(optimizer=Adam(learning_rate=0.0001),\n",
        "                  loss='binary_crossentropy',\n",
        "                  metrics=[[AUC(), 'accuracy']])\n",
        "\n",
        "# Fit the data\n",
        "history_cnn = model_cnn.fit(x=train_dataset,\n",
        "                            epochs=3,\n",
        "                            validation_data=valid_dataset,\n",
        "                            batch_size=batch_size,\n",
        "                            verbose=1)"
      ],
      "metadata": {
        "trusted": true,
        "id": "kBekqL-WLT5I"
      },
      "execution_count": null,
      "outputs": []
    },
    {
      "cell_type": "markdown",
      "source": [
        "- The baseline model seems to be converging well only after about 3 epochs.\n",
        "- But, it takes almost about an hour to train each epoch, we can only say that the model can be improved with further training and fine-tuning the structure.\n",
        "- At the end of 3rd epoch, we see 0.83 AUC score and 0.76 accuracy for training dataset, while 0.84 AUC score and 0.77 accuracy for the validation dataset."
      ],
      "metadata": {
        "id": "QvlCJkA4LT5I"
      }
    },
    {
      "cell_type": "code",
      "source": [
        "# save the model\n",
        "model_cnn.save('./model_CNN.h5')"
      ],
      "metadata": {
        "trusted": true,
        "id": "v9vr8UiRLT5J"
      },
      "execution_count": null,
      "outputs": []
    },
    {
      "cell_type": "code",
      "source": [
        "sub = pd.read_csv('../input/g2net-gravitational-wave-detection/sample_submission.csv')\n",
        "x_test = sub[['id']]"
      ],
      "metadata": {
        "trusted": true,
        "id": "wplzKksTLT5J"
      },
      "execution_count": null,
      "outputs": []
    },
    {
      "cell_type": "code",
      "source": [
        "x_test.tail()"
      ],
      "metadata": {
        "trusted": true,
        "id": "ZViZA1PnLT5J"
      },
      "execution_count": null,
      "outputs": []
    },
    {
      "cell_type": "code",
      "source": [
        "# test dataset\n",
        "test_dataset = tf.data.Dataset.from_tensor_slices((x_test['id'].apply(get_npy_filepath, is_train=False).values))\n",
        "test_dataset = test_dataset.map(preprocess_function_parse_tf, num_parallel_calls=tf.data.AUTOTUNE)\n",
        "test_dataset = test_dataset.batch(batch_size)\n",
        "test_dataset = test_dataset.prefetch(tf.data.AUTOTUNE)"
      ],
      "metadata": {
        "trusted": true,
        "id": "C8mppvUsLT5J"
      },
      "execution_count": null,
      "outputs": []
    },
    {
      "cell_type": "markdown",
      "source": [
        "The Simple CNN model has been trained and can be found in our this version of [Notebook](https://www.kaggle.com/t01fe19bcs238/g2net-eda-preprocessing-model)"
      ],
      "metadata": {
        "id": "tYLaptgNLT5J"
      }
    },
    {
      "cell_type": "code",
      "source": [
        "# load the trained Simple CNN model\n",
        "saved_cnn_model = tf.keras.models.load_model('../input/g2netfinal/full_cnn_model.h5')"
      ],
      "metadata": {
        "trusted": true,
        "id": "79NVXZyULT5J"
      },
      "execution_count": null,
      "outputs": []
    },
    {
      "cell_type": "code",
      "source": [
        "saved_cnn_model.fit(x=valid_dataset, epochs=3, batch_size=batch_size, verbose=1)"
      ],
      "metadata": {
        "trusted": true,
        "id": "FiRPihnGLT5K"
      },
      "execution_count": null,
      "outputs": []
    },
    {
      "cell_type": "code",
      "source": [
        "saved_cnn_model.save('./model/full_cnn_model.h5')"
      ],
      "metadata": {
        "trusted": true,
        "id": "6eTM0X7YLT5K"
      },
      "execution_count": null,
      "outputs": []
    },
    {
      "cell_type": "code",
      "source": [
        "full_cnn_model = tf.keras.models.load_model('./model/full_cnn_model.h5')"
      ],
      "metadata": {
        "trusted": true,
        "id": "0aASE2DwLT5K"
      },
      "execution_count": null,
      "outputs": []
    },
    {
      "cell_type": "code",
      "source": [
        "# predict the test dataset using CNN\n",
        "preds_cnn = saved_cnn_model.predict(test_dataset)"
      ],
      "metadata": {
        "trusted": true,
        "id": "BuRjW75QLT5K"
      },
      "execution_count": null,
      "outputs": []
    },
    {
      "cell_type": "code",
      "source": [
        "# Function to save kaggle submissions for test prediction probabilities\n",
        "def get_kaggle_format(prediction_probs, model='base'):\n",
        "    # load the sample submission file\n",
        "#     sub = pd.read_csv('../input/g2net-gravitational-wave-detection/sample_submission.csv')\n",
        "    sample_sub['target'] = prediction_probs\n",
        "\n",
        "    # Output filename for kaggle submission\n",
        "    filename = f\"kaggle_sub_{model}.csv\"\n",
        "\n",
        "    # Save the DataFrame to a file\n",
        "    sample_sub.to_csv(filename, index=False)\n",
        "    print(f'File name: {filename}')"
      ],
      "metadata": {
        "trusted": true,
        "id": "aopkKaCULT5K"
      },
      "execution_count": null,
      "outputs": []
    },
    {
      "cell_type": "code",
      "source": [
        "#save the kaggle submission file\n",
        "get_kaggle_format(preds_cnn, model='cnn')"
      ],
      "metadata": {
        "trusted": true,
        "id": "AEbKreGQLT5L"
      },
      "execution_count": null,
      "outputs": []
    },
    {
      "cell_type": "markdown",
      "source": [
        "***\n",
        "## 2. Advanced Model - EfficientNet B7 Model\n",
        "\n",
        "- The baseline model performed quite well actually, but it was a very simple model which we trained for our particular dataset from scratch .\n",
        "- However, there are more advanced and pre-trained state-of-the-art models that we can try to use for our classification task.\n",
        "- EfficientNet is one such model architecture that has been researched extensively recently, and has achieved state-of-the-art level accuracy as compared to other models on ImageNet data with significantly fewer number of parameters, which means faster training times.\n",
        "- As we have a large dataset, we can use these models, with and without pretrained weights to see if we get better results than our baseline."
      ],
      "metadata": {
        "id": "EFP4q0FhLT5L"
      }
    },
    {
      "cell_type": "code",
      "source": [
        "# Import libraries\n",
        "import matplotlib.pyplot as plt # plotting tools\n",
        "from random import shuffle\n",
        "import math\n",
        "import os\n",
        "\n",
        "#import keras\n",
        "!pip install -U git+https://github.com/leondgarse/keras_efficientnet_v2\n",
        "import re\n",
        "import os\n",
        "from scipy.signal import get_window\n",
        "from typing import Optional, Tuple\n",
        "import warnings\n",
        "import random\n",
        "import math\n",
        "import tensorflow as tf\n",
        "import keras_efficientnet_v2\n",
        "from sklearn import metrics\n",
        "from sklearn.model_selection import KFold, StratifiedKFold\n",
        "from tensorflow.keras import backend as K\n",
        "from tensorflow.keras import mixed_precision\n",
        "import tensorflow_addons as tfa\n",
        "from kaggle_datasets import KaggleDatasets\n",
        "from tensorflow.keras.callbacks import EarlyStopping, ReduceLROnPlateau"
      ],
      "metadata": {
        "trusted": true,
        "id": "JqredabhLT5L"
      },
      "execution_count": null,
      "outputs": []
    },
    {
      "cell_type": "code",
      "source": [
        "# Function to get hardware strategy\n",
        "def get_hardware_strategy():\n",
        "    try:\n",
        "        # TPU detection. No parameters necessary if TPU_NAME environment variable is\n",
        "        # set: this is always the case on Kaggle.\n",
        "        tpu = tf.distribute.cluster_resolver.TPUClusterResolver()\n",
        "        print('Running on TPU ', tpu.master())\n",
        "    except ValueError:\n",
        "        tpu = None\n",
        "\n",
        "    if tpu:\n",
        "        tf.config.experimental_connect_to_cluster(tpu)\n",
        "        tf.tpu.experimental.initialize_tpu_system(tpu)\n",
        "        strategy = tf.distribute.experimental.TPUStrategy(tpu)\n",
        "        policy = mixed_precision.Policy('mixed_bfloat16')\n",
        "        mixed_precision.set_global_policy(policy)\n",
        "        tf.config.optimizer.set_jit(True)\n",
        "    else:\n",
        "        # Default distribution strategy in Tensorflow. Works on CPU and single GPU.\n",
        "        strategy = tf.distribute.get_strategy()\n",
        "\n",
        "    print(\"REPLICAS: \", strategy.num_replicas_in_sync)\n",
        "    return tpu, strategy\n",
        "\n",
        "tpu, strategy = get_hardware_strategy()"
      ],
      "metadata": {
        "_kg_hide-output": true,
        "trusted": true,
        "id": "S1EGHLJlLT5L"
      },
      "execution_count": null,
      "outputs": []
    },
    {
      "cell_type": "code",
      "source": [
        "# For tf.dataset\n",
        "AUTO = tf.data.experimental.AUTOTUNE\n",
        "\n",
        "# Data access (Train tf records)\n",
        "GCS_PATH1 = KaggleDatasets().get_gcs_path('g2net-tf-records-tr-bp-filter-1')\n",
        "GCS_PATH2 = KaggleDatasets().get_gcs_path('g2net-tf-records-tr-bp-filter-1')\n",
        "GCS_PATH3 = KaggleDatasets().get_gcs_path('g2net-tf-records-tr-bp-filter-3')\n",
        "# Data access (Test tf records)\n",
        "GCS_PATH4 = KaggleDatasets().get_gcs_path('g2net-tf-records-ts-bp-filter-1')\n",
        "GCS_PATH5 = KaggleDatasets().get_gcs_path('g2net-tf-records-ts-bp-filter-2')\n",
        "\n",
        "# Configuration\n",
        "EPOCHS = 30\n",
        "BATCH_SIZE = 16 * strategy.num_replicas_in_sync\n",
        "IMAGE_SIZE = [512, 512]\n",
        "# Seed\n",
        "SEED = 2021\n",
        "# Learning rate\n",
        "LR = 0.0001\n",
        "# Verbosity\n",
        "VERBOSE = 1\n",
        "\n",
        "# Training filenames directory\n",
        "TRAINING_FILENAMES = tf.io.gfile.glob(GCS_PATH1 + '/train*.tfrec') + tf.io.gfile.glob(GCS_PATH2 + '/train*.tfrec') + tf.io.gfile.glob(GCS_PATH3 + '/train*.tfrec')\n",
        "# Testing filenames directory\n",
        "TESTING_FILENAMES = tf.io.gfile.glob(GCS_PATH4 + '/test*.tfrec') + tf.io.gfile.glob(GCS_PATH5 + '/test*.tfrec')"
      ],
      "metadata": {
        "trusted": true,
        "id": "s6qgSyaoLT5L"
      },
      "execution_count": null,
      "outputs": []
    },
    {
      "cell_type": "code",
      "source": [
        "from sklearn.model_selection import train_test_split\n",
        "\n",
        "train_names, valid_names = train_test_split(TRAINING_FILENAMES, test_size = 0.20, random_state = 51)\n",
        "valid_names"
      ],
      "metadata": {
        "trusted": true,
        "id": "T_vS987XLT5M"
      },
      "execution_count": null,
      "outputs": []
    },
    {
      "cell_type": "code",
      "source": [
        "# Function to create cqt kernel\n",
        "def create_cqt_kernels(\n",
        "    q: float,\n",
        "    fs: float,\n",
        "    fmin: float,\n",
        "    n_bins: int = 84,\n",
        "    bins_per_octave: int = 12,\n",
        "    norm: float = 1,\n",
        "    window: str = \"tukey\",\n",
        "    fmax: Optional[float] = None,\n",
        "    topbin_check: bool = True\n",
        ") -> Tuple[np.ndarray, int, np.ndarray, float]:\n",
        "    fft_len = 2 ** _nextpow2(np.ceil(q * fs / fmin))\n",
        "\n",
        "    if (fmax is not None) and (n_bins is None):\n",
        "        n_bins = np.ceil(bins_per_octave * np.log2(fmax / fmin))\n",
        "        freqs = fmin * 2.0 ** (np.r_[0:n_bins] / np.float(bins_per_octave))\n",
        "    elif (fmax is None) and (n_bins is not None):\n",
        "        freqs = fmin * 2.0 ** (np.r_[0:n_bins] / np.float(bins_per_octave))\n",
        "    else:\n",
        "        warnings.warn(\"If nmax is given, n_bins will be ignored\", SyntaxWarning)\n",
        "        n_bins = np.ceil(bins_per_octave * np.log2(fmax / fmin))\n",
        "        freqs = fmin * 2.0 ** (np.r_[0:n_bins] / np.float(bins_per_octave))\n",
        "\n",
        "    if np.max(freqs) > fs / 2 and topbin_check:\n",
        "        raise ValueError(f\"The top bin {np.max(freqs)} Hz has exceeded the Nyquist frequency, \\\n",
        "                           please reduce the `n_bins`\")\n",
        "\n",
        "    kernel = np.zeros((int(n_bins), int(fft_len)), dtype=np.complex64)\n",
        "\n",
        "    length = np.ceil(q * fs / freqs)\n",
        "    for k in range(0, int(n_bins)):\n",
        "        freq = freqs[k]\n",
        "        l = np.ceil(q * fs / freq)\n",
        "\n",
        "        if l % 2 == 1:\n",
        "            start = int(np.ceil(fft_len / 2.0 - l / 2.0)) - 1\n",
        "        else:\n",
        "            start = int(np.ceil(fft_len / 2.0 - l / 2.0))\n",
        "\n",
        "        sig = get_window(window, int(l), fftbins=True) * np.exp(\n",
        "            np.r_[-l // 2:l // 2] * 1j * 2 * np.pi * freq / fs) / l\n",
        "\n",
        "        if norm:\n",
        "            kernel[k, start:start + int(l)] = sig / np.linalg.norm(sig, norm)\n",
        "        else:\n",
        "            kernel[k, start:start + int(l)] = sig\n",
        "    return kernel, fft_len, length, freqs\n",
        "\n",
        "\n",
        "def _nextpow2(a: float) -> int:\n",
        "    return int(np.ceil(np.log2(a)))\n",
        "\n",
        "# Function to prepare cqt kernel\n",
        "def prepare_cqt_kernel(\n",
        "    sr=22050,\n",
        "    hop_length=512,\n",
        "    fmin=30,\n",
        "    fmax=1024,\n",
        "    n_bins=84,\n",
        "    bins_per_octave=12,\n",
        "    norm=1,\n",
        "    filter_scale=1,\n",
        "    window=\"hann\"\n",
        "):\n",
        "    q = float(filter_scale) / (2 ** (1 / bins_per_octave) - 1)\n",
        "    print(q)\n",
        "    return create_cqt_kernels(q, sr, fmin, n_bins, bins_per_octave, norm, window, fmax)\n",
        "\n",
        "# Function to create cqt image\n",
        "def create_cqt_image(wave, hop_length=16):\n",
        "    CQTs = []\n",
        "    for i in range(3):\n",
        "        x = wave[i]\n",
        "        x = tf.expand_dims(tf.expand_dims(x, 0), 2)\n",
        "        x = tf.pad(x, PADDING, \"REFLECT\")\n",
        "\n",
        "        CQT_real = tf.nn.conv1d(x, CQT_KERNELS_REAL, stride=hop_length, padding=\"VALID\")\n",
        "        CQT_imag = -tf.nn.conv1d(x, CQT_KERNELS_IMAG, stride=hop_length, padding=\"VALID\")\n",
        "        CQT_real *= tf.math.sqrt(LENGTHS)\n",
        "        CQT_imag *= tf.math.sqrt(LENGTHS)\n",
        "\n",
        "        CQT = tf.math.sqrt(tf.pow(CQT_real, 2) + tf.pow(CQT_imag, 2))\n",
        "        CQTs.append(CQT[0])\n",
        "    return tf.stack(CQTs, axis=2)\n",
        "\n",
        "HOP_LENGTH = 6\n",
        "cqt_kernels, KERNEL_WIDTH, lengths, _ = prepare_cqt_kernel(\n",
        "    sr=2048,\n",
        "    hop_length=HOP_LENGTH,\n",
        "    fmin=20,\n",
        "    fmax=1024,\n",
        "    bins_per_octave=9)\n",
        "LENGTHS = tf.constant(lengths, dtype=tf.float32)\n",
        "CQT_KERNELS_REAL = tf.constant(np.swapaxes(cqt_kernels.real[:, np.newaxis, :], 0, 2))\n",
        "CQT_KERNELS_IMAG = tf.constant(np.swapaxes(cqt_kernels.imag[:, np.newaxis, :], 0, 2))\n",
        "PADDING = tf.constant([[0, 0],\n",
        "                        [KERNEL_WIDTH // 2, KERNEL_WIDTH // 2],\n",
        "                        [0, 0]])"
      ],
      "metadata": {
        "trusted": true,
        "id": "jsbHVxezLT5M"
      },
      "execution_count": null,
      "outputs": []
    },
    {
      "cell_type": "code",
      "source": [
        "# Function to seed everything\n",
        "def seed_everything(seed):\n",
        "    random.seed(seed)\n",
        "    np.random.seed(seed)\n",
        "    os.environ['PYTHONHASHSEED'] = str(seed)\n",
        "    tf.random.set_seed(seed)\n",
        "\n",
        "# Function to prepare image\n",
        "def prepare_image(wave):\n",
        "    # Decode raw\n",
        "    wave = tf.reshape(tf.io.decode_raw(wave, tf.float64), (3, 4096))\n",
        "    normalized_waves = []\n",
        "    # Normalize\n",
        "    for i in range(3):\n",
        "        normalized_wave = wave[i] / tf.math.reduce_max(wave[i])\n",
        "        normalized_waves.append(normalized_wave)\n",
        "    # Stack and cast\n",
        "    wave = tf.stack(normalized_waves)\n",
        "    wave = tf.cast(wave, tf.float32)\n",
        "    # Create image\n",
        "    image = create_cqt_image(wave, HOP_LENGTH)\n",
        "    # Resize image\n",
        "    image = tf.image.resize(image, [*IMAGE_SIZE])\n",
        "    # Reshape\n",
        "    image = tf.reshape(image, [*IMAGE_SIZE, 3])\n",
        "    return image\n",
        "\n",
        "# This function parse our images and also get the target variable\n",
        "def read_labeled_tfrecord(example):\n",
        "    LABELED_TFREC_FORMAT = {\n",
        "        'wave': tf.io.FixedLenFeature([], tf.string),\n",
        "        'wave_id': tf.io.FixedLenFeature([], tf.string),\n",
        "        'target': tf.io.FixedLenFeature([], tf.int64)\n",
        "    }\n",
        "    example = tf.io.parse_single_example(example, LABELED_TFREC_FORMAT)\n",
        "    image = prepare_image(example['wave'])\n",
        "    image_id = example['wave_id']\n",
        "    target = tf.cast(example['target'], tf.float32)\n",
        "    return image, image_id, target\n",
        "\n",
        "# This function parse our images and also get the target variable\n",
        "def read_unlabeled_tfrecord(example):\n",
        "    LABELED_TFREC_FORMAT = {\n",
        "        'wave': tf.io.FixedLenFeature([], tf.string),\n",
        "        'wave_id': tf.io.FixedLenFeature([], tf.string)\n",
        "    }\n",
        "    example = tf.io.parse_single_example(example, LABELED_TFREC_FORMAT)\n",
        "    image = prepare_image(example['wave'])\n",
        "    image_id = example['wave_id']\n",
        "    return image, image_id\n",
        "\n",
        "# This function loads TF Records and parse them into tensors\n",
        "def load_dataset(filenames, ordered = False, labeled = True):\n",
        "    ignore_order = tf.data.Options()\n",
        "    if not ordered:\n",
        "        ignore_order.experimental_deterministic = False\n",
        "\n",
        "    dataset = tf.data.TFRecordDataset(filenames, num_parallel_reads = AUTO)\n",
        "    dataset = dataset.with_options(ignore_order)\n",
        "    dataset = dataset.map(read_labeled_tfrecord if labeled else read_unlabeled_tfrecord, num_parallel_calls = AUTO)\n",
        "    return dataset\n",
        "\n",
        "# This function is to get our training dataset\n",
        "def get_training_dataset(filenames, ordered = False, labeled = True):\n",
        "    dataset = load_dataset(filenames, ordered = ordered, labeled = labeled)\n",
        "    dataset = dataset.repeat()\n",
        "    dataset = dataset.shuffle(2048)\n",
        "    dataset = dataset.batch(BATCH_SIZE)\n",
        "    dataset = dataset.prefetch(AUTO)\n",
        "    return dataset\n",
        "\n",
        "def get_validation_dataset(filenames, ordered = False, labeled = True):\n",
        "    dataset = load_dataset(filenames, ordered = ordered, labeled = labeled)\n",
        "    dataset = dataset.batch(BATCH_SIZE)\n",
        "    dataset = dataset.prefetch(AUTO)\n",
        "    return dataset\n",
        "\n",
        "# This function is to get our validation and test dataset\n",
        "def get_val_test_dataset(filenames, ordered = True, labeled = True):\n",
        "    dataset = load_dataset(filenames, ordered = ordered, labeled = labeled)\n",
        "    dataset = dataset.batch(BATCH_SIZE)\n",
        "    dataset = dataset.prefetch(AUTO)\n",
        "    return dataset\n",
        "\n",
        "# Function to count how many photos we have in\n",
        "def count_data_items(filenames):\n",
        "    # The number of data items is written in the name of the .tfrec files, i.e. flowers00-230.tfrec = 230 data items\n",
        "    n = [int(re.compile(r\"-([0-9]*)\\.\").search(filename).group(1)) for filename in filenames]\n",
        "    return np.sum(n)\n",
        "\n",
        "NUM_TRAINING_IMAGES = count_data_items(train_names)\n",
        "NUM_VALID_IMAGES = count_data_items(valid_names)\n",
        "NUM_TESTING_IMAGES = count_data_items(TESTING_FILENAMES)\n",
        "print(f'Dataset: {NUM_TRAINING_IMAGES} training images')\n",
        "print(f'Dataset: {NUM_VALID_IMAGES} valid images')\n",
        "print(f'Dataset: {NUM_TESTING_IMAGES} testing images')"
      ],
      "metadata": {
        "trusted": true,
        "id": "KzXb0OflLT5M"
      },
      "execution_count": null,
      "outputs": []
    },
    {
      "cell_type": "code",
      "source": [
        "# Learning rate callback function\n",
        "def get_lr_callback():\n",
        "    lr_start   = 0.0001\n",
        "    lr_max     = 0.000015 * BATCH_SIZE\n",
        "    lr_min     = 0.0000001\n",
        "    lr_ramp_ep = 3\n",
        "    lr_sus_ep  = 0\n",
        "    lr_decay   = 0.7\n",
        "\n",
        "    def lrfn(epoch):\n",
        "        if epoch < lr_ramp_ep:\n",
        "            lr = (lr_max - lr_start) / lr_ramp_ep * epoch + lr_start\n",
        "        elif epoch < lr_ramp_ep + lr_sus_ep:\n",
        "            lr = lr_max\n",
        "        else:\n",
        "            lr = (lr_max - lr_min) * lr_decay**(epoch - lr_ramp_ep - lr_sus_ep) + lr_min\n",
        "        return lr\n",
        "\n",
        "    lr_callback = tf.keras.callbacks.LearningRateScheduler(lrfn, verbose = VERBOSE)\n",
        "    return lr_callback\n",
        "\n",
        "# Function to create our EfficientNetB7 model\n",
        "def get_model():\n",
        "    with strategy.scope():\n",
        "        inp = tf.keras.layers.Input(shape = (*IMAGE_SIZE, 3))\n",
        "        x = keras_efficientnet_v2.EfficientNetV2XL(drop_connect_rate=0.2, num_classes=0, pretrained=\"imagenet21k-ft1k\")(inp)\n",
        "        x = tf.keras.layers.GlobalAveragePooling2D()(x)\n",
        "        output = tf.keras.layers.Dense(1, activation = 'sigmoid')(x)\n",
        "        model = tf.keras.models.Model(inputs = [inp], outputs = [output])\n",
        "        opt = tf.keras.optimizers.Adam(learning_rate = LR)\n",
        "        opt = tfa.optimizers.SWA(opt)\n",
        "        model.compile(\n",
        "            optimizer = opt,\n",
        "            loss = [tf.keras.losses.BinaryCrossentropy()],\n",
        "            metrics = [tf.keras.metrics.AUC()]\n",
        "        )\n",
        "        return model\n",
        "\n",
        "# Function to train a model with 100% of the data\n",
        "def train_and_evaluate():\n",
        "    print('\\n')\n",
        "    print('-'*50)\n",
        "    if tpu:\n",
        "        tf.tpu.experimental.initialize_tpu_system(tpu)\n",
        "    train_dataset = get_training_dataset(train_names, ordered = False, labeled = True)\n",
        "    train_dataset = train_dataset.map(lambda image, image_id, target: (image, target))\n",
        "\n",
        "    valid_dataset = get_validation_dataset(valid_names, ordered = False, labeled = True)\n",
        "    valid_dataset = valid_dataset.map(lambda image, image_id, target: (image, target))\n",
        "\n",
        "    STEPS_PER_EPOCH = NUM_TRAINING_IMAGES // (BATCH_SIZE * 4)\n",
        "    K.clear_session()\n",
        "    # Seed everything\n",
        "    seed_everything(SEED)\n",
        "    model = get_model()\n",
        "    es = EarlyStopping(patience = 5, restore_best_weights=True,verbose=1)\n",
        "    history = model.fit(train_dataset,\n",
        "                        validation_data = valid_dataset,\n",
        "                        steps_per_epoch = STEPS_PER_EPOCH,\n",
        "                        epochs = EPOCHS,\n",
        "                        callbacks = [get_lr_callback(), es],\n",
        "                        verbose = VERBOSE)\n",
        "\n",
        "    print('\\n')\n",
        "    print('-'*50)\n",
        "    print('Test inference...')\n",
        "    # Predict the test set\n",
        "    dataset = get_val_test_dataset(TESTING_FILENAMES, ordered = True, labeled = False)\n",
        "    image = dataset.map(lambda image, image_id: image)\n",
        "    test_predictions = model.predict(image).astype(np.float32).reshape(-1)\n",
        "    # Get the test set image_id\n",
        "    image_id = dataset.map(lambda image, image_id: image_id).unbatch()\n",
        "    image_id = next(iter(image_id.batch(NUM_TESTING_IMAGES))).numpy().astype('U')\n",
        "    # Create dataframe output\n",
        "    test_df = pd.DataFrame({'id': image_id, 'target': test_predictions})\n",
        "    # Save test dataframe to disk\n",
        "    test_df.to_csv(f'submission_efn_{IMAGE_SIZE[0]}_{SEED}.csv', index = False)\n",
        "\n",
        "train_and_evaluate()"
      ],
      "metadata": {
        "trusted": true,
        "id": "-a0NttBsLT5N"
      },
      "execution_count": null,
      "outputs": []
    },
    {
      "cell_type": "markdown",
      "source": [
        "# 6. Evaluation\n",
        "- We compiled both the models to keep track of  ROC AUC\n",
        "- The focus was on looking out for a good AUC value, which tells us that the model is good at separating the two classes well.\n",
        "- We compared the two models later and also see what kaggle submission scores we get from our predictions for the test dataset.\n",
        "\n",
        "The most basic direct comparison between the two models, our simple CNN and the EfficientNet, is summarized in the following table.\n",
        "\n",
        "<table>\n",
        "    <tr>\n",
        "        <th>Model</th>\n",
        "        <th>Train AUC</th>\n",
        "        <th>Val AUC</th>\n",
        "        <th>Test AUC (kaggle)</th>\n",
        "        <th>Avg time/epoch</th>\n",
        "    </tr>\n",
        "    <tr>\n",
        "        <td>Simple CNN</td>\n",
        "        <td>0.8363</td>\n",
        "        <td>0.8388</td>\n",
        "        <td>0.8435</td>\n",
        "        <td>3300s|55min</td>\n",
        "    </tr>\n",
        "     <tr>\n",
        "        <td>EfficientNetB7</td>\n",
        "        <td>0.8952</td>\n",
        "        <td>0.8800</td>\n",
        "        <td>0.8754</td>\n",
        "        <td>860s|15min</td>\n",
        "    </tr>\n",
        " <table>\n",
        "\n",
        "- Since the predictions made by model are predicted values for the classes, we can look at the predicted values to judge how well our model did classifying those, specifically how confidently did the model predicted those targets.\n",
        "- Closer the predicted probabilities of the target are to 0 and 1, we can say more confident the model output is."
      ],
      "metadata": {
        "id": "C8mE_Gc5LT5N"
      }
    },
    {
      "cell_type": "code",
      "source": [
        "# load the CNN predictions into a dataframe\n",
        "df_preds_cnn = pd.read_csv('../input/g2netassets/kaggle_sub_cnn.csv')\n",
        "df_preds_cnn.head()"
      ],
      "metadata": {
        "trusted": true,
        "id": "fO-7u5UHLT5N"
      },
      "execution_count": null,
      "outputs": []
    },
    {
      "cell_type": "code",
      "source": [
        "df_preds_cnn.shape"
      ],
      "metadata": {
        "trusted": true,
        "id": "GQEQM88sLT5N"
      },
      "execution_count": null,
      "outputs": []
    },
    {
      "cell_type": "code",
      "source": [
        "df_preds_cnn[(df_preds_cnn['target'] >= 0.9) | (df_preds_cnn['target'] <= 0.1)]['target'].count()"
      ],
      "metadata": {
        "trusted": true,
        "id": "Hc6HSkosLT5N"
      },
      "execution_count": null,
      "outputs": []
    },
    {
      "cell_type": "code",
      "source": [
        "df_preds_cnn[(df_preds_cnn['target'] >= 0.8) | (df_preds_cnn['target'] <= 0.2)]['target'].count()"
      ],
      "metadata": {
        "trusted": true,
        "id": "NZcngqi9LT5N"
      },
      "execution_count": null,
      "outputs": []
    },
    {
      "cell_type": "markdown",
      "source": [
        "- As you can see, out of the 226000 total test predictions, we can say that 74524, or ~33% of the values were predicted by the CNN model with high confidence (>80% probability) for either class\n",
        "- 48979 or ~22% were predicted with more than 90% probability.\n",
        "- Now this cannot be translated directly into good performance, without the true test values; but with further training, regularization and structure changes, we can seek to improve these values in the future."
      ],
      "metadata": {
        "id": "ASCOZTLQLT5O"
      }
    },
    {
      "cell_type": "code",
      "source": [
        "# load the EFNet predictions into a dataframe\n",
        "df_preds_efn = pd.read_csv('./submission_efn_512_2021.csv')\n",
        "df_preds_efn.head()"
      ],
      "metadata": {
        "trusted": true,
        "id": "uipTg_oILT5O"
      },
      "execution_count": null,
      "outputs": []
    },
    {
      "cell_type": "code",
      "source": [
        "df_preds_efn.shape"
      ],
      "metadata": {
        "trusted": true,
        "id": "w3_JckmELT5O"
      },
      "execution_count": null,
      "outputs": []
    },
    {
      "cell_type": "code",
      "source": [
        "df_preds_efn[(df_preds_efn['target'] >= 0.9) | (df_preds_efn['target'] <= 0.1)]['target'].count()"
      ],
      "metadata": {
        "trusted": true,
        "id": "WZyetgaoLT5O"
      },
      "execution_count": null,
      "outputs": []
    },
    {
      "cell_type": "code",
      "source": [
        "df_preds_efn[(df_preds_efn['target'] >= 0.8) | (df_preds_efn['target'] <= 0.2)]['target'].count()"
      ],
      "metadata": {
        "trusted": true,
        "id": "8LBjDMV_LT5O"
      },
      "execution_count": null,
      "outputs": []
    },
    {
      "cell_type": "markdown",
      "source": [
        "- Here, out of the 226000 total test predictions, we can say that 74524, or ~61% of the values were predicted by the EfficientNet model with high confidence (>80% probability) for either class\n",
        "- 70680 or ~31% were predicted with more than 90% probability."
      ],
      "metadata": {
        "id": "kTy2wwTCLT5O"
      }
    },
    {
      "cell_type": "markdown",
      "source": [
        "***\n",
        "# 7.Results & Conclusions\n",
        "\n",
        "- Gravitational Waves are NOT EASY to detect! Once detected, they are hard to find.\n",
        "- After sifting through a varierty of preprocessing steps, we transformed the orginal strain wave data into frequency spectrograms, which are images that we then used to train deep learning models.\n",
        "- One of the biggest challenges in this project was managing such a large dataset, which was solved by using the TensorFlow's tf.data API, and streamlining the entire workflow all the way from data import to model training & prediction tasks. This helped us achieve the goal of this project of building a pipeline that is flexible and can be reused in the future.\n",
        "- Our simple CNN architecture, just after 3 epochs, was performing more than expected.\n",
        "- The Efficient Net B7 model worked quite well with AUC score of 0.8754\n",
        "- We evaluated the models for ROC AUC score, as we wanted our model to be good at separating the two classes, but also tracked accuracy scores for comparison. Overall, we achieved AUC score of 0.8754 on the test dataset from kaggle."
      ],
      "metadata": {
        "id": "Illo7xWBLT5O"
      }
    },
    {
      "cell_type": "markdown",
      "source": [
        "***\n",
        "**References**\n",
        "1. [Enhancing gravitational-wave science with machine learning](https://iopscience.iop.org/article/10.1088/2632-2153/abb93a/pdf)\n",
        "2. [Improving significance of binary black hole mergers in Advanced LIGO data using deep learning](https://arxiv.org/abs/2010.08584)\n",
        "3. [GW Tutorials](https://www.gw-openscience.org/LVT151012data/LOSC_Event_tutorial_LVT151012.html#Intro-to-signal-processing)\n",
        "4. [tf.data: Build TensorFlow input pipelines](https://www.tensorflow.org/guide/data)\n",
        "5. [Image classification via fine-tuning with EfficientNet](https://keras.io/examples/vision/image_classification_efficientnet_fine_tuning/)"
      ],
      "metadata": {
        "id": "IygvAlDLLT5P"
      }
    }
  ]
}