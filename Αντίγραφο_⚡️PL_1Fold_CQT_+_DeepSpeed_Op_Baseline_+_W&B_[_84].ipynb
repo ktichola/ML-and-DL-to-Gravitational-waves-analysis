{
  "metadata": {
    "kernelspec": {
      "language": "python",
      "display_name": "Python 3",
      "name": "python3"
    },
    "language_info": {
      "name": "python",
      "version": "3.7.10",
      "mimetype": "text/x-python",
      "codemirror_mode": {
        "name": "ipython",
        "version": 3
      },
      "pygments_lexer": "ipython3",
      "nbconvert_exporter": "python",
      "file_extension": ".py"
    },
    "kaggle": {
      "accelerator": "gpu",
      "dataSources": [
        {
          "sourceId": 23249,
          "databundleVersionId": 2399555,
          "sourceType": "competition"
        },
        {
          "sourceId": 3951115,
          "sourceType": "datasetVersion",
          "datasetId": 1027206
        }
      ],
      "dockerImageVersionId": 30121,
      "isInternetEnabled": true,
      "language": "python",
      "sourceType": "notebook",
      "isGpuEnabled": true
    },
    "colab": {
      "provenance": [],
      "include_colab_link": true
    }
  },
  "nbformat_minor": 0,
  "nbformat": 4,
  "cells": [
    {
      "cell_type": "markdown",
      "metadata": {
        "id": "view-in-github",
        "colab_type": "text"
      },
      "source": [
        "<a href=\"https://colab.research.google.com/github/ktichola/ML-and-DL-to-Gravitational-waves-analysis/blob/main/%CE%91%CE%BD%CF%84%CE%AF%CE%B3%CF%81%CE%B1%CF%86%CE%BF_%E2%9A%A1%EF%B8%8FPL_1Fold_CQT_%2B_DeepSpeed_Op_Baseline_%2B_W%26B_%5B_84%5D.ipynb\" target=\"_parent\"><img src=\"https://colab.research.google.com/assets/colab-badge.svg\" alt=\"Open In Colab\"/></a>"
      ]
    },
    {
      "source": [
        "\n",
        "# IMPORTANT: RUN THIS CELL IN ORDER TO IMPORT YOUR KAGGLE DATA SOURCES\n",
        "# TO THE CORRECT LOCATION (/kaggle/input) IN YOUR NOTEBOOK,\n",
        "# THEN FEEL FREE TO DELETE THIS CELL.\n",
        "# NOTE: THIS NOTEBOOK ENVIRONMENT DIFFERS FROM KAGGLE'S PYTHON\n",
        "# ENVIRONMENT SO THERE MAY BE MISSING LIBRARIES USED BY YOUR\n",
        "# NOTEBOOK.\n",
        "\n",
        "import os\n",
        "import sys\n",
        "from tempfile import NamedTemporaryFile\n",
        "from urllib.request import urlopen\n",
        "from urllib.parse import unquote, urlparse\n",
        "from urllib.error import HTTPError\n",
        "from zipfile import ZipFile\n",
        "import tarfile\n",
        "import shutil\n",
        "\n",
        "CHUNK_SIZE = 40960\n",
        "DATA_SOURCE_MAPPING = 'g2net-gravitational-wave-detection:https%3A%2F%2Fstorage.googleapis.com%2Fkaggle-competitions-data%2Fkaggle-v2%2F23249%2F2399555%2Fbundle%2Farchive.zip%3FX-Goog-Algorithm%3DGOOG4-RSA-SHA256%26X-Goog-Credential%3Dgcp-kaggle-com%2540kaggle-161607.iam.gserviceaccount.com%252F20240505%252Fauto%252Fstorage%252Fgoog4_request%26X-Goog-Date%3D20240505T112901Z%26X-Goog-Expires%3D259200%26X-Goog-SignedHeaders%3Dhost%26X-Goog-Signature%3D8f68b093f2d3d49bc60cacc856ce24cb2c135be75ef84551a7f1fe01f5200deea12a56e6ce577f1b1cd8234a4da9b0f1ae2af45595e7410fe57b015f6340803d483de812e92a900294dd85a1bb172d1d27b383637a4447f8a4b39fd78d5d6d7467fae324c6f74b6e1b66c8fbf2d627d48ef32b21dbfc6b30a46202dde5e21f498d07a8253334d65d9a86e408636d09cf1c10c391c6d7846ce0fc1fcc86ac1fbb13d4166fa226a26e989de2b0edfc1a9e672caad22b8431b6fa0ce8a1a9ee82f9141c1b92d96cbb87d2861ff838ef301beffc18fe64d228c8b3f7875577294c4daef499041bc93d107d00f4387ccf7ac0c09d38d511898b3283d8890f884771e1,timm-pytorch-image-models:https%3A%2F%2Fstorage.googleapis.com%2Fkaggle-data-sets%2F1027206%2F3951115%2Fbundle%2Farchive.zip%3FX-Goog-Algorithm%3DGOOG4-RSA-SHA256%26X-Goog-Credential%3Dgcp-kaggle-com%2540kaggle-161607.iam.gserviceaccount.com%252F20240505%252Fauto%252Fstorage%252Fgoog4_request%26X-Goog-Date%3D20240505T112902Z%26X-Goog-Expires%3D259200%26X-Goog-SignedHeaders%3Dhost%26X-Goog-Signature%3D9c25cb85ce4c89d4e9b5570106eda559db9199e8ffd003d8a57dc9d6f002809fc937cc51dfe4341f35c3c6f0c8ada0fd4bb7cf16f2bf356fb86f02a24c3c4c941bca3d38ab2788a768788c5377abb4edcccb434c44877c1a9ebe9ef1800cbac470abdff43b860962f3526577571511c9ae7ac0e3210829f824364313239bb0b5827643e99855a8b22574e7b72f73f4f6f8d6e2864f7ac8c6c79949e3c23cc5229a6c94dce76bf15146815affb88a2de5ea88dfd5ad729c2b64f9719385e09e236da5fb7d670e33424d6440f2cf8f52e50944f63df4772af292d81cb6da7c46377870bfa350892e6516b2d743640a11d66d749dce83219b1b251198b8c86975cd'\n",
        "\n",
        "KAGGLE_INPUT_PATH='/kaggle/input'\n",
        "KAGGLE_WORKING_PATH='/kaggle/working'\n",
        "KAGGLE_SYMLINK='kaggle'\n",
        "\n",
        "!umount /kaggle/input/ 2> /dev/null\n",
        "shutil.rmtree('/kaggle/input', ignore_errors=True)\n",
        "os.makedirs(KAGGLE_INPUT_PATH, 0o777, exist_ok=True)\n",
        "os.makedirs(KAGGLE_WORKING_PATH, 0o777, exist_ok=True)\n",
        "\n",
        "try:\n",
        "  os.symlink(KAGGLE_INPUT_PATH, os.path.join(\"..\", 'input'), target_is_directory=True)\n",
        "except FileExistsError:\n",
        "  pass\n",
        "try:\n",
        "  os.symlink(KAGGLE_WORKING_PATH, os.path.join(\"..\", 'working'), target_is_directory=True)\n",
        "except FileExistsError:\n",
        "  pass\n",
        "\n",
        "for data_source_mapping in DATA_SOURCE_MAPPING.split(','):\n",
        "    directory, download_url_encoded = data_source_mapping.split(':')\n",
        "    download_url = unquote(download_url_encoded)\n",
        "    filename = urlparse(download_url).path\n",
        "    destination_path = os.path.join(KAGGLE_INPUT_PATH, directory)\n",
        "    try:\n",
        "        with urlopen(download_url) as fileres, NamedTemporaryFile() as tfile:\n",
        "            total_length = fileres.headers['content-length']\n",
        "            print(f'Downloading {directory}, {total_length} bytes compressed')\n",
        "            dl = 0\n",
        "            data = fileres.read(CHUNK_SIZE)\n",
        "            while len(data) > 0:\n",
        "                dl += len(data)\n",
        "                tfile.write(data)\n",
        "                done = int(50 * dl / int(total_length))\n",
        "                sys.stdout.write(f\"\\r[{'=' * done}{' ' * (50-done)}] {dl} bytes downloaded\")\n",
        "                sys.stdout.flush()\n",
        "                data = fileres.read(CHUNK_SIZE)\n",
        "            if filename.endswith('.zip'):\n",
        "              with ZipFile(tfile) as zfile:\n",
        "                zfile.extractall(destination_path)\n",
        "            else:\n",
        "              with tarfile.open(tfile.name) as tarfile:\n",
        "                tarfile.extractall(destination_path)\n",
        "            print(f'\\nDownloaded and uncompressed: {directory}')\n",
        "    except HTTPError as e:\n",
        "        print(f'Failed to load (likely expired) {download_url} to path {destination_path}')\n",
        "        continue\n",
        "    except OSError as e:\n",
        "        print(f'Failed to load {download_url} to path {destination_path}')\n",
        "        continue\n",
        "\n",
        "print('Data source import complete.')\n"
      ],
      "metadata": {
        "id": "p3zZkbeEg7fN"
      },
      "cell_type": "code",
      "outputs": [],
      "execution_count": null
    },
    {
      "cell_type": "markdown",
      "source": [
        "<p p style = \"font-family: garamond; font-size:40px; font-style: normal;background-color: #f6f5f5; color :#6666ff; border-radius: 10px 10px; text-align:center\">G2Net Gravitational Waves</p>\n",
        "\n",
        "![](https://www.g2net.eu/wp-content/uploads/2019/07/2ndconference_V2-1170x600.jpg)\n",
        "\n",
        "\n",
        "\n",
        "<p p style = \"font-family: garamond; font-size:30px; font-style: normal;background-color: #f6f5f5; color :#006699; border-radius: 10px 10px; text-align:center\">\n",
        "The breakthrough discovery of gravitational waves on September 14, 2015 was made possible through synergy of techniques drawing from expertise in physics, mathematics, information science and computing. In this competition you are provided with a training set of time series data containing simulated gravitational wave measurements from a network of 3 gravitational wave interferometers (LIGO Hanford, LIGO Livingston, and Virgo). Each time series contains either detector noise or detector noise plus a simulated gravitational wave signal.</p>\n",
        "\n",
        "<center><img src=\"https://www.phys.ufl.edu/wp/wp-content/uploads/2020/09/image.png\" width=\"1000\" alt=\"Weights & Biases\" /></center><br>"
      ],
      "metadata": {
        "id": "0XmYISm7g7fQ"
      }
    },
    {
      "cell_type": "markdown",
      "source": [
        "<p p style = \"font-family: garamond; font-size:40px; font-style: normal;background-color: #f6f5f5; color :#6666ff; border-radius: 10px 10px; text-align:center\">What are we discussing today? </p>\n",
        " <p p style = \"font-family: garamond; font-size:30px; font-style: normal;background-color: #f6f5f5; color :#006699; border-radius: 10px 10px; text-align:center\"> Constant Q Transform<br>\n",
        " DeepSpeed Fused Adam optimizer <br>\n",
        " Pytorch Lightning <br>\n",
        " Stratified K-Fold with PL ⚡️ <br>\n",
        " Weights and Biases for Experiment Tracking including W&B Tables"
      ],
      "metadata": {
        "id": "JSpThNlzg7fR"
      }
    },
    {
      "cell_type": "markdown",
      "source": [
        "<p p style = \"font-family: garamond; font-size:35px; font-style: normal;background-color: #f6f5f5; color :#ff0066; border-radius: 10px 10px; text-align:center\">Upvote the kernel if you find it insightful!</p>"
      ],
      "metadata": {
        "id": "IcQcdzx2g7fR"
      }
    },
    {
      "cell_type": "code",
      "source": [
        "import sys\n",
        "sys.path.append('../input/timm-pytorch-image-models/pytorch-image-models-master')"
      ],
      "metadata": {
        "_uuid": "8f2839f25d086af736a60e9eeb907d3b93b6e0e5",
        "_cell_guid": "b1076dfc-b9ad-4769-8c92-a6c4dae69d19",
        "_kg_hide-input": true,
        "execution": {
          "iopub.status.busy": "2024-05-05T11:26:44.862221Z",
          "iopub.execute_input": "2024-05-05T11:26:44.862608Z",
          "iopub.status.idle": "2024-05-05T11:26:44.873905Z",
          "shell.execute_reply.started": "2024-05-05T11:26:44.862532Z",
          "shell.execute_reply": "2024-05-05T11:26:44.872918Z"
        },
        "trusted": true,
        "id": "WnF_SVbvg7fS"
      },
      "execution_count": null,
      "outputs": []
    },
    {
      "cell_type": "markdown",
      "source": [
        "<center><img src=\"https://i.imgur.com/gb6B4ig.png\" width=\"400\" alt=\"Weights & Biases\" /></center><br>\n",
        "<p style = \"font-family: garamond; font-size: 20px; font-style: normal; border-radius: 10px 10px; text-align:center\">Wandb is a developer tool for companies turn deep learning research projects into deployed software by helping teams track their models, visualize model performance and easily automate training and improving models.\n",
        "We will use their tools to log hyperparameters and output metrics from your runs, then visualize and compare results and quickly share findings with your colleagues.<br><br>We'll be using this to train our K Fold Cross Validation and gain better insights about our training. <br><br></p>\n",
        "\n",
        "![img](https://i.imgur.com/BGgfZj3.png)"
      ],
      "metadata": {
        "id": "PxOnJv_3g7fS"
      }
    },
    {
      "cell_type": "code",
      "source": [
        "!pip install --upgrade -q wandb\n",
        "!pip install -q pytorch-lightning\n",
        "!pip install -q nnAudio\n",
        "!pip install -q deepspeed\n",
        "!pip install -q timm"
      ],
      "metadata": {
        "_kg_hide-input": true,
        "_kg_hide-output": true,
        "execution": {
          "iopub.status.busy": "2024-05-05T11:26:44.875496Z",
          "iopub.execute_input": "2024-05-05T11:26:44.875813Z",
          "iopub.status.idle": "2024-05-05T11:27:40.84059Z",
          "shell.execute_reply.started": "2024-05-05T11:26:44.875775Z",
          "shell.execute_reply": "2024-05-05T11:27:40.839645Z"
        },
        "trusted": true,
        "id": "L0tWUBkag7fS",
        "outputId": "b512f850-5bf1-4190-ceb7-2f214883c7f6"
      },
      "execution_count": null,
      "outputs": [
        {
          "name": "stdout",
          "text": "\u001b[31mERROR: pip's dependency resolver does not currently take into account all the packages that are installed. This behaviour is the source of the following dependency conflicts.\nallennlp 2.5.0 requires wandb<0.11.0,>=0.10.0, but you have wandb 0.16.6 which is incompatible.\u001b[0m\n\u001b[33mWARNING: Running pip as root will break packages and permissions. You should install packages reliably by using venv: https://pip.pypa.io/warnings/venv\u001b[0m\n\u001b[33mWARNING: Running pip as root will break packages and permissions. You should install packages reliably by using venv: https://pip.pypa.io/warnings/venv\u001b[0m\n\u001b[33mWARNING: Running pip as root will break packages and permissions. You should install packages reliably by using venv: https://pip.pypa.io/warnings/venv\u001b[0m\n\u001b[33mWARNING: Running pip as root will break packages and permissions. You should install packages reliably by using venv: https://pip.pypa.io/warnings/venv\u001b[0m\n\u001b[33mWARNING: Running pip as root will break packages and permissions. You should install packages reliably by using venv: https://pip.pypa.io/warnings/venv\u001b[0m\n",
          "output_type": "stream"
        }
      ]
    },
    {
      "cell_type": "markdown",
      "source": [
        "<p p style = \"font-family: garamond; font-size:30px; font-style: normal;background-color: #f6f5f5; color :#6666ff; border-radius: 10px 10px; text-align:center\">Import Libraries</p>"
      ],
      "metadata": {
        "id": "Hj56GYbGg7fT"
      }
    },
    {
      "cell_type": "code",
      "source": [
        "# Hide Warning\n",
        "import warnings\n",
        "warnings.filterwarnings('ignore', category=DeprecationWarning)\n",
        "warnings.filterwarnings('ignore', category=FutureWarning)\n",
        "warnings.filterwarnings('ignore', category=UserWarning)\n",
        "\n",
        "# Python Libraries\n",
        "from tqdm import tqdm\n",
        "from collections import defaultdict\n",
        "import pandas as pd\n",
        "import numpy as np\n",
        "import os\n",
        "import random\n",
        "import glob\n",
        "import math\n",
        "\n",
        "\n",
        "# Visualizations\n",
        "from PIL import Image\n",
        "import matplotlib.pyplot as plt\n",
        "import seaborn as sns\n",
        "import cv2\n",
        "import plotly.express as px\n",
        "%matplotlib inline\n",
        "sns.set(style=\"whitegrid\")\n",
        "\n",
        "# Utilities and Metrics\n",
        "from sklearn.model_selection import StratifiedKFold, train_test_split, KFold\n",
        "from sklearn.metrics import roc_auc_score\n",
        "\n",
        "# Pytorch\n",
        "import torch\n",
        "import torch.nn as nn\n",
        "import torch.nn.functional as F\n",
        "from torch.optim import Adam, SGD\n",
        "from torch.utils.data import Dataset, DataLoader, WeightedRandomSampler\n",
        "from torch.optim.lr_scheduler import CosineAnnealingLR\n",
        "from torch.optim.optimizer import Optimizer, required\n",
        "from pytorch_lightning.plugins import DeepSpeedPlugin\n",
        "from deepspeed.ops.adam import FusedAdam\n",
        "\n",
        "\n",
        "# Pytorch Lightning\n",
        "import pytorch_lightning as pl\n",
        "from pytorch_lightning import seed_everything\n",
        "from pytorch_lightning import Callback\n",
        "from pytorch_lightning.callbacks import ModelCheckpoint, EarlyStopping\n",
        "from pytorch_lightning.loggers import WandbLogger\n",
        "\n",
        "# Pytorch Image Models\n",
        "import timm\n",
        "\n",
        "# Image Augmentation Library\n",
        "import albumentations\n",
        "from albumentations.pytorch import ToTensorV2\n",
        "from albumentations.core.transforms_interface import DualTransform\n",
        "from albumentations.augmentations import functional as AF\n",
        "\n",
        "from nnAudio.Spectrogram import CQT2010v2, MFCC, CQT1992v2, MelSpectrogram\n",
        "\n",
        "\n",
        "# Weights and Biases Tool\n",
        "import wandb\n",
        "wandb.login()"
      ],
      "metadata": {
        "execution": {
          "iopub.status.busy": "2024-05-05T11:27:40.842958Z",
          "iopub.execute_input": "2024-05-05T11:27:40.84334Z",
          "iopub.status.idle": "2024-05-05T11:28:24.054304Z",
          "shell.execute_reply.started": "2024-05-05T11:27:40.843298Z",
          "shell.execute_reply": "2024-05-05T11:28:24.053342Z"
        },
        "trusted": true,
        "id": "F10GyFzhg7fT",
        "outputId": "bfb28337-1b91-4172-a23d-a52132a9c4ca"
      },
      "execution_count": null,
      "outputs": [
        {
          "name": "stdout",
          "text": "[2024-05-05 11:27:45,163] [INFO] [real_accelerator.py:203:get_accelerator] Setting ds_accelerator to cuda (auto detect)\n\u001b[93m [WARNING] \u001b[0m async_io requires the dev libaio .so object and headers but these were not found.\n\u001b[93m [WARNING] \u001b[0m async_io: please install the libaio-dev package with apt\n\u001b[93m [WARNING] \u001b[0m If libaio is already installed (perhaps from source), try setting the CFLAGS and LDFLAGS environment variables to where it can be found.\n\u001b[93m [WARNING] \u001b[0m Please specify the CUTLASS repo directory as environment variable $CUTLASS_PATH\n\u001b[93m [WARNING] \u001b[0m NVIDIA Inference is only supported on Ampere and newer architectures\n\u001b[93m [WARNING] \u001b[0m please install triton==1.0.0 if you want to use sparse attention\n",
          "output_type": "stream"
        },
        {
          "name": "stderr",
          "text": "/opt/conda/lib/python3.7/site-packages/nnAudio/Spectrogram.py:7: Warning: importing Spectrogram subpackage will be deprecated soon. You should import the feature extractor from the feature subpackage. See actual documentation.\n  category=Warning,\n\u001b[34m\u001b[1mwandb\u001b[0m: Logging into wandb.ai. (Learn how to deploy a W&B server locally: https://wandb.me/wandb-server)\n\u001b[34m\u001b[1mwandb\u001b[0m: You can find your API key in your browser here: https://wandb.ai/authorize\n\u001b[34m\u001b[1mwandb\u001b[0m: Paste an API key from your profile and hit enter, or press ctrl+c to quit: ",
          "output_type": "stream"
        },
        {
          "output_type": "stream",
          "name": "stdin",
          "text": " ········································\n"
        },
        {
          "name": "stderr",
          "text": "\u001b[34m\u001b[1mwandb\u001b[0m: Appending key for api.wandb.ai to your netrc file: /root/.netrc\n",
          "output_type": "stream"
        },
        {
          "execution_count": 3,
          "output_type": "execute_result",
          "data": {
            "text/plain": "True"
          },
          "metadata": {}
        }
      ]
    },
    {
      "cell_type": "markdown",
      "source": [
        "<p p style = \"font-family: garamond; font-size:30px; font-style: normal;background-color: #f6f5f5; color :#6666ff; border-radius: 10px 10px; text-align:center\">Define Configurations/Parameters</p>"
      ],
      "metadata": {
        "id": "SSbpamD5g7fT"
      }
    },
    {
      "cell_type": "code",
      "source": [
        "params = {\n",
        "    'seed': 42,\n",
        "    'model': 'efficientnet_b1',\n",
        "    'size' : 224,\n",
        "    'inp_channels': 1,\n",
        "    'lr': 1e-3,\n",
        "    'weight_decay': 1e-6,\n",
        "    'batch_size': 64,\n",
        "    'num_workers' : 8,\n",
        "    'epochs': 5,\n",
        "    'out_features': 1,\n",
        "    'name': 'CosineAnnealingLR',\n",
        "    'T_max': 10,\n",
        "    'min_lr': 1e-6,\n",
        "    'nfolds': 5,\n",
        "    'precision': 16,\n",
        "    'competetion': 'G2Net',\n",
        "    '_wandb_kernel':'tang'\n",
        "}"
      ],
      "metadata": {
        "execution": {
          "iopub.status.busy": "2024-05-05T11:28:24.056057Z",
          "iopub.execute_input": "2024-05-05T11:28:24.056337Z",
          "iopub.status.idle": "2024-05-05T11:28:24.061831Z",
          "shell.execute_reply.started": "2024-05-05T11:28:24.056307Z",
          "shell.execute_reply": "2024-05-05T11:28:24.060933Z"
        },
        "trusted": true,
        "id": "omsxea1Bg7fU"
      },
      "execution_count": null,
      "outputs": []
    },
    {
      "cell_type": "markdown",
      "source": [
        "<p p style = \"font-family: garamond; font-size:30px; font-style: normal;background-color: #f6f5f5; color :#6666ff; border-radius: 10px 10px; text-align:center\">Define Seed for Reproducibility</p>"
      ],
      "metadata": {
        "id": "PXhMxr_fg7fU"
      }
    },
    {
      "cell_type": "code",
      "source": [
        "def seed_everything(seed=42):\n",
        "    os.environ['PYTHONHASHSEED'] = str(seed)\n",
        "    np.random.seed(seed)\n",
        "    random.seed(seed)\n",
        "    torch.manual_seed(seed)\n",
        "    torch.cuda.manual_seed(seed)\n",
        "    torch.backends.cudnn.deterministic = True\n",
        "    torch.backends.cudnn.benchmark = True\n",
        "\n",
        "seed_everything(params['seed'])"
      ],
      "metadata": {
        "execution": {
          "iopub.status.busy": "2024-05-05T11:28:24.063857Z",
          "iopub.execute_input": "2024-05-05T11:28:24.064159Z",
          "iopub.status.idle": "2024-05-05T11:28:24.090359Z",
          "shell.execute_reply.started": "2024-05-05T11:28:24.064129Z",
          "shell.execute_reply": "2024-05-05T11:28:24.089431Z"
        },
        "trusted": true,
        "id": "L1p_nnoIg7fU"
      },
      "execution_count": null,
      "outputs": []
    },
    {
      "cell_type": "markdown",
      "source": [
        "<p p style = \"font-family: garamond; font-size:30px; font-style: normal;background-color: #f6f5f5; color :#6666ff; border-radius: 10px 10px; text-align:center\">Load Train and Test</p>"
      ],
      "metadata": {
        "id": "bpY5Tjjxg7fU"
      }
    },
    {
      "cell_type": "code",
      "source": [
        "train_dir = ('../input/g2net-gravitational-wave-detection/train')\n",
        "test_dir = ('../input/g2net-gravitational-wave-detection/test')\n",
        "train_df = pd.read_csv('../input/g2net-gravitational-wave-detection/training_labels.csv')\n",
        "test_df = pd.read_csv('../input/g2net-gravitational-wave-detection/sample_submission.csv')"
      ],
      "metadata": {
        "execution": {
          "iopub.status.busy": "2024-05-05T11:28:24.091619Z",
          "iopub.execute_input": "2024-05-05T11:28:24.091961Z",
          "iopub.status.idle": "2024-05-05T11:28:24.713646Z",
          "shell.execute_reply.started": "2024-05-05T11:28:24.091932Z",
          "shell.execute_reply": "2024-05-05T11:28:24.712835Z"
        },
        "trusted": true,
        "id": "QFKAK5Qug7fU"
      },
      "execution_count": null,
      "outputs": []
    },
    {
      "cell_type": "code",
      "source": [
        "def return_filpath(name, folder=train_dir):\n",
        "    path = os.path.join(folder, f'{name[0]}/{name[1]}/{name[2]}/{name}.npy')\n",
        "    return path"
      ],
      "metadata": {
        "execution": {
          "iopub.status.busy": "2024-05-05T11:28:24.716921Z",
          "iopub.execute_input": "2024-05-05T11:28:24.717367Z",
          "iopub.status.idle": "2024-05-05T11:28:24.722055Z",
          "shell.execute_reply.started": "2024-05-05T11:28:24.717321Z",
          "shell.execute_reply": "2024-05-05T11:28:24.721045Z"
        },
        "trusted": true,
        "id": "TGiHvaFfg7fU"
      },
      "execution_count": null,
      "outputs": []
    },
    {
      "cell_type": "code",
      "source": [
        "train_df['image_path'] = train_df['id'].apply(lambda x: return_filpath(x))\n",
        "test_df['image_path'] = test_df['id'].apply(lambda x: return_filpath(x, folder=test_dir))\n",
        "train_df.head()"
      ],
      "metadata": {
        "execution": {
          "iopub.status.busy": "2024-05-05T11:28:24.723499Z",
          "iopub.execute_input": "2024-05-05T11:28:24.723846Z",
          "iopub.status.idle": "2024-05-05T11:28:27.02302Z",
          "shell.execute_reply.started": "2024-05-05T11:28:24.723815Z",
          "shell.execute_reply": "2024-05-05T11:28:27.021845Z"
        },
        "trusted": true,
        "id": "Uzwj1PA-g7fU",
        "outputId": "70916f5e-5e56-44f9-cedf-1f618925cd9e"
      },
      "execution_count": null,
      "outputs": [
        {
          "execution_count": 8,
          "output_type": "execute_result",
          "data": {
            "text/plain": "           id  target                                         image_path\n0  00000e74ad       1  ../input/g2net-gravitational-wave-detection/tr...\n1  00001f4945       0  ../input/g2net-gravitational-wave-detection/tr...\n2  0000661522       0  ../input/g2net-gravitational-wave-detection/tr...\n3  00007a006a       0  ../input/g2net-gravitational-wave-detection/tr...\n4  0000a38978       1  ../input/g2net-gravitational-wave-detection/tr...",
            "text/html": "<div>\n<style scoped>\n    .dataframe tbody tr th:only-of-type {\n        vertical-align: middle;\n    }\n\n    .dataframe tbody tr th {\n        vertical-align: top;\n    }\n\n    .dataframe thead th {\n        text-align: right;\n    }\n</style>\n<table border=\"1\" class=\"dataframe\">\n  <thead>\n    <tr style=\"text-align: right;\">\n      <th></th>\n      <th>id</th>\n      <th>target</th>\n      <th>image_path</th>\n    </tr>\n  </thead>\n  <tbody>\n    <tr>\n      <th>0</th>\n      <td>00000e74ad</td>\n      <td>1</td>\n      <td>../input/g2net-gravitational-wave-detection/tr...</td>\n    </tr>\n    <tr>\n      <th>1</th>\n      <td>00001f4945</td>\n      <td>0</td>\n      <td>../input/g2net-gravitational-wave-detection/tr...</td>\n    </tr>\n    <tr>\n      <th>2</th>\n      <td>0000661522</td>\n      <td>0</td>\n      <td>../input/g2net-gravitational-wave-detection/tr...</td>\n    </tr>\n    <tr>\n      <th>3</th>\n      <td>00007a006a</td>\n      <td>0</td>\n      <td>../input/g2net-gravitational-wave-detection/tr...</td>\n    </tr>\n    <tr>\n      <th>4</th>\n      <td>0000a38978</td>\n      <td>1</td>\n      <td>../input/g2net-gravitational-wave-detection/tr...</td>\n    </tr>\n  </tbody>\n</table>\n</div>"
          },
          "metadata": {}
        }
      ]
    },
    {
      "cell_type": "code",
      "source": [
        "train_df = train_df.sample(n=50000, random_state=params['seed']).reset_index(drop=True)"
      ],
      "metadata": {
        "execution": {
          "iopub.status.busy": "2024-05-05T11:28:27.02445Z",
          "iopub.execute_input": "2024-05-05T11:28:27.024829Z",
          "iopub.status.idle": "2024-05-05T11:28:27.127168Z",
          "shell.execute_reply.started": "2024-05-05T11:28:27.024787Z",
          "shell.execute_reply": "2024-05-05T11:28:27.126038Z"
        },
        "trusted": true,
        "id": "mM68JGaZg7fV"
      },
      "execution_count": null,
      "outputs": []
    },
    {
      "cell_type": "markdown",
      "source": [
        "<center><img src=\"https://i.imgur.com/gb6B4ig.png\" width=\"400\" alt=\"Weights & Biases\" /></center><br>\n",
        "<p style = \"font-family: garamond; font-size: 20px; font-style: normal; border-radius: 10px 10px; text-align:center\">W&B Tables accelerate the ML development lifecycle by giving users the ability to rapidly extract meaningful insights from data. The W&B Table Visualizer provides an interactive interface to perform powerful analytics functions like grouping, joining, and creating custom fields while simultaneously supporting rich media annotations such as bounding boxes and segmentation masks.<br><br> W&B Tables is designed generically to work well for a wide range of use cases - from analyzing intermediate data transformations to reviewing model predictions - while being directly integrated directly into the WB UI dashboard, allowing users to learn, adapt, and improve their models effectively and efficiently.</p>"
      ],
      "metadata": {
        "id": "rLjIf_f-g7fV"
      }
    },
    {
      "cell_type": "markdown",
      "source": [
        "<p p style = \"font-family: garamond; font-size:30px; font-style: normal;background-color: #f6f5f5; color :#6666ff; border-radius: 10px 10px; text-align:center\">Constant Q Transform</p>\n",
        "\n",
        "<p style = \"font-family: garamond; font-size: 20px; font-style: normal; border-radius: 10px 10px; text-align:center\"> In mathematics and signal processing, the constant-Q transform, simply known as CQT transforms a data series to the frequency domain. It is related to the Fourier transform[1] and very closely related to the complex Morlet wavelet transform.<br><br> An efficient method of transforming a discrete Fourier transform (DFT) into a constant Q transform, where Q is the ratio of center frequency to bandwidth, has been devised. This method involves the calculation of kernels that are then applied to each subsequent DFT. Only a few multiples are involved in the calculation of each component of the constant Q transform, so this transformation adds a small amount to the computation. In effect, this method makes it possible to take full advantage of the computational efficiency of the fast Fourier transform (FFT)."
      ],
      "metadata": {
        "id": "unalIzCCg7fV"
      }
    },
    {
      "cell_type": "code",
      "source": [
        "run = wandb.init(project='G2Net-PL-Baseline',\n",
        "                           config=params,\n",
        "                           group='Effnet-CQT',\n",
        "                           job_type='Visualize')\n",
        "\n",
        "sample_data_tables = wandb.Table(columns=[\"ID\",\"CQT\", \"target\"])\n",
        "\n",
        "\n",
        "def apply_qtransform(waves, transform=CQT1992v2(sr=2048, fmin=20, fmax=1024, hop_length=64)):\n",
        "    waves = np.hstack(waves)\n",
        "    waves = waves / np.max(waves)\n",
        "    waves = torch.from_numpy(waves).float()\n",
        "    image = transform(waves)\n",
        "    return image\n",
        "\n",
        "\n",
        "for i in range(10):\n",
        "    waves = np.load(train_df.loc[i, 'image_path'])\n",
        "    image = apply_qtransform(waves)\n",
        "    target = train_df.loc[i, 'target']\n",
        "    sample_data_tables.add_data(train_df.loc[i, 'id'],\n",
        "                                wandb.Image(image),\n",
        "                                target)\n",
        "\n",
        "\n",
        "\n",
        "wandb.log({'wandb_viz': sample_data_tables})\n",
        "wandb.finish()"
      ],
      "metadata": {
        "_kg_hide-output": true,
        "execution": {
          "iopub.status.busy": "2024-05-05T11:28:27.128644Z",
          "iopub.execute_input": "2024-05-05T11:28:27.129276Z",
          "iopub.status.idle": "2024-05-05T11:28:38.715991Z",
          "shell.execute_reply.started": "2024-05-05T11:28:27.129219Z",
          "shell.execute_reply": "2024-05-05T11:28:38.715073Z"
        },
        "trusted": true,
        "id": "RigXnXuFg7fV",
        "outputId": "4c4edcfb-3448-4e99-df09-0ed36e4d502f",
        "colab": {
          "referenced_widgets": [
            ""
          ]
        }
      },
      "execution_count": null,
      "outputs": [
        {
          "name": "stderr",
          "text": "\u001b[34m\u001b[1mwandb\u001b[0m: Currently logged in as: \u001b[33mkikoulini30\u001b[0m (\u001b[33mkyriaki\u001b[0m). Use \u001b[1m`wandb login --relogin`\u001b[0m to force relogin\n",
          "output_type": "stream"
        },
        {
          "output_type": "display_data",
          "data": {
            "text/plain": "<IPython.core.display.HTML object>",
            "text/html": "Tracking run with wandb version 0.16.6"
          },
          "metadata": {}
        },
        {
          "output_type": "display_data",
          "data": {
            "text/plain": "<IPython.core.display.HTML object>",
            "text/html": "Run data is saved locally in <code>/kaggle/working/wandb/run-20240505_112827-bxa9uc54</code>"
          },
          "metadata": {}
        },
        {
          "output_type": "display_data",
          "data": {
            "text/plain": "<IPython.core.display.HTML object>",
            "text/html": "Syncing run <strong><a href='https://wandb.ai/kyriaki/G2Net-PL-Baseline/runs/bxa9uc54' target=\"_blank\">stellar-rancor-2</a></strong> to <a href='https://wandb.ai/kyriaki/G2Net-PL-Baseline' target=\"_blank\">Weights & Biases</a> (<a href='https://wandb.me/run' target=\"_blank\">docs</a>)<br/>"
          },
          "metadata": {}
        },
        {
          "output_type": "display_data",
          "data": {
            "text/plain": "<IPython.core.display.HTML object>",
            "text/html": " View project at <a href='https://wandb.ai/kyriaki/G2Net-PL-Baseline' target=\"_blank\">https://wandb.ai/kyriaki/G2Net-PL-Baseline</a>"
          },
          "metadata": {}
        },
        {
          "output_type": "display_data",
          "data": {
            "text/plain": "<IPython.core.display.HTML object>",
            "text/html": " View run at <a href='https://wandb.ai/kyriaki/G2Net-PL-Baseline/runs/bxa9uc54' target=\"_blank\">https://wandb.ai/kyriaki/G2Net-PL-Baseline/runs/bxa9uc54</a>"
          },
          "metadata": {}
        },
        {
          "name": "stdout",
          "text": "CQT kernels created, time used = 0.0395 seconds\n",
          "output_type": "stream"
        },
        {
          "name": "stderr",
          "text": "/opt/conda/lib/python3.7/site-packages/nnAudio/utils.py:429: SyntaxWarning: If fmax is given, n_bins will be ignored\n  warnings.warn(\"If fmax is given, n_bins will be ignored\", SyntaxWarning)\n",
          "output_type": "stream"
        },
        {
          "output_type": "display_data",
          "data": {
            "text/plain": "VBox(children=(Label(value='0.092 MB of 0.092 MB uploaded\\r'), FloatProgress(value=1.0, max=1.0)))",
            "application/vnd.jupyter.widget-view+json": {
              "version_major": 2,
              "version_minor": 0,
              "model_id": ""
            }
          },
          "metadata": {}
        },
        {
          "output_type": "display_data",
          "data": {
            "text/plain": "<IPython.core.display.HTML object>",
            "text/html": " View run <strong style=\"color:#cdcd00\">stellar-rancor-2</strong> at: <a href='https://wandb.ai/kyriaki/G2Net-PL-Baseline/runs/bxa9uc54' target=\"_blank\">https://wandb.ai/kyriaki/G2Net-PL-Baseline/runs/bxa9uc54</a><br/> View project at: <a href='https://wandb.ai/kyriaki/G2Net-PL-Baseline' target=\"_blank\">https://wandb.ai/kyriaki/G2Net-PL-Baseline</a><br/>Synced 5 W&B file(s), 1 media file(s), 11 artifact file(s) and 0 other file(s)"
          },
          "metadata": {}
        },
        {
          "output_type": "display_data",
          "data": {
            "text/plain": "<IPython.core.display.HTML object>",
            "text/html": "Find logs at: <code>./wandb/run-20240505_112827-bxa9uc54/logs</code>"
          },
          "metadata": {}
        }
      ]
    },
    {
      "cell_type": "markdown",
      "source": [
        "\n",
        "<p p style = \"font-family: garamond; font-size:30px; font-style: normal;background-color: #f6f5f5; color :#6666ff; border-radius: 10px 10px; text-align:center\">W&B Table for CQT Visualization</p><br>\n",
        "\n",
        "<center><img src=\"https://i.imgur.com/GwOF2DS.png\" width=\"1500\" alt=\"metrics\" /></center>"
      ],
      "metadata": {
        "id": "mdNbpiKzg7fV"
      }
    },
    {
      "cell_type": "code",
      "source": [
        "dist = train_df.target.map({0:'Target 0', 1:'Target 1'})\n",
        "dist = dist.value_counts()\n",
        "fig = px.pie(dist,\n",
        "             values='target',\n",
        "             names=dist.index,\n",
        "             hole=.4,title=\"Target Distribution\")\n",
        "fig.update_traces(textinfo='percent+label', pull=0.05)\n",
        "fig.show()"
      ],
      "metadata": {
        "execution": {
          "iopub.status.busy": "2024-05-05T11:28:38.717394Z",
          "iopub.execute_input": "2024-05-05T11:28:38.717694Z",
          "iopub.status.idle": "2024-05-05T11:28:39.544719Z",
          "shell.execute_reply.started": "2024-05-05T11:28:38.717662Z",
          "shell.execute_reply": "2024-05-05T11:28:39.543919Z"
        },
        "trusted": true,
        "id": "gFAxc015g7fV",
        "outputId": "9bc3c8d3-f0a6-455e-b2a0-695d224bda6d"
      },
      "execution_count": null,
      "outputs": [
        {
          "output_type": "display_data",
          "data": {
            "text/html": "        <script type=\"text/javascript\">\n        window.PlotlyConfig = {MathJaxConfig: 'local'};\n        if (window.MathJax) {MathJax.Hub.Config({SVG: {font: \"STIX-Web\"}});}\n        if (typeof require !== 'undefined') {\n        require.undef(\"plotly\");\n        requirejs.config({\n            paths: {\n                'plotly': ['https://cdn.plot.ly/plotly-2.2.0.min']\n            }\n        });\n        require(['plotly'], function(Plotly) {\n            window._Plotly = Plotly;\n        });\n        }\n        </script>\n        "
          },
          "metadata": {}
        },
        {
          "output_type": "display_data",
          "data": {
            "text/html": "<div>                            <div id=\"126caa5b-16c2-46dd-99e5-b8c6b65e9e65\" class=\"plotly-graph-div\" style=\"height:525px; width:100%;\"></div>            <script type=\"text/javascript\">                require([\"plotly\"], function(Plotly) {                    window.PLOTLYENV=window.PLOTLYENV || {};                                    if (document.getElementById(\"126caa5b-16c2-46dd-99e5-b8c6b65e9e65\")) {                    Plotly.newPlot(                        \"126caa5b-16c2-46dd-99e5-b8c6b65e9e65\",                        [{\"domain\":{\"x\":[0.0,1.0],\"y\":[0.0,1.0]},\"hole\":0.4,\"hovertemplate\":\"index=%{label}<br>target=%{value}<extra></extra>\",\"labels\":[\"Target 1\",\"Target 0\"],\"legendgroup\":\"\",\"name\":\"\",\"pull\":0.05,\"showlegend\":true,\"textinfo\":\"percent+label\",\"type\":\"pie\",\"values\":[25001,24999]}],                        {\"legend\":{\"tracegroupgap\":0},\"template\":{\"data\":{\"bar\":[{\"error_x\":{\"color\":\"#2a3f5f\"},\"error_y\":{\"color\":\"#2a3f5f\"},\"marker\":{\"line\":{\"color\":\"#E5ECF6\",\"width\":0.5},\"pattern\":{\"fillmode\":\"overlay\",\"size\":10,\"solidity\":0.2}},\"type\":\"bar\"}],\"barpolar\":[{\"marker\":{\"line\":{\"color\":\"#E5ECF6\",\"width\":0.5},\"pattern\":{\"fillmode\":\"overlay\",\"size\":10,\"solidity\":0.2}},\"type\":\"barpolar\"}],\"carpet\":[{\"aaxis\":{\"endlinecolor\":\"#2a3f5f\",\"gridcolor\":\"white\",\"linecolor\":\"white\",\"minorgridcolor\":\"white\",\"startlinecolor\":\"#2a3f5f\"},\"baxis\":{\"endlinecolor\":\"#2a3f5f\",\"gridcolor\":\"white\",\"linecolor\":\"white\",\"minorgridcolor\":\"white\",\"startlinecolor\":\"#2a3f5f\"},\"type\":\"carpet\"}],\"choropleth\":[{\"colorbar\":{\"outlinewidth\":0,\"ticks\":\"\"},\"type\":\"choropleth\"}],\"contour\":[{\"colorbar\":{\"outlinewidth\":0,\"ticks\":\"\"},\"colorscale\":[[0.0,\"#0d0887\"],[0.1111111111111111,\"#46039f\"],[0.2222222222222222,\"#7201a8\"],[0.3333333333333333,\"#9c179e\"],[0.4444444444444444,\"#bd3786\"],[0.5555555555555556,\"#d8576b\"],[0.6666666666666666,\"#ed7953\"],[0.7777777777777778,\"#fb9f3a\"],[0.8888888888888888,\"#fdca26\"],[1.0,\"#f0f921\"]],\"type\":\"contour\"}],\"contourcarpet\":[{\"colorbar\":{\"outlinewidth\":0,\"ticks\":\"\"},\"type\":\"contourcarpet\"}],\"heatmap\":[{\"colorbar\":{\"outlinewidth\":0,\"ticks\":\"\"},\"colorscale\":[[0.0,\"#0d0887\"],[0.1111111111111111,\"#46039f\"],[0.2222222222222222,\"#7201a8\"],[0.3333333333333333,\"#9c179e\"],[0.4444444444444444,\"#bd3786\"],[0.5555555555555556,\"#d8576b\"],[0.6666666666666666,\"#ed7953\"],[0.7777777777777778,\"#fb9f3a\"],[0.8888888888888888,\"#fdca26\"],[1.0,\"#f0f921\"]],\"type\":\"heatmap\"}],\"heatmapgl\":[{\"colorbar\":{\"outlinewidth\":0,\"ticks\":\"\"},\"colorscale\":[[0.0,\"#0d0887\"],[0.1111111111111111,\"#46039f\"],[0.2222222222222222,\"#7201a8\"],[0.3333333333333333,\"#9c179e\"],[0.4444444444444444,\"#bd3786\"],[0.5555555555555556,\"#d8576b\"],[0.6666666666666666,\"#ed7953\"],[0.7777777777777778,\"#fb9f3a\"],[0.8888888888888888,\"#fdca26\"],[1.0,\"#f0f921\"]],\"type\":\"heatmapgl\"}],\"histogram\":[{\"marker\":{\"pattern\":{\"fillmode\":\"overlay\",\"size\":10,\"solidity\":0.2}},\"type\":\"histogram\"}],\"histogram2d\":[{\"colorbar\":{\"outlinewidth\":0,\"ticks\":\"\"},\"colorscale\":[[0.0,\"#0d0887\"],[0.1111111111111111,\"#46039f\"],[0.2222222222222222,\"#7201a8\"],[0.3333333333333333,\"#9c179e\"],[0.4444444444444444,\"#bd3786\"],[0.5555555555555556,\"#d8576b\"],[0.6666666666666666,\"#ed7953\"],[0.7777777777777778,\"#fb9f3a\"],[0.8888888888888888,\"#fdca26\"],[1.0,\"#f0f921\"]],\"type\":\"histogram2d\"}],\"histogram2dcontour\":[{\"colorbar\":{\"outlinewidth\":0,\"ticks\":\"\"},\"colorscale\":[[0.0,\"#0d0887\"],[0.1111111111111111,\"#46039f\"],[0.2222222222222222,\"#7201a8\"],[0.3333333333333333,\"#9c179e\"],[0.4444444444444444,\"#bd3786\"],[0.5555555555555556,\"#d8576b\"],[0.6666666666666666,\"#ed7953\"],[0.7777777777777778,\"#fb9f3a\"],[0.8888888888888888,\"#fdca26\"],[1.0,\"#f0f921\"]],\"type\":\"histogram2dcontour\"}],\"mesh3d\":[{\"colorbar\":{\"outlinewidth\":0,\"ticks\":\"\"},\"type\":\"mesh3d\"}],\"parcoords\":[{\"line\":{\"colorbar\":{\"outlinewidth\":0,\"ticks\":\"\"}},\"type\":\"parcoords\"}],\"pie\":[{\"automargin\":true,\"type\":\"pie\"}],\"scatter\":[{\"marker\":{\"colorbar\":{\"outlinewidth\":0,\"ticks\":\"\"}},\"type\":\"scatter\"}],\"scatter3d\":[{\"line\":{\"colorbar\":{\"outlinewidth\":0,\"ticks\":\"\"}},\"marker\":{\"colorbar\":{\"outlinewidth\":0,\"ticks\":\"\"}},\"type\":\"scatter3d\"}],\"scattercarpet\":[{\"marker\":{\"colorbar\":{\"outlinewidth\":0,\"ticks\":\"\"}},\"type\":\"scattercarpet\"}],\"scattergeo\":[{\"marker\":{\"colorbar\":{\"outlinewidth\":0,\"ticks\":\"\"}},\"type\":\"scattergeo\"}],\"scattergl\":[{\"marker\":{\"colorbar\":{\"outlinewidth\":0,\"ticks\":\"\"}},\"type\":\"scattergl\"}],\"scattermapbox\":[{\"marker\":{\"colorbar\":{\"outlinewidth\":0,\"ticks\":\"\"}},\"type\":\"scattermapbox\"}],\"scatterpolar\":[{\"marker\":{\"colorbar\":{\"outlinewidth\":0,\"ticks\":\"\"}},\"type\":\"scatterpolar\"}],\"scatterpolargl\":[{\"marker\":{\"colorbar\":{\"outlinewidth\":0,\"ticks\":\"\"}},\"type\":\"scatterpolargl\"}],\"scatterternary\":[{\"marker\":{\"colorbar\":{\"outlinewidth\":0,\"ticks\":\"\"}},\"type\":\"scatterternary\"}],\"surface\":[{\"colorbar\":{\"outlinewidth\":0,\"ticks\":\"\"},\"colorscale\":[[0.0,\"#0d0887\"],[0.1111111111111111,\"#46039f\"],[0.2222222222222222,\"#7201a8\"],[0.3333333333333333,\"#9c179e\"],[0.4444444444444444,\"#bd3786\"],[0.5555555555555556,\"#d8576b\"],[0.6666666666666666,\"#ed7953\"],[0.7777777777777778,\"#fb9f3a\"],[0.8888888888888888,\"#fdca26\"],[1.0,\"#f0f921\"]],\"type\":\"surface\"}],\"table\":[{\"cells\":{\"fill\":{\"color\":\"#EBF0F8\"},\"line\":{\"color\":\"white\"}},\"header\":{\"fill\":{\"color\":\"#C8D4E3\"},\"line\":{\"color\":\"white\"}},\"type\":\"table\"}]},\"layout\":{\"annotationdefaults\":{\"arrowcolor\":\"#2a3f5f\",\"arrowhead\":0,\"arrowwidth\":1},\"autotypenumbers\":\"strict\",\"coloraxis\":{\"colorbar\":{\"outlinewidth\":0,\"ticks\":\"\"}},\"colorscale\":{\"diverging\":[[0,\"#8e0152\"],[0.1,\"#c51b7d\"],[0.2,\"#de77ae\"],[0.3,\"#f1b6da\"],[0.4,\"#fde0ef\"],[0.5,\"#f7f7f7\"],[0.6,\"#e6f5d0\"],[0.7,\"#b8e186\"],[0.8,\"#7fbc41\"],[0.9,\"#4d9221\"],[1,\"#276419\"]],\"sequential\":[[0.0,\"#0d0887\"],[0.1111111111111111,\"#46039f\"],[0.2222222222222222,\"#7201a8\"],[0.3333333333333333,\"#9c179e\"],[0.4444444444444444,\"#bd3786\"],[0.5555555555555556,\"#d8576b\"],[0.6666666666666666,\"#ed7953\"],[0.7777777777777778,\"#fb9f3a\"],[0.8888888888888888,\"#fdca26\"],[1.0,\"#f0f921\"]],\"sequentialminus\":[[0.0,\"#0d0887\"],[0.1111111111111111,\"#46039f\"],[0.2222222222222222,\"#7201a8\"],[0.3333333333333333,\"#9c179e\"],[0.4444444444444444,\"#bd3786\"],[0.5555555555555556,\"#d8576b\"],[0.6666666666666666,\"#ed7953\"],[0.7777777777777778,\"#fb9f3a\"],[0.8888888888888888,\"#fdca26\"],[1.0,\"#f0f921\"]]},\"colorway\":[\"#636efa\",\"#EF553B\",\"#00cc96\",\"#ab63fa\",\"#FFA15A\",\"#19d3f3\",\"#FF6692\",\"#B6E880\",\"#FF97FF\",\"#FECB52\"],\"font\":{\"color\":\"#2a3f5f\"},\"geo\":{\"bgcolor\":\"white\",\"lakecolor\":\"white\",\"landcolor\":\"#E5ECF6\",\"showlakes\":true,\"showland\":true,\"subunitcolor\":\"white\"},\"hoverlabel\":{\"align\":\"left\"},\"hovermode\":\"closest\",\"mapbox\":{\"style\":\"light\"},\"paper_bgcolor\":\"white\",\"plot_bgcolor\":\"#E5ECF6\",\"polar\":{\"angularaxis\":{\"gridcolor\":\"white\",\"linecolor\":\"white\",\"ticks\":\"\"},\"bgcolor\":\"#E5ECF6\",\"radialaxis\":{\"gridcolor\":\"white\",\"linecolor\":\"white\",\"ticks\":\"\"}},\"scene\":{\"xaxis\":{\"backgroundcolor\":\"#E5ECF6\",\"gridcolor\":\"white\",\"gridwidth\":2,\"linecolor\":\"white\",\"showbackground\":true,\"ticks\":\"\",\"zerolinecolor\":\"white\"},\"yaxis\":{\"backgroundcolor\":\"#E5ECF6\",\"gridcolor\":\"white\",\"gridwidth\":2,\"linecolor\":\"white\",\"showbackground\":true,\"ticks\":\"\",\"zerolinecolor\":\"white\"},\"zaxis\":{\"backgroundcolor\":\"#E5ECF6\",\"gridcolor\":\"white\",\"gridwidth\":2,\"linecolor\":\"white\",\"showbackground\":true,\"ticks\":\"\",\"zerolinecolor\":\"white\"}},\"shapedefaults\":{\"line\":{\"color\":\"#2a3f5f\"}},\"ternary\":{\"aaxis\":{\"gridcolor\":\"white\",\"linecolor\":\"white\",\"ticks\":\"\"},\"baxis\":{\"gridcolor\":\"white\",\"linecolor\":\"white\",\"ticks\":\"\"},\"bgcolor\":\"#E5ECF6\",\"caxis\":{\"gridcolor\":\"white\",\"linecolor\":\"white\",\"ticks\":\"\"}},\"title\":{\"x\":0.05},\"xaxis\":{\"automargin\":true,\"gridcolor\":\"white\",\"linecolor\":\"white\",\"ticks\":\"\",\"title\":{\"standoff\":15},\"zerolinecolor\":\"white\",\"zerolinewidth\":2},\"yaxis\":{\"automargin\":true,\"gridcolor\":\"white\",\"linecolor\":\"white\",\"ticks\":\"\",\"title\":{\"standoff\":15},\"zerolinecolor\":\"white\",\"zerolinewidth\":2}}},\"title\":{\"text\":\"Target Distribution\"}},                        {\"responsive\": true}                    ).then(function(){\n                            \nvar gd = document.getElementById('126caa5b-16c2-46dd-99e5-b8c6b65e9e65');\nvar x = new MutationObserver(function (mutations, observer) {{\n        var display = window.getComputedStyle(gd).display;\n        if (!display || display === 'none') {{\n            console.log([gd, 'removed!']);\n            Plotly.purge(gd);\n            observer.disconnect();\n        }}\n}});\n\n// Listen for the removal of the full notebook cells\nvar notebookContainer = gd.closest('#notebook-container');\nif (notebookContainer) {{\n    x.observe(notebookContainer, {childList: true});\n}}\n\n// Listen for the clearing of the current output cell\nvar outputEl = gd.closest('.output');\nif (outputEl) {{\n    x.observe(outputEl, {childList: true});\n}}\n\n                        })                };                });            </script>        </div>"
          },
          "metadata": {}
        }
      ]
    },
    {
      "cell_type": "markdown",
      "source": [
        "<p p style = \"font-family: garamond; font-size:30px; font-style: normal;background-color: #f6f5f5; color :#6666ff; border-radius: 10px 10px; text-align:center\">Custom Dataset</p>"
      ],
      "metadata": {
        "id": "LkQZ7Nx-g7fV"
      }
    },
    {
      "cell_type": "code",
      "source": [
        "def get_train_transforms():\n",
        "    return albumentations.Compose(\n",
        "        [\n",
        "\n",
        "            ToTensorV2(p=1.0)\n",
        "        ]\n",
        "    )\n",
        "\n",
        "def get_valid_transforms():\n",
        "    return albumentations.Compose(\n",
        "        [\n",
        "            ToTensorV2(p=1.0)\n",
        "        ]\n",
        "    )\n",
        "\n",
        "def get_test_transforms():\n",
        "        return albumentations.Compose(\n",
        "            [\n",
        "                ToTensorV2(p=1.0)\n",
        "            ]\n",
        "        )"
      ],
      "metadata": {
        "execution": {
          "iopub.status.busy": "2024-05-05T11:28:39.545845Z",
          "iopub.execute_input": "2024-05-05T11:28:39.546125Z",
          "iopub.status.idle": "2024-05-05T11:28:39.551228Z",
          "shell.execute_reply.started": "2024-05-05T11:28:39.546097Z",
          "shell.execute_reply": "2024-05-05T11:28:39.550413Z"
        },
        "trusted": true,
        "id": "bnVINso-g7fV"
      },
      "execution_count": null,
      "outputs": []
    },
    {
      "cell_type": "code",
      "source": [
        "class SETIDataset(Dataset):\n",
        "    def __init__(self, images_filepaths, targets, transform=None):\n",
        "        self.images_filepaths = images_filepaths\n",
        "        self.targets = targets\n",
        "        self.transform = transform\n",
        "        self.wave_transform = CQT1992v2(sr=2048, fmin=20, fmax=1024, hop_length=64, verbose=True)\n",
        "\n",
        "    def __len__(self):\n",
        "        return len(self.images_filepaths)\n",
        "\n",
        "    def apply_cqt(self, image, transform):\n",
        "        image = np.hstack(image)\n",
        "        image = image / np.max(image)\n",
        "        image = torch.from_numpy(image).float()\n",
        "        image = transform(image)\n",
        "        return image\n",
        "\n",
        "    def __getitem__(self, idx):\n",
        "        image_filepath = self.images_filepaths[idx]\n",
        "        image = np.load(image_filepath)\n",
        "        image = self.apply_cqt(image, self.wave_transform)\n",
        "\n",
        "        if self.transform is not None:\n",
        "            image = image.squeeze().numpy()\n",
        "            image = self.transform(image=image)[\"image\"]\n",
        "        else:\n",
        "            image = image[np.newaxis,:,:]\n",
        "            image = torch.from_numpy(image).float()\n",
        "\n",
        "        label = torch.tensor(self.targets[idx]).float()\n",
        "        return image, label"
      ],
      "metadata": {
        "execution": {
          "iopub.status.busy": "2024-05-05T11:28:39.552261Z",
          "iopub.execute_input": "2024-05-05T11:28:39.552539Z",
          "iopub.status.idle": "2024-05-05T11:28:39.563305Z",
          "shell.execute_reply.started": "2024-05-05T11:28:39.552511Z",
          "shell.execute_reply": "2024-05-05T11:28:39.562319Z"
        },
        "trusted": true,
        "id": "aXOi2vCTg7fW"
      },
      "execution_count": null,
      "outputs": []
    },
    {
      "cell_type": "markdown",
      "source": [
        "<p p style = \"font-family: garamond; font-size:30px; font-style: normal;background-color: #f6f5f5; color :#6666ff; border-radius: 10px 10px; text-align:center\">Custom Callback for Viewing Predictions in W&B</p>\n"
      ],
      "metadata": {
        "id": "ddENjZlzg7fW"
      }
    },
    {
      "cell_type": "code",
      "source": [
        "class ImagePredictionLogger(Callback):\n",
        "    def __init__(self, val_samples = None, num_samples=32):\n",
        "        super().__init__()\n",
        "        self.num_samples = num_samples\n",
        "        self.val_imgs, self.val_labels = val_samples\n",
        "\n",
        "\n",
        "    def on_validation_epoch_end(self, trainer, pl_module):\n",
        "        val_imgs = self.val_imgs.to(device=pl_module.device)\n",
        "        val_labels = self.val_labels.to(device=pl_module.device)\n",
        "        logits = pl_module(val_imgs)\n",
        "        preds = torch.argmax(logits, -1)\n",
        "        trainer.logger.experiment.log({\n",
        "            \"Predictions\":[wandb.Image(x, caption=f\"Pred:{pred}, Target:{y}\")\n",
        "                           for x, pred, y in zip(val_imgs[:self.num_samples],\n",
        "                                                 preds[:self.num_samples],\n",
        "                                                 val_labels[:self.num_samples])]\n",
        "            }, commit=False)"
      ],
      "metadata": {
        "execution": {
          "iopub.status.busy": "2024-05-05T11:28:39.564534Z",
          "iopub.execute_input": "2024-05-05T11:28:39.564883Z",
          "iopub.status.idle": "2024-05-05T11:28:39.576383Z",
          "shell.execute_reply.started": "2024-05-05T11:28:39.564853Z",
          "shell.execute_reply": "2024-05-05T11:28:39.575575Z"
        },
        "trusted": true,
        "id": "BWZTumbGg7fW"
      },
      "execution_count": null,
      "outputs": []
    },
    {
      "cell_type": "markdown",
      "source": [
        "<p p style = \"font-family: garamond; font-size:30px; font-style: normal;background-color: #f6f5f5; color :#6666ff; border-radius: 10px 10px; text-align:center\">Pytorch Lightning DataModule</p>\n",
        "\n",
        "# <center><img src=\"data:image/png;base64,iVBORw0KGgoAAAANSUhEUgAAASwAAACoCAMAAABt9SM9AAAAzFBMVEV5LuVkHsn///9oIc5wFeRsAON4LOVlH8p1JeRcAMdrI9J2LOFWAMVzHuR3KeV1JOTe0vjay/dxKNphFch/OOZvDeS5pOS0nOLz7vxyOs3u6PiFWdOTYOm0lO+CQObUw/aUb9j6+P6hd+yYaOqQWens5Pvn3frUx+6lfOzDqvK5m/CJTeiPadadcet5RM+phO3NuPSLUui9ovGSXunApvLHsfOtk+DWxvbEsuhrLcuogu3PvPXi2vSJX9SaedqCVNKvje9vMsyjhtx7StB0+8GwAAANzklEQVR4nNWdfUObOhTGKQOkK9A6Gtd1vlVtp9bOWfXqpndz2/f/Tvec8E6hkuQQvOcfldI8yQ/ycE6wxejRxQejvRgQ9jOLd4K96FBaKNqhJdiJDqXFohVaA7E+dCgtGG3QEnSODqVFowVags5BKf2+HUhptEBLrAMdSosHPS0x5+hQWiLIaYk5R4fSMkFNS8w5OpSWig+kHe7tCIl3KC0XxLSEnOM9qXRbhPJBS0vMOUhptW9aBjEtQeegpKXBtAxaWqLOQUir1Vo6C0paotqEtNpAUxGEtISdg45W62lpHHS0xJ2DjJYWh8cgoyXhHFS0NJmWQUhLQpuKFjmU2qCiJeMcRLR0mZZBRkvKOWhoaTMtg4qWXG5IQktPWhoHDS05bQpaOmrpLEhoSToHBS1aGq8FBS1Z53jXnbRkENCSdg51WlpNy6CgJe8cyrT0paVxqNOS11amRYehYSjTUnAOVVoa09I4VGmpOIciLc0Oj6FIS8k51GhpNy1DmZaSthotIgBCoUZLzTmUaOk3LUORlqJzqNDqwLQMNVqqzqFAS3daGocKLVVtBVoUQ5cIBVrKziFPqxPTMlRoqTuHNK1uTMtQoEXgHLK0OjItQ36NiWIVTpKW3gXAQsjSotCWpEUhLRmStEicQ45WZ6ZlyNKicQ4pWt2ZliFJi6iglaHVRS2dhRQtIm0ZWip6A+U0TYYWVW4oQUtJWr3jErTInEOclpLDv++CFp1zCNNSOk4fCCaFOC1VxSyEaamI4QcD9NMiLGh3dEqT9F2UFmVuKEhLSfpdF7RIc0MxWqqm1QEtVblCCNFSqqXjTzNppkW7CidES0mJqvtCtIgLWhFa6qalmxZ1QStAS0k6HaNOWuSrcM1pKWXE2fKwTlqqUhvRnJaSTNaMRlr0q3CNaSmNcoeoHYzGtFpYhWtKS7GW7oBWG6twDWkRmZZOWqo6VdGQlopE8UP2umi1cnO4GS3lWlo7rXbuszSiRZKWaqXV0n0WpBV6/bA16fKNeD20VEVqYif0Pk9nx94WXBS1tGZaLf1Hi/X9iwnx/NVr6TjRD6TBam8rpuVbF2Ycj2G/FenNoWmg1YJpufb1DDBN/v06R1z/1M1FmlpaJy3yWtphZ5zRgR2G3k9O7aoaF11aqo2WqkApfOMBUX0b+ugrfW+PW9enSutSEqpqsHVapKY1ZGuEs1haDv4Jzfd3uNM/9iusi6qW1keL0LQC+5xPu5UdxFtQwPs1RVx/NucitWm1T4uulg7OFkjl0h6mm4aoEHp/IsMv0yI3rR6Bq2ynpdx8Ehayegr8dIPjrzmtXr+P1jXZMC4VtbovrFMexlZaZGmpNTLNJXPSvx02v/NjI/a+z8xpBiuMoigd5GOrEn89PwZoK/3ddZ3i3hsbiuG4bnHDNlpkDo+w7Fwn2MLcd5MzwJvkYIWfPmP8+sByUIKb/VxsowV73gZ50wr/Xl0lhv/9anVYhLNaLXMbyuCc5WpV2rSFFplpISyWdQJY8T8Hm7D4rOSXzRu/8PYs7AqB3J4zljctbO9TdG6F/5rmyTC3szMGG01VXDYu0fIPTLNEdxstCS51Y8hgcVYLC38dbML6mELZd/Nvbwhr15ywvGmVYB3n5xXCOkhguaeLGSs2VgVrCy0q08rDcixM4y+iTg6qYF39/fX50TSzvgdnp6enZ9AG/jx1qxQSIQ4rZ1o5WDANr37nj38Blr/m78xHxTQ0ttCiMq0cLGfIS55kyIMKWF/BlD2gtbKsKIP1bdsN2C6cVODfrjG0bNvi88livs8YNJVsQlg2s7M8Nw8r9DChMwKLMebDWzksG/4YosQBvtOPWmWWH+tyg/RxQ3SKDRnre32vqkqjSktzsPx7Ppd2bSehVQELBvYLBvJtPh/Cbv7lfD52rN1oBjr2C07jF2jAWkzuD+aTE5ed4KYfDGFNV3Nz8tjfhBX+mkyuwl7/8GFmTq7hrRbCOjLN+bnlP00n8Mv0HiBZR9Pp4hIO0/B6MsFpCC9OF2t+3LjQ80/eUDmoaun8NGRPnNYopVUN68o0X06iacJgb8tIYLFFfAVgBpvw337YUZPmg4078Zh7m7A+g2eF2HC8N8KK4sWOXXHXcoY2F5j6TuRZsIG/OIE0g31L3nFccWq1AMuwI8XI4nH0ZVi/PQiYrIc2vGLDAYYZ6SawLAAzXa+hTnqyENZkfbmEQc3Wl1OcVLv8VygLfoaVsPo7WMu/YBeOOKzdFzzV7RM4XWcvB6vh4Y+TpxHSebL8F+hDMP5x8o1veLCwJ7PLl1ENLCLTKqYOdjwTrRpYXyBmOBj/0jRvXRumlW3EsIJDwGz7Ph5+hGk6lm/PzJkF5jVaPCCsQ8uCnY76lbBwrePY89lpDGtk+9idG99Gt/PdAF5Y2WwM+hEs9xYSDpsZuAF6OhuC9lE1LCLTKsIKDGQ1S9KaDVhRjBgURTAkdhZNxggWTo1bcHQcwwHAgr2CsyhdcuB6wA0eDsfE/OJVw3rmtZUBR4DDgpaHJ5imxNdRhHUCp/GdaY4jWND6+dCw1niWwVUcjnAwroZFZFpFWHg2mxMjycQ3YM3n8+eHqz6wtGC64HHES1EMCzqNqbYDwNfABE5PHN95nGzGQ2b1sOaRnbFRCsutgIXHpACL+1ecxOIxPKlatGwDFtrOLGXFYbGyZ/VDlMZJB1Pxm2UksBD0OXTYhxFex7AO4wPObOt1WF9ME6rFsG9WwLIzWJdVsBhaAFyEf2ApUJFv0aSlRVhsak6crMLjsAY5WF/DVJrxC9EySGE5LoA+ZOwQPMSNYGF75g33mYVdBWvH4xEZPFwM59+9788bsB6gi1awFZYFJ/k9s2EXrJs21xhpTKtQSMN486zQYKZpiZKDhRcXdxUlCSksPgyTX50ufRbBck+TTbesClaSTPDUwUtLpyIspDEbnfrbYAWDtOaCfTZpbamlBcrswhKNez7LrbM4FpwRACumhYOLYfHjZE+jjmXA2V3U3TXPs0Z8hl5Hm+4s2InDmm3Cmnr/cl/2jnjWNIvyLPAg95zXobwAPS/AOijCWgbuIV/aXcR92qBVT0BgUaKw+De8HGesovuIk3QNIrx6fPydk4Z5OIvOyeHL/X1UjSwvRqOLpYVn2d01d3Z/HG+CndboaHf3f2Kjutr7yGPvT//T3t5fKKS8nT8fjz2A1R9cXJwGRnBzd4ErNWx1cX/j3hw9nQVwRj8djYP9i4txsDx62oedcIMD9c/twcHNWXIAy7TqTUtgCae4rDxMK/kgvo8YVYoRrayuA+lgma2iQIYTv8u3LD8q2vz4Kugkm+KdfD+5WkF7ceCybBge4+1KD8+yvX7P5+8J/Kjwc/HPwLJwm4tlKX/BiTbAdseHk3Js21gwLKPjXaJVn5Zun6QlWhs3LHCE7Da+j5hV1SVpzB2GW1cz66JucQBOKXO0h1PxdyiaGQX7OEEu4MDPk8tVkVa9w79iaaUo3QqDsMbRfUQ/W+UblKSdIZYdYiOKo+5bLXBVi8dPPIMFaSX/ezA7TI95kVbtO3titAo3WREeN+rRoZU/cQq0dsA6dndvti+610XtY3bC/j+j+fPjp36sIRTW8n4xH136uT4VaNWaVk+UVnb73q2clhtj5NYhx2rbk276UdKbHBGhAL9M17biyNOqNa2eMK30H0NOl/PI8DdXPQdNpJtE00+Fqld0OVq1ppXsIHRbI/cvR0+uX7XHoIF0k2j8T+yUtGrbSvcQogVJ6G7J6UsxkGu4HM2/t4iSVt0emZrYoAK2P52dlM0qF4NXpRtFY1iUtOqcI6cmeAq4lj/c9npKi/6fadqmVecceTXiz2MktMg+mKKNVh2Iglo7tDSZFiWtmleLau3QImhCM60a5yiptUKL8IMpmmjVOEdZrQ1aWtJSUlo1FDbUWqBF+sEUPbSqX9lUo6dF+8EULbSqnaNCjZ6WRtMiolXtHFVqxLQ+aDUtElo1zlGpRk1LTy1NSau6hWo16pmo8maZ7wBWptXYs1qgpRQSsFr6Et46tTdES/SLztqjVav2dmjJfadtG7Tq1d4MLckvLm+B1ha1t0JLOC1tjdY2tbdCSxIWPa2tam+ElvRjF6lpbVd7G7Tkn01BTOsVtTdBS9a0yGm9pvYmaMnDoqX1qtpboKXyfClKWq+rvQFaSg/WJaTVQK3ThyzwUDAtUlpN1LqnpQSLjlYjtc5pKT7Mk4pWM7Wuaak+DZyIVkO1jmkpP9CXhlZTtY5pqcKiodVYrVtaUguA5LSaq/3/HtNETktArUta6s9sJ7lD9v+gpZaWUtESUuuQFgUs5cpNTK07WoppKQ0tQbXOaFGYljItUbWuaJGYliotYbWuaBHBUqIlrtYRLRrTUqMlodYNLYK0VJmWjFontIgcXomWlFontOhgSdOSU+uClnotrUxLUq0DWnSmJU1LVk0/LULT6knSklbTTosqLY1Dhpa8mnZadKB4SNBSUNNNi9S0ejK0VNQ006I1rZ4ELSU1vbSITasnTktNTS8tGkL5EKSlqKaVFlktnYUYLVU1nbSoHR5DiJaymkZa5A6PIUJLXU0jLfXOVoQALQI1fbQoa+ksmtOiUNNGqw3T6gnQIlHTRasV0+o1p0WjpokWfVoaR0NaRGqaaBH1djOa0aJS00OrJdPqNaRFpqaFVlum1WtGi05NB63WTKvXiBahmg5ahN3diNdpUappoNVCLZ3Fa7T+A4LlD0x70rzSAAAAAElFTkSuQmCC\" width=\"400\" alt=\"Weights & Biases\" /></center>\n",
        "\n",
        "\n",
        "<p style = \"font-family: garamond; font-size: 20px; font-style: normal; border-radius: 10px 10px; text-align:center\"> A datamodule is a shareable, reusable class that encapsulates all the steps needed to process data. A datamodule encapsulates the five steps involved in data processing in PyTorch:<br>1. Download / tokenize / process.<br>2. Clean and (maybe) save to disk.<br>3. Load inside Dataset.<br>4. Apply transforms (rotate, tokenize, etc…).<br>5. Wrap inside a DataLoader.<br><br>\n",
        "📍 Why do I need a DataModule?<br>In normal PyTorch code, the data cleaning/preparation is usually scattered across many files. This makes sharing and reusing the exact splits and transforms across projects impossible.<br>Datamodules are for you if you ever asked the questions:<br>1. what splits did you use?<br>2. what transforms did you use?<br>3. what normalization did you use?<br>4. how did you prepare/tokenize the data?<br><br> To summarize: A DataModule is simply a collection of a train_dataloader, val_dataloader(s), test_dataloader(s) along with the matching transforms and data processing/downloads steps required."
      ],
      "metadata": {
        "id": "6Wzo_9iZg7fW"
      }
    },
    {
      "cell_type": "code",
      "source": [
        "class DataModule(pl.LightningDataModule):\n",
        "\n",
        "    def __init__(self, train_data, valid_data, test_data):\n",
        "        super().__init__()\n",
        "        self.train_data = train_data\n",
        "        self.valid_data = valid_data\n",
        "        self.test_data = test_data\n",
        "\n",
        "    def setup(self, stage=None):\n",
        "        self.train_dataset = SETIDataset(\n",
        "        images_filepaths=self.train_data['image_path'].values,\n",
        "        targets=self.train_data['target'].values,\n",
        "        transform = get_train_transforms()\n",
        "            )\n",
        "\n",
        "        self.val_dataset = SETIDataset(\n",
        "        images_filepaths=self.valid_data['image_path'].values,\n",
        "        targets=self.valid_data['target'].values,\n",
        "        transform = get_valid_transforms()\n",
        "        )\n",
        "\n",
        "        self.test_dataset = SETIDataset(\n",
        "        images_filepaths = self.test_data['image_path'].values,\n",
        "        targets = self.test_data['target'].values,\n",
        "        transform = get_test_transforms()\n",
        "        )\n",
        "\n",
        "    def train_dataloader(self):\n",
        "        return DataLoader(\n",
        "        self.train_dataset,\n",
        "        batch_size=params['batch_size'],\n",
        "        shuffle=True,\n",
        "        num_workers=params['num_workers'],\n",
        "        pin_memory=True\n",
        "            )\n",
        "\n",
        "    def val_dataloader(self):\n",
        "        return DataLoader(\n",
        "        self.val_dataset,\n",
        "        batch_size=params['batch_size'],\n",
        "        shuffle=False,\n",
        "        num_workers=params['num_workers'],\n",
        "        pin_memory=True\n",
        "            )\n",
        "\n",
        "    def test_dataloader(self):\n",
        "        return DataLoader(\n",
        "        self.test_dataset, batch_size=params['batch_size'],\n",
        "        shuffle=False, num_workers=params['num_workers'],\n",
        "        pin_memory=True\n",
        "            )"
      ],
      "metadata": {
        "execution": {
          "iopub.status.busy": "2024-05-05T11:28:39.577491Z",
          "iopub.execute_input": "2024-05-05T11:28:39.577806Z",
          "iopub.status.idle": "2024-05-05T11:28:39.588553Z",
          "shell.execute_reply.started": "2024-05-05T11:28:39.577768Z",
          "shell.execute_reply": "2024-05-05T11:28:39.587692Z"
        },
        "trusted": true,
        "id": "5yqpNRxEg7fW"
      },
      "execution_count": null,
      "outputs": []
    },
    {
      "cell_type": "markdown",
      "source": [
        "<p p style = \"font-family: garamond; font-size:30px; font-style: normal;background-color: #f6f5f5; color :#6666ff; border-radius: 10px 10px; text-align:center\">DeepSpeed Fused Adam Optimizer</p>\n",
        "\n",
        "<p style = \"font-family: garamond; font-size: 20px; font-style: normal; border-radius: 10px 10px; text-align:center\"> DeepSpeed offers high-performance implementations of Adam optimizer on CPU; FusedAdam, FusedLamb, OnebitAdam, OnebitLamb optimizers on GPU. <br><br> Here we implement Fused Adam which implements Adam algorithm but this version implements 2 fusions.<br><br> 1. Fusion of the Adam update’s elementwise operations. <br>2.A multi-tensor apply launch that batches the elementwise updates applied to all the model’s parameters into one or a few kernel launches.<br><br> The Adam optimizer in Pytorch (like all Pytorch optimizers) carries out optimizer.step() by looping over parameters, and launching a series of kernels for each parameter. This can require hundreds of small launches that are mostly bound by CPU-side Python looping and kernel launch overhead, resulting in poor device utilization. Currently, the FusedAdam implementation in Apex flattens the parameters for the optimization step, then carries out the optimization step itself via a fused kernel that combines all the Adam operations. In this way, the loop over parameters as well as the internal series of Adam operations for each parameter are fused such that optimizer.step() requires only a few kernel launches."
      ],
      "metadata": {
        "id": "kpcXptnBg7fW"
      }
    },
    {
      "cell_type": "markdown",
      "source": [
        "<p p style = \"font-family: garamond; font-size:30px; font-style: normal;background-color: #f6f5f5; color :#6666ff; border-radius: 10px 10px; text-align:center\">Pytorch Lightning Module</p>\n",
        "<center><img src=\"data:image/png;base64,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\" width=\"400\" alt=\"Weights & Biases\" /></center><br>\n",
        "\n",
        "<p style = \"font-family: garamond; font-size: 20px; font-style: normal; border-radius: 10px 10px; text-align:center\"> A LightningModule organizes your PyTorch code into 5 sections<br>1. Computations (init).<br>2. Train loop (training_step)<br>3. Validation loop (validation_step)<br>4. Test loop (test_step)<br>5. Optimizers (configure_optimizers)<br><br>\n",
        "A LightningModule is a torch.nn.Module but with added functionality."
      ],
      "metadata": {
        "id": "IqsblLjkg7fX"
      }
    },
    {
      "cell_type": "code",
      "source": [
        "class Trainer(pl.LightningModule):\n",
        "\n",
        "    def __init__(self, model_name=params['model'],out_features=params['out_features'],\n",
        "                 inp_channels=params['inp_channels'],pretrained=True):\n",
        "        super().__init__()\n",
        "\n",
        "        self.model = timm.create_model(model_name, pretrained=pretrained,\n",
        "                                       in_chans=inp_channels)\n",
        "\n",
        "        if model_name == 'resnet18d':\n",
        "            n_features = self.model.fc.in_features\n",
        "            self.model.fc = nn.Linear(n_features, out_features, bias=True)\n",
        "\n",
        "        if model_name == 'nfnet_f1':\n",
        "            n_features = self.model.head.fc.in_features\n",
        "            self.model.head.fc = nn.Linear(n_features, out_features, bias=True)\n",
        "\n",
        "        elif model_name == 'efficientnet_b1':\n",
        "            n_features = self.model.classifier.in_features\n",
        "            self.model.classifier = nn.Linear(n_features, out_features, bias=True)\n",
        "\n",
        "        self.criterion = nn.BCEWithLogitsLoss()\n",
        "\n",
        "    def forward(self, x):\n",
        "        output = self.model(x)\n",
        "        return output\n",
        "\n",
        "\n",
        "    def training_step(self, batch, batch_idx):\n",
        "\n",
        "        x, y = batch\n",
        "        output = self.model(x)\n",
        "        labels = y.unsqueeze(1)\n",
        "        loss = self.criterion(output, labels)\n",
        "\n",
        "        try:\n",
        "            auc=roc_auc_score(labels.detach().cpu(), output.sigmoid().detach().cpu())\n",
        "\n",
        "            self.log(\"auc\", auc, on_step= True, prog_bar=True, logger=True)\n",
        "            self.log(\"Train Loss\", loss, on_step= True,prog_bar=True, logger=True)\n",
        "\n",
        "        except:\n",
        "            pass\n",
        "\n",
        "        return {\"loss\": loss, \"predictions\": output, \"labels\": labels}\n",
        "\n",
        "    def training_epoch_end(self, outputs):\n",
        "\n",
        "        preds = []\n",
        "        labels = []\n",
        "\n",
        "        for output in outputs:\n",
        "\n",
        "            preds += output['predictions']\n",
        "            labels += output['labels']\n",
        "\n",
        "        labels = torch.stack(labels)\n",
        "        preds = torch.stack(preds)\n",
        "\n",
        "        train_auc=roc_auc_score(labels.detach().cpu(), preds.sigmoid().detach().cpu())\n",
        "        self.log(\"mean_train_auc\", train_auc, prog_bar=True, logger=True)\n",
        "\n",
        "    def validation_step(self, batch, batch_idx):\n",
        "        x, y = batch\n",
        "        output = self.model(x)\n",
        "        labels = y.unsqueeze(1)\n",
        "        loss = self.criterion(output, labels)\n",
        "\n",
        "        self.log('val_loss', loss, on_step= True, prog_bar=True, logger=True)\n",
        "        return {\"predictions\": output, \"labels\": labels}\n",
        "\n",
        "\n",
        "    def validation_epoch_end(self, outputs):\n",
        "\n",
        "        preds = []\n",
        "        labels = []\n",
        "\n",
        "        for output in outputs:\n",
        "            preds += output['predictions']\n",
        "            labels += output['labels']\n",
        "\n",
        "        labels = torch.stack(labels)\n",
        "        preds = torch.stack(preds)\n",
        "\n",
        "        val_auc=roc_auc_score(labels.detach().cpu(), preds.sigmoid().detach().cpu())\n",
        "        self.log(\"val_auc\", val_auc, prog_bar=True, logger=True)\n",
        "\n",
        "\n",
        "    def test_step(self, batch, batch_idx):\n",
        "        x = batch\n",
        "        output = self(x).sigmoid()\n",
        "        return output\n",
        "\n",
        "    def configure_optimizers(self):\n",
        "\n",
        "        param_optimizer = list(self.model.named_parameters())\n",
        "        no_decay = [\"bias\", \"LayerNorm.bias\", \"LayerNorm.weight\"]\n",
        "        optimizer_parameters = [\n",
        "            {\n",
        "                \"params\": [\n",
        "                    p for n, p in param_optimizer if not any(nd in n for nd in no_decay)\n",
        "                ],\n",
        "                \"weight_decay\": params['weight_decay'],\n",
        "            },\n",
        "            {\n",
        "                \"params\": [\n",
        "                    p for n, p in param_optimizer if any(nd in n for nd in no_decay)\n",
        "                ],\n",
        "                \"weight_decay\": 0.0,\n",
        "            },\n",
        "        ]\n",
        "\n",
        "        optimizer = FusedAdam(optimizer_parameters, lr=params['lr'])\n",
        "\n",
        "\n",
        "        scheduler = CosineAnnealingLR(optimizer,\n",
        "                              T_max=params['T_max'],\n",
        "                              eta_min=params['min_lr'],\n",
        "                              last_epoch=-1)\n",
        "\n",
        "        return dict(\n",
        "          optimizer=optimizer,\n",
        "          lr_scheduler=scheduler\n",
        "        )\n"
      ],
      "metadata": {
        "execution": {
          "iopub.status.busy": "2024-05-05T11:28:39.589802Z",
          "iopub.execute_input": "2024-05-05T11:28:39.590077Z",
          "iopub.status.idle": "2024-05-05T11:28:39.614214Z",
          "shell.execute_reply.started": "2024-05-05T11:28:39.59005Z",
          "shell.execute_reply": "2024-05-05T11:28:39.613309Z"
        },
        "trusted": true,
        "id": "eq3uEGxmg7fX"
      },
      "execution_count": null,
      "outputs": []
    },
    {
      "cell_type": "markdown",
      "source": [
        "<p p style = \"font-family: garamond; font-size:30px; font-style: normal;background-color: #f6f5f5; color :#6666ff; border-radius: 10px 10px; text-align:center\">Pytorch Lightning Trainer</p>\n",
        "\n",
        "# <center><img src=\"data:image/png;base64,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\" width=\"400\" alt=\"Weights & Biases\" /></center>\n",
        "\n",
        "<p style = \"font-family: garamond; font-size: 20px; font-style: normal; border-radius: 10px 10px; text-align:center\"> Once you’ve organized your PyTorch code into a LightningModule, the Trainer automates everything else.<br><br>📍 This abstraction achieves the following:<br><br>1. You maintain control over all aspects via PyTorch code without an added abstraction.<br>2. The trainer uses best practices embedded by contributors and users from top AI labs such as Facebook AI Research, NYU, MIT, Stanford, etc…<br>3. The trainer allows overriding any key part that you don’t want automated.<br><br>\n",
        "📍 Under the hood<br>\n",
        "Under the hood, the Lightning Trainer handles the training loop details for you, some examples include:<br>1. Automatically enabling/disabling grads<br>2. Running the training, validation and test dataloaders<br>3. Calling the Callbacks at the appropriate times<br>4. Putting batches and computations on the correct devices<br><br>\n",
        "📍 The code below applies Stratified K-Fold with PL ⚡️\n",
        "\n"
      ],
      "metadata": {
        "id": "140tpxgHg7fX"
      }
    },
    {
      "cell_type": "code",
      "source": [
        "kfolds = StratifiedKFold(n_splits=params['nfolds'], shuffle=True, random_state=params['seed'])\n",
        "\n",
        "model = Trainer()\n",
        "\n",
        "for fold, (trn_idx, val_idx) in enumerate(kfolds.split(train_df[\"id\"], train_df[\"target\"])):\n",
        "\n",
        "    if fold != 0:\n",
        "        continue\n",
        "\n",
        "    wandb_logger = WandbLogger(project='G2Net-PL-Baseline',\n",
        "                           config=params,\n",
        "                           group='Effnet-CQT',\n",
        "                           job_type='train',\n",
        "                           name = f'Fold{fold}')\n",
        "\n",
        "\n",
        "    print(f\"{'='*38} Fold: {fold} {'='*38}\")\n",
        "\n",
        "    train_data = train_df.loc[trn_idx]\n",
        "    valid_data = train_df.loc[val_idx]\n",
        "\n",
        "    data_module = DataModule(\n",
        "      train_data,\n",
        "      valid_data,\n",
        "      valid_data,\n",
        "    )\n",
        "\n",
        "    data_module.setup()\n",
        "    val_samples = next(iter(data_module.val_dataloader()))\n",
        "\n",
        "\n",
        "    early_stopping_callback = EarlyStopping(monitor='val_auc',mode=\"max\", patience=1)\n",
        "\n",
        "    checkpoint_callback = ModelCheckpoint(\n",
        "      dirpath=\"checkpoints\",\n",
        "      filename=\"best-checkpoint-fold{fold}-val_auc{val_auc:.3f}\",\n",
        "      save_top_k=params['epochs'],\n",
        "      verbose=True,\n",
        "      monitor=\"val_auc\",\n",
        "      mode=\"max\"\n",
        "    )\n",
        "\n",
        "    trainer = pl.Trainer(\n",
        "      gpus = 1,\n",
        "      checkpoint_callback=checkpoint_callback,\n",
        "      callbacks=[early_stopping_callback,\n",
        "                       ImagePredictionLogger(val_samples)],\n",
        "      max_epochs=params['epochs'],\n",
        "      precision = params['precision'],\n",
        "      progress_bar_refresh_rate=1,\n",
        "      stochastic_weight_avg = True,\n",
        "      logger=wandb_logger\n",
        "    )\n",
        "\n",
        "    trainer.fit(model, data_module)"
      ],
      "metadata": {
        "_kg_hide-output": true,
        "execution": {
          "iopub.status.busy": "2024-05-05T11:28:39.61544Z",
          "iopub.execute_input": "2024-05-05T11:28:39.615819Z",
          "iopub.status.idle": "2024-05-05T11:28:40.126875Z",
          "shell.execute_reply.started": "2024-05-05T11:28:39.615782Z",
          "shell.execute_reply": "2024-05-05T11:28:40.125089Z"
        },
        "trusted": true,
        "id": "upK1sH-ag7fY",
        "outputId": "71453762-4725-4a94-902e-548455de96cd"
      },
      "execution_count": null,
      "outputs": [
        {
          "traceback": [
            "\u001b[0;31m---------------------------------------------------------------------------\u001b[0m",
            "\u001b[0;31mRuntimeError\u001b[0m                              Traceback (most recent call last)",
            "\u001b[0;32m<ipython-input-17-0bc55d32ce10>\u001b[0m in \u001b[0;36m<module>\u001b[0;34m\u001b[0m\n\u001b[1;32m      1\u001b[0m \u001b[0mkfolds\u001b[0m \u001b[0;34m=\u001b[0m \u001b[0mStratifiedKFold\u001b[0m\u001b[0;34m(\u001b[0m\u001b[0mn_splits\u001b[0m\u001b[0;34m=\u001b[0m\u001b[0mparams\u001b[0m\u001b[0;34m[\u001b[0m\u001b[0;34m'nfolds'\u001b[0m\u001b[0;34m]\u001b[0m\u001b[0;34m,\u001b[0m \u001b[0mshuffle\u001b[0m\u001b[0;34m=\u001b[0m\u001b[0;32mTrue\u001b[0m\u001b[0;34m,\u001b[0m \u001b[0mrandom_state\u001b[0m\u001b[0;34m=\u001b[0m\u001b[0mparams\u001b[0m\u001b[0;34m[\u001b[0m\u001b[0;34m'seed'\u001b[0m\u001b[0;34m]\u001b[0m\u001b[0;34m)\u001b[0m\u001b[0;34m\u001b[0m\u001b[0;34m\u001b[0m\u001b[0m\n\u001b[1;32m      2\u001b[0m \u001b[0;34m\u001b[0m\u001b[0m\n\u001b[0;32m----> 3\u001b[0;31m \u001b[0mmodel\u001b[0m \u001b[0;34m=\u001b[0m \u001b[0mTrainer\u001b[0m\u001b[0;34m(\u001b[0m\u001b[0;34m)\u001b[0m\u001b[0;34m\u001b[0m\u001b[0;34m\u001b[0m\u001b[0m\n\u001b[0m\u001b[1;32m      4\u001b[0m \u001b[0;34m\u001b[0m\u001b[0m\n\u001b[1;32m      5\u001b[0m \u001b[0;32mfor\u001b[0m \u001b[0mfold\u001b[0m\u001b[0;34m,\u001b[0m \u001b[0;34m(\u001b[0m\u001b[0mtrn_idx\u001b[0m\u001b[0;34m,\u001b[0m \u001b[0mval_idx\u001b[0m\u001b[0;34m)\u001b[0m \u001b[0;32min\u001b[0m \u001b[0menumerate\u001b[0m\u001b[0;34m(\u001b[0m\u001b[0mkfolds\u001b[0m\u001b[0;34m.\u001b[0m\u001b[0msplit\u001b[0m\u001b[0;34m(\u001b[0m\u001b[0mtrain_df\u001b[0m\u001b[0;34m[\u001b[0m\u001b[0;34m\"id\"\u001b[0m\u001b[0;34m]\u001b[0m\u001b[0;34m,\u001b[0m \u001b[0mtrain_df\u001b[0m\u001b[0;34m[\u001b[0m\u001b[0;34m\"target\"\u001b[0m\u001b[0;34m]\u001b[0m\u001b[0;34m)\u001b[0m\u001b[0;34m)\u001b[0m\u001b[0;34m:\u001b[0m\u001b[0;34m\u001b[0m\u001b[0;34m\u001b[0m\u001b[0m\n",
            "\u001b[0;32m<ipython-input-16-1e7d7cb5437c>\u001b[0m in \u001b[0;36m__init__\u001b[0;34m(self, model_name, out_features, inp_channels, pretrained)\u001b[0m\n\u001b[1;32m      6\u001b[0m \u001b[0;34m\u001b[0m\u001b[0m\n\u001b[1;32m      7\u001b[0m         self.model = timm.create_model(model_name, pretrained=pretrained,\n\u001b[0;32m----> 8\u001b[0;31m                                        in_chans=inp_channels)\n\u001b[0m\u001b[1;32m      9\u001b[0m \u001b[0;34m\u001b[0m\u001b[0m\n\u001b[1;32m     10\u001b[0m         \u001b[0;32mif\u001b[0m \u001b[0mmodel_name\u001b[0m \u001b[0;34m==\u001b[0m \u001b[0;34m'resnet18d'\u001b[0m\u001b[0;34m:\u001b[0m\u001b[0;34m\u001b[0m\u001b[0;34m\u001b[0m\u001b[0m\n",
            "\u001b[0;32m/opt/conda/lib/python3.7/site-packages/timm/models/_factory.py\u001b[0m in \u001b[0;36mcreate_model\u001b[0;34m(model_name, pretrained, pretrained_cfg, pretrained_cfg_overlay, checkpoint_path, scriptable, exportable, no_jit, **kwargs)\u001b[0m\n\u001b[1;32m    119\u001b[0m             \u001b[0mpretrained_cfg\u001b[0m\u001b[0;34m=\u001b[0m\u001b[0mpretrained_cfg\u001b[0m\u001b[0;34m,\u001b[0m\u001b[0;34m\u001b[0m\u001b[0;34m\u001b[0m\u001b[0m\n\u001b[1;32m    120\u001b[0m             \u001b[0mpretrained_cfg_overlay\u001b[0m\u001b[0;34m=\u001b[0m\u001b[0mpretrained_cfg_overlay\u001b[0m\u001b[0;34m,\u001b[0m\u001b[0;34m\u001b[0m\u001b[0;34m\u001b[0m\u001b[0m\n\u001b[0;32m--> 121\u001b[0;31m             \u001b[0;34m**\u001b[0m\u001b[0mkwargs\u001b[0m\u001b[0;34m,\u001b[0m\u001b[0;34m\u001b[0m\u001b[0;34m\u001b[0m\u001b[0m\n\u001b[0m\u001b[1;32m    122\u001b[0m         )\n\u001b[1;32m    123\u001b[0m \u001b[0;34m\u001b[0m\u001b[0m\n",
            "\u001b[0;32m/opt/conda/lib/python3.7/site-packages/timm/models/efficientnet.py\u001b[0m in \u001b[0;36mefficientnet_b1\u001b[0;34m(pretrained, **kwargs)\u001b[0m\n\u001b[1;32m   1566\u001b[0m     \u001b[0;31m# NOTE for train, drop_rate should be 0.2, drop_path_rate should be 0.2\u001b[0m\u001b[0;34m\u001b[0m\u001b[0;34m\u001b[0m\u001b[0;34m\u001b[0m\u001b[0m\n\u001b[1;32m   1567\u001b[0m     model = _gen_efficientnet(\n\u001b[0;32m-> 1568\u001b[0;31m         'efficientnet_b1', channel_multiplier=1.0, depth_multiplier=1.1, pretrained=pretrained, **kwargs)\n\u001b[0m\u001b[1;32m   1569\u001b[0m     \u001b[0;32mreturn\u001b[0m \u001b[0mmodel\u001b[0m\u001b[0;34m\u001b[0m\u001b[0;34m\u001b[0m\u001b[0m\n\u001b[1;32m   1570\u001b[0m \u001b[0;34m\u001b[0m\u001b[0m\n",
            "\u001b[0;32m/opt/conda/lib/python3.7/site-packages/timm/models/efficientnet.py\u001b[0m in \u001b[0;36m_gen_efficientnet\u001b[0;34m(variant, channel_multiplier, depth_multiplier, channel_divisor, group_size, pretrained, **kwargs)\u001b[0m\n\u001b[1;32m    535\u001b[0m         \u001b[0;34m**\u001b[0m\u001b[0mkwargs\u001b[0m\u001b[0;34m,\u001b[0m\u001b[0;34m\u001b[0m\u001b[0;34m\u001b[0m\u001b[0m\n\u001b[1;32m    536\u001b[0m     )\n\u001b[0;32m--> 537\u001b[0;31m     \u001b[0mmodel\u001b[0m \u001b[0;34m=\u001b[0m \u001b[0m_create_effnet\u001b[0m\u001b[0;34m(\u001b[0m\u001b[0mvariant\u001b[0m\u001b[0;34m,\u001b[0m \u001b[0mpretrained\u001b[0m\u001b[0;34m,\u001b[0m \u001b[0;34m**\u001b[0m\u001b[0mmodel_kwargs\u001b[0m\u001b[0;34m)\u001b[0m\u001b[0;34m\u001b[0m\u001b[0;34m\u001b[0m\u001b[0m\n\u001b[0m\u001b[1;32m    538\u001b[0m     \u001b[0;32mreturn\u001b[0m \u001b[0mmodel\u001b[0m\u001b[0;34m\u001b[0m\u001b[0;34m\u001b[0m\u001b[0m\n\u001b[1;32m    539\u001b[0m \u001b[0;34m\u001b[0m\u001b[0m\n",
            "\u001b[0;32m/opt/conda/lib/python3.7/site-packages/timm/models/efficientnet.py\u001b[0m in \u001b[0;36m_create_effnet\u001b[0;34m(variant, pretrained, **kwargs)\u001b[0m\n\u001b[1;32m    287\u001b[0m         \u001b[0mpretrained_strict\u001b[0m\u001b[0;34m=\u001b[0m\u001b[0mfeatures_mode\u001b[0m \u001b[0;34m!=\u001b[0m \u001b[0;34m'cls'\u001b[0m\u001b[0;34m,\u001b[0m\u001b[0;34m\u001b[0m\u001b[0;34m\u001b[0m\u001b[0m\n\u001b[1;32m    288\u001b[0m         \u001b[0mkwargs_filter\u001b[0m\u001b[0;34m=\u001b[0m\u001b[0mkwargs_filter\u001b[0m\u001b[0;34m,\u001b[0m\u001b[0;34m\u001b[0m\u001b[0;34m\u001b[0m\u001b[0m\n\u001b[0;32m--> 289\u001b[0;31m         \u001b[0;34m**\u001b[0m\u001b[0mkwargs\u001b[0m\u001b[0;34m,\u001b[0m\u001b[0;34m\u001b[0m\u001b[0;34m\u001b[0m\u001b[0m\n\u001b[0m\u001b[1;32m    290\u001b[0m     )\n\u001b[1;32m    291\u001b[0m     \u001b[0;32mif\u001b[0m \u001b[0mfeatures_mode\u001b[0m \u001b[0;34m==\u001b[0m \u001b[0;34m'cls'\u001b[0m\u001b[0;34m:\u001b[0m\u001b[0;34m\u001b[0m\u001b[0;34m\u001b[0m\u001b[0m\n",
            "\u001b[0;32m/opt/conda/lib/python3.7/site-packages/timm/models/_builder.py\u001b[0m in \u001b[0;36mbuild_model_with_cfg\u001b[0;34m(model_cls, variant, pretrained, pretrained_cfg, pretrained_cfg_overlay, model_cfg, feature_cfg, pretrained_strict, pretrained_filter_fn, kwargs_filter, **kwargs)\u001b[0m\n\u001b[1;32m    401\u001b[0m             \u001b[0min_chans\u001b[0m\u001b[0;34m=\u001b[0m\u001b[0mkwargs\u001b[0m\u001b[0;34m.\u001b[0m\u001b[0mget\u001b[0m\u001b[0;34m(\u001b[0m\u001b[0;34m'in_chans'\u001b[0m\u001b[0;34m,\u001b[0m \u001b[0;36m3\u001b[0m\u001b[0;34m)\u001b[0m\u001b[0;34m,\u001b[0m\u001b[0;34m\u001b[0m\u001b[0;34m\u001b[0m\u001b[0m\n\u001b[1;32m    402\u001b[0m             \u001b[0mfilter_fn\u001b[0m\u001b[0;34m=\u001b[0m\u001b[0mpretrained_filter_fn\u001b[0m\u001b[0;34m,\u001b[0m\u001b[0;34m\u001b[0m\u001b[0;34m\u001b[0m\u001b[0m\n\u001b[0;32m--> 403\u001b[0;31m             \u001b[0mstrict\u001b[0m\u001b[0;34m=\u001b[0m\u001b[0mpretrained_strict\u001b[0m\u001b[0;34m,\u001b[0m\u001b[0;34m\u001b[0m\u001b[0;34m\u001b[0m\u001b[0m\n\u001b[0m\u001b[1;32m    404\u001b[0m         )\n\u001b[1;32m    405\u001b[0m \u001b[0;34m\u001b[0m\u001b[0m\n",
            "\u001b[0;32m/opt/conda/lib/python3.7/site-packages/timm/models/_builder.py\u001b[0m in \u001b[0;36mload_pretrained\u001b[0;34m(model, pretrained_cfg, num_classes, in_chans, filter_fn, strict)\u001b[0m\n\u001b[1;32m    155\u001b[0m         \u001b[0;32mraise\u001b[0m \u001b[0mRuntimeError\u001b[0m\u001b[0;34m(\u001b[0m\u001b[0;34m\"Invalid pretrained config, cannot load weights. Use `pretrained=False` for random init.\"\u001b[0m\u001b[0;34m)\u001b[0m\u001b[0;34m\u001b[0m\u001b[0;34m\u001b[0m\u001b[0m\n\u001b[1;32m    156\u001b[0m \u001b[0;34m\u001b[0m\u001b[0m\n\u001b[0;32m--> 157\u001b[0;31m     \u001b[0mload_from\u001b[0m\u001b[0;34m,\u001b[0m \u001b[0mpretrained_loc\u001b[0m \u001b[0;34m=\u001b[0m \u001b[0m_resolve_pretrained_source\u001b[0m\u001b[0;34m(\u001b[0m\u001b[0mpretrained_cfg\u001b[0m\u001b[0;34m)\u001b[0m\u001b[0;34m\u001b[0m\u001b[0;34m\u001b[0m\u001b[0m\n\u001b[0m\u001b[1;32m    158\u001b[0m     \u001b[0;32mif\u001b[0m \u001b[0mload_from\u001b[0m \u001b[0;34m==\u001b[0m \u001b[0;34m'state_dict'\u001b[0m\u001b[0;34m:\u001b[0m\u001b[0;34m\u001b[0m\u001b[0;34m\u001b[0m\u001b[0m\n\u001b[1;32m    159\u001b[0m         \u001b[0m_logger\u001b[0m\u001b[0;34m.\u001b[0m\u001b[0minfo\u001b[0m\u001b[0;34m(\u001b[0m\u001b[0;34mf'Loading pretrained weights from state dict'\u001b[0m\u001b[0;34m)\u001b[0m\u001b[0;34m\u001b[0m\u001b[0;34m\u001b[0m\u001b[0m\n",
            "\u001b[0;32m/opt/conda/lib/python3.7/site-packages/timm/models/_builder.py\u001b[0m in \u001b[0;36m_resolve_pretrained_source\u001b[0;34m(pretrained_cfg)\u001b[0m\n\u001b[1;32m     60\u001b[0m                 \u001b[0;31m# prioritized old cached weights if exists and env var enabled\u001b[0m\u001b[0;34m\u001b[0m\u001b[0;34m\u001b[0m\u001b[0;34m\u001b[0m\u001b[0m\n\u001b[1;32m     61\u001b[0m                 \u001b[0mold_cache_valid\u001b[0m \u001b[0;34m=\u001b[0m \u001b[0mcheck_cached_file\u001b[0m\u001b[0;34m(\u001b[0m\u001b[0mpretrained_url\u001b[0m\u001b[0;34m)\u001b[0m \u001b[0;32mif\u001b[0m \u001b[0mpretrained_url\u001b[0m \u001b[0;32melse\u001b[0m \u001b[0;32mFalse\u001b[0m\u001b[0;34m\u001b[0m\u001b[0;34m\u001b[0m\u001b[0m\n\u001b[0;32m---> 62\u001b[0;31m             \u001b[0;32mif\u001b[0m \u001b[0;32mnot\u001b[0m \u001b[0mold_cache_valid\u001b[0m \u001b[0;32mand\u001b[0m \u001b[0mhf_hub_id\u001b[0m \u001b[0;32mand\u001b[0m \u001b[0mhas_hf_hub\u001b[0m\u001b[0;34m(\u001b[0m\u001b[0mnecessary\u001b[0m\u001b[0;34m=\u001b[0m\u001b[0;32mTrue\u001b[0m\u001b[0;34m)\u001b[0m\u001b[0;34m:\u001b[0m\u001b[0;34m\u001b[0m\u001b[0;34m\u001b[0m\u001b[0m\n\u001b[0m\u001b[1;32m     63\u001b[0m                 \u001b[0;31m# hf-hub available as alternate weight source in default_cfg\u001b[0m\u001b[0;34m\u001b[0m\u001b[0;34m\u001b[0m\u001b[0;34m\u001b[0m\u001b[0m\n\u001b[1;32m     64\u001b[0m                 \u001b[0mload_from\u001b[0m \u001b[0;34m=\u001b[0m \u001b[0;34m'hf-hub'\u001b[0m\u001b[0;34m\u001b[0m\u001b[0;34m\u001b[0m\u001b[0m\n",
            "\u001b[0;32m/opt/conda/lib/python3.7/site-packages/timm/models/_hub.py\u001b[0m in \u001b[0;36mhas_hf_hub\u001b[0;34m(necessary)\u001b[0m\n\u001b[1;32m    110\u001b[0m         \u001b[0;31m# if no HF Hub module installed, and it is necessary to continue, raise error\u001b[0m\u001b[0;34m\u001b[0m\u001b[0;34m\u001b[0m\u001b[0;34m\u001b[0m\u001b[0m\n\u001b[1;32m    111\u001b[0m         raise RuntimeError(\n\u001b[0;32m--> 112\u001b[0;31m             'Hugging Face hub model specified but package not installed. Run `pip install huggingface_hub`.')\n\u001b[0m\u001b[1;32m    113\u001b[0m     \u001b[0;32mreturn\u001b[0m \u001b[0m_has_hf_hub\u001b[0m\u001b[0;34m\u001b[0m\u001b[0;34m\u001b[0m\u001b[0m\n\u001b[1;32m    114\u001b[0m \u001b[0;34m\u001b[0m\u001b[0m\n",
            "\u001b[0;31mRuntimeError\u001b[0m: Hugging Face hub model specified but package not installed. Run `pip install huggingface_hub`."
          ],
          "ename": "RuntimeError",
          "evalue": "Hugging Face hub model specified but package not installed. Run `pip install huggingface_hub`.",
          "output_type": "error"
        }
      ]
    },
    {
      "cell_type": "markdown",
      "source": [
        "<p p style = \"font-family: garamond; font-size:30px; font-style: normal;background-color: #f6f5f5; color :#6666ff; border-radius: 10px 10px; text-align:center\"><a href = 'https://wandb.ai/tanishqgautam/G2Net-PL-Baseline'>Check out the Weights and Biases Dashboard here $\\rightarrow$ </a></p>"
      ],
      "metadata": {
        "id": "2ZC6k-Fig7fY"
      }
    },
    {
      "cell_type": "markdown",
      "source": [
        "<p p style = \"font-family: garamond; font-size:30px; font-style: normal;background-color: #f6f5f5; color :#6666ff; border-radius: 10px 10px; text-align:center\">Final Metrics</p><br>\n",
        "\n",
        "<center><img src=\"https://i.imgur.com/lheGhFa.png\" width=\"1500\" alt=\"metrics\" /></center>"
      ],
      "metadata": {
        "id": "7rqKmtZtg7fY"
      }
    },
    {
      "cell_type": "markdown",
      "source": [
        "<p p style = \"font-family: garamond; font-size:30px; font-style: normal;background-color: #f6f5f5; color :#6666ff; border-radius: 10px 10px; text-align:center\">Single Fold Metrics</p><br>\n",
        "\n",
        "<center><img src=\"https://i.imgur.com/bMEoitM.png\" width=\"1500\" alt=\"metrics\" /></center>"
      ],
      "metadata": {
        "id": "J3Hk-VrZg7fY"
      }
    },
    {
      "cell_type": "markdown",
      "source": [
        "<p p style = \"font-family: garamond; font-size:30px; font-style: normal;background-color: #f6f5f5; color :#6666ff; border-radius: 10px 10px; text-align:center\">Validation Loss per Epoch</p><br>\n",
        "\n",
        "<center><img src=\"https://i.imgur.com/zDkwKbv.png\" width=\"1500\" alt=\"metrics\" /></center>"
      ],
      "metadata": {
        "id": "zGg8UDIIg7fY"
      }
    },
    {
      "cell_type": "markdown",
      "source": [
        "<p p style = \"font-family: garamond; font-size:30px; font-style: normal;background-color: #f6f5f5; color :#6666ff; border-radius: 10px 10px; text-align:center\">GPU Utilization</p><br>\n",
        "\n",
        "<center><img src=\"https://i.imgur.com/KEV03yD.png\" width=\"1500\" alt=\"metrics\" /></center>"
      ],
      "metadata": {
        "id": "bZ8CrvdCg7fb"
      }
    }
  ]
}