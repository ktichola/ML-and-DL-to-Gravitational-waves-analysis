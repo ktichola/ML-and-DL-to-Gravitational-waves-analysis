{
  "metadata": {
    "kernelspec": {
      "language": "python",
      "display_name": "Python 3",
      "name": "python3"
    },
    "language_info": {
      "name": "python",
      "version": "3.7.10",
      "mimetype": "text/x-python",
      "codemirror_mode": {
        "name": "ipython",
        "version": 3
      },
      "pygments_lexer": "ipython3",
      "nbconvert_exporter": "python",
      "file_extension": ".py"
    },
    "kaggle": {
      "accelerator": "none",
      "dataSources": [
        {
          "sourceId": 23249,
          "databundleVersionId": 2399555,
          "sourceType": "competition"
        }
      ],
      "dockerImageVersionId": 30120,
      "isInternetEnabled": true,
      "language": "python",
      "sourceType": "notebook",
      "isGpuEnabled": false
    },
    "colab": {
      "name": "Kyriaki_2 G2NET Noise Analysis/Feature Ext",
      "provenance": [],
      "include_colab_link": true
    }
  },
  "nbformat_minor": 0,
  "nbformat": 4,
  "cells": [
    {
      "cell_type": "markdown",
      "metadata": {
        "id": "view-in-github",
        "colab_type": "text"
      },
      "source": [
        "<a href=\"https://colab.research.google.com/github/ktichola/ML-and-DL-to-Gravitational-waves-analysis/blob/main/Kyriaki_2_G2NET_Noise_Analysis_Feature_Ext.ipynb\" target=\"_parent\"><img src=\"https://colab.research.google.com/assets/colab-badge.svg\" alt=\"Open In Colab\"/></a>"
      ]
    },
    {
      "source": [
        "\n",
        "# IMPORTANT: RUN THIS CELL IN ORDER TO IMPORT YOUR KAGGLE DATA SOURCES\n",
        "# TO THE CORRECT LOCATION (/kaggle/input) IN YOUR NOTEBOOK,\n",
        "# THEN FEEL FREE TO DELETE THIS CELL.\n",
        "# NOTE: THIS NOTEBOOK ENVIRONMENT DIFFERS FROM KAGGLE'S PYTHON\n",
        "# ENVIRONMENT SO THERE MAY BE MISSING LIBRARIES USED BY YOUR\n",
        "# NOTEBOOK.\n",
        "\n",
        "import os\n",
        "import sys\n",
        "from tempfile import NamedTemporaryFile\n",
        "from urllib.request import urlopen\n",
        "from urllib.parse import unquote, urlparse\n",
        "from urllib.error import HTTPError\n",
        "from zipfile import ZipFile\n",
        "import tarfile\n",
        "import shutil\n",
        "\n",
        "CHUNK_SIZE = 40960\n",
        "DATA_SOURCE_MAPPING = 'g2net-gravitational-wave-detection:https%3A%2F%2Fstorage.googleapis.com%2Fkaggle-competitions-data%2Fkaggle-v2%2F23249%2F2399555%2Fbundle%2Farchive.zip%3FX-Goog-Algorithm%3DGOOG4-RSA-SHA256%26X-Goog-Credential%3Dgcp-kaggle-com%2540kaggle-161607.iam.gserviceaccount.com%252F20240506%252Fauto%252Fstorage%252Fgoog4_request%26X-Goog-Date%3D20240506T041933Z%26X-Goog-Expires%3D259200%26X-Goog-SignedHeaders%3Dhost%26X-Goog-Signature%3D8f135a8c3bffea3a79febd9adff5d269bbccf69856f1cd464e2d887b17af9924ae4a84f061c498382621ff37094322c67c76f6119349b06e651ad3987d3fbb9831f2b33e95122f8f5f21ab0c7b58e5caac6f8bab90c2119b690f5bf4ffce76212503b9c9c218068021ad8266b38d36c8aa0e3e2c57e8f156e85df2e7e70fd43b49a37ab1df5f928254af7500df856a642daf5985b68e0a84b45d36f740d1c38e3b4dd6d93f39ba81a115cf6f976d2dd2d578df7f0ebb4c637a2c8f16c1aa884a259fabd3b21d32601bf9f3373225206ce37cdd67488ef01a83d3706d750b1996829e589edb62356ddff7508c7a64e43c0fb213763de30b029317a1ffed63eb61'\n",
        "\n",
        "KAGGLE_INPUT_PATH='/kaggle/input'\n",
        "KAGGLE_WORKING_PATH='/kaggle/working'\n",
        "KAGGLE_SYMLINK='kaggle'\n",
        "\n",
        "!umount /kaggle/input/ 2> /dev/null\n",
        "shutil.rmtree('/kaggle/input', ignore_errors=True)\n",
        "os.makedirs(KAGGLE_INPUT_PATH, 0o777, exist_ok=True)\n",
        "os.makedirs(KAGGLE_WORKING_PATH, 0o777, exist_ok=True)\n",
        "\n",
        "try:\n",
        "  os.symlink(KAGGLE_INPUT_PATH, os.path.join(\"..\", 'input'), target_is_directory=True)\n",
        "except FileExistsError:\n",
        "  pass\n",
        "try:\n",
        "  os.symlink(KAGGLE_WORKING_PATH, os.path.join(\"..\", 'working'), target_is_directory=True)\n",
        "except FileExistsError:\n",
        "  pass\n",
        "\n",
        "for data_source_mapping in DATA_SOURCE_MAPPING.split(','):\n",
        "    directory, download_url_encoded = data_source_mapping.split(':')\n",
        "    download_url = unquote(download_url_encoded)\n",
        "    filename = urlparse(download_url).path\n",
        "    destination_path = os.path.join(KAGGLE_INPUT_PATH, directory)\n",
        "    try:\n",
        "        with urlopen(download_url) as fileres, NamedTemporaryFile() as tfile:\n",
        "            total_length = fileres.headers['content-length']\n",
        "            print(f'Downloading {directory}, {total_length} bytes compressed')\n",
        "            dl = 0\n",
        "            data = fileres.read(CHUNK_SIZE)\n",
        "            while len(data) > 0:\n",
        "                dl += len(data)\n",
        "                tfile.write(data)\n",
        "                done = int(50 * dl / int(total_length))\n",
        "                sys.stdout.write(f\"\\r[{'=' * done}{' ' * (50-done)}] {dl} bytes downloaded\")\n",
        "                sys.stdout.flush()\n",
        "                data = fileres.read(CHUNK_SIZE)\n",
        "            if filename.endswith('.zip'):\n",
        "              with ZipFile(tfile) as zfile:\n",
        "                zfile.extractall(destination_path)\n",
        "            else:\n",
        "              with tarfile.open(tfile.name) as tarfile:\n",
        "                tarfile.extractall(destination_path)\n",
        "            print(f'\\nDownloaded and uncompressed: {directory}')\n",
        "    except HTTPError as e:\n",
        "        print(f'Failed to load (likely expired) {download_url} to path {destination_path}')\n",
        "        continue\n",
        "    except OSError as e:\n",
        "        print(f'Failed to load {download_url} to path {destination_path}')\n",
        "        continue\n",
        "\n",
        "print('Data source import complete.')\n"
      ],
      "metadata": {
        "id": "9VfO6iFSIRyw"
      },
      "cell_type": "code",
      "outputs": [],
      "execution_count": null
    },
    {
      "cell_type": "markdown",
      "source": [
        "References:\n",
        "\n",
        "https://www.gw-openscience.org/GW150914data/LOSC_Event_tutorial_GW150914.html#Whitening\n",
        "\n",
        "https://github.com/zerafachris/g2net_2nd_training_school_malta_mar_2020/blob/master/lectures/SP_Signal_Processing_Introduction-Eftim_Zdravevski/signal_processing_2_preparing_GW_data.ipynb\n",
        "\n"
      ],
      "metadata": {
        "id": "6vMwpa6DIRyy"
      }
    },
    {
      "cell_type": "markdown",
      "source": [
        "Starter EDA.  There are two bandpass filters, BPF_alias and BPF_strain [2,12].\n",
        "\n",
        "BPF_alias passband is between low_cut_alias =18Hz and high_cut_alias=1020Hz. The raw signal is scaled up and BPF_alias[42] then it is either with or without removing the average background[17]. The signal is then whiten[41], then BPF_strain. The BPF_strain passband is low_cut_strain=low_cut_alias+5 between high_cut_strain=high_cut_alias-5.\n",
        "\n",
        "The BPF_alias serves three purposes:\n",
        "- Low_cut_alias removes the unwanted signal below 18Hz. This increases the dynamic range of the signal, especially down cast to lower precision.\n",
        "- Scaling up the signal gives the maximum float64 precision.\n",
        "- High_cut_alias prevents signal freq that is very close to Nyquist from folding back to low frequency.  When the freq is too close to Nyquist, it is difficult to prevent it from aliasing. The only way is to attenuate it. This setting is a trade-off between how much to attenuate the signal and allow aliasing.\n",
        "\n",
        "After BPF_alias, the signal is whiten.  To whiten the signal, its PSD is obtained and transform the signal into freq-domain by FFT it. The freq-domain signal is amplitude equalized, all the weak/strong amplitudes are equalized to the same level.\n",
        "\n",
        "After whitening, the signal is BPF_strain to remove the out of band signal again since whitening equalizes it or to narrow the band of interest.  The equalized signal is then transformed back to time-domain by IFFT it.  The 1D-time-domain signal can be used for NN or 2D-spectrogram by FFT the signal segment by segment in time.  The noise analysis is based on a spectrogram by projecting it into frequency-domain and time-domain.\n",
        "\n",
        "This notebook is about:\n",
        "\n",
        "- Averaging the background noise(target=0)\n",
        "\n",
        "- Analyze original raw time/freq domain signal\n",
        "\n",
        "- Analyze the whiten signal before BPF_strain, aliasing, and Nyquist’s DC\n",
        "- Remove signal from background noise\n",
        "- Analyze spectrograms with and without background noise removed.\n",
        "- Data augmentation\n",
        "- Feature Extraction"
      ],
      "metadata": {
        "id": "qOqICvuAIRy1"
      }
    },
    {
      "cell_type": "markdown",
      "source": [
        "1. Explore Numericals\n",
        "\n",
        "2. Band Pass Filter\n",
        "\n",
        "3. Average DF_0 Background Noise\n",
        "\n",
        "    df0_avg = average(df_0) #original data\n",
        "\n",
        "    df0_avg_gain = average(df_0 << 79 bits) #apply gain on original data\n",
        "\n",
        "    df0_avg_bpf = average( BPF(df_0 << 79 bits) ) #Band pass filter\n",
        "\n",
        "4. Comparing Average DF_0\n",
        "\n",
        "    4a. Time-domain plot\n",
        "\n",
        "    comparing df0_avg vs (df0_avg_gain >>79) vs (df_0_avg_bpf>>79)\n",
        "\n",
        "    4b. Freq-domain plot\n",
        "\n",
        "    comparing df0_avg vs (df0_avg_gain >>79) vs (df_0_avg_bpf>>79)\n",
        "\n",
        "5. DF_1 Removed Background Noise\n",
        "\n",
        "    xt_gbpf = BPF(df_1 <<79) #Band pass filter df_1\n",
        "\n",
        "    xt_gbpf_bg = xt_gbpf - df0_avg_bpf #Removed background noise\n",
        "\n",
        "6. Comparing Average DF_1\n",
        "\n",
        "    6a. Time-domain plot\n",
        "\n",
        "    comparing x(original) vs (xt_gbpf >>79) vs (xt_gbpf_bg>>79)\n",
        "\n",
        "    6b. Freq-domain plot\n",
        "\n",
        "    comparing x(original) vs (xt_gbpf >>79) vs (xt_gbpf_bg>>79)\n",
        "\n",
        "7. BNS_range\n",
        "\n",
        "8. Whitening without removing Background Noise\n",
        "\n",
        "    strain_x_whiten, strain_x_whitenbp = whiten_bpf(x,dt) #with background noise\n",
        "\n",
        "    x = original data\n",
        "\n",
        "    strain_x_whiten = whiten(x)\n",
        "\n",
        "    strain_x_whitenbp = BPF(strain_x_whiten)\n",
        "\n",
        "9. Comparing whiten data without removing Background Noise\n",
        "\n",
        "    9a. Time-domain plot\n",
        "\n",
        "    comparing x(original) vs (strain_x_whiten) vs (strain_x_whitenbp)\n",
        "\n",
        "    9b. Freq-domain plot\n",
        "\n",
        "    comparing x(original) vs (strain_x_whiten ) vs (strain_x_whitenbp)\n",
        "\n",
        "10. Whitening with Removed Background Noise\n",
        "\n",
        "    strain_x_whiten_nobg, strain_x_whitenbp_nobg = whiten_bpf(x,dt,remove_bg=True)\n",
        "\n",
        "11. Comparing whiten data with removed Background Noise\n",
        "\n",
        "12. Data Augmentation\n",
        "\n",
        "13. Feature Extraction\n",
        "\n",
        "    13a. Spectrogram Feature Extraction\n",
        "\n",
        "    13b. Time-domain(1D) Feature Extraction\n",
        "    \n",
        "14. Summary"
      ],
      "metadata": {
        "id": "5duunhGJIRy2"
      }
    },
    {
      "cell_type": "code",
      "source": [
        "import os\n",
        "\n",
        "import numpy as np\n",
        "from numpy import convolve\n",
        "\n",
        "import pandas as pd\n",
        "import matplotlib.pyplot as plt\n",
        "import matplotlib.mlab as mlab\n",
        "\n",
        "from scipy import signal\n",
        "from scipy.fftpack import fft\n",
        "from scipy.signal import butter, filtfilt, freqz, iirdesign, zpk2tf\n",
        "import scipy as scp\n",
        "import scipy.stats as sp\n",
        "from scipy.interpolate import interp1d\n",
        "\n",
        "import math\n",
        "import sklearn\n",
        "import glob"
      ],
      "metadata": {
        "_uuid": "8f2839f25d086af736a60e9eeb907d3b93b6e0e5",
        "_cell_guid": "b1076dfc-b9ad-4769-8c92-a6c4dae69d19",
        "execution": {
          "iopub.status.busy": "2024-05-06T04:17:53.658875Z",
          "iopub.execute_input": "2024-05-06T04:17:53.659396Z",
          "iopub.status.idle": "2024-05-06T04:17:54.870855Z",
          "shell.execute_reply.started": "2024-05-06T04:17:53.659292Z",
          "shell.execute_reply": "2024-05-06T04:17:54.86861Z"
        },
        "trusted": true,
        "id": "gu8gfkrnIRy2"
      },
      "execution_count": null,
      "outputs": []
    },
    {
      "cell_type": "markdown",
      "source": [
        "Each data sample (npy file) contains 3 time series (1 for each detector) and each spans 2 sec and is sampled at 2,048 Hz."
      ],
      "metadata": {
        "id": "rADKyLmiIRy3"
      }
    },
    {
      "cell_type": "code",
      "source": [
        "DEBUG = 1\n",
        "EPS = 0.00001          #-5dB\n",
        "\n",
        "#BPF aliasing\n",
        "lowcut_alias = 18             #Hz, to remove low freq\n",
        "highcut_alias = 1020          #Hz\n",
        "fband_alias =[lowcut_alias,highcut_alias]\n",
        "order_bpf_alias = 6          #filter order\n",
        "#BPF strain\n",
        "lowcut = lowcut_alias+5      #23Hz, to remove low freq\n",
        "highcut = highcut_alias-5    #1015Hz\n",
        "fband =[lowcut,highcut]\n",
        "order_bpf = 4                #filter order\n",
        "\n",
        "fs = 2048                    #sample rate, Hz\n",
        "nyq = 0.5 * fs               #Nyquist Frequency"
      ],
      "metadata": {
        "execution": {
          "iopub.status.busy": "2024-05-06T04:17:54.874577Z",
          "iopub.execute_input": "2024-05-06T04:17:54.874955Z",
          "iopub.status.idle": "2024-05-06T04:17:54.880928Z",
          "shell.execute_reply.started": "2024-05-06T04:17:54.874921Z",
          "shell.execute_reply": "2024-05-06T04:17:54.879752Z"
        },
        "trusted": true,
        "id": "USfHJInUIRy3"
      },
      "execution_count": null,
      "outputs": []
    },
    {
      "cell_type": "code",
      "source": [
        "MAIN_DIR = '../input/g2net-gravitational-wave-detection'\n",
        "TRAIN_DIR = '../input/g2net-gravitational-wave-detection/train'\n",
        "SUB_DIR = '../input/g2net-gravitational-wave-detection/test'\n",
        "\n",
        "train = pd.read_csv(MAIN_DIR+'/training_labels.csv')\n",
        "test = pd.read_csv(MAIN_DIR+'/sample_submission.csv')"
      ],
      "metadata": {
        "execution": {
          "iopub.status.busy": "2024-05-06T04:17:54.882657Z",
          "iopub.execute_input": "2024-05-06T04:17:54.883053Z",
          "iopub.status.idle": "2024-05-06T04:17:55.752829Z",
          "shell.execute_reply.started": "2024-05-06T04:17:54.883018Z",
          "shell.execute_reply": "2024-05-06T04:17:55.751472Z"
        },
        "trusted": true,
        "id": "uRpcSgrLIRy3"
      },
      "execution_count": null,
      "outputs": []
    },
    {
      "cell_type": "code",
      "source": [
        "if DEBUG == 1:\n",
        "    #paths = glob.glob(TRAIN_DIR+\"/0/0/*/*\")\n",
        "    paths = glob.glob(TRAIN_DIR+\"/0/9/*/*\")\n",
        "else:\n",
        "    paths = glob.glob(TRAIN_DIR+\"/*/*/*/*\")\n",
        "\n",
        "ids = [path.split(\"/\")[-1].split(\".\")[0] for path in paths]\n",
        "paths_df = pd.DataFrame({\"path\":paths, \"id\": ids})\n",
        "train_df = pd.merge(left=train, right=paths_df, on=\"id\")\n",
        "\n",
        "#paths = glob.glob(SUB_DIR+\"/*/*/*/*\")\n",
        "#ids = [path.split(\"/\")[-1].split(\".\")[0] for path in paths]\n",
        "#paths_df = pd.DataFrame({\"path\":paths, \"id\": ids})\n",
        "#test_df = pd.merge(left=test, right=paths_df, on=\"id\")\n",
        "\n",
        "train_df.head(2)"
      ],
      "metadata": {
        "execution": {
          "iopub.status.busy": "2024-05-06T04:17:55.754462Z",
          "iopub.execute_input": "2024-05-06T04:17:55.754792Z",
          "iopub.status.idle": "2024-05-06T04:17:57.230884Z",
          "shell.execute_reply.started": "2024-05-06T04:17:55.75476Z",
          "shell.execute_reply": "2024-05-06T04:17:57.22995Z"
        },
        "trusted": true,
        "id": "xY26WQDsIRy3",
        "outputId": "cb3c7129-ae7d-487d-f47d-039f3e317877"
      },
      "execution_count": null,
      "outputs": [
        {
          "execution_count": 4,
          "output_type": "execute_result",
          "data": {
            "text/plain": "           id  target                                               path\n0  090000381f       0  ../input/g2net-gravitational-wave-detection/tr...\n1  090009b0a9       1  ../input/g2net-gravitational-wave-detection/tr...",
            "text/html": "<div>\n<style scoped>\n    .dataframe tbody tr th:only-of-type {\n        vertical-align: middle;\n    }\n\n    .dataframe tbody tr th {\n        vertical-align: top;\n    }\n\n    .dataframe thead th {\n        text-align: right;\n    }\n</style>\n<table border=\"1\" class=\"dataframe\">\n  <thead>\n    <tr style=\"text-align: right;\">\n      <th></th>\n      <th>id</th>\n      <th>target</th>\n      <th>path</th>\n    </tr>\n  </thead>\n  <tbody>\n    <tr>\n      <th>0</th>\n      <td>090000381f</td>\n      <td>0</td>\n      <td>../input/g2net-gravitational-wave-detection/tr...</td>\n    </tr>\n    <tr>\n      <th>1</th>\n      <td>090009b0a9</td>\n      <td>1</td>\n      <td>../input/g2net-gravitational-wave-detection/tr...</td>\n    </tr>\n  </tbody>\n</table>\n</div>"
          },
          "metadata": {}
        }
      ]
    },
    {
      "cell_type": "code",
      "source": [
        "train_df.shape"
      ],
      "metadata": {
        "execution": {
          "iopub.status.busy": "2024-05-06T04:17:57.232185Z",
          "iopub.execute_input": "2024-05-06T04:17:57.232814Z",
          "iopub.status.idle": "2024-05-06T04:17:57.238672Z",
          "shell.execute_reply.started": "2024-05-06T04:17:57.232743Z",
          "shell.execute_reply": "2024-05-06T04:17:57.237808Z"
        },
        "trusted": true,
        "id": "deiAzVmEIRy4",
        "outputId": "d49631af-aa6e-4c4a-e7b9-0afebb8dcf50"
      },
      "execution_count": null,
      "outputs": [
        {
          "execution_count": 5,
          "output_type": "execute_result",
          "data": {
            "text/plain": "(2132, 3)"
          },
          "metadata": {}
        }
      ]
    },
    {
      "cell_type": "code",
      "source": [
        "df_0     = train_df[train_df['target']==0]\n",
        "df_1     = train_df[train_df['target']==1]\n",
        "\n",
        "#train_df = pd.concat([df_0,df_1])\n",
        "#train_df = train_df.reset_index()\n",
        "#test_df = test_df[:31].reset_index(drop=True)"
      ],
      "metadata": {
        "execution": {
          "iopub.status.busy": "2024-05-06T04:17:57.24008Z",
          "iopub.execute_input": "2024-05-06T04:17:57.240581Z",
          "iopub.status.idle": "2024-05-06T04:17:57.27158Z",
          "shell.execute_reply.started": "2024-05-06T04:17:57.240521Z",
          "shell.execute_reply": "2024-05-06T04:17:57.270485Z"
        },
        "trusted": true,
        "id": "2AoViv9mIRy4"
      },
      "execution_count": null,
      "outputs": []
    },
    {
      "cell_type": "code",
      "source": [
        "np.log2(len(df_0)), np.log2(len(df_1))  #19bits"
      ],
      "metadata": {
        "execution": {
          "iopub.status.busy": "2024-05-06T04:17:57.273057Z",
          "iopub.execute_input": "2024-05-06T04:17:57.27348Z",
          "iopub.status.idle": "2024-05-06T04:17:57.281654Z",
          "shell.execute_reply.started": "2024-05-06T04:17:57.273398Z",
          "shell.execute_reply": "2024-05-06T04:17:57.280093Z"
        },
        "trusted": true,
        "id": "Ubi2SOcsIRy5",
        "outputId": "cbfe0e20-0d1a-4d58-abea-71c44119eafc"
      },
      "execution_count": null,
      "outputs": [
        {
          "execution_count": 7,
          "output_type": "execute_result",
          "data": {
            "text/plain": "(10.079484783826816, 10.036173612553485)"
          },
          "metadata": {}
        }
      ]
    },
    {
      "cell_type": "markdown",
      "source": [
        "**1.0 Explore Numericals**"
      ],
      "metadata": {
        "id": "6VFuzdSIIRy5"
      }
    },
    {
      "cell_type": "code",
      "source": [
        "def numerical_values(dat, gain=1):\n",
        "    if gain != 1 :                #avoid multiply by 0.9999..\n",
        "        dat = gain*dat\n",
        "    dat_min  = np.min(dat)\n",
        "    dat_max  = np.max(dat)\n",
        "    dat_mean = np.mean(dat)\n",
        "    print('len=', len(dat))\n",
        "    print('min=', dat_min, 'max=',dat_max, 'mean=',dat_mean)\n",
        "\n",
        "    dat_min_bit = np.log2(abs(dat_min))\n",
        "    dat_max_bit = np.log2(abs(dat_max))\n",
        "    dat_mean_bit = np.log2(abs(dat_mean))\n",
        "    dat_range_bit = np.log2(abs(dat_max-dat_min))\n",
        "    print('minbit= ',dat_min_bit, 'maxbit= ',dat_max_bit, 'meanbit= ',dat_mean_bit, 'rangebit= ',dat_range_bit )\n",
        "    return dat_mean"
      ],
      "metadata": {
        "execution": {
          "iopub.status.busy": "2024-05-06T04:17:57.284783Z",
          "iopub.execute_input": "2024-05-06T04:17:57.285187Z",
          "iopub.status.idle": "2024-05-06T04:17:57.294268Z",
          "shell.execute_reply.started": "2024-05-06T04:17:57.285136Z",
          "shell.execute_reply": "2024-05-06T04:17:57.293049Z"
        },
        "trusted": true,
        "id": "_lF56k49IRy5"
      },
      "execution_count": null,
      "outputs": []
    },
    {
      "cell_type": "code",
      "source": [
        "#import sys\n",
        "#sys.float_info\n",
        "np.finfo(\"float64\")"
      ],
      "metadata": {
        "execution": {
          "iopub.status.busy": "2024-05-06T04:17:57.296418Z",
          "iopub.execute_input": "2024-05-06T04:17:57.296763Z",
          "iopub.status.idle": "2024-05-06T04:17:57.314732Z",
          "shell.execute_reply.started": "2024-05-06T04:17:57.296729Z",
          "shell.execute_reply": "2024-05-06T04:17:57.31329Z"
        },
        "trusted": true,
        "id": "LzLi__AiIRy5",
        "outputId": "5509359e-95d7-4ef7-b2c3-775aad9feba6"
      },
      "execution_count": null,
      "outputs": [
        {
          "execution_count": 9,
          "output_type": "execute_result",
          "data": {
            "text/plain": "finfo(resolution=1e-15, min=-1.7976931348623157e+308, max=1.7976931348623157e+308, dtype=float64)"
          },
          "metadata": {}
        }
      ]
    },
    {
      "cell_type": "code",
      "source": [
        "print('closest value to 0 =', np.finfo(\"float64\").tiny, 'smallest value=', 2**-1074, 'smallest round to 0= ',2**-1075)"
      ],
      "metadata": {
        "execution": {
          "iopub.status.busy": "2024-05-06T04:17:57.318363Z",
          "iopub.execute_input": "2024-05-06T04:17:57.318785Z",
          "iopub.status.idle": "2024-05-06T04:17:57.331031Z",
          "shell.execute_reply.started": "2024-05-06T04:17:57.318745Z",
          "shell.execute_reply": "2024-05-06T04:17:57.329114Z"
        },
        "trusted": true,
        "id": "c1POKH-DIRy6",
        "outputId": "b1429812-e76a-4be1-db7f-78a0dde14123"
      },
      "execution_count": null,
      "outputs": [
        {
          "name": "stdout",
          "text": "closest value to 0 = 2.2250738585072014e-308 smallest value= 5e-324 smallest round to 0=  0.0\n",
          "output_type": "stream"
        }
      ]
    },
    {
      "cell_type": "code",
      "source": [
        "#Checking numerical values\n",
        "#LIGO averaged measured noise amplitude of about 10^-23 at 100 Hz, Virgo it is 5 × 10^-24 at 100 Hz\n",
        "#gain_ref_ligo = 1/(4*10**-24)\n",
        "#gain_ref_virgo = 1/(5*10**-24)\n",
        "gain_min = 2**int(np.log2(1/10**-23))  #power of 2 gain, <<76bits\n",
        "gain_ref = 2**int(np.log2(1/10**-24))  # <<79 bits\n",
        "gain_max = 2**int(np.log2(1/10**-25))  # <<83 bits\n",
        "\n",
        "file_path = df_0.iloc[0][\"path\"]\n",
        "dat_raw  =  np.load(file_path)\n",
        "\n",
        "#H1 - LIGO\n",
        "gain_ligo_H1 = 1.0\n",
        "dat_mean = numerical_values(dat_raw[0,], gain_ligo_H1)\n",
        "#gain_ligo_H1 = 1/np.abs(dat_mean)  #\n",
        "#gain_ligo_H1 = 2**( int( np.log2(gain_ligo_H1)) )\n",
        "dat_mean = numerical_values(dat_raw[0,], gain_ref)  #use reference gain for all, <<79\n",
        "\n",
        "#L1 - LIGO\n",
        "gain_ligo_L1 = 1.0\n",
        "dat_mean = numerical_values(dat_raw[1,], gain_ligo_L1)\n",
        "#gain_ligo_L1 = 1/np.abs(dat_mean)  #\n",
        "#gain_ligo_L1 = 2**( int( np.log2(gain_ligo_L1)) )\n",
        "dat_mean = numerical_values(dat_raw[1,], gain_ref)  #use reference gain for all, <<79\n",
        "\n",
        "#V1 - VIRGO\n",
        "gain_virgo_V1 = 1.0\n",
        "dat_mean = numerical_values(dat_raw[2,], gain_virgo_V1)\n",
        "#gain_virgo_V1 = 1/np.abs(dat_mean)  #\n",
        "#gain_virgo_V1 = 2**( int( np.log2(gain_virgo_V1)) )\n",
        "dat_mean = numerical_values(dat_raw[2,], gain_ref)  #use reference gain for all, <<79"
      ],
      "metadata": {
        "execution": {
          "iopub.status.busy": "2024-05-06T04:17:57.332736Z",
          "iopub.execute_input": "2024-05-06T04:17:57.333135Z",
          "iopub.status.idle": "2024-05-06T04:17:57.373862Z",
          "shell.execute_reply.started": "2024-05-06T04:17:57.333094Z",
          "shell.execute_reply": "2024-05-06T04:17:57.372846Z"
        },
        "trusted": true,
        "id": "xMJLdfKfIRy6",
        "outputId": "c283b13a-1253-4a69-aae0-aec146d13ebc"
      },
      "execution_count": null,
      "outputs": [
        {
          "name": "stdout",
          "text": "len= 4096\nmin= -2.2798962050052023e-20 max= 2.1495165988154174e-20 mean= -5.444544740630961e-23\nminbit=  -65.24959375227515 maxbit=  -65.33454964672529 meanbit=  -73.95953476301597 rangebit=  -64.29144644076503\nlen= 4096\nmin= -13781.126941360984 max= 12993.030579990893 mean= -32.9102535649795\nminbit=  13.750406247724849 maxbit=  13.665450353274702 meanbit=  5.0404652369840575 rangebit=  14.708553559234968\nlen= 4096\nmin= -2.178271594334136e-20 max= 2.2220061737320957e-20 mean= -8.261594271367488e-23\nminbit=  -65.31537805233762 maxbit=  -65.28669907255926 meanbit=  -73.35792597153254 rangebit=  -64.30096730082386\nlen= 4096\nmin= -13166.843862618302 max= 13431.2031738392 mean= -49.938273129182676\nminbit=  13.684621947662377 maxbit=  13.713300927440741 meanbit=  5.6420740284674755 rangebit=  14.699032699176142\nlen= 4096\nmin= -4.081023456681816e-21 max= 3.829277103775516e-21 mean= -1.0940934184998158e-23\nminbit=  -67.73155898977168 maxbit=  -67.82341792874385 meanbit=  -76.27461025538267 rangebit=  -66.77675748013081\nlen= 4096\nmin= -2466.827313617796 max= 2314.6559806066743 mean= -6.613388913474318\nminbit=  11.268441010228319 maxbit=  11.176582071256153 meanbit=  2.7253897446173285 rangebit=  12.223242519869185\n",
          "output_type": "stream"
        }
      ]
    },
    {
      "cell_type": "markdown",
      "source": [
        "**2. Band Pass Filter**"
      ],
      "metadata": {
        "id": "i76yWLf5IRy6"
      }
    },
    {
      "cell_type": "markdown",
      "source": [
        "2a. Band Pass(Butterworth) Filter"
      ],
      "metadata": {
        "id": "yoDTTzsvIRy6"
      }
    },
    {
      "cell_type": "code",
      "source": [
        "def butter_bandpass_filter(data, cutoff_low, cutoff_high, fs, order):\n",
        "    normal_cutoff_low = cutoff_low / nyq\n",
        "    normal_cutoff_high = cutoff_high / nyq\n",
        "    # Get the filter coefficients\n",
        "    # bb, ab = butter(6, [80*2./fs, 500*2./fs], btype='band')\n",
        "    b, a = butter(order, [normal_cutoff_low,normal_cutoff_high], btype='band', analog=False)\n",
        "    y = filtfilt(b, a, data)\n",
        "    return y\n",
        "\n",
        "\n",
        "#BandPass Filter Frequency Response\n",
        "b2, a2 = butter(order_bpf_alias, [lowcut_alias/nyq, highcut_alias/nyq], btype='band', analog=False)\n",
        "w2,h2 = freqz(b2,a2, fs=fs)\n",
        "print(len(w2))  #len(w2) = 1024Hz\n",
        "\n",
        "plt.figure(figsize=(18,4))\n",
        "plt.subplot(131)\n",
        "plt.plot(w2, 20 * np.log10(abs(h2)+2**-31), 'b')  #add 2**-31 to avoid log(0)\n",
        "plt.ylabel('Amplitude [dB]', color='b')\n",
        "plt.xlabel('Frequency [Hz]')\n",
        "plt.grid()\n",
        "plt.title('BPF, passband @ 18Hz~1020Hz')\n",
        "\n",
        "bins=20   # 40Hz = 20*1024/len(w2)\n",
        "plt.subplot(132)\n",
        "plt.plot(w2[:bins], 20 * np.log10(abs(h2[:bins])+2**-31), 'b')\n",
        "plt.ylabel('Amplitude [dB]', color='b')\n",
        "plt.xlabel('Frequency [Hz]')\n",
        "plt.grid()\n",
        "plt.title('Zoom-In BPF')\n",
        "\n",
        "bins=15  # -30Hz = 15*1024/len(w2)\n",
        "plt.subplot(133)\n",
        "plt.plot(w2[-bins:], 20 * np.log10(abs(h2[-bins:])+2**-31), 'b')\n",
        "plt.ylabel('Amplitude [dB]', color='b')\n",
        "plt.xlabel('Frequency [Hz]')\n",
        "plt.grid()\n",
        "plt.title('Zoom-In BPF')"
      ],
      "metadata": {
        "execution": {
          "iopub.status.busy": "2024-05-06T04:17:57.375061Z",
          "iopub.execute_input": "2024-05-06T04:17:57.375478Z",
          "iopub.status.idle": "2024-05-06T04:17:58.005096Z",
          "shell.execute_reply.started": "2024-05-06T04:17:57.375436Z",
          "shell.execute_reply": "2024-05-06T04:17:58.003505Z"
        },
        "trusted": true,
        "id": "nN5sLpzRIRy7",
        "outputId": "c9712e99-4f84-4d69-effb-be156a8a55fd"
      },
      "execution_count": null,
      "outputs": [
        {
          "name": "stdout",
          "text": "512\n",
          "output_type": "stream"
        },
        {
          "execution_count": 12,
          "output_type": "execute_result",
          "data": {
            "text/plain": "Text(0.5, 1.0, 'Zoom-In BPF')"
          },
          "metadata": {}
        },
        {
          "output_type": "display_data",
          "data": {
            "text/plain": "<Figure size 1296x288 with 3 Axes>",
            "image/png": "[encoded data removed]"
          },
          "metadata": {
            "needs_background": "light"
          }
        }
      ]
    },
    {
      "cell_type": "markdown",
      "source": [
        "2b. Band Pass and Notch Filters"
      ],
      "metadata": {
        "id": "6GMXXC7TIRy7"
      }
    },
    {
      "cell_type": "code",
      "source": [
        "#https://www.uv.es/virgogroup/Denoising_ROF.html\n",
        "\n",
        "#This filtering method consists in detecting the known spectral lines\n",
        "#(e.g. frequency of the normal modes of vibration of the suspended mirrors,\n",
        "#frequency of the electric network, etc) to remove them from the data.\n",
        "\n",
        "def iir_bandstops(fstops, fs, order=4):\n",
        "    \"\"\"ellip notch filter\n",
        "    fstops is a list of entries of the form [frequency (Hz), df, df2]\n",
        "    where df is the pass width and df2 is the stop width (narrower\n",
        "    than the pass width). Use caution if passing more than one freq at a time,\n",
        "    because the filter response might behave in ways you don't expect.\n",
        "    \"\"\"\n",
        "    nyq = 0.5 * fs\n",
        "\n",
        "    # Zeros zd, poles pd, and gain kd for the digital filter\n",
        "    zd = np.array([])\n",
        "    pd = np.array([])\n",
        "    kd = 1\n",
        "\n",
        "    # Notches\n",
        "    for fstopData in fstops:\n",
        "        fstop = fstopData[0]\n",
        "        df = fstopData[1]\n",
        "        df2 = fstopData[2]\n",
        "        low = (fstop - df) / nyq\n",
        "        high = (fstop + df) / nyq\n",
        "        low2 = (fstop - df2) / nyq\n",
        "        high2 = (fstop + df2) / nyq\n",
        "        z, p, k = iirdesign([low,high], [low2,high2], gpass=1, gstop=6,\n",
        "                            ftype='ellip', output='zpk')\n",
        "        zd = np.append(zd,z)\n",
        "        pd = np.append(pd,p)\n",
        "\n",
        "    # Set gain to one at 100 Hz...better not notch there\n",
        "    bPrelim,aPrelim = zpk2tf(zd, pd, 1)\n",
        "    outFreq, outg0 = freqz(bPrelim, aPrelim, 100/nyq)\n",
        "\n",
        "    # Return the numerator and denominator of the digital filter\n",
        "    b,a = zpk2tf(zd,pd,k)\n",
        "    return b, a\n",
        "\n",
        "\n",
        "def get_filter_coefs(fs):\n",
        "#def get_filter_coefs():\n",
        "\n",
        "    # assemble the filter b,a coefficients:\n",
        "    coefs = []\n",
        "\n",
        "    # bandpass filter parameters\n",
        "    #lowcut=43\n",
        "    #highcut=1023  #2047\n",
        "    #order = 4\n",
        "\n",
        "    # bandpass filter coefficients\n",
        "    #nyq = 0.5*fs\n",
        "    #low = lowcut / nyq\n",
        "    #high = highcut / nyq\n",
        "    #bb, ab = butter(order, [low, high], btype='band')\n",
        "    #coefs.append((bb,ab))\n",
        "\n",
        "    # Frequencies of notches at known instrumental spectral line frequencies.\n",
        "    # You can see these lines in the ASD above, so it is straightforward to make this list.\n",
        "    notchesAbsolute = np.array(\n",
        "        [14.0,34.70, 35.30, 35.90, 36.70, 37.30, 40.95, 60.00,\n",
        "         120.00, 179.99, 304.99, 331.49, 510.02, 1009.99])\n",
        "\n",
        "    # notch filter coefficients:\n",
        "    for notchf in notchesAbsolute:\n",
        "        bn, an = iir_bandstops(np.array([[notchf,1,0.1]]), fs, order=4)\n",
        "        coefs.append((bn,an))\n",
        "\n",
        "    # Manually do a wider notch filter around 510 Hz etc.\n",
        "    bn, an = iir_bandstops(np.array([[510,200,20]]), fs, order=4)\n",
        "    coefs.append((bn, an))\n",
        "\n",
        "    # also notch out the forest of lines around 331.5 Hz\n",
        "    bn, an = iir_bandstops(np.array([[331.5,10,1]]), fs, order=4)\n",
        "    coefs.append((bn, an))\n",
        "\n",
        "    return coefs\n",
        "\n",
        "# Find the coefficients\n",
        "notch_coefs = get_filter_coefs(fs)\n",
        "\n",
        "\n",
        "def notch_filter_data(data_in,coefs):\n",
        "    data = data_in.copy()\n",
        "    for coef in coefs:\n",
        "        b,a = coef\n",
        "        # filtfilt applies a linear filter twice, once forward and once backwards.\n",
        "        # The combined filter has linear phase.\n",
        "        data = filtfilt(b, a, data)\n",
        "    return data"
      ],
      "metadata": {
        "execution": {
          "iopub.status.busy": "2024-05-06T04:17:58.006989Z",
          "iopub.execute_input": "2024-05-06T04:17:58.007373Z",
          "iopub.status.idle": "2024-05-06T04:17:58.07333Z",
          "shell.execute_reply.started": "2024-05-06T04:17:58.007337Z",
          "shell.execute_reply": "2024-05-06T04:17:58.072043Z"
        },
        "trusted": true,
        "id": "mTZ5xGdpIRy7"
      },
      "execution_count": null,
      "outputs": []
    },
    {
      "cell_type": "markdown",
      "source": [
        "**3. Average DF_0 Background Noise**"
      ],
      "metadata": {
        "id": "48WUVbpOIRy7"
      }
    },
    {
      "cell_type": "code",
      "source": [
        "avg_sample = np.power(2,9)  #512\n",
        "max_31bit  = np.power(2,30)-1  #2**30-1\n",
        "\n",
        "def avg_data(df,gain,bpf,noise=np.array([])):\n",
        "    max_abs = np.full(3, -np.inf)\n",
        "\n",
        "    if gain == 1:\n",
        "        avg_df  = np.zeros((3,4096), dtype = np.float64)  #\n",
        "        if(noise.size == 0):\n",
        "            noise   = np.zeros((3,4096), dtype = np.float64)  # background-noise\n",
        "    else:\n",
        "        avg_df  = np.zeros((3,4096), dtype = np.float32)  #\n",
        "        if(noise.size == 0):\n",
        "            noise   = np.zeros((3,4096), dtype = np.float32)  # background-noise\n",
        "    for i,fn in enumerate(df.path[:avg_sample]):\n",
        "        dat_raw   = np.load(fn)                           #3x4096\n",
        "        if gain != 1:  #avoid multiply by 0.99...\n",
        "            dat_raw   = gain*dat_raw                      # <<79 bits\n",
        "\n",
        "\n",
        "        for k in range( len(avg_df) ):\n",
        "            if bpf:\n",
        "                dat_raw[k,] = butter_bandpass_filter(dat_raw[k,], lowcut_alias, highcut_alias, fs, order=6)  #aliasing filter\n",
        "                #dat_raw[k,] = butter_bandpass_filter(dat_raw[k,], lowcut_alias, highcut_alias, fs, order=6)  #serialize double the attenuation\n",
        "\n",
        "            if i == 0:\n",
        "                avg_df[k,] = dat_raw[k,] - noise[k,]  #remove background noise\n",
        "            else:\n",
        "                avg_df[k,] = avg_df[k,] + dat_raw[k,] - noise[k,]  #remove background noise\n",
        "\n",
        "\n",
        "            if(i%200 == 0):\n",
        "                dat_min=np.min(avg_df[k,])\n",
        "                dat_max=np.max(avg_df[k,])\n",
        "                dat_mean=np.mean(avg_df[k,])\n",
        "                max_abs_i = max( np.abs(dat_min), np.abs(dat_max))\n",
        "\n",
        "                if max_abs_i > max_abs[k] :\n",
        "                    max_abs[k] = max_abs_i\n",
        "\n",
        "                print(k, dat_min, dat_max, dat_mean, max_abs[k])\n",
        "\n",
        "                if ( max_abs[k] > max_31bit):\n",
        "                    print(k,'close to fixed-point overflow')\n",
        "\n",
        "    avg_df = avg_df/(i+1)\n",
        "    return avg_df"
      ],
      "metadata": {
        "execution": {
          "iopub.status.busy": "2024-05-06T04:17:58.075252Z",
          "iopub.execute_input": "2024-05-06T04:17:58.075676Z",
          "iopub.status.idle": "2024-05-06T04:17:58.090295Z",
          "shell.execute_reply.started": "2024-05-06T04:17:58.075634Z",
          "shell.execute_reply": "2024-05-06T04:17:58.088426Z"
        },
        "trusted": true,
        "id": "N8DHKAFQIRy7"
      },
      "execution_count": null,
      "outputs": []
    },
    {
      "cell_type": "code",
      "source": [
        "df0_avg = avg_data(df_0, gain=1,bpf=False)         #float64"
      ],
      "metadata": {
        "execution": {
          "iopub.status.busy": "2024-05-06T04:17:58.092344Z",
          "iopub.execute_input": "2024-05-06T04:17:58.09287Z",
          "iopub.status.idle": "2024-05-06T04:18:02.664788Z",
          "shell.execute_reply.started": "2024-05-06T04:17:58.092818Z",
          "shell.execute_reply": "2024-05-06T04:18:02.663699Z"
        },
        "trusted": true,
        "id": "X1i3MrOgIRy8",
        "outputId": "30502c1b-b198-40a4-bf78-d5c664b56865"
      },
      "execution_count": null,
      "outputs": [
        {
          "name": "stdout",
          "text": "0 -2.2798962050052023e-20 2.1495165988154174e-20 -5.444544740630961e-23 2.2798962050052023e-20\n1 -2.178271594334136e-20 2.2220061737320957e-20 -8.261594271367488e-23 2.2220061737320957e-20\n2 -4.081023456681816e-21 3.829277103775516e-21 -1.0940934184998158e-23 4.081023456681816e-21\n0 -3.5758917008101344e-19 3.625783550564074e-19 1.2529109588249434e-21 3.625783550564074e-19\n1 -2.2276487910209417e-19 2.301697899713208e-19 -1.4863019182139767e-21 2.301697899713208e-19\n2 -5.776496837152802e-20 5.885057851405064e-20 1.6020160280342512e-22 5.885057851405064e-20\n0 -3.1205758551087445e-19 3.1385805103686876e-19 1.3561836208911873e-22 3.625783550564074e-19\n1 -3.8147071070837066e-19 3.785420158125956e-19 -2.943729677316937e-21 3.8147071070837066e-19\n2 -1.1385344183377056e-19 1.0240355782597879e-19 3.048358753885566e-22 1.1385344183377056e-19\n",
          "output_type": "stream"
        }
      ]
    },
    {
      "cell_type": "code",
      "source": [
        "#BPF_alias OFF\n",
        "df0_avg_gain = avg_data(df_0, gain_ref,bpf=False)  #float32"
      ],
      "metadata": {
        "execution": {
          "iopub.status.busy": "2024-05-06T04:18:02.666421Z",
          "iopub.execute_input": "2024-05-06T04:18:02.66693Z",
          "iopub.status.idle": "2024-05-06T04:18:04.962372Z",
          "shell.execute_reply.started": "2024-05-06T04:18:02.666882Z",
          "shell.execute_reply": "2024-05-06T04:18:04.961222Z"
        },
        "trusted": true,
        "id": "Rq1V1g0xIRy8",
        "outputId": "73e2a9e8-7a08-4780-d79b-dc8e96773355"
      },
      "execution_count": null,
      "outputs": [
        {
          "name": "stdout",
          "text": "0 -13781.127 12993.03 -32.910255 13781.126953125\n1 -13166.844 13431.203 -49.938225 13431.203125\n2 -2466.8274 2314.656 -6.613386 2466.827392578125\n0 -216149.45 219165.14 757.33826 219165.140625\n1 -134653.17 139129.14 -898.4142 139129.140625\n2 -34916.777 35572.996 96.83592 35572.99609375\n0 -188627.19 189715.55 81.97554 219165.140625\n1 -230584.92 228814.61 -1779.3752 230584.921875\n2 -68820.22 61899.145 184.26208 68820.21875\n",
          "output_type": "stream"
        }
      ]
    },
    {
      "cell_type": "code",
      "source": [
        "#BPF_alias ON\n",
        "df0_avg_bpf = avg_data(df_0, gain_ref, bpf=True)  #float32"
      ],
      "metadata": {
        "execution": {
          "iopub.status.busy": "2024-05-06T04:18:04.963861Z",
          "iopub.execute_input": "2024-05-06T04:18:04.964303Z",
          "iopub.status.idle": "2024-05-06T04:18:20.667771Z",
          "shell.execute_reply.started": "2024-05-06T04:18:04.964263Z",
          "shell.execute_reply": "2024-05-06T04:18:20.666713Z"
        },
        "trusted": true,
        "id": "nn9BB5ZnIRy8",
        "outputId": "f437e9ea-5e47-4f68-bcac-15281d1b6452"
      },
      "execution_count": null,
      "outputs": [
        {
          "name": "stdout",
          "text": "0 -447.7215 418.55334 -0.35883367 447.72149658203125\n1 -471.63736 426.1287 -1.9243681 471.6373596191406\n2 -517.0566 524.01624 -0.6488691 524.0162353515625\n0 -10826.397 17585.436 60.511013 17585.435546875\n1 -5352.4463 5464.5605 -11.053666 5464.560546875\n2 -7415.8545 6941.0938 12.427172 7415.8544921875\n0 -16390.334 24279.266 87.5941 24279.265625\n1 -11934.488 9291.715 -42.959766 11934.48828125\n2 -12879.5625 14039.212 2.1484642 14039.2119140625\n",
          "output_type": "stream"
        }
      ]
    },
    {
      "cell_type": "code",
      "source": [
        "np.shape(df0_avg), df0_avg.dtype, df0_avg_gain.dtype, df0_avg_bpf.dtype"
      ],
      "metadata": {
        "execution": {
          "iopub.status.busy": "2024-05-06T04:18:20.669008Z",
          "iopub.execute_input": "2024-05-06T04:18:20.669372Z",
          "iopub.status.idle": "2024-05-06T04:18:20.6762Z",
          "shell.execute_reply.started": "2024-05-06T04:18:20.669338Z",
          "shell.execute_reply": "2024-05-06T04:18:20.674851Z"
        },
        "trusted": true,
        "id": "DZjFQJyoIRy8",
        "outputId": "ba09e86c-ae13-440b-c154-e9fc65bb78d3"
      },
      "execution_count": null,
      "outputs": [
        {
          "execution_count": 18,
          "output_type": "execute_result",
          "data": {
            "text/plain": "((3, 4096), dtype('float64'), dtype('float32'), dtype('float32'))"
          },
          "metadata": {}
        }
      ]
    },
    {
      "cell_type": "code",
      "source": [
        "max_raw = np.abs(np.max(df0_avg))\n",
        "min_raw = np.abs(np.min(df0_avg))\n",
        "abs_max = max( max_raw, min_raw )\n",
        "np.log2(min_raw),np.log2(max_raw),np.log2(np.abs(np.mean(df0_avg))),10*np.log10(abs_max-np.abs(np.mean(df0_avg)))"
      ],
      "metadata": {
        "execution": {
          "iopub.status.busy": "2024-05-06T04:18:20.67754Z",
          "iopub.execute_input": "2024-05-06T04:18:20.67789Z",
          "iopub.status.idle": "2024-05-06T04:18:20.689148Z",
          "shell.execute_reply.started": "2024-05-06T04:18:20.677858Z",
          "shell.execute_reply": "2024-05-06T04:18:20.688291Z"
        },
        "trusted": true,
        "id": "7CeGQyr3IRy9",
        "outputId": "fbacb307-59ec-4b84-e9a7-0ef47f142901"
      },
      "execution_count": null,
      "outputs": [
        {
          "execution_count": 19,
          "output_type": "execute_result",
          "data": {
            "text/plain": "(-69.88288397595974, -69.8337608900869, -78.8836978549239, -210.22876885196303)"
          },
          "metadata": {}
        }
      ]
    },
    {
      "cell_type": "code",
      "source": [
        "max_g = np.abs(np.max(df0_avg_gain))\n",
        "min_g = np.abs(np.min(df0_avg_gain))\n",
        "abs_max_gain = max(max_g,min_g)\n",
        "np.log2(min_g),np.log2(max_g),np.log2(np.abs(np.mean(df0_avg_gain))),10*np.log10(abs_max_gain-np.abs(np.mean(df0_avg_gain)))"
      ],
      "metadata": {
        "execution": {
          "iopub.status.busy": "2024-05-06T04:18:20.690306Z",
          "iopub.execute_input": "2024-05-06T04:18:20.69091Z",
          "iopub.status.idle": "2024-05-06T04:18:20.704064Z",
          "shell.execute_reply.started": "2024-05-06T04:18:20.690869Z",
          "shell.execute_reply": "2024-05-06T04:18:20.703031Z"
        },
        "trusted": true,
        "id": "usmY2EbiIRy9",
        "outputId": "859801e1-64fa-4f98-c643-03de63cc14b7"
      },
      "execution_count": null,
      "outputs": [
        {
          "execution_count": 20,
          "output_type": "execute_result",
          "data": {
            "text/plain": "(9.117115, 9.16624, 0.116301596, 27.58492946624756)"
          },
          "metadata": {}
        }
      ]
    },
    {
      "cell_type": "code",
      "source": [
        "max_b = np.abs(np.max(df0_avg_bpf))\n",
        "min_b = np.abs(np.min(df0_avg_bpf))\n",
        "abs_max_b = max(max_b,min_b)\n",
        "np.log2(min_b),np.log2(max_b),np.log2(np.abs(np.mean(df0_avg_bpf))),10*np.log10(abs_max_b-np.abs(np.mean(df0_avg_bpf)))"
      ],
      "metadata": {
        "execution": {
          "iopub.status.busy": "2024-05-06T04:18:20.705528Z",
          "iopub.execute_input": "2024-05-06T04:18:20.70588Z",
          "iopub.status.idle": "2024-05-06T04:18:20.717103Z",
          "shell.execute_reply.started": "2024-05-06T04:18:20.705833Z",
          "shell.execute_reply": "2024-05-06T04:18:20.716003Z"
        },
        "trusted": true,
        "id": "Sz5AIsjbIRy9",
        "outputId": "025e2616-d969-447b-c2e7-37135c399c9c"
      },
      "execution_count": null,
      "outputs": [
        {
          "execution_count": 21,
          "output_type": "execute_result",
          "data": {
            "text/plain": "(5.1789503, 5.6483417, -4.419412, 16.999154090881348)"
          },
          "metadata": {}
        }
      ]
    },
    {
      "cell_type": "code",
      "source": [
        "def plot_time_domain_dat(xt, xtgbpf, xtgbpf_bg):\n",
        "    fig,ax = plt.subplots(nrows=3, ncols=3, figsize=(24,12))\n",
        "    all_ones = np.ones(np.shape(xt)[1])\n",
        "    #overlay plots of average without gain float64, avg with gain<<79 float32, avg with gain<<79+BPF float32\n",
        "    ax[0,0].plot(xt[0,],'b')                  #H1\n",
        "    ax[0,0].plot(xtgbpf[0,], 'r--')     #inverse gain >>79bits for comparing\n",
        "    ax[0,0].plot(xtgbpf_bg[0,], 'g--')  #inverse gain >>79bits for comparing\n",
        "    ax[1,0].plot(xt[1,],'b')                  #L1\n",
        "    ax[1,0].plot(xtgbpf[1,], 'r--')     #inverse gain >>79bits for comparing\n",
        "    ax[1,0].plot(xtgbpf_bg[1,], 'g--')  #inverse gain >>79bits for comparing\n",
        "    ax[2,0].plot(xt[2,],'b')                  #V1\n",
        "    ax[2,0].plot(xtgbpf[2,], 'r--')     #inverse gain >>79bits for comparing\n",
        "    ax[2,0].plot(xtgbpf_bg[2,], 'g--')  #inverse gain >>79bits for comparing\n",
        "    ax[0,0].legend(['H1','H1<<79','H1_bpf'])\n",
        "    ax[1,0].legend(['L1','L1<<79','L1_bpf'])\n",
        "    ax[2,0].legend(['V1','V1<<79','V1_bpf'])\n",
        "\n",
        "    #average with gain<<79, float32\n",
        "    ax[0,1].plot(xtgbpf[0,],'r')             #H1\n",
        "    ax[0,1].plot(all_ones*np.mean(xtgbpf[0,]),'k')\n",
        "    ax[1,1].plot(xtgbpf[1,],'r')             #L1\n",
        "    ax[1,1].plot(all_ones*np.mean(xtgbpf[1,]),'k')\n",
        "    ax[2,1].plot(xtgbpf[2,],'r')             #V1\n",
        "    ax[2,1].plot(all_ones*np.mean(xtgbpf[2,]),'k')\n",
        "    ax[0,1].legend(['H1<<79','mean'])\n",
        "    ax[1,1].legend(['L1<<79','mean'])\n",
        "    ax[2,1].legend(['V1<<79','mean'])\n",
        "    #average with gain<<79 + BPF, float32\n",
        "    ax[0,2].plot(xtgbpf_bg[0,],'g')              #H1\n",
        "    ax[0,2].plot(all_ones*np.mean(xtgbpf_bg[0,]),'k')\n",
        "    ax[1,2].plot(xtgbpf_bg[1,],'g')              #L1\n",
        "    ax[1,2].plot(all_ones*np.mean(xtgbpf_bg[1,]),'k')\n",
        "    ax[2,2].plot(xtgbpf_bg[2,],'g')              #V1\n",
        "    ax[2,2].plot(all_ones*np.mean(xtgbpf_bg[2,]),'k')\n",
        "    ax[0,2].legend(['H1_bpf','mean'])\n",
        "    ax[1,2].legend(['L1_bpf','mean'])\n",
        "    ax[2,2].legend(['V1_bpf','mean'])\n",
        "    return"
      ],
      "metadata": {
        "execution": {
          "iopub.status.busy": "2024-05-06T04:18:20.718742Z",
          "iopub.execute_input": "2024-05-06T04:18:20.719663Z",
          "iopub.status.idle": "2024-05-06T04:18:20.735178Z",
          "shell.execute_reply.started": "2024-05-06T04:18:20.719623Z",
          "shell.execute_reply": "2024-05-06T04:18:20.734269Z"
        },
        "trusted": true,
        "id": "w-7w-bo3IRy9"
      },
      "execution_count": null,
      "outputs": []
    },
    {
      "cell_type": "markdown",
      "source": [
        "**4. Comparing Average DF_0**"
      ],
      "metadata": {
        "id": "uscfj3C5IRy-"
      }
    },
    {
      "cell_type": "markdown",
      "source": [
        "4a. Time-domian plot"
      ],
      "metadata": {
        "id": "OoGp10ZlIRy-"
      }
    },
    {
      "cell_type": "code",
      "source": [
        "plot_time_domain_dat(df0_avg, df0_avg_gain/gain_ref, df0_avg_bpf/gain_ref)  #scale-down for comparison"
      ],
      "metadata": {
        "execution": {
          "iopub.status.busy": "2024-05-06T04:18:20.740862Z",
          "iopub.execute_input": "2024-05-06T04:18:20.741435Z",
          "iopub.status.idle": "2024-05-06T04:18:23.062888Z",
          "shell.execute_reply.started": "2024-05-06T04:18:20.741395Z",
          "shell.execute_reply": "2024-05-06T04:18:23.062043Z"
        },
        "trusted": true,
        "id": "1RgomwqqIRy-",
        "outputId": "f43bc18f-2dcb-4268-82dc-c5c204294aee"
      },
      "execution_count": null,
      "outputs": [
        {
          "output_type": "display_data",
          "data": {
            "text/plain": "<Figure size 1728x864 with 9 Axes>",
            "image/png": "[encoded data removed]"
          },
          "metadata": {
            "needs_background": "light"
          }
        }
      ]
    },
    {
      "cell_type": "code",
      "source": [
        "def gen_psds(x):\n",
        "    s_H1 = x[0,]\n",
        "    s_L1 = x[1,]\n",
        "    s_V1 = x[2,]\n",
        "    # number of sample for the fast fourier transform:\n",
        "    #NFFT = 1*fs\n",
        "    NFFT = 2 * fs           # Use 2 seconds of data for each fourier transform\n",
        "    NOVL = 1 * NFFT / 2     # The number of points of overlap between segments used in Tukey averaging\n",
        "    psd_window = scp.signal.tukey(NFFT, alpha=1./4)\n",
        "\n",
        "    #Tukey window\n",
        "    Pxx_H, f_ = mlab.psd(s_H1, Fs = fs, NFFT = NFFT,window=psd_window, noverlap=NOVL)\n",
        "    Pxx_L, f_ = mlab.psd(s_L1, Fs = fs, NFFT = NFFT,window=psd_window, noverlap=NOVL)\n",
        "    Pxx_V, f_ = mlab.psd(s_V1, Fs = fs, NFFT = NFFT,window=psd_window, noverlap=NOVL)\n",
        "\n",
        "    # We will use interpolations of the PSDs computed above for whitening:\n",
        "    psd_H = interp1d(f_, Pxx_H)\n",
        "    psd_L = interp1d(f_, Pxx_L)\n",
        "    psd_V = interp1d(f_, Pxx_V)\n",
        "\n",
        "    # Here is an approximate, smoothed PSD for H1 during O1, with no lines. We'll use it later.\n",
        "    Pxx_ref = (1.e-22*(18./(0.1+f_))**2)**2+0.7e-23**2+((f_/2000.)*4.e-23)**2\n",
        "    psd_smth = interp1d(f_, Pxx_ref)\n",
        "\n",
        "    return Pxx_H,Pxx_L,Pxx_V,f_, psd_H,psd_L,psd_V,Pxx_ref,psd_smth\n",
        "\n",
        "\n",
        "def plot_psd(xt, xt_gain, xt_bpf, f_min_plt=1,f_max_plt=1024,y_min=1e-27,y_max = 1e-19):\n",
        "    '''\n",
        "    return xt PSD\n",
        "    '''\n",
        "    # plot the ASDs, with the template overlaid:\n",
        "    f_min = f_min_plt #20.\n",
        "    f_max = f_max_plt #2000.\n",
        "    s_min = y_min\n",
        "    s_max = y_max\n",
        "\n",
        "    plt.figure(figsize=(20,8))\n",
        "    plt.subplot(1,3,1)\n",
        "    Pxx_H1,Pxx_L1,Pxx_V1,freqs_,psd_H1,psd_L1,psd_V1,Pxx,psd_smooth = gen_psds(xt)\n",
        "    plt.loglog(freqs_, np.sqrt(Pxx_H1),'b',label='H1 strain')\n",
        "    plt.loglog(freqs_, np.sqrt(Pxx_L1),'r',label='L1 strain')\n",
        "    plt.loglog(freqs_, np.sqrt(Pxx_V1),'g',label='V1 strain')\n",
        "    plt.loglog(freqs_, np.sqrt(Pxx),'k',label='H1 strain, O1 smooth model')\n",
        "    plt.axis([f_min, f_max, s_min, s_max])\n",
        "    plt.grid('on')\n",
        "    plt.ylabel('ASD (strain/rtHz)')\n",
        "    plt.xlabel('Freq (Hz)')\n",
        "    plt.legend(loc='upper center')\n",
        "    plt.title('Advanced LIGO strain (linear)')\n",
        "\n",
        "    plt.subplot(1,3,2)\n",
        "    Pxx_g_H1,Pxx_g_L1,Pxx_g_V1,freqs_g,psd_g_H1,psd_g_L1,psd_g_V1,Pxx_g,psd_smooth_g = gen_psds(xt_gain)\n",
        "\n",
        "    plt.loglog(freqs_g, np.sqrt(Pxx_g_H1),'b',label='H1 strain')\n",
        "    plt.loglog(freqs_g, np.sqrt(Pxx_g_L1),'r',label='L1 strain')\n",
        "    plt.loglog(freqs_g, np.sqrt(Pxx_g_V1),'g',label='V1 strain')\n",
        "    plt.loglog(freqs_g, np.sqrt(Pxx_g),'k',label='H1 strain, O1 smooth model')\n",
        "    plt.axis([f_min, f_max, s_min, s_max])\n",
        "    plt.grid('on')\n",
        "    plt.ylabel('ASD (strain/rtHz)')\n",
        "    plt.xlabel('Freq (Hz)')\n",
        "    plt.legend(loc='upper center')\n",
        "    plt.title('Advanced LIGO strain <<gain (linear)')\n",
        "\n",
        "    plt.subplot(1,3,3)\n",
        "    Pxx_bpf_H1,Pxx_bpf_L1,Pxx_bpf_V1,freqs_b,psd_b_H1,psd_b_L1,psd_b_V1,Pxx_b,psd_smooth_b = gen_psds(xt_bpf)\n",
        "    plt.loglog(freqs_b, np.sqrt(Pxx_bpf_H1),'b',label='H1 strain')\n",
        "    plt.loglog(freqs_b, np.sqrt(Pxx_bpf_L1),'r',label='L1 strain')\n",
        "    plt.loglog(freqs_b, np.sqrt(Pxx_bpf_V1),'g',label='V1 strain')\n",
        "    plt.loglog(freqs_b, np.sqrt(Pxx_b),'k',label='H1 strain, O1 smooth model')\n",
        "    plt.axis([f_min, f_max, s_min, s_max])\n",
        "    plt.grid('on')\n",
        "    plt.ylabel('ASD (strain/rtHz)')\n",
        "    plt.xlabel('Freq (Hz)')\n",
        "    plt.legend(loc='upper center')\n",
        "    plt.title('Advanced LIGO strain <<gain+bpf (linear)')\n",
        "    #plt.savefig(eventname+'_ASDs.'+plottype)\n",
        "\n",
        "    return freqs_,Pxx_H1,Pxx_L1,Pxx_V1,psd_H1,psd_L1,psd_V1"
      ],
      "metadata": {
        "execution": {
          "iopub.status.busy": "2024-05-06T04:18:23.065302Z",
          "iopub.execute_input": "2024-05-06T04:18:23.065615Z",
          "iopub.status.idle": "2024-05-06T04:18:23.086707Z",
          "shell.execute_reply.started": "2024-05-06T04:18:23.065585Z",
          "shell.execute_reply": "2024-05-06T04:18:23.085849Z"
        },
        "trusted": true,
        "id": "5bTNcYVIIRy-"
      },
      "execution_count": null,
      "outputs": []
    },
    {
      "cell_type": "markdown",
      "source": [
        "4b. Freq-domain plot"
      ],
      "metadata": {
        "id": "wIJko5iDIRy-"
      }
    },
    {
      "cell_type": "code",
      "source": [
        "freqs,Pxx_H1,Pxx_L1,Pxx_V1,psd_H1,psd_L1,psd_V1 = plot_psd(df0_avg, df0_avg_gain/gain_ref, df0_avg_bpf/gain_ref)  #scale-down >>79 for comparison"
      ],
      "metadata": {
        "execution": {
          "iopub.status.busy": "2024-05-06T04:18:23.087932Z",
          "iopub.execute_input": "2024-05-06T04:18:23.088441Z"
        },
        "trusted": true,
        "id": "y3E3pS9xIRy-"
      },
      "execution_count": null,
      "outputs": []
    },
    {
      "cell_type": "code",
      "source": [
        "#Zoom-In\n",
        "fmin=10   #Hz\n",
        "fmax=1024 #Hz\n",
        "ymin=1e-26\n",
        "ymax=1e-21\n",
        "freqs,Pxx_H1,Pxx_L1,Pxx_V1,psd_H1,psd_L1,psd_V1 = plot_psd(df0_avg, df0_avg_gain/gain_ref, df0_avg_bpf/gain_ref,fmin,fmax,ymin,ymax)"
      ],
      "metadata": {
        "trusted": true,
        "id": "olNyv7aKIRy_"
      },
      "execution_count": null,
      "outputs": []
    },
    {
      "cell_type": "code",
      "source": [
        "df = freqs[2]-freqs[1]\n",
        "#spike at H1 and L1 around 300Hz -> bin = 300/0.5 = 600\n",
        "spike_h1_bg = np.sqrt(Pxx_H1[550:650]).max()\n",
        "spike_l1_bg = np.sqrt(Pxx_L1[550:650]).max()\n",
        "spike_v1_bg = np.sqrt(Pxx_V1[550:650]).max()\n",
        "bin_spike_h1_bg = np.argmax(np.sqrt(Pxx_H1)==spike_h1_bg)\n",
        "bin_spike_l1_bg =np.argmax(np.sqrt(Pxx_L1)==spike_l1_bg)\n",
        "bin_spike_v1_bg =np.argmax(np.sqrt(Pxx_V1)==spike_v1_bg)\n",
        "\n",
        "print('bin h1=',bin_spike_h1_bg,'(',bin_spike_h1_bg*df,'Hz), spike h1=', spike_h1_bg)\n",
        "print('bin l1=',bin_spike_l1_bg,'(',bin_spike_l1_bg*df,'Hz), spike l1=', spike_l1_bg)\n",
        "print('bin v1=',bin_spike_v1_bg,'(',bin_spike_v1_bg*df,'Hz), spike v1=', spike_v1_bg)"
      ],
      "metadata": {
        "trusted": true,
        "id": "xoqMWPoNIRzD"
      },
      "execution_count": null,
      "outputs": []
    },
    {
      "cell_type": "markdown",
      "source": [
        "Blue = H1, Red = L1, Green = V1, Black = O1 smooth Model\n",
        "\n",
        "Notice that the L1 has either a very strong vibration of the suspended mirrors spike (305Hz) or from the entire data set of event GW. df0_avg is averaged over 512 samples = 512*2/60 = 17 mins. If each sub-folder is at the proximity of time prior or after the GW event, it can represent a non-stationary background noise."
      ],
      "metadata": {
        "id": "e1eIiCvYIRzD"
      }
    },
    {
      "cell_type": "markdown",
      "source": [
        "\n",
        "https://www.gw-openscience.org/static/speclines/o2/comb_list_O2V_pers0.3_commented.txt\n",
        "\n",
        "![image.png](attachment:681546e5-a207-427c-a337-e583817621cf.png)\n",
        "\n",
        "Below f_min = 20 Hz, the data are not properly calibrated. The noise is so high below f_min that LIGO cannot sense gravitational wave strain from astrophysical sources in that band.\n"
      ],
      "metadata": {
        "id": "oI-pEZNNIRzE"
      }
    },
    {
      "cell_type": "code",
      "source": [
        "gw_ids_0=['0980247101']                             #target=0\n",
        "gw_ids_1=['00000e74ad','0920c46762','098a464da9' ]  #target=1\n",
        "\n",
        "#run_id = gw_ids_1[0]\n",
        "#file_path=[MAIN_DIR+'/train/0/0/0/'+run_id+'.npy']\n",
        "\n",
        "run_id = gw_ids_1[2]\n",
        "file_path=[MAIN_DIR+'/train/0/9/8/'+run_id+'.npy']\n",
        "\n",
        "target = train_df[train_df['id']==run_id].target    #set paths accordingly\n",
        "\n",
        "x  =  np.load(file_path[0])\n",
        "\n",
        "target"
      ],
      "metadata": {
        "trusted": true,
        "id": "-XU20obAIRzE"
      },
      "execution_count": null,
      "outputs": []
    },
    {
      "cell_type": "code",
      "source": [
        "#Load DF_1 data\n",
        "'''\n",
        "i=0\n",
        "file_path = df_1.iloc[i][\"path\"]\n",
        "f_id = df_1.iloc[i][\"id\"]\n",
        "target = df_1.iloc[i][\"target\"]\n",
        "\n",
        "f_id, target\n",
        "\n",
        "x  =  np.load(file_path)\n",
        "'''"
      ],
      "metadata": {
        "trusted": true,
        "id": "__E2DF-LIRzE"
      },
      "execution_count": null,
      "outputs": []
    },
    {
      "cell_type": "markdown",
      "source": [
        "**5. DF_1 Removed Background Noise**"
      ],
      "metadata": {
        "id": "22EEeqq7IRzE"
      }
    },
    {
      "cell_type": "code",
      "source": [
        "#remove df_1 background noise\n",
        "#if a signal is periodic and stationary, then the noise can be averaged down\n",
        "#if a signal is random, it's hard to say, it can be the same as background noise\n",
        "#df1_avg_bpf = avg_data(df_1, gain_ref, bpf=True, df0_avg_bpf)  #This is over the entire dataset\n",
        "\n",
        "#gain+bpf\n",
        "x2_H1_gbpf = butter_bandpass_filter(x[0,]*gain_ref, lowcut_alias, highcut_alias, fs, order=6)  #bandpass filter\n",
        "x2_L1_gbpf = butter_bandpass_filter(x[1,]*gain_ref, lowcut_alias, highcut_alias, fs, order=6)  #bandpass filter\n",
        "x2_V1_gbpf = butter_bandpass_filter(x[2,]*gain_ref, lowcut_alias, highcut_alias, fs, order=6)  #bandpass filter\n",
        "\n",
        "#gain+bpf-background\n",
        "x2_H1_gbpf_bg = x2_H1_gbpf - df0_avg_bpf[0,] #bandpass filter - background\n",
        "x2_L1_gbpf_bg = x2_L1_gbpf - df0_avg_bpf[1,] #bandpass filter - background\n",
        "x2_V1_gbpf_bg = x2_V1_gbpf - df0_avg_bpf[2,] #bandpass filter - background\n",
        "\n",
        "xt_gbpf     = np.zeros((3,4096), dtype = np.float64)  #\n",
        "xt_gbpf_bg  = np.zeros((3,4096), dtype = np.float64)  #\n",
        "\n",
        "xt_gbpf[0,],xt_gbpf[1,],xt_gbpf[2,]          = x2_H1_gbpf, x2_L1_gbpf, x2_V1_gbpf\n",
        "xt_gbpf_bg[0,],xt_gbpf_bg[1,],xt_gbpf_bg[2,] = x2_H1_gbpf_bg, x2_L1_gbpf_bg, x2_V1_gbpf_bg"
      ],
      "metadata": {
        "trusted": true,
        "id": "nKd2Z9wKIRzE"
      },
      "execution_count": null,
      "outputs": []
    },
    {
      "cell_type": "code",
      "source": [
        "x[0,:3],xt_gbpf[0,:3],xt_gbpf_bg[0,:3],x[1,:3],xt_gbpf[1,:3],xt_gbpf_bg[1,:3],x[2,:3],xt_gbpf[2,:3],xt_gbpf_bg[2,:3]"
      ],
      "metadata": {
        "trusted": true,
        "id": "WNwyPDImIRzF"
      },
      "execution_count": null,
      "outputs": []
    },
    {
      "cell_type": "markdown",
      "source": [
        "For this 2 seconds instance, there is no significant difference between BPF vs (BPF-Background)."
      ],
      "metadata": {
        "id": "xfG5SY7dIRzF"
      }
    },
    {
      "cell_type": "markdown",
      "source": [
        "**6. Comparing Average DF_1**"
      ],
      "metadata": {
        "id": "jnkg6RruIRzF"
      }
    },
    {
      "cell_type": "markdown",
      "source": [
        "6a. Time-domian plot"
      ],
      "metadata": {
        "id": "-u8ziWFtIRzG"
      }
    },
    {
      "cell_type": "code",
      "source": [
        "plot_time_domain_dat(x,xt_gbpf/gain_ref ,xt_gbpf_bg/gain_ref)     #scale down for comparison\n",
        "#plot_time_domain_dat(x*gain_ref, xt_gbpf ,xt_gbpf_bg)            #scale up"
      ],
      "metadata": {
        "trusted": true,
        "id": "RJOzdJuRIRzG"
      },
      "execution_count": null,
      "outputs": []
    },
    {
      "cell_type": "markdown",
      "source": [
        "Left figure, since BPF removed the high amplitude low freq noise, the amplitude of BPF outputs are much smaller compared to unfilter original signal.\n",
        "\n",
        "Middle and right figures, at ringdown, a sharp decrease in amplitude is like an impulse, this will create a transient with very high frequencies.\n",
        "\n",
        "ring down peak at 2*(3434/4096) = 1.677 sec"
      ],
      "metadata": {
        "id": "JwG7BPi3IRzG"
      }
    },
    {
      "cell_type": "code",
      "source": [
        "if (run_id == '098a464da9'):\n",
        "    #Ring-down\n",
        "    plt.figure(figsize=(20,4))\n",
        "    plt.plot(xt_gbpf[0,3150:3550])\n",
        "    plt.plot(xt_gbpf[1,3150:3550])\n",
        "    plt.plot(xt_gbpf[2,3150:3550])\n",
        "    plt.legend(['H1','L1','V1'])\n",
        "    plt.xticks(np.arange(0,400,10))\n",
        "    plt.grid()"
      ],
      "metadata": {
        "trusted": true,
        "id": "4-ApaOeVIRzG"
      },
      "execution_count": null,
      "outputs": []
    },
    {
      "cell_type": "code",
      "source": [
        "if (run_id == '098a464da9'):\n",
        "    #find peaks, time-domain corr is more accurate\n",
        "    h1_pk=np.argmax(np.abs(xt_gbpf[0,3150:3550]))\n",
        "    l1_pk=np.argmax(np.abs(xt_gbpf[1,3150:3550]))\n",
        "    v1_pk=np.argmax(np.abs(xt_gbpf[2,3150:3550]))\n",
        "\n",
        "    #freq at sample 3150,  0.1387 sec prior to ringdown (H1)\n",
        "    f_h1_3150 = fs/60  #60 samples in one period\n",
        "    f_l1_3150 = fs/60\n",
        "    f_v1_3150 = fs/60\n",
        "\n",
        "    #max freq, last cycle prior to ringdown\n",
        "    f_h1_max = fs/(h1_pk-264)\n",
        "    f_l1_max = fs/(l1_pk-271)\n",
        "    f_v1_max = fs/(v1_pk-316)\n",
        "\n",
        "    #count 4 cycles before and after their peaks,\n",
        "    h1_4cycles_before = h1_pk-162  #samples\n",
        "    l1_4cycles_before = l1_pk-180  #samples\n",
        "    v1_4cycles_before = v1_pk-215  #samples\n",
        "    #4 cycles after peaks\n",
        "    h1_4cycles_after = 318-h1_pk  #samples\n",
        "    l1_4cycles_after = 318-l1_pk  #samples\n",
        "    v1_4cycles_after = 368-v1_pk  #samples\n",
        "    print('h1_peak=',h1_pk,' l1_peak=',l1_pk,' v1_peak=',v1_pk)\n",
        "    #h1_pk,l1_pk,v1_pk,h1_4cycles_before,l1_4cycles_before,v1_4cycles_before,h1_4cycles_after,l1_4cycles_after,v1_4cycles_after"
      ],
      "metadata": {
        "trusted": true,
        "id": "kmmr1T-GIRzG"
      },
      "execution_count": null,
      "outputs": []
    },
    {
      "cell_type": "code",
      "source": [
        "if (run_id == '098a464da9'):\n",
        "    #ramp-up dominant freq at sample 3150, 284/2048 = 0.1387 sec prior to ringdown(H1)\n",
        "    print('dominant freq at sample 3150 H1 =',f_h1_3150,'(Hz)')\n",
        "    print('dominant freq at sample 3150 L1 =',f_l1_3150,'(Hz)')\n",
        "    print('dominant freq at sample 3150 V1 =',f_v1_3150,'(Hz)')\n",
        "    print('')\n",
        "    print('dominant max freq  H1 =',f_h1_max,'(Hz)')\n",
        "    print('dominant max freq  L1 =',f_l1_max,'(Hz)')\n",
        "    print('dominant max freq  V1 =',f_v1_max,'(Hz)')\n",
        "    print('')\n",
        "    print('Ramp up avg 4 cycles dominant freq prior to ringdown H1 =',4*fs/h1_4cycles_before,'(Hz)')\n",
        "    print('Ramp up avg 4 cycles dominant freq prior to ringdown L1 =',4*fs/l1_4cycles_before,'(Hz)')\n",
        "    print('Ramp up avg 4 cycles dominant freq prior to ringdown V1 =',4*fs/v1_4cycles_before,'(Hz)')\n",
        "    print('')\n",
        "    print('Ringdown 4 cycles  H1 =',h1_4cycles_after/fs,'(sec)')\n",
        "    print('Ringdown 4 cycles  L1 =',l1_4cycles_after/fs,'(sec)')\n",
        "    print('Ringdown 4 cycles  V1 =',v1_4cycles_after/fs,'(sec)')\n",
        "    print('')\n",
        "    print('delay between L1 and H1 peak = ', (l1_pk-h1_pk)/fs,'(sec)')\n",
        "    print('delay between L1 and V1 peak = ', (v1_pk-l1_pk)/fs,'(sec)')"
      ],
      "metadata": {
        "trusted": true,
        "id": "VtdJsB_yIRzH"
      },
      "execution_count": null,
      "outputs": []
    },
    {
      "cell_type": "markdown",
      "source": [
        "Ramp up freq is the average of 4 cycles dominant freq(67.14Hz) prior to ringdown. H1 is slowest.\n",
        "\n",
        "Ringdown 4 cycles time(16.6ms)."
      ],
      "metadata": {
        "id": "zy2iTpAvIRzH"
      }
    },
    {
      "cell_type": "markdown",
      "source": [
        "6b. Freq-domain plot"
      ],
      "metadata": {
        "id": "-jf_g-SeIRzH"
      }
    },
    {
      "cell_type": "code",
      "source": [
        "#Zoom-In\n",
        "fmin=10   #Hz\n",
        "fmax=1024 #Hz\n",
        "ymin=1e-25\n",
        "ymax=1e-20\n",
        "\n",
        "#freqs,Pxx_H1,Pxx_L1,Pxx_V1,psd_H1,psd_L1,psd_V1 = plot_psd(x,xt_gbpf/gain_ref,xt_gbpf_bg/gain_ref)  #scale-down, full spectrum\n",
        "freqs,Pxx_H1,Pxx_L1,Pxx_V1,psd_H1,psd_L1,psd_V1 = plot_psd(x.copy(),xt_gbpf.copy()/gain_ref,xt_gbpf_bg.copy()/gain_ref,fmin,fmax,ymin,ymax)  #scale-down\n",
        "#freqs,Pxx_H1,Pxx_L1,Pxx_V1,psd_H1,psd_L1,psd_V1 = plot_psd(x*gain_ref,xt_gbpf,xt_gbpf_bg,fmin,fmax,1e-1,1e4)  #scale-up"
      ],
      "metadata": {
        "trusted": true,
        "id": "HDHdUvGSIRzH"
      },
      "execution_count": null,
      "outputs": []
    },
    {
      "cell_type": "code",
      "source": [
        "df = freqs[2]-freqs[1]\n",
        "print('num of freq bins =',len(freqs),', bin per Hz=', df)  #freq resolution of 0.5Hz"
      ],
      "metadata": {
        "trusted": true,
        "id": "KPY2KgkVIRzH"
      },
      "execution_count": null,
      "outputs": []
    },
    {
      "cell_type": "code",
      "source": [
        "#spike at H1 and L1 around 300Hz -> bin = 300/0.5 = 600\n",
        "spike_h1 = np.sqrt(Pxx_H1[550:650]).max()\n",
        "spike_l1 = np.sqrt(Pxx_L1[550:650]).max()\n",
        "spike_v1 = np.sqrt(Pxx_V1[550:650]).max()\n",
        "bin_spike_h1 = np.argmax(np.sqrt(Pxx_H1)==spike_h1)\n",
        "bin_spike_l1 =np.argmax(np.sqrt(Pxx_L1)==spike_l1)\n",
        "bin_spike_v1 =np.argmax(np.sqrt(Pxx_V1)==spike_v1)\n",
        "\n",
        "print('bin h1=',bin_spike_h1,'(',bin_spike_h1*df,'Hz), spike h1=', spike_h1)\n",
        "print('bin l1=',bin_spike_l1,'(',bin_spike_l1*df,'Hz), spike l1=', spike_l1)\n",
        "print('bin v1=',bin_spike_v1,'(',bin_spike_v1*df,'Hz), spike v1=', spike_v1)\n",
        "#simultaneous occurred at normal modes of vibration of the suspended mirrors(305Hz)"
      ],
      "metadata": {
        "trusted": true,
        "id": "q8DiO13eIRzI"
      },
      "execution_count": null,
      "outputs": []
    },
    {
      "cell_type": "markdown",
      "source": [
        "Freq-domain PSD plot:\n",
        "\n",
        "Left figure shows the high strain at low freq above O1 smooth model(GW150914). Middle and right figures are BPF. Low freq and high freq near Nyquist(1024 Hz) are attenuated.\n",
        "\n",
        "Peak spikes simultaneously occurred at normal modes of vibration(305Hz) of the suspended mirrors! If you see them, it may not be GW but still can't rule out it is not a GW event, even though the background noises are also at the same peaks at H1 and L1.  Simulated dataset happens all the time."
      ],
      "metadata": {
        "id": "SU4X8z8uIRzI"
      }
    },
    {
      "cell_type": "markdown",
      "source": [
        "**7. BNS_range**"
      ],
      "metadata": {
        "id": "HeV_ducOIRzI"
      }
    },
    {
      "cell_type": "code",
      "source": [
        "BNS_range = 1\n",
        "if BNS_range:\n",
        "    #-- compute the binary neutron star (BNS) detectability range\n",
        "\n",
        "    #-- choose a detector noise power spectrum:\n",
        "    f = freqs.copy()\n",
        "    # get frequency step size\n",
        "    df = f[2]-f[1]\n",
        "\n",
        "    #-- constants\n",
        "    # speed of light:\n",
        "    clight = 2.99792458e8                # m/s\n",
        "    # Newton's gravitational constant\n",
        "    G = 6.67259e-11                      # m^3/kg/s^2\n",
        "    # one parsec, popular unit of astronomical distance (around 3.26 light years)\n",
        "    parsec = 3.08568025e16               # m\n",
        "    # solar mass\n",
        "    MSol = 1.989e30                      # kg\n",
        "    # solar mass in seconds (isn't relativity fun?):\n",
        "    tSol = MSol*G/np.power(clight,3)     # s\n",
        "    # Single-detector SNR for detection above noise background:\n",
        "    SNRdet = 8.\n",
        "    # conversion from maximum range (horizon) to average range:\n",
        "    Favg = 2.2648\n",
        "    # mass of a typical neutron star, in solar masses:\n",
        "    mNS = 1.4\n",
        "\n",
        "    # Masses in solar masses\n",
        "    m1 = m2 = mNS\n",
        "    mtot = m1+m2  # the total mass\n",
        "    eta = (m1*m2)/mtot**2  # the symmetric mass ratio\n",
        "    mchirp = mtot*eta**(3./5.)  # the chirp mass (FINDCHIRP, following Eqn 3.1b)\n",
        "\n",
        "    # distance to a fiducial BNS source:\n",
        "    dist = 1.0                           # in Mpc\n",
        "    Dist =  dist * 1.0e6 * parsec /clight # from Mpc to seconds\n",
        "\n",
        "    # We integrate the signal up to the frequency of the \"Innermost stable circular orbit (ISCO)\"\n",
        "    R_isco = 6.      # Orbital separation at ISCO, in geometric units. 6M for PN ISCO; 2.8M for EOB\n",
        "    # frequency at ISCO (end the chirp here; the merger and ringdown follow)\n",
        "    f_isco = 1./(np.power(R_isco,1.5)*np.pi*tSol*mtot)\n",
        "    # minimum frequency (below which, detector noise is too high to register any signal):\n",
        "    f_min = 20. # Hz\n",
        "    # select the range of frequencies between f_min and fisco\n",
        "    fr = np.nonzero(np.logical_and(f > f_min , f < f_isco))\n",
        "    # get the frequency and spectrum in that range:\n",
        "    ffr = f[fr]\n",
        "\n",
        "    # In stationary phase approx, this is htilde(f):\n",
        "    # See FINDCHIRP Eqns 3.4, or 8.4-8.5\n",
        "    htilde = (2.*tSol/Dist)*np.power(mchirp,5./6.)*np.sqrt(5./96./np.pi)*(np.pi*tSol)\n",
        "    htilde *= np.power(np.pi*tSol*ffr,-7./6.)\n",
        "    htilda2 = htilde**2\n",
        "\n",
        "    # loop over the detectors\n",
        "    dets = ['H1', 'L1']\n",
        "    for det in dets:\n",
        "        if det is 'L1': sspec = Pxx_L1.copy()\n",
        "        else:           sspec = Pxx_H1.copy()\n",
        "        sspecfr = sspec[fr]\n",
        "        # compute \"inspiral horizon distance\" for optimally oriented binary; FINDCHIRP Eqn D2:\n",
        "        D_BNS = np.sqrt(4.*np.sum(htilda2/sspecfr)*df)/SNRdet\n",
        "        # and the \"inspiral range\", averaged over source direction and orientation:\n",
        "        R_BNS = D_BNS/Favg\n",
        "        print(det+' BNS inspiral horizon = {0:.1f} Mpc, BNS inspiral range   = {1:.1f} Mpc'.format(D_BNS,R_BNS))"
      ],
      "metadata": {
        "trusted": true,
        "id": "oZinoGfhIRzI"
      },
      "execution_count": null,
      "outputs": []
    },
    {
      "cell_type": "markdown",
      "source": [
        "I'm not a domain expert and not sure this is done correctly. Numbers seem to be very big.  It's just for my reference.  "
      ],
      "metadata": {
        "id": "kbgv-esPIRzI"
      }
    },
    {
      "cell_type": "markdown",
      "source": [
        "https://www.gw-openscience.org/O3/"
      ],
      "metadata": {
        "id": "K1b3WFWQIRzI"
      }
    },
    {
      "cell_type": "markdown",
      "source": [
        "BBH range is >> BNS range!\n",
        "\n",
        "NOTE that, since mass is the source of gravity and thus also of gravitational waves, systems with higher masses (such as the binary black hole merger GW150914) are much \"louder\" and can be detected to much higher distances than the BNS range.\n",
        "\n",
        "Whitening\n",
        "\n",
        "We can \"whiten\" the data (dividing it by the noise amplitude spectrum, in the fourier domain), suppressing the extra noise at low frequencies and at the spectral lines, to better see the weak signals in the most sensitive band.\n",
        "\n",
        "Whitening is always one of the first steps in astrophysical data analysis (searches, parameter estimation). Whitening requires no prior knowledge of spectral lines, etc; only the data are needed.\n",
        "\n",
        "To get rid of remaining high frequency noise, we will also bandpass the data.\n",
        "\n",
        "The resulting time series is no longer in units of strain; now in units of \"sigmas\" away from the mean.\n"
      ],
      "metadata": {
        "id": "EBpZPypFIRzI"
      }
    },
    {
      "cell_type": "code",
      "source": [
        "def get_specgram(strain, sample_rate, window_size, step_size,log=False, eps=1e-10):\n",
        "    nperseg = window_size  #samples\n",
        "    noverlap = step_size   #samples\n",
        "    freqs, times, spec = signal.spectrogram(strain,\n",
        "                                    fs=sample_rate,\n",
        "                                    #window='hann',\n",
        "                                    window=scp.signal.windows.tukey(nperseg,alpha=1./4),\n",
        "                                    nperseg=nperseg,   #win_len\n",
        "                                    noverlap=noverlap, #win_no_overlap\n",
        "                                    detrend=False)\n",
        "    spec = np.abs(spec)  #(freq129,time241)\n",
        "    if log:\n",
        "        return freqs, times, np.log(spec.astype(np.float32) + eps)\n",
        "    else:\n",
        "        return freqs, times, spec.astype(np.float64)\n",
        "\n",
        "\n",
        "\n",
        "def plot_spec(x_time_domain, f_min_plt=0,f_max_plt=1024, f_min_prj =0 ):\n",
        "    #  plot the whitened data, zooming in on the signal region:\n",
        "\n",
        "    # pick a shorter FTT time interval, like 1/16 of a second:\n",
        "    #NFFT = int(fs/16.0)\n",
        "    NFFT = int(fs/8.0)         #256\n",
        "    # and with a lot of overlap, to resolve short-time features:\n",
        "    NOVL = int(NFFT*15/16.0)   #240\n",
        "    window = np.hanning(NFFT)     #np.blackman(NFFT)\n",
        "    #window=scp.signal.windows.tukey(window_len,alpha=1./4)\n",
        "    spec_cmap='viridis'           #'ocean'  #\n",
        "\n",
        "    f_min_plt = f_min_plt   #Hz\n",
        "    f_max_plt = f_max_plt   #Hz\n",
        "    f_min_prj = f_min_prj   #bin -> bin* Hz/bin\n",
        "    f_max_prj = 129   #bin\n",
        "\n",
        "    strn_H1 = x_time_domain[0]\n",
        "    strn_L1 = x_time_domain[1]\n",
        "    strn_V1 = x_time_domain[2]\n",
        "\n",
        "    # Plot the H1 spectrogram\n",
        "    plt.figure(figsize=(20,4))\n",
        "    plt.subplot(1,3,2)\n",
        "    #spec_H1, freqs, bins, im = plt.specgram(strn_H1, NFFT=NFFT, Fs=fs, window=window,noverlap=NOVL, cmap=spec_cmap)\n",
        "    freqs, t_sec, spec_H1 = get_specgram(strn_H1, fs, NFFT, NOVL)\n",
        "    #plt.imshow(spec_H1, aspect='auto', origin='lower', extent=[t_sec.min(), t_sec.max(), freqs.min(), freqs.max()])\n",
        "    clip_H1 = np.clip(spec_H1, spec_H1.min(), spec_H1.min()+1e8*abs(spec_H1.min()))     # clip values for display only\n",
        "    plt.imshow(clip_H1, aspect='auto', origin='lower', extent=[t_sec.min(), t_sec.max(), freqs.min(), freqs.max()])\n",
        "    plt.ylabel('Frequency (Hz)')\n",
        "    plt.colorbar()\n",
        "    plt.axis([0, 2, f_min_plt, f_max_plt])\n",
        "    plt.xlabel('time (sec)')\n",
        "    plt.title('LIGO H1 strain (linear)')\n",
        "\n",
        "    proj_H1_t = np.sum(spec_H1, axis=0)\n",
        "    proj_H1_f = np.sum(spec_H1.T, axis=0)\n",
        "    #freqs[1]   in 8Hz perbin\n",
        "    #f_min_prj = 5   # bin5*(freqs[2]-freqs[1]) = 40Hz\n",
        "    #per time-segment = 2./(NOVL+1)  in sec\n",
        "\n",
        "    #plt.savefig('H1_spectrogram.')\n",
        "    plt.subplot(1,3,1)\n",
        "    plt.plot(freqs[f_min_prj:f_max_prj], proj_H1_f[f_min_prj:f_max_prj])\n",
        "    plt.ylabel('| Strain | ')\n",
        "    plt.xlabel('Frequency (Hz)')\n",
        "    plt.grid()\n",
        "    plt.subplot(1,3,3)\n",
        "    plt.plot( np.arange(0,2,2./(NOVL+1)),proj_H1_t)\n",
        "    plt.ylabel('| Strain |')\n",
        "    plt.xlabel('time (sec)')\n",
        "    plt.grid()\n",
        "\n",
        "    # Plot the L1 spectrogram\n",
        "    plt.figure(figsize=(20,4))\n",
        "    plt.subplot(1,3,2)\n",
        "    #spec_L1, freqs, bins, im = plt.specgram(strn_L1, NFFT=NFFT, Fs=fs, window=window,noverlap=NOVL, cmap=spec_cmap)\n",
        "    freqs, t_sec, spec_L1 = get_specgram(strn_L1, fs,NFFT, NOVL)\n",
        "    #plt.imshow(spec_L1, aspect='auto', origin='lower', extent=[t_sec.min(), t_sec.max(), freqs.min(), freqs.max()])\n",
        "    clip_L1 = np.clip(spec_L1, spec_L1.min(), spec_L1.min()+1e8*abs(spec_L1.min()))     # clip values for display only\n",
        "    plt.imshow(clip_L1, aspect='auto', origin='lower', extent=[t_sec.min(), t_sec.max(), freqs.min(), freqs.max()])\n",
        "    plt.ylabel('Frequency (Hz)')\n",
        "    plt.xlabel('time (sec)')\n",
        "    plt.colorbar()\n",
        "    plt.axis([0, 2, f_min_plt, f_max_plt])\n",
        "    plt.title('LIGO L1 strain (linear)')\n",
        "    proj_L1_t = np.sum(spec_L1, axis=0)\n",
        "    proj_L1_f = np.sum(spec_L1.T, axis=0)\n",
        "\n",
        "    #plt.savefig('L1_spectrogram.')\n",
        "    plt.subplot(1,3,1)\n",
        "    plt.plot(freqs[f_min_prj:f_max_prj],proj_L1_f[f_min_prj:f_max_prj])\n",
        "    plt.ylabel('| Strain |')\n",
        "    plt.xlabel('Frequency (Hz)')\n",
        "    plt.grid()\n",
        "    plt.subplot(1,3,3)\n",
        "    plt.plot(np.arange(0,2,2./(NOVL+1)), proj_L1_t)\n",
        "    plt.ylabel('| Strain |')\n",
        "    plt.xlabel('time (sec)')\n",
        "    plt.grid()\n",
        "\n",
        "    # Plot the V1 spectrogram\n",
        "    plt.figure(figsize=(20,4))\n",
        "    plt.subplot(1,3,2)\n",
        "    #spec_V1, freqs, bins, im = plt.specgram(strn_V1, NFFT=NFFT, Fs=fs, window=window,noverlap=NOVL, cmap=spec_cmap)\n",
        "    freqs, t_sec, spec_V1 = get_specgram(strn_V1,fs,NFFT, NOVL)\n",
        "    #plt.imshow(spec_V1, aspect='auto', origin='lower', extent=[t_sec.min(), t_sec.max(), freqs.min(), freqs.max()])\n",
        "    clip_V1 = np.clip(spec_V1, spec_V1.min(), spec_V1.min()+1e8*abs(spec_V1.min()))     # clip values for display only\n",
        "    plt.imshow(clip_V1, aspect='auto', origin='lower', extent=[t_sec.min(), t_sec.max(), freqs.min(), freqs.max()])\n",
        "    proj_V1_t = np.sum(spec_V1, axis=0)\n",
        "    proj_V1_f = np.sum(spec_V1.T, axis=0)\n",
        "    plt.ylabel('Frequency (Hz)')\n",
        "    plt.xlabel('time (sec)')\n",
        "    plt.colorbar()\n",
        "    plt.axis([0, 2, f_min_plt, f_max_plt])\n",
        "    plt.title('VIRGO V1 strain (linear)')\n",
        "    #plt.savefig('V1_spectrogram.')\n",
        "    plt.subplot(1,3,1)\n",
        "    plt.plot(freqs[f_min_prj:f_max_prj],proj_V1_f[f_min_prj:f_max_prj])\n",
        "    plt.ylabel('| Strain |')\n",
        "    plt.xlabel('Frequency (Hz)')\n",
        "    plt.grid()\n",
        "    plt.subplot(1,3,3)\n",
        "    plt.plot(np.arange(0,2,2./(NOVL+1)), proj_V1_t)\n",
        "    plt.ylabel('| Strain |')\n",
        "    plt.xlabel('time (sec)')\n",
        "    plt.grid()\n",
        "    return spec_H1,spec_L1,spec_V1"
      ],
      "metadata": {
        "trusted": true,
        "id": "1f5AIo7eIRzJ"
      },
      "execution_count": null,
      "outputs": []
    },
    {
      "cell_type": "code",
      "source": [
        "# function to whiten data\n",
        "def whiten(strain, interp_psd, dt, phase_shift=0, time_shift=0):\n",
        "    Nt = len(strain)\n",
        "    freqs = np.fft.rfftfreq(Nt, dt)  #freq resolution is 0.5Hz perbin.\n",
        "\n",
        "    # whitening: transform to freq domain,  divide by square root of psd, then transform back,\n",
        "    # taking care to get normalization right.\n",
        "    hf = np.fft.rfft(strain)  #\n",
        "    # apply time and phase shift\n",
        "    hf = hf * np.exp(-1.j * 2 * np.pi * time_shift * freqs - 1.j * phase_shift)\n",
        "    print('DC bin =', hf[0], ', Nyquist bin =', hf[-1:])\n",
        "\n",
        "    # DC = bin0, brute-force to zero\n",
        "    hf[0] = 0     #\n",
        "    #hf[1:40] can be linearly interpolate down from 20Hz to DC, y=mx+c, where m is the average slope at bin38-42.\n",
        "\n",
        "    # Nyquist = bin2048, brute-force to zero. If DC is non-zero then Nyquist is also non-zero.\n",
        "    hf[-1:] = 0   #\n",
        "    #hf[2040:2047] can be linearly weighted down from 1020Hz to Nyquist, slope=avg bin2038-2042 from complex number.\n",
        "\n",
        "    print('lower band-edge', np.abs(hf[:4]))\n",
        "    print('upper band-edge', np.abs(hf[-4:]))\n",
        "\n",
        "    norm = 1./np.sqrt(1./(dt*2))  #0.03125\n",
        "    white_hf = hf / np.sqrt(interp_psd(freqs)) * norm\n",
        "\n",
        "    #Nyquist strain = 1/N X(N/2) [cos(n*pi)+ sin(n*pi)]. sin(n*pi)=0 for any integer n. Brute-force X(N/2)=0.\n",
        "    #if Nyquist is none zero, this will create random DC spikes in time-domain with toggle signs\n",
        "    white_ht = np.fft.irfft(white_hf, n=Nt)\n",
        "    return white_ht"
      ],
      "metadata": {
        "trusted": true,
        "id": "6xRO89kLIRzJ"
      },
      "execution_count": null,
      "outputs": []
    },
    {
      "cell_type": "markdown",
      "source": [
        "**8. Whitening without removing Background Noise**"
      ],
      "metadata": {
        "id": "TarJhenpIRzJ"
      }
    },
    {
      "cell_type": "code",
      "source": [
        "time = 1/fs *np.arange(0, np.shape(x)[1])  #4096\n",
        "dt   = time[2]-time[1]   #uniform sample =  0.00048828125 sec\n",
        "\n",
        "def whiten_bpf(xt,delta_t,remove_bg=False):\n",
        "\n",
        "    #this is aliasing filter\n",
        "    bb6, ab6 = butter(6, [fband_alias[0]*2./fs, fband_alias[1]*2./fs], btype='band')  #bpf\n",
        "    xt[0,] = filtfilt(bb6, ab6, xt[0,]*gain_ref) #scale-up, <<79, since df0_avg_bpf is scale-up\n",
        "    xt[1,] = filtfilt(bb6, ab6, xt[1,]*gain_ref) #scale-up, <<79\n",
        "    xt[2,] = filtfilt(bb6, ab6, xt[2,]*gain_ref) #scale-up, <<79\n",
        "\n",
        "    if remove_bg:\n",
        "        #remove background noise(df0_avg_gain)\n",
        "        Pxx_H1,Pxx_L1,Pxx_V1,freqs, psd_H1,psd_L1,psd_V1,Pxx_ref,psd_smooth = gen_psds(xt - df0_avg_bpf) #have to match aliasing filter\n",
        "        #Pxx_H1,Pxx_L1,Pxx_V1,freqs, psd_H1,psd_L1,psd_V1,Pxx_ref,psd_smooth = gen_psds(xt - df0_avg_gain) #if no aliasing bpf filter\n",
        "    else:\n",
        "        Pxx_H1,Pxx_L1,Pxx_V1,freqs, psd_H1,psd_L1,psd_V1,Pxx_ref,psd_smooth = gen_psds(xt)  #with background noise\n",
        "\n",
        "    # now whiten the data from H1 and L1, and the template (use H1 PSD):\n",
        "    strain_H1_whiten = whiten(xt[0,],psd_H1,delta_t)\n",
        "    strain_L1_whiten = whiten(xt[1,],psd_L1,delta_t)\n",
        "    strain_V1_whiten = whiten(xt[2,],psd_V1,delta_t)\n",
        "\n",
        "    #bb4, ab4 = butter(4, [25*2./fs, 500*2./fs], btype='band')\n",
        "    #normalization = np.sqrt((500-25)/(fs/2))\n",
        "    bb4, ab4 = butter(order_bpf, [fband[0]*2./fs, fband[1]*2./fs], btype='band')\n",
        "    normalization = np.sqrt((fband[1]-fband[0])/(fs/2))\n",
        "    strain_H1_whitenbp = filtfilt(bb4, ab4, strain_H1_whiten.copy()) / normalization\n",
        "    strain_L1_whitenbp = filtfilt(bb4, ab4, strain_L1_whiten.copy()) / normalization\n",
        "    strain_V1_whitenbp = filtfilt(bb4, ab4, strain_V1_whiten.copy()) / normalization\n",
        "\n",
        "    #Notch out frequency of the normal modes of vibration of the suspended mirrors,\n",
        "    #frequency of the electric network. This is done after whitening, otherwise whitening will bring them back up\n",
        "    #strain_H1_whitenbp = notch_filter_data(strain_H1_whitenbp,notch_coefs)\n",
        "    #strain_L1_whitenbp = notch_filter_data(strain_L1_whitenbp,notch_coefs)\n",
        "    #strain_V1_whitenbp = notch_filter_data(strain_V1_whitenbp,notch_coefs)\n",
        "\n",
        "    strain_whiten  = np.zeros((3,4096), dtype = np.float64)  #\n",
        "    strain_whiten[0,],strain_whiten[1,],strain_whiten[2,] = strain_H1_whiten,strain_L1_whiten,strain_V1_whiten\n",
        "\n",
        "    strain_whitenbp  = np.zeros((3,4096), dtype = np.float64)  #\n",
        "    strain_whitenbp[0,],strain_whitenbp[1,],strain_whitenbp[2,] = strain_H1_whitenbp,strain_L1_whitenbp,strain_V1_whitenbp\n",
        "    return strain_whiten, strain_whitenbp"
      ],
      "metadata": {
        "trusted": true,
        "id": "ww16BW6oIRzJ"
      },
      "execution_count": null,
      "outputs": []
    },
    {
      "cell_type": "markdown",
      "source": [
        "**9. Comparing Whiten data**"
      ],
      "metadata": {
        "id": "YDoREtOVIRzJ"
      }
    },
    {
      "cell_type": "code",
      "source": [
        "#There are 2 BPFs, the first BPF is an aliasing filter. All signal went through the first aliasing BPF.  The Second BPF is for strain BPF.\n",
        "\n",
        "#Signal is BPF(aliasing) without removing background Spectrum first.\n",
        "#Whiten\n",
        "\n",
        "#strain_x_whiten <- First BPF_alias then whiten and return\n",
        "#strain_x_whitenbp <- First BPF_alias then whiten then BPF_strain and return\n",
        "strain_x_whiten, strain_x_whitenbp = whiten_bpf(x.copy(),dt)  #with background noise"
      ],
      "metadata": {
        "trusted": true,
        "id": "QOlxkZNBIRzK"
      },
      "execution_count": null,
      "outputs": []
    },
    {
      "cell_type": "markdown",
      "source": [
        "9a Time-domain plot"
      ],
      "metadata": {
        "id": "_CTw4LYRIRzK"
      }
    },
    {
      "cell_type": "code",
      "source": [
        "#Plot time-domain signals, raw, whiten, whiten BPF_alias\n",
        "plot_time_domain_dat(x, strain_x_whiten, strain_x_whitenbp)"
      ],
      "metadata": {
        "trusted": true,
        "id": "Cw39B0alIRzK"
      },
      "execution_count": null,
      "outputs": []
    },
    {
      "cell_type": "markdown",
      "source": [
        "Left column figure, compare all plots\n",
        "\n",
        "Middle column figure, strain_x_whiten <- First BPF_alias then whiten.  \n",
        "\n",
        "Middle column figure, there are strong low freq noises because the whiten signal is before BPF_strain. By setting high_cut_alias = 400Hz, all strains have impulses on every 500 samples(4Hz) intervals. The first pulse has the highest strain, then gradually reduces on subsequence pulses. It reaches the minimum at sample 2048 then gradually increases again on subsequence pulses.  Symmetry about the center. By setting low_cut_alias = 300Hz, all strains have high freq burst pulses of 4Hz with 90% duty cycle.\n",
        "\n",
        "Right column figure, strain_x_whitenbp <- First BPF_alias then whiten then BPF_strain."
      ],
      "metadata": {
        "id": "eNzXYpobIRzK"
      }
    },
    {
      "cell_type": "code",
      "source": [
        "x[0,:3], strain_x_whiten[0,:3], strain_x_whitenbp[0,:3], \\\n",
        "x[1,:3], strain_x_whiten[1,:3], strain_x_whitenbp[1,:3], \\\n",
        "x[2,:3], strain_x_whiten[2,:3], strain_x_whitenbp[2,:3]"
      ],
      "metadata": {
        "trusted": true,
        "id": "s8jGnZGuIRzK"
      },
      "execution_count": null,
      "outputs": []
    },
    {
      "cell_type": "markdown",
      "source": [
        "9b. Freq-domain plot"
      ],
      "metadata": {
        "id": "IykLhAvMIRzK"
      }
    },
    {
      "cell_type": "code",
      "source": [
        "#Original raw data Spectrum\n",
        "\n",
        "#Full Spectrum plot\n",
        "spec_H1,spec_L1,spec_V1 = plot_spec(x.copy(),f_min_plt=0,f_max_plt=1024, f_min_prj =0 )"
      ],
      "metadata": {
        "trusted": true,
        "id": "9GlBgsHmIRzL"
      },
      "execution_count": null,
      "outputs": []
    },
    {
      "cell_type": "markdown",
      "source": [
        "Freq-domain:\n",
        "\n",
        "The dominant freq is 34Hz.  I expect to see some white noise after 1.67sec on the spectrogram, especially freq below 300Hz. Maybe it will show up after whitening. H1 has visible strain at 300Hz.\n",
        "\n",
        "Time-domain:\n",
        "\n",
        "At 1.67sec, L1 has the strongest strain 2e-41. V1 has strain 1.5e-42. All strains are in burst mode with fundamental freq of 4Hz."
      ],
      "metadata": {
        "id": "LV7FdQIsIRzL"
      }
    },
    {
      "cell_type": "markdown",
      "source": [
        "https://www.astroml.org/user_guide/datasets.html#time-domain-data\n",
        "\n",
        "\n",
        "![image.png](attachment:b8c4ff3f-f42e-4bdc-a7a3-a38f5c3469de.png)\n",
        "\n",
        "hanning window Strain ~ 1e-44"
      ],
      "metadata": {
        "id": "Z3kU-SKmIRzL"
      }
    },
    {
      "cell_type": "code",
      "source": [
        "#Original raw data Spectrum\n",
        "\n",
        "#Zoom-In Spectrum plot\n",
        "#f_min_plt=40 Hz on spectrogram\n",
        "#f_max_plt=500 Hz on spectrogram\n",
        "#f_min_prj = 5 , this is bin5, each bin is 8Hz, so bin5 = 40Hz project onto freq axis\n",
        "spec_H1,spec_L1,spec_V1 = plot_spec(x.copy(),f_min_plt=40,f_max_plt=1024, f_min_prj =5 )"
      ],
      "metadata": {
        "trusted": true,
        "id": "b11NC7AvIRzL"
      },
      "execution_count": null,
      "outputs": []
    },
    {
      "cell_type": "code",
      "source": [
        "#freq-domain\n",
        "proj_H1_t = np.sum(spec_H1, axis=0)  #sum over 2sec of data, ringdown is from 1.67sec\n",
        "proj_H1_f = np.sum(spec_H1.T, axis=0)\n",
        "proj_L1_t = np.sum(spec_L1, axis=0)\n",
        "proj_L1_f = np.sum(spec_L1.T, axis=0)\n",
        "proj_V1_t = np.sum(spec_V1, axis=0)\n",
        "proj_V1_f = np.sum(spec_V1.T, axis=0)\n",
        "\n",
        "f_min_prj = 0\n",
        "f_max_prj = 129\n",
        "t_min=0\n",
        "t_max=0.5\n",
        "plt.figure(figsize=(20,6))\n",
        "plt.plot( proj_H1_f*1e42)\n",
        "plt.plot(proj_L1_f*1e42)\n",
        "plt.plot(proj_V1_f*1e42)\n",
        "plt.grid('on')\n",
        "plt.xticks(np.arange(f_min_prj,f_max_prj, 5.0))\n",
        "plt.axis([f_min_prj, f_max_prj, t_min, t_max])\n",
        "plt.xlabel('Freq (x 8Hz)')\n",
        "plt.legend(['H1','L1','V1'])"
      ],
      "metadata": {
        "trusted": true,
        "id": "rxjflfbTIRzL"
      },
      "execution_count": null,
      "outputs": []
    },
    {
      "cell_type": "code",
      "source": [
        "df_8Hz = 8.   #8Hz per bin\n",
        "f_min,f_max = 3,129  #search for very strong low freq strain, ignore below bin3 -> 24Hz\n",
        "spike_h1 = np.max(proj_H1_f[f_min:f_max],axis=0)\n",
        "spike_l1 = np.max(proj_L1_f[f_min:f_max],axis=0)\n",
        "spike_v1 = np.max(proj_V1_f[f_min:f_max],axis=0)\n",
        "bin_spike_h1 = np.argmax(proj_H1_f==spike_h1)\n",
        "bin_spike_l1 =np.argmax(proj_L1_f==spike_l1)\n",
        "bin_spike_v1 =np.argmax(proj_V1_f==spike_v1)\n",
        "print('bin h1=',(bin_spike_h1),'(',(bin_spike_h1)*df_8Hz,'Hz), spike h1=', spike_h1)\n",
        "print('bin l1=',(bin_spike_l1),'(',(bin_spike_l1)*df_8Hz,'Hz), spike l1=', spike_l1)\n",
        "print('bin v1=',(bin_spike_v1),'(',(bin_spike_v1)*df_8Hz,'Hz), spike v1=', spike_v1)"
      ],
      "metadata": {
        "trusted": true,
        "id": "Bt9En4OAIRzL"
      },
      "execution_count": null,
      "outputs": []
    },
    {
      "cell_type": "code",
      "source": [
        "f_min,f_max = int(300/df_8Hz),int(350/df_8Hz)  #search 250Hz to 350Hz (visible at H1)\n",
        "spike_h1 = np.max(proj_H1_f[f_min:f_max],axis=0)\n",
        "spike_l1 = np.max(proj_L1_f[f_min:f_max],axis=0)\n",
        "spike_v1 = np.max(proj_V1_f[f_min:f_max],axis=0)\n",
        "bin_spike_h1 = np.argmax(proj_H1_f==spike_h1)\n",
        "bin_spike_l1 =np.argmax(proj_L1_f==spike_l1)\n",
        "bin_spike_v1 =np.argmax(proj_V1_f==spike_v1)\n",
        "print('bin h1=',(bin_spike_h1),'(',(bin_spike_h1)*df_8Hz,'Hz), spike h1=', spike_h1)\n",
        "print('bin l1=',(bin_spike_l1),'(',(bin_spike_l1)*df_8Hz,'Hz), spike l1=', spike_l1)\n",
        "print('bin v1=',(bin_spike_v1),'(',(bin_spike_v1)*df_8Hz,'Hz), spike v1=', spike_v1)"
      ],
      "metadata": {
        "trusted": true,
        "id": "F_qIJXRiIRzL"
      },
      "execution_count": null,
      "outputs": []
    },
    {
      "cell_type": "code",
      "source": [
        "#search for freq close to Nyquist,\n",
        "#ringdown creates transient and looking for potential aliasing signals\n",
        "f_min,f_max = int(700/df_8Hz),int(1024/df_8Hz)  #search 700Hz to 1024Hz\n",
        "spike_h1 = np.max(proj_H1_f[f_min:f_max],axis=0)\n",
        "spike_l1 = np.max(proj_L1_f[f_min:f_max],axis=0)\n",
        "spike_v1 = np.max(proj_V1_f[f_min:f_max],axis=0)\n",
        "bin_spike_h1 = np.argmax(proj_H1_f==spike_h1)\n",
        "bin_spike_l1 =np.argmax(proj_L1_f==spike_l1)\n",
        "bin_spike_v1 =np.argmax(proj_V1_f==spike_v1)\n",
        "print('bin h1=',(bin_spike_h1),'(',(bin_spike_h1)*df_8Hz,'Hz), spike h1=', spike_h1)\n",
        "print('bin l1=',(bin_spike_l1),'(',(bin_spike_l1)*df_8Hz,'Hz), spike l1=', spike_l1)\n",
        "print('bin v1=',(bin_spike_v1),'(',(bin_spike_v1)*df_8Hz,'Hz), spike v1=', spike_v1)\n",
        "print('')\n",
        "print('potential aliasing bin at:')\n",
        "print('alias bin h1=',(128-bin_spike_h1),'(',(128-bin_spike_h1)*df_8Hz,'Hz)')\n",
        "print('alias bin l1=',(128-bin_spike_l1),'(',(128-bin_spike_l1)*df_8Hz,'Hz)')\n",
        "print('alias bin v1=',(128-bin_spike_v1),'(',(128-bin_spike_v1)*df_8Hz,'Hz)')"
      ],
      "metadata": {
        "trusted": true,
        "id": "HeniLY4WIRzM"
      },
      "execution_count": null,
      "outputs": []
    },
    {
      "cell_type": "markdown",
      "source": [
        "This aliasing bin search is based on 2sec data projection onto freq-domain,\n",
        "and should do another search from ringdown to 2sec."
      ],
      "metadata": {
        "id": "YxZTCbQMIRzM"
      }
    },
    {
      "cell_type": "markdown",
      "source": [
        "By setting high_cut_alias = 400Hz or low_cut_alias=300Hz, both readings are the same. In both cases, there is a square wave with the fundamental freq of 4Hz. So, I'm confused and cannot draw any conclusion about alias bin3,9 and 10.  There are all harmonics of square wave 4Hz.\n",
        "\n",
        "bin h1= 125 ( 1000.0 Hz), spike h1= 6.407776294080362e-45\n",
        "\n",
        "bin l1= 119 ( 952.0 Hz), spike l1= 5.781802511588414e-45\n",
        "\n",
        "bin v1= 118 ( 944.0 Hz), spike v1= 2.0902274858390353e-44\n",
        "\n",
        "potential aliasing bin at:\n",
        "\n",
        "alias bin h1= 3 ( 24.0 Hz)\n",
        "\n",
        "alias bin l1= 9 ( 72.0 Hz)\n",
        "\n",
        "alias bin v1= 10 ( 80.0 Hz)"
      ],
      "metadata": {
        "id": "iQRML6NkIRzM"
      }
    },
    {
      "cell_type": "markdown",
      "source": [
        "Whiten Spectrogram"
      ],
      "metadata": {
        "id": "LsM-9_b4IRzM"
      }
    },
    {
      "cell_type": "code",
      "source": [
        "#Whiten Original data Spectrum\n",
        "# strain_x_whiten <- First BPF_alias then whiten and return\n",
        "\n",
        "#Zoom-In Spectrum plot\n",
        "#f_min_plt=40 Hz on spectrogram\n",
        "#f_max_plt=500 Hz on spectrogram\n",
        "#f_min_prj = 5 , this is bin5, each bin is 8Hz, so bin5 = 40Hz project onto freq axis\n",
        "spec_H1,spec_L1,spec_V1 = plot_spec(strain_x_whiten.copy(),f_min_plt=8,f_max_plt=1024, f_min_prj =1)"
      ],
      "metadata": {
        "trusted": true,
        "id": "cLzVF818IRzM"
      },
      "execution_count": null,
      "outputs": []
    },
    {
      "cell_type": "code",
      "source": [
        "#freq-domain, whiten\n",
        "proj_H1_t = np.sum(spec_H1, axis=0)\n",
        "proj_H1_f = np.sum(spec_H1.T, axis=0)\n",
        "proj_L1_t = np.sum(spec_L1, axis=0)\n",
        "proj_L1_f = np.sum(spec_L1.T, axis=0)\n",
        "proj_V1_t = np.sum(spec_V1, axis=0)\n",
        "proj_V1_f = np.sum(spec_V1.T, axis=0)\n",
        "\n",
        "f_min_prj = 0\n",
        "f_max_prj = 129\n",
        "t_min=0\n",
        "t_max=2\n",
        "plt.figure(figsize=(20,4))\n",
        "plt.plot( proj_H1_f) #*1e46)\n",
        "plt.plot(proj_L1_f) #*1e46)\n",
        "plt.plot(proj_V1_f) #*1e46)\n",
        "plt.grid('on')\n",
        "plt.xticks(np.arange(f_min_prj,f_max_prj, 5.0))\n",
        "plt.axis([f_min_prj, f_max_prj, t_min, t_max])\n",
        "plt.xlabel('Freq (x 8Hz)')\n",
        "plt.legend(['H1','L1','V1'])"
      ],
      "metadata": {
        "trusted": true,
        "id": "JHgAypTTIRzM"
      },
      "execution_count": null,
      "outputs": []
    },
    {
      "cell_type": "code",
      "source": [
        "#time-domain, whiten\n",
        "t_min_prj = 0\n",
        "t_max_prj = len(proj_H1_t)\n",
        "t_min=0\n",
        "t_max=45.0 #35\n",
        "plt.figure(figsize=(20,4))\n",
        "plt.plot( proj_H1_t) #*1e45)\n",
        "plt.plot(proj_L1_t) #*1e45)\n",
        "plt.plot(proj_V1_t) #*1e45)\n",
        "plt.grid('on')\n",
        "plt.xticks(np.arange(t_min_prj,t_max_prj, 5.0))\n",
        "plt.axis([t_min_prj, t_max_prj, t_min, t_max])\n",
        "plt.xlabel('Time segment (x 8.3 ms)')   #each time-segment = 2sec/241 = 0.008299 sec\n",
        "plt.legend(['H1','L1','V1'])"
      ],
      "metadata": {
        "trusted": true,
        "id": "tz1614EZIRzM"
      },
      "execution_count": null,
      "outputs": []
    },
    {
      "cell_type": "code",
      "source": [
        "#L1 strain\n",
        "sine_period=53-29 #time_segment\n",
        "# len(proj_H1_t) = 241 time-segment in 2 sec, each time-segment = 2/241 = 0.008299 sec\n",
        "print('estimated sine wave freq=', 241./(sine_period*2),'Hz')"
      ],
      "metadata": {
        "trusted": true,
        "id": "bUuBw0fPIRzN"
      },
      "execution_count": null,
      "outputs": []
    },
    {
      "cell_type": "markdown",
      "source": [
        "After whitening, strains are symmetrical about the center of the time-segment frame(120).\n",
        "\n",
        "All strains are damped. V1 is the most heavily damped. If the high_cut_alias=400Hz moves further inside the passband, all strains look like square waves at 4Hz. Same thing happens when low_cut_alias=300Hz, I see a 4Hz square wave."
      ],
      "metadata": {
        "id": "FCFI35EqIRzN"
      }
    },
    {
      "cell_type": "markdown",
      "source": [
        "Whiten Bandpass filter Spectrogram"
      ],
      "metadata": {
        "id": "N0hWFL3WIRzN"
      }
    },
    {
      "cell_type": "code",
      "source": [
        "#Whiten BPF_strain data Spectrum\n",
        "#strain_x_whitenbp <- First BPF_alias then whiten then BPF_strain and return\n",
        "\n",
        "#Zoom-IN Spectrum plot\n",
        "spec_H1_bp,spec_L1_bp,spec_V1_bp = plot_spec(strain_x_whitenbp.copy(),f_min_plt=16,f_max_plt=1024, f_min_prj =2 )"
      ],
      "metadata": {
        "trusted": true,
        "id": "d7OT5ljFIRzN"
      },
      "execution_count": null,
      "outputs": []
    },
    {
      "cell_type": "markdown",
      "source": [
        "Can't really tell transient creates white noise in the region 1.67sec to 2sec and freq below 300Hz."
      ],
      "metadata": {
        "id": "ixJh8lpgIRzN"
      }
    },
    {
      "cell_type": "code",
      "source": [
        "#freq-domain\n",
        "proj_H1_bp_t = np.sum(spec_H1_bp, axis=0)\n",
        "proj_H1_bp_f = np.sum(spec_H1_bp.T, axis=0)\n",
        "proj_L1_bp_t = np.sum(spec_L1_bp, axis=0)\n",
        "proj_L1_bp_f = np.sum(spec_L1_bp.T, axis=0)\n",
        "proj_V1_bp_t = np.sum(spec_V1_bp, axis=0)\n",
        "proj_V1_bp_f = np.sum(spec_V1_bp.T, axis=0)\n",
        "\n",
        "f_min_prj = 0\n",
        "f_max_prj = 129\n",
        "t_min=0\n",
        "t_max=2.5\n",
        "plt.figure(figsize=(20,6))\n",
        "plt.plot( proj_H1_bp_f) #*1e48)\n",
        "plt.plot(proj_L1_bp_f) #*1e48)\n",
        "plt.plot(proj_V1_bp_f) #*1e48)\n",
        "plt.grid('on')\n",
        "plt.xticks(np.arange(f_min_prj,f_max_prj, 5.0))\n",
        "plt.axis([f_min_prj, f_max_prj, t_min, t_max])\n",
        "plt.xlabel('Freq (x 8Hz)')\n",
        "plt.legend(['H1','L1','V1'])"
      ],
      "metadata": {
        "trusted": true,
        "id": "iZNQtd8vIRzN"
      },
      "execution_count": null,
      "outputs": []
    },
    {
      "cell_type": "markdown",
      "source": [
        "Not sure the whiten signal is a weak GW or equipment noise. Now you can see lots of in-band freq.  These are the strains that you want your NN to train on."
      ],
      "metadata": {
        "id": "ebQdhJi_IRzN"
      }
    },
    {
      "cell_type": "markdown",
      "source": [
        "**10. Whitening with Removed Background Noise**"
      ],
      "metadata": {
        "id": "Qirwoy3XIRzO"
      }
    },
    {
      "cell_type": "code",
      "source": [
        "#There are 2 BPFs, the first BPF is an aliasing filter. All signals went through the first aliasing BPF.  The Second BPF is for strain BPF.\n",
        "#Signal is BPF(aliasing) first then remove background noise\n",
        "\n",
        "#strain_x_whiten_nobg <- First BPF_alias then remove background then whiten and return\n",
        "#strain_x_whitenbp_nobg <- First BPF_alias then remove background then whiten then BPF_strain and return\n",
        "strain_x_whiten_nobg, strain_x_whitenbp_nobg = whiten_bpf(x.copy(),dt,remove_bg=True)  #no background"
      ],
      "metadata": {
        "trusted": true,
        "id": "tqgCvPREIRzO"
      },
      "execution_count": null,
      "outputs": []
    },
    {
      "cell_type": "markdown",
      "source": [
        "**11. Comparing whiten data with removed Background Noise**"
      ],
      "metadata": {
        "id": "KU2_-EIrIRzO"
      }
    },
    {
      "cell_type": "code",
      "source": [
        "#time-domain plot\n",
        "plot_time_domain_dat(x*gain_ref, strain_x_whiten_nobg, strain_x_whitenbp_nobg)\n",
        "x[0,:3], strain_x_whiten_nobg[0,:3], strain_x_whitenbp_nobg[0,:3], \\\n",
        "x[1,:3], strain_x_whiten_nobg[1,:3], strain_x_whitenbp_nobg[1,:3], \\\n",
        "x[2,:3], strain_x_whiten_nobg[2,:3], strain_x_whitenbp_nobg[2,:3]"
      ],
      "metadata": {
        "trusted": true,
        "id": "Rskozz3qIRzO"
      },
      "execution_count": null,
      "outputs": []
    },
    {
      "cell_type": "markdown",
      "source": [
        "The middle column figure is the whiten strain before BPF_strain.  The L1 is a damped sine wave, symmetry about its center."
      ],
      "metadata": {
        "id": "KRtCzcRuIRzO"
      }
    },
    {
      "cell_type": "code",
      "source": [
        "#freq-domain plot\n",
        "#strain_x_whiten_nobg <- First BPF_alias then remove background then whiten and return\n",
        "\n",
        "#Full Spectrum plot with removed background\n",
        "spec_H1_nobg,spec_L1_nobg,spec_V1_nobg = plot_spec(strain_x_whiten_nobg.copy())\n",
        "\n",
        "#Zoom-In with removed background\n",
        "spec_H1_nobg,spec_L1_nobg,spec_V1_nobg = plot_spec(strain_x_whiten_nobg.copy(),f_min_plt=40,f_max_plt=1024, f_min_prj =12 )"
      ],
      "metadata": {
        "trusted": true,
        "id": "QpTKRhwBIRzO"
      },
      "execution_count": null,
      "outputs": []
    },
    {
      "cell_type": "code",
      "source": [
        "#freq-domain\n",
        "proj_H1_t = np.sum(spec_H1_nobg, axis=0)\n",
        "proj_H1_f = np.sum(spec_H1_nobg.T, axis=0)\n",
        "proj_L1_t = np.sum(spec_L1_nobg, axis=0)\n",
        "proj_L1_f = np.sum(spec_L1_nobg.T, axis=0)\n",
        "proj_V1_t = np.sum(spec_V1_nobg, axis=0)\n",
        "proj_V1_f = np.sum(spec_V1_nobg.T, axis=0)\n",
        "\n",
        "f_min_prj = 0\n",
        "f_max_prj = 129\n",
        "t_min=0\n",
        "t_max=4\n",
        "plt.figure(figsize=(20,6))\n",
        "plt.plot( proj_H1_f) #*1e48)\n",
        "plt.plot(proj_L1_f) #*1e48)\n",
        "plt.plot(proj_V1_f) #*1e48)\n",
        "plt.grid('on')\n",
        "plt.xticks(np.arange(f_min_prj,f_max_prj, 5.0))\n",
        "plt.axis([f_min_prj, f_max_prj, t_min, t_max])\n",
        "plt.xlabel('Freq (x 8Hz)')\n",
        "plt.legend(['H1','L1','V1'])"
      ],
      "metadata": {
        "trusted": true,
        "id": "9ldBxy-OIRzO"
      },
      "execution_count": null,
      "outputs": []
    },
    {
      "cell_type": "code",
      "source": [
        "df_8Hz = 8.   #8Hz per bin\n",
        "f_min,f_max = 120,129\n",
        "spike_h1 = np.max(proj_H1_f[f_min:f_max],axis=0)\n",
        "spike_l1 = np.max(proj_L1_f[f_min:f_max],axis=0)\n",
        "spike_v1 = np.max(proj_V1_f[f_min:f_max],axis=0)\n",
        "bin_spike_h1 = np.argmax(proj_H1_f==spike_h1)\n",
        "bin_spike_l1 =np.argmax(proj_L1_f==spike_l1)\n",
        "bin_spike_v1 =np.argmax(proj_V1_f==spike_v1)\n",
        "print('bin h1=',(bin_spike_h1),'(',(bin_spike_h1)*df_8Hz,'Hz), spike h1=', spike_h1)\n",
        "print('bin l1=',(bin_spike_l1),'(',(bin_spike_l1)*df_8Hz,'Hz), spike l1=', spike_l1)\n",
        "print('bin v1=',(bin_spike_v1),'(',(bin_spike_v1)*df_8Hz,'Hz), spike v1=', spike_v1)"
      ],
      "metadata": {
        "trusted": true,
        "id": "SBq0MF5jIRzO"
      },
      "execution_count": null,
      "outputs": []
    },
    {
      "cell_type": "markdown",
      "source": [
        "L1 and V1 have peaks at bin128(Nyquist). The projection onto Freq-domain has a freq resolution of 8Hz.  In the whitening function, the freq resolution is 0.5Hz. If brute-force DC=Nyquist=0 only, peaks will reappear at bin128(Nyquist) again. I've tried to brute-force hf(:8)=hf(-8:)=0 and resulted in L1, V1 peaks moving to bin126.\n",
        "\n",
        "To minimize Nyquist's DC, the original raw data need to remove its DC and after averaging DF_0, DC is removed by subtracting its mean value."
      ],
      "metadata": {
        "id": "yqQW6KBWIRzP"
      }
    },
    {
      "cell_type": "code",
      "source": [
        "#time-domain\n",
        "t_min_prj = 0\n",
        "t_max_prj = len(proj_H1_t)\n",
        "t_min=0\n",
        "t_max=35 #0.08\n",
        "plt.figure(figsize=(20,4))\n",
        "plt.plot( proj_H1_t) #*1e45)\n",
        "plt.plot(proj_L1_t) #*1e45)\n",
        "plt.plot(proj_V1_t) #*1e45)\n",
        "plt.grid('on')\n",
        "plt.xticks(np.arange(t_min_prj,t_max_prj, 5.0))\n",
        "plt.axis([t_min_prj, t_max_prj, t_min, t_max])\n",
        "plt.xlabel('Time segment (x 8.3 ms)')   #each time-segment = 2sec/241 = 0.008299 sec\n",
        "plt.legend(['H1','L1','V1'])"
      ],
      "metadata": {
        "trusted": true,
        "id": "opnvhTWdIRzP"
      },
      "execution_count": null,
      "outputs": []
    },
    {
      "cell_type": "code",
      "source": [
        "#sq_period=65-30  #time_segment\n",
        "h1_sine_period =95-67\n",
        "l1_sine_period =53-27\n",
        "#v1_sine_period =63-27\n",
        "\n",
        "#modulation wave\n",
        "#h1_mod_period =228-12\n",
        "#l1_mod_period =229-12\n",
        "#v1_mod_period =232-8\n",
        "\n",
        "# len(proj_H1_t) = 241 time-segment in 2 sec, each time-segment = 2/241 = 0.008299 sec\n",
        "#print('square wave freq=', 241./(sq_period*2),'Hz,','sine wave freq=', 241./(sine_period*2),'Hz')\n",
        "print('H1,','estimate sine wave freq=', 241./(h1_sine_period*2),'Hz', 'more than one sine wave with damping')\n",
        "print('L1,','estimate sine wave freq=', 241./(l1_sine_period*2),'Hz', 'more than one sine wave with damping')\n",
        "#print('V1,','sine wave freq=', 241./(v1_sine_period*2),'Hz', 'with damping')\n",
        "print('V1, heavily damped')\n",
        "#print('')\n",
        "#print('H1,','modulation wave freq=', 241./(h1_mod_period*2),'Hz')\n",
        "#print('L1,','modulation wave freq=', 241./(l1_mod_period*2),'Hz')\n",
        "#print('V1,','modulation wave freq=', 241./(v1_mod_period*2),'Hz')"
      ],
      "metadata": {
        "trusted": true,
        "id": "5dN-kONmIRzP"
      },
      "execution_count": null,
      "outputs": []
    },
    {
      "cell_type": "code",
      "source": [
        "#strain_x_whitenbp_nobg <- First BPF_alias then remove background then whiten then BPF_strain and return\n",
        "\n",
        "#Zoom-In strain BPF with removed background\n",
        "spec_H1_bpbg,spec_L1_bpbg,spec_V1_bpbg = plot_spec(strain_x_whitenbp_nobg,f_min_plt=16,f_max_plt=1024, f_min_prj =2 )"
      ],
      "metadata": {
        "trusted": true,
        "id": "lkMKIW1gIRzP"
      },
      "execution_count": null,
      "outputs": []
    },
    {
      "cell_type": "code",
      "source": [
        "#Freq-domain\n",
        "proj_H1_t = np.sum(spec_H1_bpbg, axis=0)\n",
        "proj_H1_f = np.sum(spec_H1_bpbg.T, axis=0)\n",
        "proj_L1_t = np.sum(spec_L1_bpbg, axis=0)\n",
        "proj_L1_f = np.sum(spec_L1_bpbg.T, axis=0)\n",
        "proj_V1_t = np.sum(spec_V1_bpbg, axis=0)\n",
        "proj_V1_f = np.sum(spec_V1_bpbg.T, axis=0)\n",
        "\n",
        "f_min_prj = 0\n",
        "f_max_prj = 129\n",
        "t_min=0\n",
        "t_max=2\n",
        "plt.figure(figsize=(20,6))\n",
        "plt.plot( proj_H1_f,'b')\n",
        "plt.plot(proj_L1_f,'r')\n",
        "plt.plot(proj_V1_f,'g')\n",
        "plt.grid('on')\n",
        "plt.xticks(np.arange(f_min_prj,f_max_prj, 5.0))\n",
        "plt.axis([f_min_prj, f_max_prj, t_min, t_max])\n",
        "plt.xlabel('Freq (x 8Hz)')\n",
        "plt.legend(['H1','L1','V1'])"
      ],
      "metadata": {
        "trusted": true,
        "id": "7EVEwppTIRzP"
      },
      "execution_count": null,
      "outputs": []
    },
    {
      "cell_type": "code",
      "source": [
        "df_8Hz = 8.   #8Hz per bin\n",
        "f_min,f_max = 3,10  #ignore bin3 below -> 24Hz\n",
        "spike_h1 = np.max(proj_H1_f[f_min:f_max],axis=0)\n",
        "spike_l1 = np.max(proj_L1_f[f_min:f_max],axis=0)\n",
        "spike_v1 = np.max(proj_V1_f[f_min:f_max],axis=0)\n",
        "bin_spike_h1 = np.argmax(proj_H1_f==spike_h1)\n",
        "bin_spike_l1 =np.argmax(proj_L1_f==spike_l1)\n",
        "bin_spike_v1 =np.argmax(proj_V1_f==spike_v1)\n",
        "print('bin h1=',(bin_spike_h1),'(',(bin_spike_h1)*df_8Hz,'Hz), spike h1=', spike_h1)\n",
        "print('bin l1=',(bin_spike_l1),'(',(bin_spike_l1)*df_8Hz,'Hz), spike l1=', spike_l1)\n",
        "print('bin v1=',(bin_spike_v1),'(',(bin_spike_v1)*df_8Hz,'Hz), spike v1=', spike_v1)"
      ],
      "metadata": {
        "trusted": true,
        "id": "c5cIj6snIRzP"
      },
      "execution_count": null,
      "outputs": []
    },
    {
      "cell_type": "code",
      "source": [
        "f_min,f_max = 115,129  #bins\n",
        "spike_h1 = np.max(proj_H1_f[f_min:f_max],axis=0)\n",
        "spike_l1 = np.max(proj_L1_f[f_min:f_max],axis=0)\n",
        "spike_v1 = np.max(proj_V1_f[f_min:f_max],axis=0)\n",
        "bin_spike_h1 = np.argmax(proj_H1_f==spike_h1)\n",
        "bin_spike_l1 =np.argmax(proj_L1_f==spike_l1)\n",
        "bin_spike_v1 =np.argmax(proj_V1_f==spike_v1)\n",
        "print('bin h1=',(bin_spike_h1),'(',(bin_spike_h1)*df_8Hz,'Hz), spike h1=', spike_h1)\n",
        "print('bin l1=',(bin_spike_l1),'(',(bin_spike_l1)*df_8Hz,'Hz), spike l1=', spike_l1)\n",
        "print('bin v1=',(bin_spike_v1),'(',(bin_spike_v1)*df_8Hz,'Hz), spike v1=', spike_v1)"
      ],
      "metadata": {
        "trusted": true,
        "id": "1nL9QxReIRzP"
      },
      "execution_count": null,
      "outputs": []
    },
    {
      "cell_type": "markdown",
      "source": [
        "Visual inspection: for all strains to be above threshold 0.5.  My guess is GW at 32Hz(dominant) and 1000Hz(weak).  BPF highcut_alias is at 1020Hz."
      ],
      "metadata": {
        "id": "uk6Td7C5IRzQ"
      }
    },
    {
      "cell_type": "code",
      "source": [
        "#time-domain\n",
        "t_min_prj = 0\n",
        "t_max_prj = len(proj_H1_t)\n",
        "t_min=0\n",
        "t_max=0.7 #0.002\n",
        "plt.figure(figsize=(20,4))\n",
        "plt.plot( proj_H1_t,'b')\n",
        "plt.plot(proj_L1_t,'r')\n",
        "plt.plot(proj_V1_t,'g')\n",
        "plt.grid('on')\n",
        "plt.xticks(np.arange(t_min_prj,t_max_prj, 5.0))\n",
        "plt.axis([t_min_prj, t_max_prj, t_min, t_max])\n",
        "plt.xlabel('Time segment (x 8.3 ms)')   #each time-segment = 2sec/241 = 0.008299 sec\n",
        "plt.legend(['H1','L1','V1'])"
      ],
      "metadata": {
        "trusted": true,
        "id": "DXw1fvnEIRzQ"
      },
      "execution_count": null,
      "outputs": []
    },
    {
      "cell_type": "code",
      "source": [
        "print('ringdown at', 202*0.0083,'sec')   #compare to time-domain raw signal 2*3434/4096 = 1.67 sec"
      ],
      "metadata": {
        "trusted": true,
        "id": "CCUYsNbcIRzQ"
      },
      "execution_count": null,
      "outputs": []
    },
    {
      "cell_type": "code",
      "source": [
        "#Freq-domain\n",
        "f_min_prj = 0\n",
        "f_max_prj = 129\n",
        "\n",
        "#normalize for comparison\n",
        "max_h1_bp_bg = max(proj_H1_bp_f)\n",
        "max_l1_bp_bg = max(proj_L1_bp_f)\n",
        "max_v1_bp_bg = max(proj_V1_bp_f)\n",
        "max_h1_bp_nobg = max(proj_H1_f)\n",
        "max_l1_bp_nobg = max(proj_L1_f)\n",
        "max_v1_bp_nobg = max(proj_V1_f)\n",
        "\n",
        "proj_H1_bp_bg_f = proj_H1_bp_f/max_h1_bp_bg\n",
        "proj_H1_bp_nobg_f = proj_H1_f/max_h1_bp_nobg\n",
        "proj_L1_bp_bg_f = proj_L1_bp_f/max_l1_bp_bg\n",
        "proj_L1_bp_nobg_f = proj_L1_f/max_l1_bp_nobg\n",
        "proj_V1_bp_bg_f = proj_V1_bp_f/max_v1_bp_bg\n",
        "proj_V1_bp_nobg_f = proj_V1_f/max_v1_bp_nobg\n",
        "\n",
        "sf_Hmin=min(min(proj_H1_bp_bg_f),min(proj_H1_bp_nobg_f))\n",
        "sf_Hmax=0.002 #0.002\n",
        "sf_Lmin=min(min(proj_L1_bp_bg_f),min(proj_L1_bp_nobg_f))\n",
        "sf_Lmax=0.002 #0.002\n",
        "sf_Vmin=min(min(proj_V1_bp_bg_f),min(proj_V1_bp_nobg_f))\n",
        "sf_Vmax=0.002 #0.002\n",
        "\n",
        "if (run_id == '098a464da9'):\n",
        "    sf_Hmin=min(min(proj_H1_bp_bg_f),min(proj_H1_bp_nobg_f))\n",
        "    sf_Hmax=1\n",
        "    sf_Lmin=min(min(proj_L1_bp_bg_f),min(proj_L1_bp_nobg_f))\n",
        "    sf_Lmax=1\n",
        "    sf_Vmin=min(min(proj_V1_bp_bg_f),min(proj_V1_bp_nobg_f))\n",
        "    sf_Vmax=1\n",
        "\n",
        "plt.figure(figsize=(20,14))\n",
        "plt.subplot(3,2,1)\n",
        "plt.plot( proj_H1_bp_bg_f,'b')\n",
        "plt.plot( proj_H1_bp_nobg_f,'k--')\n",
        "plt.grid('on')\n",
        "plt.xticks(np.arange(f_min_prj,f_max_prj, 5.0))\n",
        "plt.axis([f_min_prj, f_max_prj, sf_Hmin, sf_Hmax])\n",
        "#plt.xlabel('Freq (x 8Hz)')\n",
        "plt.legend(['H1','H1 no-bg'])\n",
        "\n",
        "plt.subplot(3,2,3)\n",
        "plt.plot( proj_L1_bp_bg_f,'r')\n",
        "plt.plot( proj_L1_bp_nobg_f,'k--')\n",
        "plt.grid('on')\n",
        "plt.xticks(np.arange(f_min_prj,f_max_prj, 5.0))\n",
        "plt.axis([f_min_prj, f_max_prj, sf_Lmin, sf_Lmax])\n",
        "#plt.xlabel('Freq (x 8Hz)')\n",
        "plt.legend(['L1','L1 no-bg'])\n",
        "\n",
        "plt.subplot(3,2,5)\n",
        "plt.plot( proj_V1_bp_bg_f,'g')\n",
        "plt.plot( proj_V1_bp_nobg_f,'k--')\n",
        "plt.grid('on')\n",
        "plt.xticks(np.arange(f_min_prj,f_max_prj, 5.0))\n",
        "plt.axis([f_min_prj, f_max_prj, sf_Vmin, sf_Vmax])\n",
        "plt.xlabel('Freq (x 8Hz)')\n",
        "plt.legend(['V1','V1 no-bg'])\n",
        "\n",
        "#time-domain\n",
        "t_min_prj = 0\n",
        "t_max_prj = len(proj_H1_t)\n",
        "\n",
        "#normalize for comparison\n",
        "max_h1_bp_bg = max(proj_H1_bp_t)\n",
        "max_l1_bp_bg = max(proj_L1_bp_t)\n",
        "max_v1_bp_bg = max(proj_V1_bp_t)\n",
        "max_h1_bp_nobg = max(proj_H1_t)\n",
        "max_l1_bp_nobg = max(proj_L1_t)\n",
        "max_v1_bp_nobg = max(proj_V1_t)\n",
        "\n",
        "proj_H1_bp_bg_t = proj_H1_bp_t/max_h1_bp_bg\n",
        "proj_H1_bp_nobg_t = proj_H1_t/max_h1_bp_nobg\n",
        "proj_L1_bp_bg_t = proj_L1_bp_t/max_l1_bp_bg\n",
        "proj_L1_bp_nobg_t = proj_L1_t/max_l1_bp_nobg\n",
        "proj_V1_bp_bg_t = proj_V1_bp_t/max_v1_bp_bg\n",
        "proj_V1_bp_nobg_t = proj_V1_t/max_v1_bp_nobg\n",
        "\n",
        "st_Hmin=min(min(proj_H1_bp_bg_t),min(proj_H1_bp_nobg_t))\n",
        "st_Hmax=0.005 #0.002 #0.002\n",
        "st_Lmin=min(min(proj_L1_bp_bg_t),min(proj_L1_bp_nobg_t))\n",
        "st_Lmax=0.01 #0.002 #0.002\n",
        "st_Vmin=min(min(proj_V1_bp_bg_t),min(proj_V1_bp_nobg_t))\n",
        "st_Vmax=0.1 #0.002 #0.002\n",
        "\n",
        "if (run_id == '098a464da9'):\n",
        "    st_Hmin=min(min(proj_H1_bp_bg_t),min(proj_H1_bp_nobg_t))\n",
        "    st_Hmax=0.6\n",
        "    st_Lmin=min(min(proj_L1_bp_bg_t),min(proj_L1_bp_nobg_t))\n",
        "    st_Lmax=0.6\n",
        "    st_Vmin=min(min(proj_V1_bp_bg_t),min(proj_V1_bp_nobg_t))\n",
        "    st_Vmax=0.6\n",
        "\n",
        "plt.subplot(3,2,2)\n",
        "plt.plot( proj_H1_bp_bg_t,'b')\n",
        "plt.plot( proj_H1_bp_nobg_t,'k--')\n",
        "plt.grid('on')\n",
        "plt.xticks(np.arange(t_min_prj,t_max_prj, 10.0))\n",
        "plt.axis([t_min_prj, t_max_prj, st_Hmin, st_Hmax])\n",
        "plt.legend(['H1','H1 no-bg'])\n",
        "\n",
        "plt.subplot(3,2,4)\n",
        "plt.plot( proj_L1_bp_bg_t,'r')\n",
        "plt.plot( proj_L1_bp_nobg_t,'k--')\n",
        "plt.grid('on')\n",
        "plt.xticks(np.arange(t_min_prj,t_max_prj, 10.0))\n",
        "plt.axis([t_min_prj, t_max_prj, st_Lmin, st_Lmax])\n",
        "plt.legend(['L1','L1 no-bg'])\n",
        "\n",
        "plt.subplot(3,2,6)\n",
        "plt.plot( proj_V1_bp_bg_t,'g')\n",
        "plt.plot( proj_V1_bp_nobg_t,'k--')\n",
        "plt.grid('on')\n",
        "plt.xticks(np.arange(t_min_prj,t_max_prj, 10.0))\n",
        "plt.axis([t_min_prj, t_max_prj, st_Vmin, st_Vmax])\n",
        "plt.xlabel('Time segment (x 8.3 ms)')   #each time-segment = 2sec/241 = 0.008299 sec\n",
        "plt.legend(['V1','V1 no-bg'])"
      ],
      "metadata": {
        "trusted": true,
        "id": "WWrVqUiPIRzQ"
      },
      "execution_count": null,
      "outputs": []
    },
    {
      "cell_type": "markdown",
      "source": [
        "Time-domain:\n",
        "The ringdown is at time-segments 200-213.\n",
        "\n",
        "Freq-domain:\n",
        "The frequencies that are common to the background noise, their strains were either reduced or increased. Is it good or bad, i don't know, only the domain expert can tell.\n",
        "\n",
        "For example L1. Bin50(400Hz) with background noise removed(dashed black), the peak is reduced, whereas bin80(640Hz), bin85(680Hz), etc are increased w.r.t (Red line)\n",
        "\n",
        "Maybe this is good for data augmentation with or without background noise removed.  NN will focus on different freq.  The background noise df0_avg_bpf can be averaged at various subfolders and average length."
      ],
      "metadata": {
        "id": "Yd8tPmoLIRzQ"
      }
    },
    {
      "cell_type": "markdown",
      "source": [
        "**12. Data Augmentation**\n",
        "\n",
        "a) Inject noise, blip, chirp, etc from\n",
        "https://www.zooniverse.org/projects/zooniverse/gravity-spy/talk/762/926241\n",
        "\n",
        "b) Enable/Disable notch filter, random select notch filter\n",
        "\n",
        "c) Change BPF_alias(lowcut_alias,high_cut_alias), BPF_strain(lowcut, highcut). Random set BPF corner freq.\n",
        "\n",
        "d) Enable/Disable whitening\n",
        "\n",
        "e) Enable/Disable background noise remover. Random average time and different subfolder.\n"
      ],
      "metadata": {
        "id": "0PY7i8E8IRzQ"
      }
    },
    {
      "cell_type": "markdown",
      "source": [
        "**13. Feature Extraction**"
      ],
      "metadata": {
        "id": "7bKtsLTgIRzR"
      }
    },
    {
      "cell_type": "code",
      "source": [
        "#strain_x_whiten, strain_x_whitenbp\n",
        "strain_h = strain_x_whiten[0,] #\n",
        "strain_l = strain_x_whiten[1,] #\n",
        "strain_v = strain_x_whiten[2,] #"
      ],
      "metadata": {
        "trusted": true,
        "id": "b1lUJHi4IRzR"
      },
      "execution_count": null,
      "outputs": []
    },
    {
      "cell_type": "code",
      "source": [
        "df_fil = pd.DataFrame(index=time)\n",
        "\n",
        "df_fil['H1']=strain_h\n",
        "df_fil['L1']=strain_l\n",
        "df_fil['V1']=strain_v"
      ],
      "metadata": {
        "trusted": true,
        "id": "AtXCFL_tIRzR"
      },
      "execution_count": null,
      "outputs": []
    },
    {
      "cell_type": "code",
      "source": [
        "def movingaverage (values, window):\n",
        "    weights = np.repeat(1.0, window)/window\n",
        "    sma = np.convolve(values, weights, 'valid')\n",
        "    sma = [values[0]]*(window-1)+sma.tolist()\n",
        "    return sma\n",
        "\n",
        "for ord in [5,10,15,50]:\n",
        "    strain_h_mva = movingaverage(strain_h, window=ord)\n",
        "    strain_l_mva = movingaverage(strain_l, window=ord)\n",
        "    strain_v_mva = movingaverage(strain_l, window=ord)\n",
        "    df_fil['H1_mva_'+str(ord)]=strain_h_mva\n",
        "    df_fil['L1_mva_'+str(ord)]=strain_l_mva\n",
        "    df_fil['V1_mva_'+str(ord)]=strain_v_mva"
      ],
      "metadata": {
        "trusted": true,
        "id": "QwC4TSU5IRzR"
      },
      "execution_count": null,
      "outputs": []
    },
    {
      "cell_type": "code",
      "source": [
        "lowcut, highcut = fband\n",
        "print('Base frequency', fs, 'Band frequency will be applied. Retaining signal between in the range:',lowcut, highcut, 'Hz')"
      ],
      "metadata": {
        "trusted": true,
        "id": "Kt5iVA9sIRzR"
      },
      "execution_count": null,
      "outputs": []
    },
    {
      "cell_type": "code",
      "source": [
        "for ord in [4,5,6]:\n",
        "    strain_h_filtered = butter_bandpass_filter(strain_h, lowcut, highcut, fs, order=ord)\n",
        "    strain_l_filtered = butter_bandpass_filter(strain_l, lowcut, highcut, fs, order=ord)\n",
        "    strain_v_filtered = butter_bandpass_filter(strain_v, lowcut, highcut, fs, order=ord)\n",
        "    df_fil['H1_band_'+str(ord)]=strain_h_filtered\n",
        "    df_fil['L1_band_'+str(ord)]=strain_l_filtered\n",
        "    df_fil['V1_band_'+str(ord)]=strain_v_filtered\n",
        "\n",
        "\n",
        "#for i in [1,2,3]:\n",
        "#Aliasing filter\n",
        "#    strain_h_filtered = butter_bandpass_filter(strain_h, lowcut_alias, highcut_alias, fs, order=6)\n",
        "#    strain_l_filtered = butter_bandpass_filter(strain_l, lowcut_alias, highcut_alias, fs, order=6)\n",
        "#    strain_v_filtered = butter_bandpass_filter(strain_v, lowcut_alias, highcut_alias, fs, order=6)\n",
        "#strain bpf\n",
        "#    strain_h_filtered = butter_bandpass_filter(strain_h_filtered, i*lowcut, highcut-i*200, fs, order=4)\n",
        "#    strain_l_filtered = butter_bandpass_filter(strain_l_filtered, i*lowcut, highcut-i*200, fs, order=4)\n",
        "#    strain_v_filtered = butter_bandpass_filter(strain_v_filtered, i*lowcut, highcut-i*200, fs, order=4)\n",
        "#    df_fil['H1_band_'+str(i)]=strain_h_filtered\n",
        "#    df_fil['L1_band_'+str(i)]=strain_l_filtered\n",
        "#    df_fil['V1_band_'+str(i)]=strain_v_filtered"
      ],
      "metadata": {
        "trusted": true,
        "id": "fVXWQnx9IRzR"
      },
      "execution_count": null,
      "outputs": []
    },
    {
      "cell_type": "code",
      "source": [
        "#https://github.com/ibm-watson-data-lab/ibmseti\n",
        "#https://github.com/ibm-watson-data-lab/ibmseti/blob/master/ibmseti/features.py\n",
        "#https://github.com/ibm-watson-data-lab/ibmseti/blob/master/ibmseti/features.py#L188-L282\n",
        "# Copyright (c) 2017 IBM. All rights reserved.\n",
        "\n",
        "#import scipy.stats\n",
        "#import math\n",
        "\n",
        "def seti_entropy(p, w):\n",
        "    if w is None:\n",
        "        w = np.ones(len(p))\n",
        "    h_p = np.sum([-x[0]*math.log(x[0]/x[1]) if x[0] else 0 for x in zip(p, w)])\n",
        "    h_max = math.log(np.sum(w))\n",
        "    return h_p, h_max\n",
        "\n",
        "def entropy(signal):\n",
        "        '''\n",
        "        function returns entropy of a signal\n",
        "        signal must be a 1-D numpy array\n",
        "        '''\n",
        "        lensig=signal.size\n",
        "        symset=list(set(signal))\n",
        "        numsym=len(symset)\n",
        "        propab=[np.size(signal[signal==i])/(1.0*lensig) for i in symset]\n",
        "        ent=np.sum([p*np.log2(1.0/p) for p in propab])\n",
        "        return ent\n",
        "\n",
        "def seti_difference(arr, n=1, axis=0, **kwargs):\n",
        "    return np.diff(arr, n=n, axis=axis, **kwargs)\n",
        "\n",
        "def seti_projection(arr, axis=0, **kwargs):\n",
        "    return np.sum(arr, axis=axis, **kwargs)\n",
        "\n",
        "def seti_moment(arr, moment=1, axis=0, **kwargs):\n",
        "    return sp.moment(arr, moment=moment, axis=axis, **kwargs)\n",
        "\n",
        "def first_order_gradient(arr, axis=0):\n",
        "    grad_arr = seti_difference(arr, n=1, axis=axis)\n",
        "    return np.insert(grad_arr, grad_arr.shape[axis], 0, axis=axis)\n",
        "\n",
        "def seti_total_variation(arr):\n",
        "    return np.sum(np.abs(np.diff(arr, axis=0)), axis=0)\n",
        "\n",
        "def maximum_variation(arr):\n",
        "    return np.max(arr, axis=0) - np.min(arr, axis=0)\n",
        "\n",
        "def tv_2d_isotropic(grad_0_arr, grad_1_arr):\n",
        "    return np.sqrt(grad_0_arr**2 + grad_1_arr**2).sum()\n",
        "\n",
        "def seti_entropy(p, w):\n",
        "    if w is None:\n",
        "        w = np.ones(len(p))\n",
        "\n",
        "    h_p = np.sum([-x[0]*math.log(x[0]/x[1]) if x[0] else 0 for x in zip(p, w)])\n",
        "    h_max = math.log(np.sum(w))\n",
        "    return h_p, h_max\n",
        "\n",
        "def seti_asymmetry(spectrogram_L, spectrogram_R):\n",
        "    return (spectrogram_L - spectrogram_R) / (spectrogram_L + spectrogram_R)\n",
        "\n",
        "###############################################\n",
        "# parametric features based on the Spectrogram\n",
        "# concate with conv NN\n",
        "###############################################\n",
        "def feat_extract(arr):\n",
        "        stats_2D_names = ['std_time', 'std_freq', 'std_time_avg', 'std_freq_avg', 'nth_moment_kurt_time', 'nth_moment_kurt_freq',\n",
        "                          'nth_moment_skew_time', 'nth_moment_skew_freq', 'nth_moment_kurt_proj_time', 'nth_moment_kurt_proj_freq',\n",
        "                          'nth_moment_skew_proj_time','nth_moment_skew_proj_freq', 'tv_for_each_frequency', 'tv', 'fourth_mom',\n",
        "                          'variance','excess_kurtosis','p','h_p','h_max','h_normal','max_var_t','max_var_f']\n",
        "        data = arr          #\n",
        "\n",
        "        #Standard Deviation of the projection of the spectrogram onto the time and frequency axis.\n",
        "        std_time = math.sqrt(seti_moment( seti_projection(data, axis=1), moment=2))   #scalar\n",
        "        std_freq = math.sqrt(seti_moment( seti_projection(data, axis=0), moment=2))   #scalar\n",
        "\n",
        "        #Average Standard Deviation of the spectrogram along each slice of the time and frequency axis.\n",
        "        std_time_avg = np.mean(np.sqrt(seti_moment( data, axis=0, moment=2)))\n",
        "        std_freq_avg = np.mean(np.sqrt(seti_moment( data, axis=1, moment=2)))\n",
        "\n",
        "        #Average N-th moment of the spectrogram along each slice of the time and frequency axis.\n",
        "        N = 3 #kurtosis\n",
        "        nth_moment_kurt_time = np.mean( seti_moment( data, axis=0, moment=N))\n",
        "        nth_moment_kurt_freq = np.mean( seti_moment( data, axis=1, moment=N))\n",
        "\n",
        "        N = 4 #skewness\n",
        "        nth_moment_skew_time = np.mean( seti_moment( data, axis=0, moment=N))\n",
        "        nth_moment_skew_freq = np.mean( seti_moment( data, axis=1, moment=N))\n",
        "\n",
        "        #N-th moment of the projection of the spectrogram onto the time and frequency axis.\n",
        "        N = 3 #kurtosis\n",
        "        nth_moment_kurt_proj_time = seti_moment( seti_projection(data, axis=1), moment=N)\n",
        "        nth_moment_kurt_proj_freq = seti_moment( seti_projection(data, axis=0), moment=N)\n",
        "\n",
        "        N = 4 #skewness\n",
        "        nth_moment_skew_proj_time = seti_moment( seti_projection(data, axis=1), moment=N)\n",
        "        nth_moment_skew_proj_freq = seti_moment( seti_projection(data, axis=0), moment=N)\n",
        "\n",
        "        #Mean Total Variation (along the time axis) of the spectrogram.\n",
        "        tv_for_each_frequency = seti_total_variation(data)\n",
        "        tv = np.mean( tv_for_each_frequency )\n",
        "\n",
        "        #Excess Kurtosis\n",
        "        #Measures the non-guassianity of a distribution. Could be measure after projecting a spectrogram onto it's frequency-axis.\n",
        "        fourth_mom = seti_moment( seti_projection(data, axis=0), moment=4)\n",
        "        variance = seti_moment( seti_projection(data, axis=0), moment=2)\n",
        "        excess_kurtosis = fourth_mom/variance - 3\n",
        "\n",
        "        #Entropy (based on histogram of log of power)\n",
        "        # Computes the entropy for a discrete probability distribution function, as\n",
        "        # represented by a histogram, `p`, with bin sizes `w`,\n",
        "\n",
        "        #may set the range equal to the range of the values in the spectrogram\n",
        "        max_binning = int(data.max()) + 2  #add 1 to round up, and one to set the right bin edge.\n",
        "\n",
        "        bin_edges = range(0,501)\n",
        "        #bin_edges = range(0,max_binning)\n",
        "        # histogram represents an estimate of the probability distribution function of the observed power in the spectrogram.\n",
        "        p, _ = np.histogram(np.clip(data.flatten(), 0, max_binning), bins=bin_edges, density=True)\n",
        "        w = np.diff(bin_edges)\n",
        "        h_p, h_max = seti_entropy(p,w)\n",
        "        h_normal = h_p / h_max  #h_normal should range between 0 and 1.\n",
        "        # if `p` is a completely flat PDF (a uniform distribution), then\n",
        "        #the normalized entropy will equal 1, indicating maximum amount of disorder.\n",
        "        #(This is easily shown for the case where w_i = 1.)\n",
        "        #If the `p_i` is zero for all i except j and p_j = 1, then the entropy will be 0, indicating no disorder.\n",
        "        #For a completely flat distribution, there will only be one bin. If the\n",
        "        #data contains significant variation in power levels, the Bayesian Block method will produce morebins.\n",
        "        #print(np.shape(data), np.shape(h_normal))\n",
        "\n",
        "        #Mean First Difference (along the time axis) of the spectrogram.\n",
        "        #fd_mean_along_time = np.mean(first_diff_along_time, axis=0).mean()\n",
        "        #fd_mean_along_freq = np.mean(first_diff_along_freq, axis=1).mean()\n",
        "\n",
        "        #same as first_diff_along_time.mean() because each element of the array is the same size!\n",
        "        #the average of the averages is the same as the total average if the sets of averages all have the same cardinality\n",
        "\n",
        "        #N-th moment of the first difference\n",
        "        N = 2 #variation\n",
        "        N = 3 #kurtosis\n",
        "        N = 4 #skewness\n",
        "        #nth_moment_time = np.mean( moment( first_diff_along_time, axis=0, moment=N))\n",
        "        #nth_moment_freq = np.mean( moment( first_diff_along_freq, axis=1, moment=N))\n",
        "\n",
        "        #Maximum Variation\n",
        "        #This can be calculated for the spectrogram, or for the first-difference, or gradient, along the time- or frequency-axis.\n",
        "        max_var_t = np.max(seti_difference(data, axis=0), axis=0)   #241\n",
        "        max_var_f = np.max(seti_difference(data, axis=1), axis=1)   #129\n",
        "\n",
        "        #Asymmetry\n",
        "        #It may be useful to examine the asymmetry of the signal measured in the L and R polarization components. The asymmetry is defined as\n",
        "        #spect_L = arr[0,]\n",
        "        #spect_R = arr[1,]\n",
        "        #A = (spect_L - spect_R) / (spect_L + spect_R)\n",
        "\n",
        "        #Summation of Polarities\n",
        "        #It may be useful to examine the full signal in both polarities by summing them together\n",
        "        #S = spect_L + spect_R\n",
        "        values = [len(stats_2D_names)]\n",
        "        values.append(std_time)\n",
        "        values.append(std_freq)\n",
        "        values.append(std_time_avg)\n",
        "        values.append(std_freq_avg)\n",
        "        values.append(nth_moment_kurt_time)\n",
        "        values.append(nth_moment_kurt_freq)\n",
        "        values.append(nth_moment_skew_time)\n",
        "        values.append(nth_moment_skew_freq)\n",
        "        values.append(nth_moment_kurt_proj_time)\n",
        "        values.append(nth_moment_kurt_proj_freq)\n",
        "        values.append(nth_moment_skew_proj_time)\n",
        "        values.append(nth_moment_skew_proj_freq)\n",
        "        values.append(tv_for_each_frequency)\n",
        "        values.append(tv)\n",
        "        values.append(fourth_mom)\n",
        "        values.append(variance)\n",
        "        values.append(excess_kurtosis)\n",
        "        values.append(p)\n",
        "        values.append(h_p)\n",
        "        values.append(h_max)\n",
        "        values.append(h_normal)\n",
        "        values.append(max_var_t)\n",
        "        values.append(max_var_f)\n",
        "\n",
        "        return values, stats_2D_names"
      ],
      "metadata": {
        "trusted": true,
        "id": "LwJorDCBIRzS"
      },
      "execution_count": null,
      "outputs": []
    },
    {
      "cell_type": "code",
      "source": [
        "def percentiles_all(x, iqr=True, amplitude=True, percentiles_list=[5, 10, 25, 40, 50, 60, 75, 90, 95]):\n",
        "    names = ['p_' + str(p) for p in percentiles_list]\n",
        "    if iqr and 25 in percentiles_list and 75 in percentiles_list:\n",
        "        names.append('iqr')\n",
        "    if amplitude and 1 in percentiles_list and 99 in percentiles_list:\n",
        "        names.append('perc_amp')\n",
        "    if len(x) == 0:\n",
        "        values = [0 for i in range(len(names))]\n",
        "        return values, names\n",
        "    if len(percentiles_list) > 0 and all([0 < q < 100 for q in percentiles_list]):\n",
        "        values = list(np.percentile(x, percentiles_list))\n",
        "    else:\n",
        "        values = []\n",
        "    if iqr:\n",
        "        q1 = percentiles_list.index(25)\n",
        "        q3 = percentiles_list.index(75)\n",
        "        values.append(values[q3] - values[q1])\n",
        "    if amplitude and 1 in percentiles_list and 99 in percentiles_list:\n",
        "        q1 = percentiles_list.index(1)\n",
        "        q3 = percentiles_list.index(99)\n",
        "        values.append(values[q3] - values[q1])\n",
        "    return values, names\n",
        "\n",
        "\n",
        "def stats_calculate_all(x):\n",
        "    stats_all_names = ['len', 'min', 'max', 'range', 'mean', 'hmean', 'gmean', 'var', 'std', 'skew', 'kurtosis',\n",
        "                       'median', 'mode', 'energy', 'energy_sample', 'snr']\n",
        "\n",
        "    xnp = np.array(x)\n",
        "    n = len(x)\n",
        "    if n == 0:\n",
        "        values = [0 for i in range(len(stats_all_names))]\n",
        "        return values, stats_all_names\n",
        "    values = [n]\n",
        "    vmin = float(min(xnp))\n",
        "    if vmin < 1:\n",
        "        offset = 1 + abs(vmin)\n",
        "    else:\n",
        "        offset = 0\n",
        "    vmax = float(max(xnp))\n",
        "    vrange = vmax - vmin\n",
        "    vmean = float(np.mean(xnp))\n",
        "    vstd = float(np.std(xnp))\n",
        "    venergy = float(sum(np.array(xnp) ** 2))\n",
        "    venergy_sample = venergy / n\n",
        "    snr = 0.0\n",
        "    if vstd != 0:\n",
        "        snr = vmean / vstd\n",
        "    values.append(vmin)\n",
        "    values.append(vmax)\n",
        "    values.append(vrange)\n",
        "    values.append(vmean)\n",
        "    values.append(float(sp.hmean(xnp + offset)))\n",
        "    values.append(float(sp.gmean(xnp + offset)))\n",
        "    values.append(vstd ** 2)\n",
        "    values.append(vstd)\n",
        "    values.append(sp.skew(xnp))\n",
        "    values.append(sp.kurtosis(xnp))\n",
        "    values.append(np.median(xnp))\n",
        "\n",
        "    vmode = sp.mode(xnp)\n",
        "    vmode = float(vmode[0][0])\n",
        "    values.append(vmode)\n",
        "    values.append(venergy)\n",
        "    values.append(venergy_sample)\n",
        "    values.append(snr)\n",
        "    return values, stats_all_names"
      ],
      "metadata": {
        "trusted": true,
        "id": "B-2YPNW0IRzS"
      },
      "execution_count": null,
      "outputs": []
    },
    {
      "cell_type": "markdown",
      "source": [
        "13a. Spectrogram Feature Extraction"
      ],
      "metadata": {
        "id": "GSh-_PtzIRzS"
      }
    },
    {
      "cell_type": "code",
      "source": [
        "H1_feat_2D, stats_2D_names = feat_extract(spec_H1) #129x241\n",
        "L1_feat_2D, stats_2D_names = feat_extract(spec_L1) #129x241\n",
        "V1_feat_2D, stats_2D_names = feat_extract(spec_V1) #129x241"
      ],
      "metadata": {
        "trusted": true,
        "id": "7cRYbbikIRzS"
      },
      "execution_count": null,
      "outputs": []
    },
    {
      "cell_type": "code",
      "source": [
        "max_binning = int(spec_H1.max()) + 2\n",
        "#bin_edges = range(0,max_binning)\n",
        "bin_edges = range(0,501)\n",
        "p, _ = np.histogram(np.clip(spec_H1.flatten(), 0, max_binning), bins=bin_edges, density=True)\n",
        "#w = np.diff(bin_edges)\n",
        "#h_p, h_max = seti_entropy(p,w)\n",
        "#h_normal = h_p / h_max"
      ],
      "metadata": {
        "trusted": true,
        "id": "PLwg9xV4IRzS"
      },
      "execution_count": null,
      "outputs": []
    },
    {
      "cell_type": "code",
      "source": [
        "plt.plot(spec_H1.flatten()),"
      ],
      "metadata": {
        "trusted": true,
        "id": "sUznsYp8IRzS"
      },
      "execution_count": null,
      "outputs": []
    },
    {
      "cell_type": "code",
      "source": [
        "plt.plot(p)"
      ],
      "metadata": {
        "trusted": true,
        "id": "qoERIUaMIRzT"
      },
      "execution_count": null,
      "outputs": []
    },
    {
      "cell_type": "code",
      "source": [
        "#entrp = entropy(spec_H1.flatten())\n",
        "#entrp"
      ],
      "metadata": {
        "trusted": true,
        "id": "CR_rKTxvIRzT"
      },
      "execution_count": null,
      "outputs": []
    },
    {
      "cell_type": "markdown",
      "source": [
        "13b. Time-domain(1D) Feature Extraction"
      ],
      "metadata": {
        "id": "4r8NIfPKIRzT"
      }
    },
    {
      "cell_type": "code",
      "source": [
        "values_perc_h, names_perc_h = percentiles_all(strain_h_filtered)\n",
        "values_perc_l, names_perc_l = percentiles_all(strain_l_filtered)\n",
        "values_perc_v, names_perc_v = percentiles_all(strain_v_filtered)"
      ],
      "metadata": {
        "trusted": true,
        "id": "ebjBH5nFIRzT"
      },
      "execution_count": null,
      "outputs": []
    },
    {
      "cell_type": "code",
      "source": [
        "values_stats_h, stats_all_names_h = stats_calculate_all(strain_h_filtered)\n",
        "values_stats_l, stats_all_names_l = stats_calculate_all(strain_l_filtered)\n",
        "values_stats_v, stats_all_names_v = stats_calculate_all(strain_v_filtered)"
      ],
      "metadata": {
        "trusted": true,
        "id": "bm-ViM1pIRzT"
      },
      "execution_count": null,
      "outputs": []
    },
    {
      "cell_type": "markdown",
      "source": [
        "**14. Summary:**\n",
        "\n",
        "This is the summary of id=098a464da9, the merger dominant freq is 34Hz, the delay between L1 and V1 peaks is about 23.9ms[33-35].  GW emission peaks at this phase. Ringdown lasts about 16.6ms.  Ringdown creates a transient which produces white noise.  I did two additional runs, one with high_cut_alias set to 400Hz to remove the high freq signal.  The other runs by setting low_cut_alias to 300Hz to remove the low freq signal. Additional runs are not shown in the plots.\n",
        "\n",
        "Whitening function[41]:\n",
        "- I found that DC and Nyquist are non-zero, I brute-force them to zero. IFFT with non-zero Nyquist’s  bin will result in DC spikes in time-domain signal.\n",
        "\n",
        "The time-domain whiten signal[44] before BPF_strain:\n",
        "- Is symmetrical about its center.  \n",
        "- It looks like a damped sinusoidal wave.\n",
        "- High_cut_alias(400Hz). The whiten signal has impulses at 500 samples intervals, which is 4Hz.  First impulse has the highest strain, then gradually reduces on the sub-sequence impulses. It reaches the minimum at sample 2048, then gradually increases its strain again on the sub-sequence impulses.\n",
        "- Low_cut_alias(300Hz). The whiten signal has high freq bursts of 4Hz period with 90% duty cycle.\n",
        "- It could be that there are two noise sources at 4Hz.\n",
        "\n",
        "The freq-domain whiten signal before BPF_strain:\n",
        "- There are 2 versions of this, one in whitening function[41] which has freq resolution of 0.5Hz and spectrogram version[49, 51] that projects onto freq-domain which has freq resolution of 8Hz.\n",
        "- Searching for signal freq that is close to Nyquist found H1(1000Hz), L1(952Hz), V1(944Hz) and by calculation, corresponding aliases at H1(24Hz), L1(72Hz), V1(80Hz) respectively.\n",
        "- High_cut_alias(400Hz). To prove aliasing, filtered-out high freq signal, then there shouldn’t be any low freq peaks at H1(24Hz), L1(72Hz), V1(80Hz).  If there exists a high peak, then it’s noise sources.\n",
        "- Low_cut_alias(300Hz).  In both cases, there are no differences, they all have high peaks below 80Hz, similar characteristics in [48]. I could not draw any aliasing conclusion based on these observations. I think I’ve probed at the wrong place, should have probed before whitening.  \n",
        "\n",
        "The whiten signal after BPF_strain:\n",
        "- without removing background noise, time-domain(proj_H1/L1/V1_bp_t, data only)[57], spectrogram[56], and freq-domain[57] plots.\n",
        "- with removing background noise, time-domain[69], spectrogram[65], and freq-domain[66] plots.\n",
        "- Overlaid time[57,69]/freq[57,69] domain plot[71].\n",
        "- The frequencies that are common to the background noise, their strains were either reduced or increased. Is it good or bad? I can’t really tell.\n",
        "\n",
        "Based on [66,68] plots, my guess is GW at 34Hz(dominant) and 1000Hz(weak). The two additional runs, all 4Hz pulses are synchronized in H1,L1, and V1. Same observations in spectrogram projection onto time-domain, 4Hz are aligned.  These led me to believe it’s a pulsar.\n",
        "\n"
      ],
      "metadata": {
        "id": "Jzm1ggG3IRzT"
      }
    }
  ]
}