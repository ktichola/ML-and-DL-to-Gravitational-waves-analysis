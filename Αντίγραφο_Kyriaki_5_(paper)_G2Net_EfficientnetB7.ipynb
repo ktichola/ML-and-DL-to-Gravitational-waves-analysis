{
  "metadata": {
    "kernelspec": {
      "language": "python",
      "display_name": "Python 3",
      "name": "python3"
    },
    "language_info": {
      "name": "python",
      "version": "3.7.10",
      "mimetype": "text/x-python",
      "codemirror_mode": {
        "name": "ipython",
        "version": 3
      },
      "pygments_lexer": "ipython3",
      "nbconvert_exporter": "python",
      "file_extension": ".py"
    },
    "kaggle": {
      "accelerator": "gpu",
      "dataSources": [
        {
          "sourceId": 23249,
          "databundleVersionId": 2399555,
          "sourceType": "competition"
        },
        {
          "sourceId": 2386402,
          "sourceType": "datasetVersion",
          "datasetId": 1442546
        },
        {
          "sourceId": 2386550,
          "sourceType": "datasetVersion",
          "datasetId": 1442642
        },
        {
          "sourceId": 2660070,
          "sourceType": "datasetVersion",
          "datasetId": 686792
        },
        {
          "sourceId": 90252869,
          "sourceType": "kernelVersion"
        }
      ],
      "dockerImageVersionId": 30097,
      "isInternetEnabled": true,
      "language": "python",
      "sourceType": "notebook",
      "isGpuEnabled": true
    },
    "colab": {
      "provenance": [],
      "include_colab_link": true
    }
  },
  "nbformat_minor": 0,
  "nbformat": 4,
  "cells": [
    {
      "cell_type": "markdown",
      "metadata": {
        "id": "view-in-github",
        "colab_type": "text"
      },
      "source": [
        "<a href=\"https://colab.research.google.com/github/ktichola/ML-and-DL-to-Gravitational-waves-analysis/blob/main/%CE%91%CE%BD%CF%84%CE%AF%CE%B3%CF%81%CE%B1%CF%86%CE%BF_Kyriaki_5_(paper)_G2Net_EfficientnetB7.ipynb\" target=\"_parent\"><img src=\"https://colab.research.google.com/assets/colab-badge.svg\" alt=\"Open In Colab\"/></a>"
      ]
    },
    {
      "source": [
        "\n",
        "# IMPORTANT: RUN THIS CELL IN ORDER TO IMPORT YOUR KAGGLE DATA SOURCES\n",
        "# TO THE CORRECT LOCATION (/kaggle/input) IN YOUR NOTEBOOK,\n",
        "# THEN FEEL FREE TO DELETE THIS CELL.\n",
        "# NOTE: THIS NOTEBOOK ENVIRONMENT DIFFERS FROM KAGGLE'S PYTHON\n",
        "# ENVIRONMENT SO THERE MAY BE MISSING LIBRARIES USED BY YOUR\n",
        "# NOTEBOOK.\n",
        "\n",
        "import os\n",
        "import sys\n",
        "from tempfile import NamedTemporaryFile\n",
        "from urllib.request import urlopen\n",
        "from urllib.parse import unquote, urlparse\n",
        "from urllib.error import HTTPError\n",
        "from zipfile import ZipFile\n",
        "import tarfile\n",
        "import shutil\n",
        "\n",
        "CHUNK_SIZE = 40960\n",
        "DATA_SOURCE_MAPPING = 'g2net-gravitational-wave-detection:https%3A%2F%2Fstorage.googleapis.com%2Fkaggle-competitions-data%2Fkaggle-v2%2F23249%2F2399555%2Fbundle%2Farchive.zip%3FX-Goog-Algorithm%3DGOOG4-RSA-SHA256%26X-Goog-Credential%3Dgcp-kaggle-com%2540kaggle-161607.iam.gserviceaccount.com%252F20240505%252Fauto%252Fstorage%252Fgoog4_request%26X-Goog-Date%3D20240505T140059Z%26X-Goog-Expires%3D259200%26X-Goog-SignedHeaders%3Dhost%26X-Goog-Signature%3D3f070cca9f821bc1b07a648298dd066723b6d03ecc7b3c2a2835a862d4777132197e42f03afef94514ce67beeb7fc994fca2654603d04dbf7abe9875e319afae353790e3e6d28b6751df3ea7c5afad8668e424092f68cf427f276af525764dc7de039342cd52364904c215d42d605b638cb6ac131c7d4bee14cb9288661fb6ed53f972331bb9575e1b2a12fe1c29a44beb2e2991c91b9e4b001660255ac2d4c71df868b5d1042f096f80ab8230d82ad0297424bbdc1a0fa7e99f8485d1b59ca0368d6e0101ae78771616c6b147f79cdd5fd23b888df2f6c50f5495a87408d70f0362f914994fcd02adafe69a22f7e18094290e3e4ac6da71933a37ccd979de2d,g2net-n-mels-128-test-images:https%3A%2F%2Fstorage.googleapis.com%2Fkaggle-data-sets%2F1442546%2F2386402%2Fbundle%2Farchive.zip%3FX-Goog-Algorithm%3DGOOG4-RSA-SHA256%26X-Goog-Credential%3Dgcp-kaggle-com%2540kaggle-161607.iam.gserviceaccount.com%252F20240505%252Fauto%252Fstorage%252Fgoog4_request%26X-Goog-Date%3D20240505T140059Z%26X-Goog-Expires%3D259200%26X-Goog-SignedHeaders%3Dhost%26X-Goog-Signature%3D62866705b9f27679fdcb7a284988a8d8554c7161c9f2be58c0cda9cbdabe0cb4b88b1730bcad14a829e1f7a7aa6916bb07154baa0951be4b2732363b42cb1bb85d47c28590a16a365124ff7ddeaa99db0f840fca020e10b45ad5e0ed27ee9edd41ffc6e09920507747ef9869598a33e063e578f960b0f88d9008c8a61ca7bcabe7f5d5d204699cd91728f9752a9bf5e724f30bbec82a9a2cc99e25ac2b1b65524e4cfa7a03b441cee33340d81cda80f01afa64d702c5a9da87ae3d41d5fdfa97982ae83c8bc4aac1e083c5744799f9ce52f6278ec164602af7f118a4c94c850ae60d0fcae92f02b44d9121077098bda2df81dfa6a63896b520eb70f07fb82193,g2net-n-mels-128-train-images:https%3A%2F%2Fstorage.googleapis.com%2Fkaggle-data-sets%2F1442642%2F2386550%2Fbundle%2Farchive.zip%3FX-Goog-Algorithm%3DGOOG4-RSA-SHA256%26X-Goog-Credential%3Dgcp-kaggle-com%2540kaggle-161607.iam.gserviceaccount.com%252F20240505%252Fauto%252Fstorage%252Fgoog4_request%26X-Goog-Date%3D20240505T140059Z%26X-Goog-Expires%3D259200%26X-Goog-SignedHeaders%3Dhost%26X-Goog-Signature%3D5481c279e9163f029fd66f2f123d4a4b8e8737fa896f8cdfa86e66ba4419bd49cd1e66fa84cd1b53f7fe44b461e3c5bd1aa5c6b5489bc3779f41ea11ff446c442e607166ba5f29869f40c67b176877d0490ed6d7f07b0fff797be9eeb283147bd6b27c2195c24bf3b5b8e45a86b5e86e0970007aa51cd80e9fca58bf6d9b301e22fa43e097011f4eacba949c35e48eaed8aa5a4c387c7732766352854b28ff7d2150e7bbbb94b96ee22063337054398da76694dca07d970c355784e6c03abb81d08598ec58d815523e7835d62b16db38f79c4582c129037e20df3a270443f912f2709ff4b2a742a508355b617dc10e254575f155ae3138b42570158429308737,pytorch-image-models:https%3A%2F%2Fstorage.googleapis.com%2Fkaggle-data-sets%2F686792%2F2660070%2Fbundle%2Farchive.zip%3FX-Goog-Algorithm%3DGOOG4-RSA-SHA256%26X-Goog-Credential%3Dgcp-kaggle-com%2540kaggle-161607.iam.gserviceaccount.com%252F20240505%252Fauto%252Fstorage%252Fgoog4_request%26X-Goog-Date%3D20240505T140100Z%26X-Goog-Expires%3D259200%26X-Goog-SignedHeaders%3Dhost%26X-Goog-Signature%3Da235940204e01c451a6127e6f671eff9700db14d0d3252c1877e362ca5d985303a2297b365ba0285719cbadc34d9d4fbcf3f2a301c9243f1a6f6444a474091de2608bbaa0d4e1d128cb1c7021d48651c7c7b30314fbf6c1a946f204a2b57dcd9a6c70a92bdb5b223fb55d1a4dc2688f3ef9322a87a15ddd837f4ec8ffc46778c2990cd6e6da0b5b49281126a65263d4033f286c5571c77b4a0ebf933deb8bb2786748539660ab4dfb634efbaf5918ca85fd0519159f4dd9e961a3a9140cc39b5e517cfd464735429095fa2e79b9b132f4023d9aff47b6e6e4f1a7d0295780f744fc68075a8ea84aa04717a85913b47ad8853cceb0d98067e0b5ee37cbcf1ef4a'\n",
        "\n",
        "KAGGLE_INPUT_PATH='/kaggle/input'\n",
        "KAGGLE_WORKING_PATH='/kaggle/working'\n",
        "KAGGLE_SYMLINK='kaggle'\n",
        "\n",
        "!umount /kaggle/input/ 2> /dev/null\n",
        "shutil.rmtree('/kaggle/input', ignore_errors=True)\n",
        "os.makedirs(KAGGLE_INPUT_PATH, 0o777, exist_ok=True)\n",
        "os.makedirs(KAGGLE_WORKING_PATH, 0o777, exist_ok=True)\n",
        "\n",
        "try:\n",
        "  os.symlink(KAGGLE_INPUT_PATH, os.path.join(\"..\", 'input'), target_is_directory=True)\n",
        "except FileExistsError:\n",
        "  pass\n",
        "try:\n",
        "  os.symlink(KAGGLE_WORKING_PATH, os.path.join(\"..\", 'working'), target_is_directory=True)\n",
        "except FileExistsError:\n",
        "  pass\n",
        "\n",
        "for data_source_mapping in DATA_SOURCE_MAPPING.split(','):\n",
        "    directory, download_url_encoded = data_source_mapping.split(':')\n",
        "    download_url = unquote(download_url_encoded)\n",
        "    filename = urlparse(download_url).path\n",
        "    destination_path = os.path.join(KAGGLE_INPUT_PATH, directory)\n",
        "    try:\n",
        "        with urlopen(download_url) as fileres, NamedTemporaryFile() as tfile:\n",
        "            total_length = fileres.headers['content-length']\n",
        "            print(f'Downloading {directory}, {total_length} bytes compressed')\n",
        "            dl = 0\n",
        "            data = fileres.read(CHUNK_SIZE)\n",
        "            while len(data) > 0:\n",
        "                dl += len(data)\n",
        "                tfile.write(data)\n",
        "                done = int(50 * dl / int(total_length))\n",
        "                sys.stdout.write(f\"\\r[{'=' * done}{' ' * (50-done)}] {dl} bytes downloaded\")\n",
        "                sys.stdout.flush()\n",
        "                data = fileres.read(CHUNK_SIZE)\n",
        "            if filename.endswith('.zip'):\n",
        "              with ZipFile(tfile) as zfile:\n",
        "                zfile.extractall(destination_path)\n",
        "            else:\n",
        "              with tarfile.open(tfile.name) as tarfile:\n",
        "                tarfile.extractall(destination_path)\n",
        "            print(f'\\nDownloaded and uncompressed: {directory}')\n",
        "    except HTTPError as e:\n",
        "        print(f'Failed to load (likely expired) {download_url} to path {destination_path}')\n",
        "        continue\n",
        "    except OSError as e:\n",
        "        print(f'Failed to load {download_url} to path {destination_path}')\n",
        "        continue\n",
        "\n",
        "print('Data source import complete.')\n"
      ],
      "metadata": {
        "id": "9O7G9snrDuKD"
      },
      "cell_type": "code",
      "outputs": [],
      "execution_count": null
    },
    {
      "cell_type": "markdown",
      "source": [
        "# About this notebook\n",
        "- PyTorch tf_efficientnet_b7_ns starter code\n",
        "- StratifiedKFold 5 folds\n",
        "- Inference notebook is [here](https://www.kaggle.com/yasufuminakama/g2net-efficientnet-b7-baseline-inference)\n",
        "- Spectrogram generation code\n",
        "    - https://www.kaggle.com/yasufuminakama/g2net-n-mels-128-train-images is generated by https://www.kaggle.com/yasufuminakama/g2net-spectrogram-generation-train\n",
        "    - https://www.kaggle.com/yasufuminakama/g2net-n-mels-128-test-images is generated by https://www.kaggle.com/yasufuminakama/g2net-spectrogram-generation-test\n",
        "- version 2: melspectrogram approach using above dataset\n",
        "- version 3: nnAudio Q-transform approach\n",
        "    - Here is nnAudio Constant Q-transform Demonstration  \n",
        "        - https://www.kaggle.com/atamazian/nnaudio-constant-q-transform-demonstration\n",
        "        - https://www.kaggle.com/c/g2net-gravitational-wave-detection/discussion/250621\n",
        "    - Thanks for sharing @atamazian  \n",
        "- version 4: tf_efficientnet_b0_ns -> tf_efficientnet_b7_ns\n",
        "- version 6: W&B and Grad-CAM\n",
        "    - Pytorch W&B Usage Examples from https://docs.wandb.ai/guides/integrations/pytorch\n",
        "\n",
        "If this notebook is helpful, feel free to upvote :)"
      ],
      "metadata": {
        "papermill": {
          "duration": 0.018345,
          "end_time": "2021-07-01T14:31:32.640858",
          "exception": false,
          "start_time": "2021-07-01T14:31:32.622513",
          "status": "completed"
        },
        "tags": [],
        "id": "4gZQugxYDuKE"
      }
    },
    {
      "cell_type": "markdown",
      "source": [
        "Black holes are astronomical objects with such a strong gravitational force that nothing, not even light, can escape from them. They are formed when very massive stars collapse at the end of their lives, releasing a tremendous amount of energy in the form of supernova explosions. Black holes can have different sizes, ranging from a few times the mass of the Sun to billions of times that. Supermassive black holes are believed to exist at the center of most galaxies, including our own.\n",
        "\n",
        "Gravitational waves are disturbances in spacetime that occur when massive objects accelerate or change shape. These waves propagate at the speed of light and slightly alter the distances between points in space. One of the most powerful sources of gravitational waves is binary black holes, which are pairs of black holes orbiting each other and eventually merging into a single one. These events release an enormous amount of energy in the form of gravitational waves that can be detected by sensitive instruments on Earth or in space.\n",
        "\n",
        "Gravitational waves were predicted by Albert Einstein in his general theory of relativity in 1916, but they were not directly observed until 2015 when the Laser Interferometer Gravitational-Wave Observatory (LIGO) detected the signal produced by the merger of two stellar-mass black holes about 1.3 billion light-years away. Since then, dozens of similar events have been detected, as well as others produced by the merger of neutron stars or intermediate-mass black holes.\n",
        "\n",
        "The problem we aim to solve in this work is detecting gravitational wave signals produced by the merger of binary black holes using simulated data from a network of ground-based detectors. This problem is part of a Kaggle competition organized by G2Net, a network of scientists from different disciplines seeking to address the challenges of data analysis and noise characterization for gravitational wave detectors.\n",
        "\n",
        "Detecting these signals is a crucial mission for the new science of gravitational wave astronomy as it allows studying a new population of massive black holes, unraveling the mysteries of neutron star mergers, and measuring the expansion of the universe. However, the signals are very weak and buried in detector noise, making their identification and extraction challenging. For this reason, advanced techniques in data science, machine learning, deep learning, classification, data mining, and visualization are required to handle the complex and massive datasets generated by the detectors.\n",
        "\n",
        "Our goal is to build a model that can analyze time-series data and classify them as containing or not containing a gravitational wave signal. To achieve this, we will use a novel approach that involves expanding the dimensions of the data to represent them in a spectrogram and then utilizing a pretrained neural network model called EfficientNet to train and evaluate our classifier. With this method, we hope to achieve higher accuracy and sensitivity than existing models while contributing to the advancement of knowledge and collaboration between physics and computer science.\n",
        "\n",
        "Background\n",
        "The data used in this work comes from a simulation of gravitational wave measurements made by a network of three gravitational wave interferometers (LIGO Hanford, LIGO Livingston, and Virgo). Each data point (npy file) contains three time series (one for each detector) spanning 2 seconds and sampled at 2,048 Hz. Each time series either contains detector noise or detector noise plus a simulated gravitational wave signal. The task is to identify when a signal is present in the data.\n",
        "\n",
        "The simulated signals correspond to gravitational waves produced by the merger of binary black holes and depend on 15 parameters that determine the exact shape of the waveform. These parameters include the masses, sky location, distance, spins of the black holes, binary orientation angle, gravitational wave polarization, arrival time, and phase at coalescence. These parameters have been randomly generated according to astrophysically motivated prior distributions but are not provided as part of the competition data.\n",
        "\n",
        "The signal-to-noise ratio (SNR) is classically the most informative measure of how detectable a signal is, and a typical level of detectability is when this integrated SNR exceeds ~8. This should not be confused with instantaneous SNR, which is the factor by which the signal rises above the noise, and in almost all cases (unlike the first detection of gravitational waves GW150914), these signals are not visible to the naked eye in the time series.\n",
        "\n",
        "\n",
        "To analyze this data, prior preprocessing is required to improve its quality and usefulness for the knowledge extraction phase. Data preprocessing is a crucial step in the data mining process, which includes tasks such as cleaning, integration, transformation, and reduction of the data.\n",
        "\n",
        "In our case, preprocessing consists of two main steps: whitening and filtering. Whitening is a technique that eliminates correlations between the frequencies of the time series, making them have unit variance and zero mean. This helps to highlight the signal’s characteristics and reduce noise. Filtering is a technique that removes frequencies outside a specified range, allowing only those within the range to pass through. This helps eliminate low and high-frequency noise and focuses on the frequency range of interest for gravitational wave signals.\n",
        "\n",
        "After preprocessing, dimensionality augmentation is performed using the Constant Q-Transform. This technique transforms the time series into spectrograms, which are visual representations of frequency intensity over time. The Constant Q-Transform has the advantage of variable frequency resolution, allowing better capture of fast and slow changes in the signals. The spectrograms can be treated as RGB images, where each channel corresponds to one of the detectors. These images can be used as input for a classification model based on convolutional neural networks.\n",
        "\n",
        "\n",
        "EfficientNet\n",
        "EfficientNet is a convolutional neural network model that was introduced in 2019 by a team of researchers from Google. Its purpose is to achieve high accuracy in image classification with lower computational cost and a smaller number of parameters.\n",
        "\n",
        "EfficientNet is based on the concept of compound scaling, which involves scaling the depth, width, and resolution of the network in a coordinated manner, according to a fixed factor. This approach achieves a better balance between network capacity and efficiency.\n",
        "\n",
        "\n",
        "EfficientNet consists of a family of models, ranging from B0 to B7, which have different levels of complexity and performance. The B0 model was obtained through an automated architecture search (NAS), and the other models were derived from B0 through compound scaling.\n",
        "\n",
        "\n",
        "EfficientNet has demonstrated outstanding results in various computer vision tasks, surpassing larger and more complex models. In our case, we will use EfficientNet as a pretrained model to classify the spectrograms generated from the G2Net data in order to detect gravitational wave signals.\n",
        "\n",
        "Method\n",
        "The model we use for classifying spectrograms is a sequential model, which is a type of neural network that has a single input and a single output, composed of a series of stacked layers. The input size is (80, 80, 3), corresponding to the height, width, and number of channels of the RGB images.\n",
        "\n",
        "The sequential model consists of the following layers:\n",
        "\n",
        "A 2D convolutional layer with 3 filters of size 3x3, which applies a filtering operation on the image to extract features. The activation function used is ReLU, which returns the maximum of zero and the input value. ReLU is a commonly used activation function in this type of problem as it introduces non-linearity and helps alleviate the vanishing gradient problem.\n",
        "An EfficientNetB0 layer, which is a pretrained convolutional neural network model based on the concept of compound scaling. This layer extracts more complex and abstract features from the image, leveraging knowledge gained from training on a large dataset of generic images. The layer does not include the final part of the original model (include_top=False) as we want to adapt it to our specific problem.\n",
        "A global average pooling layer (GlobalAveragePooling2D), which reduces the dimensionality of the output from the previous layer by computing the average across each channel. This layer helps to reduce the number of parameters and the risk of overfitting.\n",
        "A dense layer with 32 units and ReLU activation function, which applies a linear transformation followed by a ReLU function on the input. This layer serves as a hidden layer that learns a more compact and relevant representation for classification.\n",
        "A dense layer with one unit and sigmoid activation function, which applies a linear transformation followed by a sigmoid function on the input. This layer serves as the output layer of the model, generating a probability between 0 and 1 indicating whether the image contains a gravitational wave signal or not.\n",
        "To compile and train the model, we use the following parameters:\n",
        "\n",
        "The optimizer is Adam with a learning rate of 0.01. The optimizer is the algorithm responsible for updating the model’s weights to minimize the loss. Adam is an optimizer based on stochastic gradient descent, which adapts the learning rate based on the moment and magnitude of the gradient. The learning rate is the step size taken in each iteration to follow the gradient direction.\n",
        "The loss is binary cross-entropy, which measures the error between the predicted probability from the model and the true label (0 or 1). Binary cross-entropy is a suitable loss function for binary classification problems as it penalizes erroneous predictions more and correct predictions less.\n",
        "The metric is the area under the ROC curve (AUC), which measures the model’s performance in terms of its ability to discriminate between positive and negative classes. AUC is a value between 0 and 1, where 1 signifies a perfect classification and 0.5 signifies random classification. AUC is a robust metric against class imbalances and decision thresholds.\n",
        "\n",
        "In this study, we addressed the challenge of detecting gravitational wave signals produced by the merger of binary black holes using simulated data from a network of ground-based detectors. We employed a convolutional neural network model called EfficientNet, which proved to be a key tool for signal detection.\n",
        "\n",
        "The innovative approach used in this study involved expanding the dimensions of the data to represent them as spectrograms, allowing for a better understanding of the characteristics of gravitational wave signals. These spectrograms were used as input for the convolutional neural network model, which was trained and evaluated using RGB images generated from the spectrograms.\n",
        "\n",
        "The model demonstrated satisfactory accuracy with an area under the ROC curve (AUC) of 0.87, showcasing the effectiveness of the proposed approach and its potential to contribute to the advancement of the new science of gravitational wave astronomy. This result is highly promising and holds great hope for the detection of gravitational wave signals in the future.\n",
        "\n",
        "The detection of these signals is crucial for gravitational wave astronomy as it provides insights into a new population of massive black holes, the study of neutron star mergers, and the measurement of the expansion of the universe. However, these signals are very weak and buried in detector noise, making their identification and extraction challenging. Hence, the importance of employing advanced techniques in data science, machine learning, and deep learning to handle the complex and massive datasets generated by the detectors.\n",
        "\n",
        "In this context, the utilization of a convolutional neural network model like EfficientNet, coupled with the representation of gravitational wave signals as spectrograms, presents a promising alternative to enhance the accuracy of signal detection. This approach can advance the study of gravitational waves, allowing us to obtain valuable information about the universe and its mysteries. In summary, this study represents a valuable contribution to the advancement of science and technology in the detection of gravitational wave signals.\n",
        "\n",
        "https://medium.com/@ayrgthon223/how-to-detect-gravitational-waves-with-efficientnetb7-db398e730b1b"
      ],
      "metadata": {
        "id": "De-b2CsiDuKG"
      }
    },
    {
      "cell_type": "code",
      "source": [
        "import IPython.display\n",
        "IPython.display.YouTubeVideo('hhbMpe17fzA', width=800, height=500)"
      ],
      "metadata": {
        "_kg_hide-input": true,
        "execution": {
          "iopub.status.busy": "2024-05-05T14:00:03.790706Z",
          "iopub.execute_input": "2024-05-05T14:00:03.791126Z",
          "iopub.status.idle": "2024-05-05T14:00:03.84451Z",
          "shell.execute_reply.started": "2024-05-05T14:00:03.79101Z",
          "shell.execute_reply": "2024-05-05T14:00:03.843652Z"
        },
        "trusted": true,
        "id": "CdIs0tnzDuKG",
        "outputId": "9ce6f3b6-e84d-4ce6-933a-5b41c7d810ec"
      },
      "execution_count": null,
      "outputs": [
        {
          "execution_count": 1,
          "output_type": "execute_result",
          "data": {
            "text/plain": "<IPython.lib.display.YouTubeVideo at 0x7889a5742210>",
            "text/html": "\n        <iframe\n            width=\"800\"\n            height=\"500\"\n            src=\"https://www.youtube.com/embed/hhbMpe17fzA\"\n            frameborder=\"0\"\n            allowfullscreen\n        ></iframe>\n        ",
            "image/jpeg": "[encoded data removed]"
          },
          "metadata": {}
        }
      ]
    },
    {
      "cell_type": "code",
      "source": [
        "!pip install -q nnAudio\n",
        "!pip install -q --upgrade wandb\n",
        "!pip install -q grad-cam\n",
        "!pip install -q ttach"
      ],
      "metadata": {
        "_kg_hide-input": true,
        "_kg_hide-output": true,
        "execution": {
          "iopub.status.busy": "2024-05-05T14:00:03.845757Z",
          "iopub.execute_input": "2024-05-05T14:00:03.846021Z"
        },
        "trusted": true,
        "id": "X3lpz-F3DuKH",
        "outputId": "84678457-b3ba-4f93-9659-6c2a25534e54"
      },
      "execution_count": null,
      "outputs": [
        {
          "name": "stdout",
          "text": "\u001b[31mERROR: pip's dependency resolver does not currently take into account all the packages that are installed. This behaviour is the source of the following dependency conflicts.\nallennlp 2.3.0 requires wandb<0.11.0,>=0.10.0, but you have wandb 0.16.6 which is incompatible.\u001b[0m\n",
          "output_type": "stream"
        }
      ]
    },
    {
      "cell_type": "markdown",
      "source": [
        "# Data Loading"
      ],
      "metadata": {
        "papermill": {
          "duration": 0.016769,
          "end_time": "2021-07-01T14:31:32.675036",
          "exception": false,
          "start_time": "2021-07-01T14:31:32.658267",
          "status": "completed"
        },
        "tags": [],
        "id": "nde9O29HDuKI"
      }
    },
    {
      "cell_type": "code",
      "source": [
        "import os\n",
        "import numpy as np\n",
        "import pandas as pd\n",
        "from PIL import Image\n",
        "from matplotlib import pyplot as plt\n",
        "import seaborn as sns"
      ],
      "metadata": {
        "papermill": {
          "duration": 0.717732,
          "end_time": "2021-07-01T14:31:33.409839",
          "exception": false,
          "start_time": "2021-07-01T14:31:32.692107",
          "status": "completed"
        },
        "tags": [],
        "trusted": true,
        "id": "TRTr3wVyDuKI"
      },
      "execution_count": null,
      "outputs": []
    },
    {
      "cell_type": "code",
      "source": [
        "train = pd.read_csv('../input/g2net-gravitational-wave-detection/training_labels.csv')\n",
        "test = pd.read_csv('../input/g2net-gravitational-wave-detection/sample_submission.csv')\n",
        "\n",
        "def get_train_file_path(image_id):\n",
        "    return \"../input/g2net-gravitational-wave-detection/train/{}/{}/{}/{}.npy\".format(\n",
        "        image_id[0], image_id[1], image_id[2], image_id)\n",
        "\n",
        "def get_test_file_path(image_id):\n",
        "    return \"../input/g2net-gravitational-wave-detection/test/{}/{}/{}/{}.npy\".format(\n",
        "        image_id[0], image_id[1], image_id[2], image_id)\n",
        "\n",
        "train['file_path'] = train['id'].apply(get_train_file_path)\n",
        "test['file_path'] = test['id'].apply(get_test_file_path)\n",
        "\n",
        "display(train.head())\n",
        "display(test.head())"
      ],
      "metadata": {
        "papermill": {
          "duration": 1.251215,
          "end_time": "2021-07-01T14:31:34.678928",
          "exception": false,
          "start_time": "2021-07-01T14:31:33.427713",
          "status": "completed"
        },
        "tags": [],
        "trusted": true,
        "id": "6XzPoASmDuKI"
      },
      "execution_count": null,
      "outputs": []
    },
    {
      "cell_type": "markdown",
      "source": [
        "# Quick EDA"
      ],
      "metadata": {
        "papermill": {
          "duration": 0.018004,
          "end_time": "2021-07-01T14:31:34.717088",
          "exception": false,
          "start_time": "2021-07-01T14:31:34.699084",
          "status": "completed"
        },
        "tags": [],
        "id": "s0Sv2HTmDuKI"
      }
    },
    {
      "cell_type": "code",
      "source": [
        "import torch\n",
        "from nnAudio.Spectrogram import CQT1992v2\n",
        "\n",
        "def apply_qtransform(waves, transform=CQT1992v2(sr=2048, fmin=20, fmax=1024, hop_length=64)):\n",
        "    waves = np.hstack(waves)\n",
        "    waves = waves / np.max(waves)\n",
        "    waves = torch.from_numpy(waves).float()\n",
        "    image = transform(waves)\n",
        "    return image\n",
        "\n",
        "for i in range(5):\n",
        "    waves = np.load(train.loc[i, 'file_path'])\n",
        "    image = apply_qtransform(waves)\n",
        "    target = train.loc[i, 'target']\n",
        "    plt.imshow(image[0])\n",
        "    plt.title(f\"target: {target}\")\n",
        "    plt.show()"
      ],
      "metadata": {
        "trusted": true,
        "id": "a0Nuh4hcDuKJ"
      },
      "execution_count": null,
      "outputs": []
    },
    {
      "cell_type": "code",
      "source": [
        "train['target'].hist()"
      ],
      "metadata": {
        "papermill": {
          "duration": 0.193214,
          "end_time": "2021-07-01T14:31:37.746016",
          "exception": false,
          "start_time": "2021-07-01T14:31:37.552802",
          "status": "completed"
        },
        "tags": [],
        "trusted": true,
        "id": "ZOJU0XSnDuKJ"
      },
      "execution_count": null,
      "outputs": []
    },
    {
      "cell_type": "markdown",
      "source": [
        "# Directory settings"
      ],
      "metadata": {
        "papermill": {
          "duration": 0.030055,
          "end_time": "2021-07-01T14:31:37.805204",
          "exception": false,
          "start_time": "2021-07-01T14:31:37.775149",
          "status": "completed"
        },
        "tags": [],
        "id": "LNnB_FrEDuKJ"
      }
    },
    {
      "cell_type": "code",
      "source": [
        "# ====================================================\n",
        "# Directory settings\n",
        "# ====================================================\n",
        "import os\n",
        "\n",
        "OUTPUT_DIR = './'\n",
        "if not os.path.exists(OUTPUT_DIR):\n",
        "    os.makedirs(OUTPUT_DIR)"
      ],
      "metadata": {
        "papermill": {
          "duration": 0.036354,
          "end_time": "2021-07-01T14:31:37.870775",
          "exception": false,
          "start_time": "2021-07-01T14:31:37.834421",
          "status": "completed"
        },
        "tags": [],
        "trusted": true,
        "id": "JuHfR0aZDuKK"
      },
      "execution_count": null,
      "outputs": []
    },
    {
      "cell_type": "markdown",
      "source": [
        "# CFG"
      ],
      "metadata": {
        "papermill": {
          "duration": 0.028932,
          "end_time": "2021-07-01T14:31:37.928007",
          "exception": false,
          "start_time": "2021-07-01T14:31:37.899075",
          "status": "completed"
        },
        "tags": [],
        "id": "1q9Gumg4DuKK"
      }
    },
    {
      "cell_type": "code",
      "source": [
        "# ====================================================\n",
        "# CFG\n",
        "# ====================================================\n",
        "class CFG:\n",
        "    apex=False\n",
        "    debug=False\n",
        "    print_freq=100\n",
        "    num_workers=4\n",
        "    model_name='tf_efficientnet_b7_ns'\n",
        "    scheduler='CosineAnnealingLR' # ['ReduceLROnPlateau', 'CosineAnnealingLR', 'CosineAnnealingWarmRestarts']\n",
        "    epochs=3\n",
        "    #factor=0.2 # ReduceLROnPlateau\n",
        "    #patience=4 # ReduceLROnPlateau\n",
        "    #eps=1e-6 # ReduceLROnPlateau\n",
        "    T_max=3 # CosineAnnealingLR\n",
        "    #T_0=3 # CosineAnnealingWarmRestarts\n",
        "    lr=1e-4\n",
        "    min_lr=1e-6\n",
        "    batch_size=48\n",
        "    weight_decay=1e-6\n",
        "    gradient_accumulation_steps=1\n",
        "    max_grad_norm=1000\n",
        "    qtransform_params={\"sr\": 2048, \"fmin\": 20, \"fmax\": 1024, \"hop_length\": 32, \"bins_per_octave\": 8}\n",
        "    seed=42\n",
        "    target_size=1\n",
        "    target_col='target'\n",
        "    n_fold=5\n",
        "    trn_fold=[0] # [0, 1, 2, 3, 4]\n",
        "    train=True\n",
        "    grad_cam=True\n",
        "\n",
        "if CFG.debug:\n",
        "    CFG.epochs = 1\n",
        "    train = train.sample(n=10000, random_state=CFG.seed).reset_index(drop=True)"
      ],
      "metadata": {
        "papermill": {
          "duration": 0.181532,
          "end_time": "2021-07-01T14:31:38.138409",
          "exception": false,
          "start_time": "2021-07-01T14:31:37.956877",
          "status": "completed"
        },
        "tags": [],
        "trusted": true,
        "id": "XCWwD_QCDuKK"
      },
      "execution_count": null,
      "outputs": []
    },
    {
      "cell_type": "markdown",
      "source": [
        "# Library"
      ],
      "metadata": {
        "papermill": {
          "duration": 0.028374,
          "end_time": "2021-07-01T14:31:38.19586",
          "exception": false,
          "start_time": "2021-07-01T14:31:38.167486",
          "status": "completed"
        },
        "tags": [],
        "id": "g8mhWo96DuKK"
      }
    },
    {
      "cell_type": "code",
      "source": [
        "# ====================================================\n",
        "# Library\n",
        "# ====================================================\n",
        "import sys\n",
        "sys.path.append('../input/pytorch-image-models/pytorch-image-models-master')\n",
        "\n",
        "import os\n",
        "import math\n",
        "import time\n",
        "import random\n",
        "import shutil\n",
        "from pathlib import Path\n",
        "from contextlib import contextmanager\n",
        "from collections import defaultdict, Counter\n",
        "\n",
        "import scipy as sp\n",
        "import numpy as np\n",
        "import pandas as pd\n",
        "\n",
        "from sklearn import preprocessing\n",
        "from sklearn.metrics import roc_auc_score\n",
        "from sklearn.model_selection import StratifiedKFold, GroupKFold, KFold\n",
        "\n",
        "from tqdm.auto import tqdm\n",
        "from functools import partial\n",
        "\n",
        "import cv2\n",
        "from PIL import Image\n",
        "\n",
        "import torch\n",
        "import torch.nn as nn\n",
        "import torch.nn.functional as F\n",
        "from torch.optim import Adam, SGD\n",
        "import torchvision.models as models\n",
        "from torch.nn.parameter import Parameter\n",
        "from torch.utils.data import DataLoader, Dataset\n",
        "from torch.optim.lr_scheduler import CosineAnnealingWarmRestarts, CosineAnnealingLR, ReduceLROnPlateau\n",
        "\n",
        "import albumentations as A\n",
        "from albumentations.pytorch import ToTensorV2\n",
        "from albumentations import ImageOnlyTransform\n",
        "\n",
        "from pytorch_grad_cam.utils.image import show_cam_on_image\n",
        "from pytorch_grad_cam import GradCAM, ScoreCAM, GradCAMPlusPlus, AblationCAM, XGradCAM, EigenCAM\n",
        "\n",
        "import timm\n",
        "\n",
        "from torch.cuda.amp import autocast, GradScaler\n",
        "\n",
        "import warnings\n",
        "warnings.filterwarnings('ignore')\n",
        "\n",
        "device = torch.device('cuda' if torch.cuda.is_available() else 'cpu')"
      ],
      "metadata": {
        "papermill": {
          "duration": 3.270545,
          "end_time": "2021-07-01T14:31:41.495669",
          "exception": false,
          "start_time": "2021-07-01T14:31:38.225124",
          "status": "completed"
        },
        "tags": [],
        "trusted": true,
        "id": "o4HocTRuDuKK"
      },
      "execution_count": null,
      "outputs": []
    },
    {
      "cell_type": "code",
      "source": [
        "from kaggle_secrets import UserSecretsClient\n",
        "user_secrets = UserSecretsClient()\n",
        "wandb_api = user_secrets.get_secret(\"wandb_api\")"
      ],
      "metadata": {
        "trusted": true,
        "id": "52xxGMvjDuKL"
      },
      "execution_count": null,
      "outputs": []
    },
    {
      "cell_type": "code",
      "source": [
        "import wandb\n",
        "wandb.login(key=wandb_api)\n",
        "\n",
        "def class2dict(f):\n",
        "    return dict((name, getattr(f, name)) for name in dir(f) if not name.startswith('__'))\n",
        "\n",
        "run = wandb.init(project=\"G2Net-Public-experiments\",\n",
        "                 name=\"exp1\",\n",
        "                 config=class2dict(CFG),\n",
        "                 group=CFG.model_name,\n",
        "                 job_type=\"train\")"
      ],
      "metadata": {
        "trusted": true,
        "id": "4PRRA3k-DuKL"
      },
      "execution_count": null,
      "outputs": []
    },
    {
      "cell_type": "markdown",
      "source": [
        "# Utils"
      ],
      "metadata": {
        "papermill": {
          "duration": 0.028157,
          "end_time": "2021-07-01T14:31:41.552625",
          "exception": false,
          "start_time": "2021-07-01T14:31:41.524468",
          "status": "completed"
        },
        "tags": [],
        "id": "k-Fkl-coDuKL"
      }
    },
    {
      "cell_type": "code",
      "source": [
        "# ====================================================\n",
        "# Utils\n",
        "# ====================================================\n",
        "def get_score(y_true, y_pred):\n",
        "    score = roc_auc_score(y_true, y_pred)\n",
        "    return score\n",
        "\n",
        "\n",
        "def init_logger(log_file=OUTPUT_DIR+'train.log'):\n",
        "    from logging import getLogger, INFO, FileHandler,  Formatter,  StreamHandler\n",
        "    logger = getLogger(__name__)\n",
        "    logger.setLevel(INFO)\n",
        "    handler1 = StreamHandler()\n",
        "    handler1.setFormatter(Formatter(\"%(message)s\"))\n",
        "    handler2 = FileHandler(filename=log_file)\n",
        "    handler2.setFormatter(Formatter(\"%(message)s\"))\n",
        "    logger.addHandler(handler1)\n",
        "    logger.addHandler(handler2)\n",
        "    return logger\n",
        "\n",
        "LOGGER = init_logger()\n",
        "\n",
        "\n",
        "def seed_torch(seed=42):\n",
        "    random.seed(seed)\n",
        "    os.environ['PYTHONHASHSEED'] = str(seed)\n",
        "    np.random.seed(seed)\n",
        "    torch.manual_seed(seed)\n",
        "    torch.cuda.manual_seed(seed)\n",
        "    torch.backends.cudnn.deterministic = True\n",
        "\n",
        "seed_torch(seed=CFG.seed)"
      ],
      "metadata": {
        "papermill": {
          "duration": 0.042029,
          "end_time": "2021-07-01T14:31:41.623242",
          "exception": false,
          "start_time": "2021-07-01T14:31:41.581213",
          "status": "completed"
        },
        "tags": [],
        "trusted": true,
        "id": "JIaH-pY0DuKL"
      },
      "execution_count": null,
      "outputs": []
    },
    {
      "cell_type": "markdown",
      "source": [
        "# CV split"
      ],
      "metadata": {
        "papermill": {
          "duration": 0.02877,
          "end_time": "2021-07-01T14:31:41.680818",
          "exception": false,
          "start_time": "2021-07-01T14:31:41.652048",
          "status": "completed"
        },
        "tags": [],
        "id": "Y4G9esNUDuKL"
      }
    },
    {
      "cell_type": "code",
      "source": [
        "Fold = StratifiedKFold(n_splits=CFG.n_fold, shuffle=True, random_state=CFG.seed)\n",
        "for n, (train_index, val_index) in enumerate(Fold.split(train, train[CFG.target_col])):\n",
        "    train.loc[val_index, 'fold'] = int(n)\n",
        "train['fold'] = train['fold'].astype(int)\n",
        "display(train.groupby(['fold', 'target']).size())"
      ],
      "metadata": {
        "papermill": {
          "duration": 0.060375,
          "end_time": "2021-07-01T14:31:41.769944",
          "exception": false,
          "start_time": "2021-07-01T14:31:41.709569",
          "status": "completed"
        },
        "tags": [],
        "trusted": true,
        "id": "aRpMSa3hDuKL"
      },
      "execution_count": null,
      "outputs": []
    },
    {
      "cell_type": "markdown",
      "source": [
        "# Dataset"
      ],
      "metadata": {
        "papermill": {
          "duration": 0.028894,
          "end_time": "2021-07-01T14:31:41.827575",
          "exception": false,
          "start_time": "2021-07-01T14:31:41.798681",
          "status": "completed"
        },
        "tags": [],
        "id": "SpXSG-SMDuKL"
      }
    },
    {
      "cell_type": "code",
      "source": [
        "# ====================================================\n",
        "# Dataset\n",
        "# ====================================================\n",
        "class TrainDataset(Dataset):\n",
        "    def __init__(self, df, transform=None):\n",
        "        self.df = df\n",
        "        self.file_names = df['file_path'].values\n",
        "        self.labels = df[CFG.target_col].values\n",
        "        self.wave_transform = CQT1992v2(**CFG.qtransform_params)\n",
        "        self.transform = transform\n",
        "\n",
        "    def __len__(self):\n",
        "        return len(self.df)\n",
        "\n",
        "    def apply_qtransform(self, waves, transform):\n",
        "        waves = np.hstack(waves)\n",
        "        waves = waves / np.max(waves)\n",
        "        waves = torch.from_numpy(waves).float()\n",
        "        image = transform(waves)\n",
        "        return image\n",
        "\n",
        "    def __getitem__(self, idx):\n",
        "        file_path = self.file_names[idx]\n",
        "        waves = np.load(file_path)\n",
        "        image = self.apply_qtransform(waves, self.wave_transform)\n",
        "        image = image.squeeze().numpy()\n",
        "        if self.transform:\n",
        "            image = self.transform(image=image)['image']\n",
        "        label = torch.tensor(self.labels[idx]).float()\n",
        "        return image, label"
      ],
      "metadata": {
        "papermill": {
          "duration": 0.040385,
          "end_time": "2021-07-01T14:31:41.897587",
          "exception": false,
          "start_time": "2021-07-01T14:31:41.857202",
          "status": "completed"
        },
        "tags": [],
        "trusted": true,
        "id": "54v57TZTDuKL"
      },
      "execution_count": null,
      "outputs": []
    },
    {
      "cell_type": "code",
      "source": [
        "class GradCAMDataset(Dataset):\n",
        "    def __init__(self, df):\n",
        "        self.df = df\n",
        "        self.image_ids = df['id'].values\n",
        "        self.file_names = df['file_path'].values\n",
        "        self.labels = df[CFG.target_col].values\n",
        "        self.wave_transform = CQT1992v2(**CFG.qtransform_params)\n",
        "        self.transform = get_transforms(data='valid')\n",
        "\n",
        "    def __len__(self):\n",
        "        return len(self.df)\n",
        "\n",
        "    def apply_qtransform(self, waves, transform):\n",
        "        waves = np.hstack(waves)\n",
        "        waves = waves / np.max(waves)\n",
        "        waves = torch.from_numpy(waves).float()\n",
        "        image = transform(waves)\n",
        "        return image\n",
        "\n",
        "    def __getitem__(self, idx):\n",
        "        image_id = self.image_ids[idx]\n",
        "        file_path = self.file_names[idx]\n",
        "        waves = np.load(file_path)\n",
        "        image = self.apply_qtransform(waves, self.wave_transform)\n",
        "        image = image.squeeze().numpy()\n",
        "        vis_image = image.copy()\n",
        "        if self.transform:\n",
        "            image = self.transform(image=image)['image']\n",
        "        label = torch.tensor(self.labels[idx]).float()\n",
        "        return image_id, image, vis_image, label"
      ],
      "metadata": {
        "trusted": true,
        "id": "KbW6yT9xDuKM"
      },
      "execution_count": null,
      "outputs": []
    },
    {
      "cell_type": "markdown",
      "source": [
        "# Transforms"
      ],
      "metadata": {
        "id": "TATVZ1Q9DuKM"
      }
    },
    {
      "cell_type": "code",
      "source": [
        "# ====================================================\n",
        "# Transforms\n",
        "# ====================================================\n",
        "def get_transforms(*, data):\n",
        "\n",
        "    if data == 'train':\n",
        "        return A.Compose([\n",
        "            ToTensorV2(),\n",
        "        ])\n",
        "\n",
        "    elif data == 'valid':\n",
        "        return A.Compose([\n",
        "            ToTensorV2(),\n",
        "        ])"
      ],
      "metadata": {
        "trusted": true,
        "id": "MoMVGTO7DuKM"
      },
      "execution_count": null,
      "outputs": []
    },
    {
      "cell_type": "code",
      "source": [
        "train_dataset = TrainDataset(train, transform=get_transforms(data='train'))\n",
        "\n",
        "for i in range(5):\n",
        "    plt.figure(figsize=(16,12))\n",
        "    image, label = train_dataset[i]\n",
        "    plt.imshow(image[0])\n",
        "    plt.title(f'label: {label}')\n",
        "    plt.show()"
      ],
      "metadata": {
        "papermill": {
          "duration": 1.037231,
          "end_time": "2021-07-01T14:31:42.96351",
          "exception": false,
          "start_time": "2021-07-01T14:31:41.926279",
          "status": "completed"
        },
        "tags": [],
        "trusted": true,
        "id": "atO0u92SDuKM"
      },
      "execution_count": null,
      "outputs": []
    },
    {
      "cell_type": "markdown",
      "source": [
        "# MODEL"
      ],
      "metadata": {
        "papermill": {
          "duration": 0.03649,
          "end_time": "2021-07-01T14:31:43.035743",
          "exception": false,
          "start_time": "2021-07-01T14:31:42.999253",
          "status": "completed"
        },
        "tags": [],
        "id": "0FJ4TJ7RDuKM"
      }
    },
    {
      "cell_type": "code",
      "source": [
        "# ====================================================\n",
        "# MODEL\n",
        "# ====================================================\n",
        "class CustomModel(nn.Module):\n",
        "    def __init__(self, cfg, pretrained=False):\n",
        "        super().__init__()\n",
        "        self.cfg = cfg\n",
        "        self.model = timm.create_model(self.cfg.model_name, pretrained=pretrained, in_chans=1)\n",
        "        self.n_features = self.model.classifier.in_features\n",
        "        self.model.classifier = nn.Linear(self.n_features, self.cfg.target_size)\n",
        "\n",
        "    def forward(self, x):\n",
        "        output = self.model(x)\n",
        "        return output"
      ],
      "metadata": {
        "papermill": {
          "duration": 0.044023,
          "end_time": "2021-07-01T14:31:43.114443",
          "exception": false,
          "start_time": "2021-07-01T14:31:43.07042",
          "status": "completed"
        },
        "tags": [],
        "trusted": true,
        "id": "olkPiYqSDuKM"
      },
      "execution_count": null,
      "outputs": []
    },
    {
      "cell_type": "markdown",
      "source": [
        "# Helper functions"
      ],
      "metadata": {
        "papermill": {
          "duration": 0.034387,
          "end_time": "2021-07-01T14:31:43.183231",
          "exception": false,
          "start_time": "2021-07-01T14:31:43.148844",
          "status": "completed"
        },
        "tags": [],
        "id": "IKoQbGnXDuKM"
      }
    },
    {
      "cell_type": "code",
      "source": [
        "# ====================================================\n",
        "# Helper functions\n",
        "# ====================================================\n",
        "class AverageMeter(object):\n",
        "    \"\"\"Computes and stores the average and current value\"\"\"\n",
        "    def __init__(self):\n",
        "        self.reset()\n",
        "\n",
        "    def reset(self):\n",
        "        self.val = 0\n",
        "        self.avg = 0\n",
        "        self.sum = 0\n",
        "        self.count = 0\n",
        "\n",
        "    def update(self, val, n=1):\n",
        "        self.val = val\n",
        "        self.sum += val * n\n",
        "        self.count += n\n",
        "        self.avg = self.sum / self.count\n",
        "\n",
        "\n",
        "def asMinutes(s):\n",
        "    m = math.floor(s / 60)\n",
        "    s -= m * 60\n",
        "    return '%dm %ds' % (m, s)\n",
        "\n",
        "\n",
        "def timeSince(since, percent):\n",
        "    now = time.time()\n",
        "    s = now - since\n",
        "    es = s / (percent)\n",
        "    rs = es - s\n",
        "    return '%s (remain %s)' % (asMinutes(s), asMinutes(rs))\n",
        "\n",
        "\n",
        "def train_fn(fold, train_loader, model, criterion, optimizer, epoch, scheduler, device):\n",
        "    if CFG.apex:\n",
        "        scaler = GradScaler()\n",
        "    batch_time = AverageMeter()\n",
        "    data_time = AverageMeter()\n",
        "    losses = AverageMeter()\n",
        "    scores = AverageMeter()\n",
        "    # switch to train mode\n",
        "    model.train()\n",
        "    start = end = time.time()\n",
        "    global_step = 0\n",
        "    for step, (images, labels) in enumerate(train_loader):\n",
        "        # measure data loading time\n",
        "        data_time.update(time.time() - end)\n",
        "        images = images.to(device)\n",
        "        labels = labels.to(device)\n",
        "        batch_size = labels.size(0)\n",
        "        if CFG.apex:\n",
        "            with autocast():\n",
        "                y_preds = model(images)\n",
        "                loss = criterion(y_preds.view(-1), labels)\n",
        "        else:\n",
        "            y_preds = model(images)\n",
        "            loss = criterion(y_preds.view(-1), labels)\n",
        "        # record loss\n",
        "        losses.update(loss.item(), batch_size)\n",
        "        if CFG.gradient_accumulation_steps > 1:\n",
        "            loss = loss / CFG.gradient_accumulation_steps\n",
        "        if CFG.apex:\n",
        "            scaler.scale(loss).backward()\n",
        "        else:\n",
        "            loss.backward()\n",
        "        grad_norm = torch.nn.utils.clip_grad_norm_(model.parameters(), CFG.max_grad_norm)\n",
        "        if (step + 1) % CFG.gradient_accumulation_steps == 0:\n",
        "            if CFG.apex:\n",
        "                scaler.step(optimizer)\n",
        "                scaler.update()\n",
        "            else:\n",
        "                optimizer.step()\n",
        "            optimizer.zero_grad()\n",
        "            global_step += 1\n",
        "        # measure elapsed time\n",
        "        batch_time.update(time.time() - end)\n",
        "        end = time.time()\n",
        "        if step % CFG.print_freq == 0 or step == (len(train_loader)-1):\n",
        "            print('Epoch: [{0}][{1}/{2}] '\n",
        "                  'Elapsed {remain:s} '\n",
        "                  'Loss: {loss.val:.4f}({loss.avg:.4f}) '\n",
        "                  'Grad: {grad_norm:.4f}  '\n",
        "                  'LR: {lr:.6f}  '\n",
        "                  .format(epoch+1, step, len(train_loader),\n",
        "                          remain=timeSince(start, float(step+1)/len(train_loader)),\n",
        "                          loss=losses,\n",
        "                          grad_norm=grad_norm,\n",
        "                          lr=scheduler.get_lr()[0]))\n",
        "        wandb.log({f\"[fold{fold}] loss\": losses.val,\n",
        "                   f\"[fold{fold}] lr\": scheduler.get_lr()[0]})\n",
        "    return losses.avg\n",
        "\n",
        "\n",
        "def valid_fn(valid_loader, model, criterion, device):\n",
        "    batch_time = AverageMeter()\n",
        "    data_time = AverageMeter()\n",
        "    losses = AverageMeter()\n",
        "    scores = AverageMeter()\n",
        "    # switch to evaluation mode\n",
        "    model.eval()\n",
        "    preds = []\n",
        "    start = end = time.time()\n",
        "    for step, (images, labels) in enumerate(valid_loader):\n",
        "        # measure data loading time\n",
        "        data_time.update(time.time() - end)\n",
        "        images = images.to(device)\n",
        "        labels = labels.to(device)\n",
        "        batch_size = labels.size(0)\n",
        "        # compute loss\n",
        "        with torch.no_grad():\n",
        "            y_preds = model(images)\n",
        "        loss = criterion(y_preds.view(-1), labels)\n",
        "        losses.update(loss.item(), batch_size)\n",
        "        # record accuracy\n",
        "        preds.append(y_preds.sigmoid().to('cpu').numpy())\n",
        "        if CFG.gradient_accumulation_steps > 1:\n",
        "            loss = loss / CFG.gradient_accumulation_steps\n",
        "        # measure elapsed time\n",
        "        batch_time.update(time.time() - end)\n",
        "        end = time.time()\n",
        "        if step % CFG.print_freq == 0 or step == (len(valid_loader)-1):\n",
        "            print('EVAL: [{0}/{1}] '\n",
        "                  'Elapsed {remain:s} '\n",
        "                  'Loss: {loss.val:.4f}({loss.avg:.4f}) '\n",
        "                  .format(step, len(valid_loader),\n",
        "                          loss=losses,\n",
        "                          remain=timeSince(start, float(step+1)/len(valid_loader))))\n",
        "    predictions = np.concatenate(preds)\n",
        "    return losses.avg, predictions"
      ],
      "metadata": {
        "papermill": {
          "duration": 0.190966,
          "end_time": "2021-07-01T14:31:43.408934",
          "exception": false,
          "start_time": "2021-07-01T14:31:43.217968",
          "status": "completed"
        },
        "tags": [],
        "trusted": true,
        "id": "HcSeVtvpDuKM"
      },
      "execution_count": null,
      "outputs": []
    },
    {
      "cell_type": "code",
      "source": [
        "def get_grad_cam(model, device, x_tensor, img, label, plot=False):\n",
        "\n",
        "    result = {\"vis\": None, \"img\": None, \"prob\": None, \"label\": None}\n",
        "\n",
        "    # model prob\n",
        "    with torch.no_grad():\n",
        "        prob = model(x_tensor.unsqueeze(0).to(device))\n",
        "    prob = np.concatenate(prob.sigmoid().to('cpu').numpy())[0]\n",
        "\n",
        "    # grad-cam\n",
        "    target_layer = model.model.conv_head\n",
        "    cam = GradCAM(model=model, target_layer=target_layer, use_cuda=True)\n",
        "    output = cam(input_tensor=x_tensor.unsqueeze(0))\n",
        "    try:\n",
        "        vis = show_cam_on_image(x_tensor.numpy().transpose((1, 2, 0)), output[0])\n",
        "    except:\n",
        "        return result\n",
        "\n",
        "    # plot result\n",
        "    if plot:\n",
        "        fig, axes = plt.subplots(figsize=(16, 12), ncols=2)\n",
        "        axes[0].imshow(vis)\n",
        "        axes[0].set_title(f\"prob={prob:.4f}\")\n",
        "        axes[1].imshow(img)\n",
        "        axes[1].set_title(f\"target={label}\")\n",
        "        plt.show()\n",
        "\n",
        "    result = {\"vis\": vis, \"img\": img, \"prob\": prob, \"label\": label}\n",
        "\n",
        "    return result"
      ],
      "metadata": {
        "trusted": true,
        "id": "DszyGK8QDuKN"
      },
      "execution_count": null,
      "outputs": []
    },
    {
      "cell_type": "markdown",
      "source": [
        "# Train loop"
      ],
      "metadata": {
        "papermill": {
          "duration": 0.034375,
          "end_time": "2021-07-01T14:31:43.478039",
          "exception": false,
          "start_time": "2021-07-01T14:31:43.443664",
          "status": "completed"
        },
        "tags": [],
        "id": "tvEcK_4EDuKN"
      }
    },
    {
      "cell_type": "code",
      "source": [
        "# ====================================================\n",
        "# Train loop\n",
        "# ====================================================\n",
        "def train_loop(folds, fold):\n",
        "\n",
        "    LOGGER.info(f\"========== fold: {fold} training ==========\")\n",
        "\n",
        "    # ====================================================\n",
        "    # loader\n",
        "    # ====================================================\n",
        "    trn_idx = folds[folds['fold'] != fold].index\n",
        "    val_idx = folds[folds['fold'] == fold].index\n",
        "\n",
        "    train_folds = folds.loc[trn_idx].reset_index(drop=True)\n",
        "    valid_folds = folds.loc[val_idx].reset_index(drop=True)\n",
        "    valid_labels = valid_folds[CFG.target_col].values\n",
        "\n",
        "    train_dataset = TrainDataset(train_folds, transform=get_transforms(data='train'))\n",
        "    valid_dataset = TrainDataset(valid_folds, transform=get_transforms(data='train'))\n",
        "\n",
        "    train_loader = DataLoader(train_dataset,\n",
        "                              batch_size=CFG.batch_size,\n",
        "                              shuffle=True,\n",
        "                              num_workers=CFG.num_workers, pin_memory=True, drop_last=True)\n",
        "    valid_loader = DataLoader(valid_dataset,\n",
        "                              batch_size=CFG.batch_size * 2,\n",
        "                              shuffle=False,\n",
        "                              num_workers=CFG.num_workers, pin_memory=True, drop_last=False)\n",
        "\n",
        "    # ====================================================\n",
        "    # scheduler\n",
        "    # ====================================================\n",
        "    def get_scheduler(optimizer):\n",
        "        if CFG.scheduler=='ReduceLROnPlateau':\n",
        "            scheduler = ReduceLROnPlateau(optimizer, mode='min', factor=CFG.factor, patience=CFG.patience, verbose=True, eps=CFG.eps)\n",
        "        elif CFG.scheduler=='CosineAnnealingLR':\n",
        "            scheduler = CosineAnnealingLR(optimizer, T_max=CFG.T_max, eta_min=CFG.min_lr, last_epoch=-1)\n",
        "        elif CFG.scheduler=='CosineAnnealingWarmRestarts':\n",
        "            scheduler = CosineAnnealingWarmRestarts(optimizer, T_0=CFG.T_0, T_mult=1, eta_min=CFG.min_lr, last_epoch=-1)\n",
        "        return scheduler\n",
        "\n",
        "    # ====================================================\n",
        "    # model & optimizer\n",
        "    # ====================================================\n",
        "    model = CustomModel(CFG, pretrained=True)\n",
        "    model.to(device)\n",
        "\n",
        "    optimizer = Adam(model.parameters(), lr=CFG.lr, weight_decay=CFG.weight_decay, amsgrad=False)\n",
        "    scheduler = get_scheduler(optimizer)\n",
        "\n",
        "    # ====================================================\n",
        "    # loop\n",
        "    # ====================================================\n",
        "    criterion = nn.BCEWithLogitsLoss()\n",
        "\n",
        "    best_score = 0.\n",
        "    best_loss = np.inf\n",
        "\n",
        "    for epoch in range(CFG.epochs):\n",
        "\n",
        "        start_time = time.time()\n",
        "\n",
        "        # train\n",
        "        avg_loss = train_fn(fold, train_loader, model, criterion, optimizer, epoch, scheduler, device)\n",
        "\n",
        "        # eval\n",
        "        avg_val_loss, preds = valid_fn(valid_loader, model, criterion, device)\n",
        "\n",
        "        if isinstance(scheduler, ReduceLROnPlateau):\n",
        "            scheduler.step(avg_val_loss)\n",
        "        elif isinstance(scheduler, CosineAnnealingLR):\n",
        "            scheduler.step()\n",
        "        elif isinstance(scheduler, CosineAnnealingWarmRestarts):\n",
        "            scheduler.step()\n",
        "\n",
        "        # scoring\n",
        "        score = get_score(valid_labels, preds)\n",
        "\n",
        "        elapsed = time.time() - start_time\n",
        "\n",
        "        LOGGER.info(f'Epoch {epoch+1} - avg_train_loss: {avg_loss:.4f}  avg_val_loss: {avg_val_loss:.4f}  time: {elapsed:.0f}s')\n",
        "        LOGGER.info(f'Epoch {epoch+1} - Score: {score:.4f}')\n",
        "        wandb.log({f\"[fold{fold}] epoch\": epoch+1,\n",
        "                   f\"[fold{fold}] avg_train_loss\": avg_loss,\n",
        "                   f\"[fold{fold}] avg_val_loss\": avg_val_loss,\n",
        "                   f\"[fold{fold}] score\": score})\n",
        "\n",
        "        if score > best_score:\n",
        "            best_score = score\n",
        "            LOGGER.info(f'Epoch {epoch+1} - Save Best Score: {best_score:.4f} Model')\n",
        "            torch.save({'model': model.state_dict(),\n",
        "                        'preds': preds},\n",
        "                        OUTPUT_DIR+f'{CFG.model_name}_fold{fold}_best_score.pth')\n",
        "\n",
        "        if avg_val_loss < best_loss:\n",
        "            best_loss = avg_val_loss\n",
        "            LOGGER.info(f'Epoch {epoch+1} - Save Best Loss: {best_loss:.4f} Model')\n",
        "            torch.save({'model': model.state_dict(),\n",
        "                        'preds': preds},\n",
        "                        OUTPUT_DIR+f'{CFG.model_name}_fold{fold}_best_loss.pth')\n",
        "\n",
        "    valid_folds['preds'] = torch.load(OUTPUT_DIR+f'{CFG.model_name}_fold{fold}_best_score.pth',\n",
        "                                      map_location=torch.device('cpu'))['preds']\n",
        "\n",
        "    return valid_folds"
      ],
      "metadata": {
        "_cell_guid": "b1076dfc-b9ad-4769-8c92-a6c4dae69d19",
        "_uuid": "8f2839f25d086af736a60e9eeb907d3b93b6e0e5",
        "papermill": {
          "duration": 0.053758,
          "end_time": "2021-07-01T14:31:43.566555",
          "exception": false,
          "start_time": "2021-07-01T14:31:43.512797",
          "status": "completed"
        },
        "tags": [],
        "trusted": true,
        "id": "K88jKTbPDuKN"
      },
      "execution_count": null,
      "outputs": []
    },
    {
      "cell_type": "code",
      "source": [
        "# ====================================================\n",
        "# main\n",
        "# ====================================================\n",
        "def main():\n",
        "\n",
        "    \"\"\"\n",
        "    Prepare: 1.train\n",
        "    \"\"\"\n",
        "\n",
        "    def get_result(result_df):\n",
        "        preds = result_df['preds'].values\n",
        "        labels = result_df[CFG.target_col].values\n",
        "        score = get_score(labels, preds)\n",
        "        LOGGER.info(f'Score: {score:<.4f}')\n",
        "\n",
        "    if CFG.train:\n",
        "        # train\n",
        "        oof_df = pd.DataFrame()\n",
        "        for fold in range(CFG.n_fold):\n",
        "            if fold in CFG.trn_fold:\n",
        "                _oof_df = train_loop(train, fold)\n",
        "                oof_df = pd.concat([oof_df, _oof_df])\n",
        "                LOGGER.info(f\"========== fold: {fold} result ==========\")\n",
        "                get_result(_oof_df)\n",
        "        # CV result\n",
        "        LOGGER.info(f\"========== CV ==========\")\n",
        "        get_result(oof_df)\n",
        "        # save result\n",
        "        oof_df.to_csv(OUTPUT_DIR+'oof_df.csv', index=False)\n",
        "\n",
        "    if CFG.grad_cam:\n",
        "        N = 5\n",
        "        wandb_table = wandb.Table(columns=[\"id\", \"target\", \"prob\", \"image\", \"grad_cam_image\"])\n",
        "        for fold in range(CFG.n_fold):\n",
        "            if fold in CFG.trn_fold:\n",
        "                # load model\n",
        "                model = CustomModel(CFG, pretrained=False)\n",
        "                state = torch.load(OUTPUT_DIR+f'{CFG.model_name}_fold{fold}_best_loss.pth',\n",
        "                                   map_location=torch.device('cpu'))['model']\n",
        "                model.load_state_dict(state)\n",
        "                model.to(device)\n",
        "                model.eval()\n",
        "                # load oof\n",
        "                oof = pd.read_csv(OUTPUT_DIR+'oof_df.csv')\n",
        "                oof = oof[oof['fold'] == fold].reset_index(drop=True)\n",
        "                # grad-cam (oof ascending=False)\n",
        "                count = 0\n",
        "                oof = oof.sort_values('preds', ascending=False)\n",
        "                valid_dataset = GradCAMDataset(oof)\n",
        "                for i in range(len(valid_dataset)):\n",
        "                    image_id, x_tensor, img, label = valid_dataset[i]\n",
        "                    result = get_grad_cam(model, device, x_tensor, img, label, plot=True)\n",
        "                    if result[\"vis\"] is not None:\n",
        "                        count += 1\n",
        "                        wandb_table.add_data(image_id,\n",
        "                                             result[\"label\"],\n",
        "                                             result[\"prob\"],\n",
        "                                             wandb.Image(result[\"img\"]),\n",
        "                                             wandb.Image(result[\"vis\"]))\n",
        "                    if count >= N:\n",
        "                        break\n",
        "                # grad-cam (oof ascending=True)\n",
        "                count = 0\n",
        "                oof = oof.sort_values('preds', ascending=True)\n",
        "                valid_dataset = GradCAMDataset(oof)\n",
        "                for i in range(len(valid_dataset)):\n",
        "                    image_id, x_tensor, img, label = valid_dataset[i]\n",
        "                    result = get_grad_cam(model, device, x_tensor, img, label, plot=True)\n",
        "                    if result[\"vis\"] is not None:\n",
        "                        count += 1\n",
        "                        wandb_table.add_data(image_id,\n",
        "                                             result[\"label\"],\n",
        "                                             result[\"prob\"],\n",
        "                                             wandb.Image(result[\"img\"]),\n",
        "                                             wandb.Image(result[\"vis\"]))\n",
        "                    if count >= N:\n",
        "                        break\n",
        "        wandb.log({'grad_cam': wandb_table})\n",
        "\n",
        "    wandb.finish()"
      ],
      "metadata": {
        "papermill": {
          "duration": 0.047199,
          "end_time": "2021-07-01T14:31:43.648478",
          "exception": false,
          "start_time": "2021-07-01T14:31:43.601279",
          "status": "completed"
        },
        "tags": [],
        "trusted": true,
        "id": "jzq5K01XDuKN"
      },
      "execution_count": null,
      "outputs": []
    },
    {
      "cell_type": "code",
      "source": [
        "if __name__ == '__main__':\n",
        "    main()"
      ],
      "metadata": {
        "_cell_guid": "79c7e3d0-c299-4dcb-8224-4455121ee9b0",
        "_uuid": "d629ff2d2480ee46fbb7e2d37f6b5fab8052498a",
        "papermill": {
          "duration": 1704.25542,
          "end_time": "2021-07-01T15:00:07.939127",
          "exception": false,
          "start_time": "2021-07-01T14:31:43.683707",
          "status": "completed"
        },
        "tags": [],
        "trusted": true,
        "id": "qXhd2TymDuKO"
      },
      "execution_count": null,
      "outputs": []
    }
  ]
}