{
  "metadata": {
    "kernelspec": {
      "display_name": "Python 3",
      "language": "python",
      "name": "python3"
    },
    "language_info": {
      "name": "python",
      "version": "3.6.6",
      "mimetype": "text/x-python",
      "codemirror_mode": {
        "name": "ipython",
        "version": 3
      },
      "pygments_lexer": "ipython3",
      "nbconvert_exporter": "python",
      "file_extension": ".py"
    },
    "kaggle": {
      "accelerator": "none",
      "dataSources": [
        {
          "sourceId": 1995,
          "sourceType": "datasetVersion",
          "datasetId": 1074
        },
        {
          "sourceId": 32949,
          "sourceType": "datasetVersion",
          "datasetId": 25855
        },
        {
          "sourceId": 264393,
          "sourceType": "datasetVersion",
          "datasetId": 110566
        },
        {
          "sourceId": 1142306,
          "sourceType": "datasetVersion",
          "datasetId": 644196
        },
        {
          "sourceId": 1442600,
          "sourceType": "datasetVersion",
          "datasetId": 845444
        },
        {
          "sourceId": 134099459,
          "sourceType": "kernelVersion"
        }
      ],
      "dockerImageVersionId": 28449,
      "isInternetEnabled": false,
      "language": "python",
      "sourceType": "notebook",
      "isGpuEnabled": false
    },
    "colab": {
      "name": "2. Kyriaki Pulsar Star ML Classification(ANN:%99)",
      "provenance": [],
      "include_colab_link": true
    }
  },
  "nbformat_minor": 0,
  "nbformat": 4,
  "cells": [
    {
      "cell_type": "markdown",
      "metadata": {
        "id": "view-in-github",
        "colab_type": "text"
      },
      "source": [
        "<a href=\"https://colab.research.google.com/github/ktichola/ML-and-DL-to-Gravitational-waves-analysis/blob/main/2_Kyriaki_Pulsar_Star_ML_Classification(ANN_99).ipynb\" target=\"_parent\"><img src=\"https://colab.research.google.com/assets/colab-badge.svg\" alt=\"Open In Colab\"/></a>"
      ]
    },
    {
      "source": [
        "\n",
        "# IMPORTANT: RUN THIS CELL IN ORDER TO IMPORT YOUR KAGGLE DATA SOURCES\n",
        "# TO THE CORRECT LOCATION (/kaggle/input) IN YOUR NOTEBOOK,\n",
        "# THEN FEEL FREE TO DELETE THIS CELL.\n",
        "# NOTE: THIS NOTEBOOK ENVIRONMENT DIFFERS FROM KAGGLE'S PYTHON\n",
        "# ENVIRONMENT SO THERE MAY BE MISSING LIBRARIES USED BY YOUR\n",
        "# NOTEBOOK.\n",
        "\n",
        "import os\n",
        "import sys\n",
        "from tempfile import NamedTemporaryFile\n",
        "from urllib.request import urlopen\n",
        "from urllib.parse import unquote, urlparse\n",
        "from urllib.error import HTTPError\n",
        "from zipfile import ZipFile\n",
        "import tarfile\n",
        "import shutil\n",
        "\n",
        "CHUNK_SIZE = 40960\n",
        "DATA_SOURCE_MAPPING = 'kepler-labelled-time-series-data:https%3A%2F%2Fstorage.googleapis.com%2Fkaggle-data-sets%2F1074%2F1995%2Fbundle%2Farchive.zip%3FX-Goog-Algorithm%3DGOOG4-RSA-SHA256%26X-Goog-Credential%3Dgcp-kaggle-com%2540kaggle-161607.iam.gserviceaccount.com%252F20240505%252Fauto%252Fstorage%252Fgoog4_request%26X-Goog-Date%3D20240505T101239Z%26X-Goog-Expires%3D259200%26X-Goog-SignedHeaders%3Dhost%26X-Goog-Signature%3D2c57424e59fc990242f6ba39ca879ee58fad3f683d98dcadf1fa9af0b22cec1c26965f85ed17d6ada8d7fc5922e8af45630febe0ef2047286d1b72fdf562c485cca9abf721d0896f51b3a25610588a8b33911302a7903160eac26eb144985d4dc9c7bfee02d62e1f2d80e119b17b753a99f204b09b57d2d961fa50e7856d3fb555bc02e8dba3829c13097187434f9282ea1fcc2d711222554cacb440500842001605a8100d7bf9dde9980f5845699e841c338c8f06deb86c02b79b4238070c31b267eade7988445f79e3df18cb9b03bf6edc00fd0f6a955419d3247a3ee2205ffa89ab6ffa1d37defbe14bc1088a86975d7d35ffc678499eecbbec1d30fb80a0,pulsar-star:https%3A%2F%2Fstorage.googleapis.com%2Fkaggle-data-sets%2F110566%2F264393%2Fbundle%2Farchive.zip%3FX-Goog-Algorithm%3DGOOG4-RSA-SHA256%26X-Goog-Credential%3Dgcp-kaggle-com%2540kaggle-161607.iam.gserviceaccount.com%252F20240505%252Fauto%252Fstorage%252Fgoog4_request%26X-Goog-Date%3D20240505T101239Z%26X-Goog-Expires%3D259200%26X-Goog-SignedHeaders%3Dhost%26X-Goog-Signature%3D9af7f4d57ccc0ca33587c496bd34d8cc25b05b117f8f70ae61491788461c9da8fcf1cc0452753619b08948ecf30d8b7a66aa04ac8aebd3728c056ab02e6469e18634bb2ef6a0751a12bf61acc9c63bcc75fbbda5458f23c213de45819912a20660d01667e70d67b7418e33e8e2523af8496bc5e631109b8ce705316136a5caa529354e3c2ba1d6915bb69fede230d3df89396b8bce2c9ae7bbbf846257c78bdde8012ae3a61741c37168d32a5a15c8b255de6095cf637488fd5a05eba2413ce13da0808646f3bc659a765636496feedb7a5ffa97ae58fe53431f9d26112ffca7c1b0176fd04865e601368fa15f42c026d97b1eaca04d1f7f18f5f7eba15f61ee,pulsar-dataset:https%3A%2F%2Fstorage.googleapis.com%2Fkaggle-data-sets%2F644196%2F1142306%2Fbundle%2Farchive.zip%3FX-Goog-Algorithm%3DGOOG4-RSA-SHA256%26X-Goog-Credential%3Dgcp-kaggle-com%2540kaggle-161607.iam.gserviceaccount.com%252F20240505%252Fauto%252Fstorage%252Fgoog4_request%26X-Goog-Date%3D20240505T101239Z%26X-Goog-Expires%3D259200%26X-Goog-SignedHeaders%3Dhost%26X-Goog-Signature%3D45396dd9f86545628d50d134a8d8dda12158b9abf7921b719fe984dca6b5fbbcee2435b8327dd8333ccf12a2bccc610cbd1cba92ec150cd16991329bc03d213f7177ec89a72f5ef98561baca70088310fe461f4045611147e39b9280d5adbca7a808c725ded99a01ea4bf8c6d6156e83be0b0e4f380a7540d5d90debd25c1053e79709fe426f17856cf43a6578929038c3398662153cbe6eef62cffe057f2230ca8d20722149b0b9ef5539e5cef590903ac4a87e734a776b7a08e6505832bd72f7f7b532f7598fd061b85c4db943ea2994a17b899b255f309807cd117714324c67fc67a68e15382bdb798c2c1566c769c691e3c50f0fc4c0441162b4396df503,predicting-pulsar-starintermediate:https%3A%2F%2Fstorage.googleapis.com%2Fkaggle-data-sets%2F845444%2F1442600%2Fbundle%2Farchive.zip%3FX-Goog-Algorithm%3DGOOG4-RSA-SHA256%26X-Goog-Credential%3Dgcp-kaggle-com%2540kaggle-161607.iam.gserviceaccount.com%252F20240505%252Fauto%252Fstorage%252Fgoog4_request%26X-Goog-Date%3D20240505T101239Z%26X-Goog-Expires%3D259200%26X-Goog-SignedHeaders%3Dhost%26X-Goog-Signature%3D84c2619a740b9b8f33d88dd9cee401cc910fb748a1adc675f400e4342dcf562205356b74f2f13393f5f5dbaf3250bbba8ccd4775950068890862f6502e4e6a9e108819d1d83555ae5feb32837debf348848bada916151a0b45fb39845e746cdf9015c5f4d3907299412d93a2727eaf29482f237d65f774e708a29d9503efb15149aba6d4494544747909ec34274d7198a8062b93700851d2328f8794e9ea0b138fe3cfec5d63e6ec8fd953ef637a8e4ecb18429f6afb67847c9bee8bcc7f3cf8453edeb2e5b712549cad27b1184caece5c1a2af480252016190863274008ab1cc62502cbb9c803170fd2e15a05ff0b950fa374b514bad5209c0048cc322b2238'\n",
        "\n",
        "KAGGLE_INPUT_PATH='/kaggle/input'\n",
        "KAGGLE_WORKING_PATH='/kaggle/working'\n",
        "KAGGLE_SYMLINK='kaggle'\n",
        "\n",
        "!umount /kaggle/input/ 2> /dev/null\n",
        "shutil.rmtree('/kaggle/input', ignore_errors=True)\n",
        "os.makedirs(KAGGLE_INPUT_PATH, 0o777, exist_ok=True)\n",
        "os.makedirs(KAGGLE_WORKING_PATH, 0o777, exist_ok=True)\n",
        "\n",
        "try:\n",
        "  os.symlink(KAGGLE_INPUT_PATH, os.path.join(\"..\", 'input'), target_is_directory=True)\n",
        "except FileExistsError:\n",
        "  pass\n",
        "try:\n",
        "  os.symlink(KAGGLE_WORKING_PATH, os.path.join(\"..\", 'working'), target_is_directory=True)\n",
        "except FileExistsError:\n",
        "  pass\n",
        "\n",
        "for data_source_mapping in DATA_SOURCE_MAPPING.split(','):\n",
        "    directory, download_url_encoded = data_source_mapping.split(':')\n",
        "    download_url = unquote(download_url_encoded)\n",
        "    filename = urlparse(download_url).path\n",
        "    destination_path = os.path.join(KAGGLE_INPUT_PATH, directory)\n",
        "    try:\n",
        "        with urlopen(download_url) as fileres, NamedTemporaryFile() as tfile:\n",
        "            total_length = fileres.headers['content-length']\n",
        "            print(f'Downloading {directory}, {total_length} bytes compressed')\n",
        "            dl = 0\n",
        "            data = fileres.read(CHUNK_SIZE)\n",
        "            while len(data) > 0:\n",
        "                dl += len(data)\n",
        "                tfile.write(data)\n",
        "                done = int(50 * dl / int(total_length))\n",
        "                sys.stdout.write(f\"\\r[{'=' * done}{' ' * (50-done)}] {dl} bytes downloaded\")\n",
        "                sys.stdout.flush()\n",
        "                data = fileres.read(CHUNK_SIZE)\n",
        "            if filename.endswith('.zip'):\n",
        "              with ZipFile(tfile) as zfile:\n",
        "                zfile.extractall(destination_path)\n",
        "            else:\n",
        "              with tarfile.open(tfile.name) as tarfile:\n",
        "                tarfile.extractall(destination_path)\n",
        "            print(f'\\nDownloaded and uncompressed: {directory}')\n",
        "    except HTTPError as e:\n",
        "        print(f'Failed to load (likely expired) {download_url} to path {destination_path}')\n",
        "        continue\n",
        "    except OSError as e:\n",
        "        print(f'Failed to load {download_url} to path {destination_path}')\n",
        "        continue\n",
        "\n",
        "print('Data source import complete.')\n"
      ],
      "metadata": {
        "id": "fEM5MSXNPdGN"
      },
      "cell_type": "code",
      "outputs": [],
      "execution_count": null
    },
    {
      "cell_type": "code",
      "source": [
        "# This Python 3 environment comes with many helpful analytics libraries installed\n",
        "# It is defined by the kaggle/python docker image: https://github.com/kaggle/docker-python\n",
        "# For example, here's several helpful packages to load in\n",
        "\n",
        "import numpy as np # linear algebra\n",
        "import pandas as pd # data processing, CSV file I/O (e.g. pd.read_csv)\n",
        "from sklearn.model_selection import train_test_split\n",
        "from sklearn.linear_model import LogisticRegression\n",
        "\n",
        "# Input data files are available in the \"../input/\" directory.\n",
        "# For example, running this (by clicking run or pressing Shift+Enter) will list the files in the input directory\n",
        "\n",
        "import os\n",
        "print(os.listdir(\"../input\"))\n",
        "\n",
        "# Any results you write to the current directory are saved as output."
      ],
      "metadata": {
        "_uuid": "8f2839f25d086af736a60e9eeb907d3b93b6e0e5",
        "_cell_guid": "b1076dfc-b9ad-4769-8c92-a6c4dae69d19",
        "execution": {
          "iopub.status.busy": "2024-05-05T10:11:09.456834Z",
          "iopub.execute_input": "2024-05-05T10:11:09.457372Z",
          "iopub.status.idle": "2024-05-05T10:11:10.683076Z",
          "shell.execute_reply.started": "2024-05-05T10:11:09.457309Z",
          "shell.execute_reply": "2024-05-05T10:11:10.680689Z"
        },
        "trusted": true,
        "id": "Vbx7wPELPdGP",
        "outputId": "8671548a-b09e-44c4-f6ef-5afa659bcfc6"
      },
      "execution_count": null,
      "outputs": [
        {
          "name": "stdout",
          "text": "['pulsar-star', 'pulsar-stars-binary-classification-research', 'kepler-labelled-time-series-data', 'predicting-pulsar-starintermediate', 'pulsar-dataset']\n",
          "output_type": "stream"
        }
      ]
    },
    {
      "cell_type": "markdown",
      "source": [
        "# PRELIMINARY INFORMATION\n",
        "\n"
      ],
      "metadata": {
        "id": "jEnBkPNpPdGQ"
      }
    },
    {
      "cell_type": "markdown",
      "source": [
        "## Exoplanet Hunting in Deep Space\n",
        "**The Search for New Earths**\n",
        "\n",
        "The data describe the change in flux (light intensity) of several thousand stars. Each star has a binary label of 2 or 1. 2 indicated that that the star is confirmed to have at least one exoplanet in orbit; some observations are in fact multi-planet systems.\n",
        "\n",
        "As you can imagine, planets themselves do not emit light, but the stars that they orbit do. If said star is watched over several months or years, there may be a regular 'dimming' of the flux (the light intensity). This is evidence that there may be an orbiting body around the star; such a star could be considered to be a 'candidate' system. Further study of our candidate system, for example by a satellite that captures light at a different wavelength, could solidify the belief that the candidate can in fact be 'confirmed'.\n",
        "\n",
        "Flux Diagram\n",
        "\n",
        "In the above diagram, a star is orbited by a blue planet. At t = 1, the starlight intensity drops because it is partially obscured by the planet, given our position. The starlight rises back to its original value at t = 2. The graph in each box shows the measured flux (light intensity) at each time interval.\n",
        "\n",
        "**Description**\n",
        "Trainset:\n",
        "\n",
        "* 5087 rows or observations.\n",
        "* 3198 columns or features.\n",
        "* Column 1 is the label vector. Columns 2 - 3198 are the flux values over time.\n",
        "* 37 confirmed exoplanet-stars and 5050 non-exoplanet-stars.\n",
        "\n",
        "Testset:\n",
        "\n",
        "* 570 rows or observations.\n",
        "* 3198 columns or features.\n",
        "* Column 1 is the label vector. Columns 2 - 3198 are the flux values over time.\n",
        "* 5 confirmed exoplanet-stars and 565 non-exoplanet-stars.\n",
        "\n",
        "**Acknowledgements**\n",
        "The data presented here are cleaned and are derived from observations made by the NASA Kepler space telescope. The Mission is ongoing - for instance data from Campaign 12 was released on 8th March 2017. Over 99% of this dataset originates from Campaign 3. To boost the number of exoplanet-stars in the dataset, confirmed exoplanets from other campaigns were also included.\n",
        "\n",
        "To be clear, all observations from Campaign 3 are included. And in addition to this, confirmed exoplanet-stars from other campaigns are also included.\n",
        "\n",
        "The datasets were prepared late-summer 2016.\n",
        "\n",
        "Campaign 3 was used because 'it was felt' that this Campaign is unlikely to contain any undiscovered (i.e. wrongly labelled) exoplanets.\n",
        "\n",
        "NASA open-sources the original Kepler Mission data and it is hosted at the Mikulski Archive. After being beamed down to Earth, NASA applies de-noising algorithms to remove artefacts generated by the telescope. The data - in the .fits format - is stored online. And with the help of a seasoned astrophysicist, anyone with an internet connection can embark on a search to find and retrieve the datafiles from the Archive.\n",
        "\n",
        "The cover image is copyright © 2011 by Dan Lessmann\n",
        "\n",
        "## PREDICTING A PULSAR STAR\n",
        "\n",
        "*Dr Robert Lyon*\n",
        "\n",
        "HTRU2 is a data set which describes a sample of pulsar candidates collected during the High Time Resolution Universe Survey .\n",
        "\n",
        "Pulsars are a rare type of Neutron star that produce radio emission detectable here on Earth. They are of considerable scientific interest as probes of space-time, the inter-stellar medium, and states of matter .\n",
        "\n",
        "As pulsars rotate, their emission beam sweeps across the sky, and when this crosses our line of sight, produces a detectable pattern of broadband radio emission. As pulsars rotate rapidly, this pattern repeats periodically. Thus pulsar search involves looking for periodic radio signals with large radio telescopes.\n",
        "\n",
        "Each pulsar produces a slightly different emission pattern, which varies slightly with each rotation . Thus a potential signal detection known as a 'candidate', is averaged over many rotations of the pulsar, as determined by the length of an observation. In the absence of additional info, each candidate could potentially describe a real pulsar. However in practice almost all detections are caused by radio frequency interference (RFI) and noise, making legitimate signals hard to find.\n",
        "\n",
        "Machine learning tools are now being used to automatically label pulsar candidates to facilitate rapid analysis. Classification systems in particular are being widely adopted, which treat the candidate data sets as binary classification problems. Here the legitimate pulsar examples are a minority positive class, and spurious examples the majority negative class.\n",
        "\n",
        "The data set shared here contains 16,259 spurious examples caused by RFI/noise, and 1,639 real pulsar examples. These examples have all been checked by human annotators.\n",
        "\n",
        "Each row lists the variables first, and the class label is the final entry. The class labels used are 0 (negative) and 1 (positive).\n",
        "\n",
        "**Attribute Information:**\n",
        "Each candidate is described by 8 continuous variables, and a single class variable. The first four are simple statistics obtained from the integrated pulse profile (folded profile). This is an array of continuous variables that describe a longitude-resolved version of the signal that has been averaged in both time and frequency . The remaining four variables are similarly obtained from the DM-SNR curve . These are summarised below:\n",
        "\n",
        "* Mean of the integrated profile.\n",
        "* Standard deviation of the integrated profile.\n",
        "* Excess kurtosis of the integrated profile.\n",
        "* Skewness of the integrated profile.\n",
        "* Mean of the DM-SNR curve.\n",
        "* Standard deviation of the DM-SNR curve.\n",
        "* Excess kurtosis of the DM-SNR curve.\n",
        "* Skewness of the DM-SNR curve.\n",
        "* Class\n",
        "* HTRU 2 Summary\n",
        "* 17,898 total examples.\n",
        "* 1,639 positive examples.\n",
        "* 16,259 negative examples.\n",
        "\n",
        "Source: https://archive.ics.uci.edu/ml/datasets/HTRU2\n",
        "\n",
        "    Dr Robert Lyon\n",
        "    University of Manchester\n",
        "    School of Physics and Astronomy\n",
        "    Alan Turing Building\n",
        "    Manchester M13 9PL\n",
        "    United Kingdom\n",
        "    robert.lyon '@' manchester.ac.uk"
      ],
      "metadata": {
        "id": "8ZB1p0B5PdGR"
      }
    },
    {
      "cell_type": "markdown",
      "source": [
        "### READING DATA"
      ],
      "metadata": {
        "id": "z0R2w7lLPdGS"
      }
    },
    {
      "cell_type": "code",
      "source": [
        "train_data_exo = pd.read_csv(\"../input/kepler-labelled-time-series-data/exoTrain.csv\")\n",
        "test_data_exo = pd.read_csv(\"../input/kepler-labelled-time-series-data/exoTest.csv\")\n",
        "data = pd.read_csv(\"../input/pulsar-dataset/pulsar_stars.csv\")\n",
        "data.head()"
      ],
      "metadata": {
        "_cell_guid": "79c7e3d0-c299-4dcb-8224-4455121ee9b0",
        "_uuid": "d629ff2d2480ee46fbb7e2d37f6b5fab8052498a",
        "execution": {
          "iopub.status.busy": "2024-05-05T10:11:10.687264Z",
          "iopub.execute_input": "2024-05-05T10:11:10.692107Z",
          "iopub.status.idle": "2024-05-05T10:11:21.133723Z",
          "shell.execute_reply.started": "2024-05-05T10:11:10.687812Z",
          "shell.execute_reply": "2024-05-05T10:11:21.132353Z"
        },
        "trusted": true,
        "id": "ezLfrjaqPdGS",
        "outputId": "d2e05849-becf-49d5-b259-af3eb749a27b"
      },
      "execution_count": null,
      "outputs": [
        {
          "execution_count": 2,
          "output_type": "execute_result",
          "data": {
            "text/plain": "    Mean of the integrated profile      ...       target_class\n0                       140.562500      ...                  0\n1                       102.507812      ...                  0\n2                       103.015625      ...                  0\n3                       136.750000      ...                  0\n4                        88.726562      ...                  0\n\n[5 rows x 9 columns]",
            "text/html": "<div>\n<style scoped>\n    .dataframe tbody tr th:only-of-type {\n        vertical-align: middle;\n    }\n\n    .dataframe tbody tr th {\n        vertical-align: top;\n    }\n\n    .dataframe thead th {\n        text-align: right;\n    }\n</style>\n<table border=\"1\" class=\"dataframe\">\n  <thead>\n    <tr style=\"text-align: right;\">\n      <th></th>\n      <th>Mean of the integrated profile</th>\n      <th>Standard deviation of the integrated profile</th>\n      <th>Excess kurtosis of the integrated profile</th>\n      <th>Skewness of the integrated profile</th>\n      <th>Mean of the DM-SNR curve</th>\n      <th>Standard deviation of the DM-SNR curve</th>\n      <th>Excess kurtosis of the DM-SNR curve</th>\n      <th>Skewness of the DM-SNR curve</th>\n      <th>target_class</th>\n    </tr>\n  </thead>\n  <tbody>\n    <tr>\n      <th>0</th>\n      <td>140.562500</td>\n      <td>55.683782</td>\n      <td>-0.234571</td>\n      <td>-0.699648</td>\n      <td>3.199833</td>\n      <td>19.110426</td>\n      <td>7.975532</td>\n      <td>74.242225</td>\n      <td>0</td>\n    </tr>\n    <tr>\n      <th>1</th>\n      <td>102.507812</td>\n      <td>58.882430</td>\n      <td>0.465318</td>\n      <td>-0.515088</td>\n      <td>1.677258</td>\n      <td>14.860146</td>\n      <td>10.576487</td>\n      <td>127.393580</td>\n      <td>0</td>\n    </tr>\n    <tr>\n      <th>2</th>\n      <td>103.015625</td>\n      <td>39.341649</td>\n      <td>0.323328</td>\n      <td>1.051164</td>\n      <td>3.121237</td>\n      <td>21.744669</td>\n      <td>7.735822</td>\n      <td>63.171909</td>\n      <td>0</td>\n    </tr>\n    <tr>\n      <th>3</th>\n      <td>136.750000</td>\n      <td>57.178449</td>\n      <td>-0.068415</td>\n      <td>-0.636238</td>\n      <td>3.642977</td>\n      <td>20.959280</td>\n      <td>6.896499</td>\n      <td>53.593661</td>\n      <td>0</td>\n    </tr>\n    <tr>\n      <th>4</th>\n      <td>88.726562</td>\n      <td>40.672225</td>\n      <td>0.600866</td>\n      <td>1.123492</td>\n      <td>1.178930</td>\n      <td>11.468720</td>\n      <td>14.269573</td>\n      <td>252.567306</td>\n      <td>0</td>\n    </tr>\n  </tbody>\n</table>\n</div>"
          },
          "metadata": {}
        }
      ]
    },
    {
      "cell_type": "markdown",
      "source": [
        "### DATA ANALYSIS"
      ],
      "metadata": {
        "id": "IW2URTkbPdGT"
      }
    },
    {
      "cell_type": "code",
      "source": [
        "data.corr()"
      ],
      "metadata": {
        "execution": {
          "iopub.status.busy": "2024-05-05T10:11:21.135987Z",
          "iopub.execute_input": "2024-05-05T10:11:21.136495Z",
          "iopub.status.idle": "2024-05-05T10:11:21.183985Z",
          "shell.execute_reply.started": "2024-05-05T10:11:21.136366Z",
          "shell.execute_reply": "2024-05-05T10:11:21.182554Z"
        },
        "trusted": true,
        "id": "039Lx4IYPdGT",
        "outputId": "7ef7d840-0795-49d6-917c-ea7151643a3c"
      },
      "execution_count": null,
      "outputs": [
        {
          "execution_count": 3,
          "output_type": "execute_result",
          "data": {
            "text/plain": "                                                Mean of the integrated profile      ...       target_class\n Mean of the integrated profile                                       1.000000      ...          -0.673181\n Standard deviation of the integrated profile                         0.547137      ...          -0.363708\n Excess kurtosis of the integrated profile                           -0.873898      ...           0.791591\n Skewness of the integrated profile                                  -0.738775      ...           0.709528\n Mean of the DM-SNR curve                                            -0.298841      ...           0.400876\n Standard deviation of the DM-SNR curve                              -0.307016      ...           0.491535\n Excess kurtosis of the DM-SNR curve                                  0.234331      ...          -0.390816\n Skewness of the DM-SNR curve                                         0.144033      ...          -0.259117\ntarget_class                                                         -0.673181      ...           1.000000\n\n[9 rows x 9 columns]",
            "text/html": "<div>\n<style scoped>\n    .dataframe tbody tr th:only-of-type {\n        vertical-align: middle;\n    }\n\n    .dataframe tbody tr th {\n        vertical-align: top;\n    }\n\n    .dataframe thead th {\n        text-align: right;\n    }\n</style>\n<table border=\"1\" class=\"dataframe\">\n  <thead>\n    <tr style=\"text-align: right;\">\n      <th></th>\n      <th>Mean of the integrated profile</th>\n      <th>Standard deviation of the integrated profile</th>\n      <th>Excess kurtosis of the integrated profile</th>\n      <th>Skewness of the integrated profile</th>\n      <th>Mean of the DM-SNR curve</th>\n      <th>Standard deviation of the DM-SNR curve</th>\n      <th>Excess kurtosis of the DM-SNR curve</th>\n      <th>Skewness of the DM-SNR curve</th>\n      <th>target_class</th>\n    </tr>\n  </thead>\n  <tbody>\n    <tr>\n      <th>Mean of the integrated profile</th>\n      <td>1.000000</td>\n      <td>0.547137</td>\n      <td>-0.873898</td>\n      <td>-0.738775</td>\n      <td>-0.298841</td>\n      <td>-0.307016</td>\n      <td>0.234331</td>\n      <td>0.144033</td>\n      <td>-0.673181</td>\n    </tr>\n    <tr>\n      <th>Standard deviation of the integrated profile</th>\n      <td>0.547137</td>\n      <td>1.000000</td>\n      <td>-0.521435</td>\n      <td>-0.539793</td>\n      <td>0.006869</td>\n      <td>-0.047632</td>\n      <td>0.029429</td>\n      <td>0.027691</td>\n      <td>-0.363708</td>\n    </tr>\n    <tr>\n      <th>Excess kurtosis of the integrated profile</th>\n      <td>-0.873898</td>\n      <td>-0.521435</td>\n      <td>1.000000</td>\n      <td>0.945729</td>\n      <td>0.414368</td>\n      <td>0.432880</td>\n      <td>-0.341209</td>\n      <td>-0.214491</td>\n      <td>0.791591</td>\n    </tr>\n    <tr>\n      <th>Skewness of the integrated profile</th>\n      <td>-0.738775</td>\n      <td>-0.539793</td>\n      <td>0.945729</td>\n      <td>1.000000</td>\n      <td>0.412056</td>\n      <td>0.415140</td>\n      <td>-0.328843</td>\n      <td>-0.204782</td>\n      <td>0.709528</td>\n    </tr>\n    <tr>\n      <th>Mean of the DM-SNR curve</th>\n      <td>-0.298841</td>\n      <td>0.006869</td>\n      <td>0.414368</td>\n      <td>0.412056</td>\n      <td>1.000000</td>\n      <td>0.796555</td>\n      <td>-0.615971</td>\n      <td>-0.354269</td>\n      <td>0.400876</td>\n    </tr>\n    <tr>\n      <th>Standard deviation of the DM-SNR curve</th>\n      <td>-0.307016</td>\n      <td>-0.047632</td>\n      <td>0.432880</td>\n      <td>0.415140</td>\n      <td>0.796555</td>\n      <td>1.000000</td>\n      <td>-0.809786</td>\n      <td>-0.575800</td>\n      <td>0.491535</td>\n    </tr>\n    <tr>\n      <th>Excess kurtosis of the DM-SNR curve</th>\n      <td>0.234331</td>\n      <td>0.029429</td>\n      <td>-0.341209</td>\n      <td>-0.328843</td>\n      <td>-0.615971</td>\n      <td>-0.809786</td>\n      <td>1.000000</td>\n      <td>0.923743</td>\n      <td>-0.390816</td>\n    </tr>\n    <tr>\n      <th>Skewness of the DM-SNR curve</th>\n      <td>0.144033</td>\n      <td>0.027691</td>\n      <td>-0.214491</td>\n      <td>-0.204782</td>\n      <td>-0.354269</td>\n      <td>-0.575800</td>\n      <td>0.923743</td>\n      <td>1.000000</td>\n      <td>-0.259117</td>\n    </tr>\n    <tr>\n      <th>target_class</th>\n      <td>-0.673181</td>\n      <td>-0.363708</td>\n      <td>0.791591</td>\n      <td>0.709528</td>\n      <td>0.400876</td>\n      <td>0.491535</td>\n      <td>-0.390816</td>\n      <td>-0.259117</td>\n      <td>1.000000</td>\n    </tr>\n  </tbody>\n</table>\n</div>"
          },
          "metadata": {}
        }
      ]
    },
    {
      "cell_type": "code",
      "source": [
        "train_data_exo.info()"
      ],
      "metadata": {
        "execution": {
          "iopub.status.busy": "2024-05-05T10:11:21.186029Z",
          "iopub.execute_input": "2024-05-05T10:11:21.186549Z",
          "iopub.status.idle": "2024-05-05T10:11:21.466987Z",
          "shell.execute_reply.started": "2024-05-05T10:11:21.186333Z",
          "shell.execute_reply": "2024-05-05T10:11:21.465773Z"
        },
        "trusted": true,
        "id": "BrQzr9rnPdGT",
        "outputId": "971ba0e9-208a-4074-8259-f749ddb61344"
      },
      "execution_count": null,
      "outputs": [
        {
          "name": "stdout",
          "text": "<class 'pandas.core.frame.DataFrame'>\nRangeIndex: 5087 entries, 0 to 5086\nColumns: 3198 entries, LABEL to FLUX.3197\ndtypes: float64(3197), int64(1)\nmemory usage: 124.1 MB\n",
          "output_type": "stream"
        }
      ]
    },
    {
      "cell_type": "code",
      "source": [
        "test_data_exo.info()"
      ],
      "metadata": {
        "execution": {
          "iopub.status.busy": "2024-05-05T10:11:21.470369Z",
          "iopub.execute_input": "2024-05-05T10:11:21.471056Z",
          "iopub.status.idle": "2024-05-05T10:11:21.646619Z",
          "shell.execute_reply.started": "2024-05-05T10:11:21.47098Z",
          "shell.execute_reply": "2024-05-05T10:11:21.645299Z"
        },
        "trusted": true,
        "id": "9eqMAOaUPdGT",
        "outputId": "0010a531-124c-412d-9353-a50c04964015"
      },
      "execution_count": null,
      "outputs": [
        {
          "name": "stdout",
          "text": "<class 'pandas.core.frame.DataFrame'>\nRangeIndex: 570 entries, 0 to 569\nColumns: 3198 entries, LABEL to FLUX.3197\ndtypes: float64(3197), int64(1)\nmemory usage: 13.9 MB\n",
          "output_type": "stream"
        }
      ]
    },
    {
      "cell_type": "markdown",
      "source": [
        "### SPLITING DATA"
      ],
      "metadata": {
        "id": "_A0n__lHPdGT"
      }
    },
    {
      "cell_type": "code",
      "source": [
        "X = data.drop([\"target_class\"],axis=1)\n",
        "y = data[\"target_class\"]"
      ],
      "metadata": {
        "execution": {
          "iopub.status.busy": "2024-05-05T10:11:21.649148Z",
          "iopub.execute_input": "2024-05-05T10:11:21.649511Z",
          "iopub.status.idle": "2024-05-05T10:11:21.657912Z",
          "shell.execute_reply.started": "2024-05-05T10:11:21.649453Z",
          "shell.execute_reply": "2024-05-05T10:11:21.656979Z"
        },
        "trusted": true,
        "id": "9LTHR2zOPdGU"
      },
      "execution_count": null,
      "outputs": []
    },
    {
      "cell_type": "code",
      "source": [
        "x_train_exo = train_data_exo.drop([\"LABEL\"],axis=1)\n",
        "y_train_exo = train_data_exo[\"LABEL\"]\n",
        "x_test_exo = test_data_exo.drop([\"LABEL\"],axis=1)\n",
        "y_test_exo = test_data_exo[\"LABEL\"]"
      ],
      "metadata": {
        "execution": {
          "iopub.status.busy": "2024-05-05T10:11:21.659478Z",
          "iopub.execute_input": "2024-05-05T10:11:21.65997Z",
          "iopub.status.idle": "2024-05-05T10:11:21.817531Z",
          "shell.execute_reply.started": "2024-05-05T10:11:21.659915Z",
          "shell.execute_reply": "2024-05-05T10:11:21.815777Z"
        },
        "trusted": true,
        "id": "3SX2xotVPdGU"
      },
      "execution_count": null,
      "outputs": []
    },
    {
      "cell_type": "code",
      "source": [
        "X_train,X_test, y_train , y_test = train_test_split(X,y,test_size=0.2)"
      ],
      "metadata": {
        "execution": {
          "iopub.status.busy": "2024-05-05T10:11:21.820006Z",
          "iopub.execute_input": "2024-05-05T10:11:21.820552Z",
          "iopub.status.idle": "2024-05-05T10:11:21.836586Z",
          "shell.execute_reply.started": "2024-05-05T10:11:21.820466Z",
          "shell.execute_reply": "2024-05-05T10:11:21.835319Z"
        },
        "trusted": true,
        "id": "_RC_pOF5PdGU"
      },
      "execution_count": null,
      "outputs": []
    },
    {
      "cell_type": "markdown",
      "source": [
        "### Creating Model and Predicting"
      ],
      "metadata": {
        "id": "2dACH9uUPdGU"
      }
    },
    {
      "cell_type": "code",
      "source": [
        "lr = LogisticRegression()\n",
        "lr.fit(X_train,y_train)\n",
        "accuracy_lr=lr.score(X_test,y_test)\n",
        "print(\"logistic regression accuracy:%{}\".format(accuracy_lr*100))"
      ],
      "metadata": {
        "execution": {
          "iopub.status.busy": "2024-05-05T10:11:21.839048Z",
          "iopub.execute_input": "2024-05-05T10:11:21.83957Z",
          "iopub.status.idle": "2024-05-05T10:11:22.185977Z",
          "shell.execute_reply.started": "2024-05-05T10:11:21.839482Z",
          "shell.execute_reply": "2024-05-05T10:11:22.184761Z"
        },
        "trusted": true,
        "id": "7rRce3edPdGU",
        "outputId": "2e90206c-93ca-4f4f-c7d4-c62d8a57140f"
      },
      "execution_count": null,
      "outputs": [
        {
          "name": "stderr",
          "text": "/opt/conda/lib/python3.6/site-packages/sklearn/linear_model/logistic.py:432: FutureWarning: Default solver will be changed to 'lbfgs' in 0.22. Specify a solver to silence this warning.\n  FutureWarning)\n",
          "output_type": "stream"
        },
        {
          "name": "stdout",
          "text": "logistic regression accuracy:%97.98882681564245\n",
          "output_type": "stream"
        }
      ]
    },
    {
      "cell_type": "code",
      "source": [
        "from tensorflow import set_random_seed\n",
        "set_random_seed(101)\n",
        "import tensorflow\n",
        "from keras.wrappers.scikit_learn import KerasClassifier\n",
        "from sklearn.model_selection import cross_val_score\n",
        "from keras.models import Sequential # initialize neural network library\n",
        "from keras.layers import Dense # build our layers library\n",
        "def build_classifier():\n",
        "    classifier = Sequential() # initialize neural network\n",
        "    classifier.add(Dense(units = 4, kernel_initializer = 'uniform', activation = 'relu', input_dim = x_train_exo.shape[1]))\n",
        "    classifier.add(Dense(units = 4, kernel_initializer = 'uniform', activation = 'relu'))\n",
        "    classifier.add(Dense(units = 1, kernel_initializer = 'uniform', activation = 'sigmoid'))\n",
        "    classifier.compile(optimizer = 'adam', loss = 'binary_crossentropy', metrics = ['accuracy'])\n",
        "    return classifier\n",
        "classifier = KerasClassifier(build_fn = build_classifier, epochs = 10)\n",
        "accuracies = cross_val_score(estimator = classifier, X = x_train_exo, y = y_train_exo, cv = 3)\n",
        "mean = accuracies.mean()\n",
        "variance = accuracies.std()\n",
        "print(\"Accuracy mean: \"+ str(mean))\n",
        "print(\"Accuracy variance: \"+ str(variance))"
      ],
      "metadata": {
        "execution": {
          "iopub.status.busy": "2024-05-05T10:11:22.188176Z",
          "iopub.execute_input": "2024-05-05T10:11:22.189048Z",
          "iopub.status.idle": "2024-05-05T10:11:51.360153Z",
          "shell.execute_reply.started": "2024-05-05T10:11:22.188959Z",
          "shell.execute_reply": "2024-05-05T10:11:51.358794Z"
        },
        "trusted": true,
        "id": "oUqZWsIoPdGU",
        "outputId": "8b3d2999-48dc-49d5-a079-2f07f65c1e1a"
      },
      "execution_count": null,
      "outputs": [
        {
          "name": "stderr",
          "text": "Using TensorFlow backend.\n",
          "output_type": "stream"
        },
        {
          "name": "stdout",
          "text": "Epoch 1/10\n3391/3391 [==============================] - 1s 402us/step - loss: 0.2146 - acc: 1.0000\nEpoch 2/10\n3391/3391 [==============================] - 1s 219us/step - loss: 0.0174 - acc: 1.0000\nEpoch 3/10\n3391/3391 [==============================] - 1s 211us/step - loss: 0.0059 - acc: 1.0000\nEpoch 4/10\n3391/3391 [==============================] - 1s 218us/step - loss: 0.0034 - acc: 1.0000\nEpoch 5/10\n3391/3391 [==============================] - 1s 229us/step - loss: 0.0025 - acc: 1.0000\nEpoch 6/10\n3391/3391 [==============================] - 1s 198us/step - loss: 0.0022 - acc: 1.0000\nEpoch 7/10\n3391/3391 [==============================] - 1s 215us/step - loss: 0.0021 - acc: 1.0000\nEpoch 8/10\n3391/3391 [==============================] - 1s 209us/step - loss: 0.0020 - acc: 1.0000\nEpoch 9/10\n3391/3391 [==============================] - 1s 194us/step - loss: 0.0019 - acc: 1.0000\nEpoch 10/10\n3391/3391 [==============================] - 1s 199us/step - loss: 0.0017 - acc: 1.0000\n1696/1696 [==============================] - 0s 122us/step\nEpoch 1/10\n3391/3391 [==============================] - 1s 333us/step - loss: 0.3531 - acc: 0.9684\nEpoch 2/10\n3391/3391 [==============================] - 1s 226us/step - loss: 0.1215 - acc: 0.9891\nEpoch 3/10\n3391/3391 [==============================] - 1s 242us/step - loss: 0.0946 - acc: 0.9891\nEpoch 4/10\n3391/3391 [==============================] - 1s 213us/step - loss: 0.0764 - acc: 0.9891\nEpoch 5/10\n3391/3391 [==============================] - 1s 214us/step - loss: 0.0781 - acc: 0.9891\nEpoch 6/10\n3391/3391 [==============================] - 1s 232us/step - loss: 0.0881 - acc: 0.9891\nEpoch 7/10\n3391/3391 [==============================] - 1s 225us/step - loss: 0.0764 - acc: 0.9891\nEpoch 8/10\n3391/3391 [==============================] - 1s 215us/step - loss: 0.0769 - acc: 0.9891\nEpoch 9/10\n3391/3391 [==============================] - 1s 236us/step - loss: 0.0801 - acc: 0.9891\nEpoch 10/10\n3391/3391 [==============================] - 1s 237us/step - loss: 0.0710 - acc: 0.9891\n1696/1696 [==============================] - 0s 134us/step\nEpoch 1/10\n3392/3392 [==============================] - 1s 366us/step - loss: 0.2781 - acc: 0.9891\nEpoch 2/10\n3392/3392 [==============================] - 1s 225us/step - loss: 0.1144 - acc: 0.9891\nEpoch 3/10\n3392/3392 [==============================] - 1s 236us/step - loss: 0.1090 - acc: 0.9891\nEpoch 4/10\n3392/3392 [==============================] - 1s 229us/step - loss: 0.0876 - acc: 0.9891\nEpoch 5/10\n3392/3392 [==============================] - 1s 218us/step - loss: 0.0815 - acc: 0.9891\nEpoch 6/10\n3392/3392 [==============================] - 1s 211us/step - loss: 0.0831 - acc: 0.9891\nEpoch 7/10\n3392/3392 [==============================] - 1s 226us/step - loss: 0.0776 - acc: 0.9891\nEpoch 8/10\n3392/3392 [==============================] - 1s 231us/step - loss: 0.0856 - acc: 0.9891\nEpoch 9/10\n3392/3392 [==============================] - 1s 232us/step - loss: 0.0872 - acc: 0.9891\nEpoch 10/10\n3392/3392 [==============================] - 1s 232us/step - loss: 0.1080 - acc: 0.9891\n1695/1695 [==============================] - 0s 151us/step\nAccuracy mean: 0.9927279874213837\nAccuracy variance: 0.010284178814426989\n",
          "output_type": "stream"
        }
      ]
    },
    {
      "cell_type": "markdown",
      "source": [
        "### ACCURACIES"
      ],
      "metadata": {
        "id": "gqjmkAQmPdGV"
      }
    },
    {
      "cell_type": "code",
      "source": [
        "print(\"Predicting Pulsar mean: \"+ str(mean))\n",
        "print(\"Predicting Pulsar variance: \"+ str(variance))\n",
        "\n",
        "print(\"Exoplanets accuracy:%{}\".format(accuracy_lr*100))"
      ],
      "metadata": {
        "execution": {
          "iopub.status.busy": "2024-05-05T10:11:51.362061Z",
          "iopub.execute_input": "2024-05-05T10:11:51.362392Z",
          "iopub.status.idle": "2024-05-05T10:11:51.370773Z",
          "shell.execute_reply.started": "2024-05-05T10:11:51.362332Z",
          "shell.execute_reply": "2024-05-05T10:11:51.369672Z"
        },
        "trusted": true,
        "id": "_lIF4gXsPdGV",
        "outputId": "32978837-b343-4140-adae-7ffa549649f4"
      },
      "execution_count": null,
      "outputs": [
        {
          "name": "stdout",
          "text": "Predicting Pulsar mean: 0.9927279874213837\nPredicting Pulsar variance: 0.010284178814426989\nExoplanets accuracy:%97.98882681564245\n",
          "output_type": "stream"
        }
      ]
    },
    {
      "cell_type": "markdown",
      "source": [
        "## Thanks for your reading. If you support me just vote up and leave a comment. Have a nice day."
      ],
      "metadata": {
        "id": "k1KTWjDyPdGV"
      }
    }
  ]
}